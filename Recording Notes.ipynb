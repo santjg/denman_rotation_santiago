{
 "cells": [
  {
   "cell_type": "markdown",
   "metadata": {},
   "source": [
    "# Saline Recordings"
   ]
  },
  {
   "cell_type": "markdown",
   "metadata": {},
   "source": [
    "## Thurs, 06/25/2020\n",
    "Arrived to find one of the Neuropixels probes broken. Broken probe was removed and saline recordings were attempted by Dan with two probes. One probe seemed functional. The other probe seems to have an unknown issue causing jitter in the recordings."
   ]
  },
  {
   "cell_type": "markdown",
   "metadata": {},
   "source": [
    "# Awake Recordings"
   ]
  },
  {
   "cell_type": "markdown",
   "metadata": {},
   "source": [
    "## C9 - 07/02/2020\n",
    "* **Head Fix time:** \n",
    "* **Number of probes:** 2 (B and D?)\n",
    "* **Stimulus:** color_population\n",
    "* **Stimulus Start Time:**  \n",
    "* **Stimulus End Time:**\n",
    "* **Data Acquisition Software:** Spike GLX\n",
    "* **File Prefix:** 20200702_C9\n",
    "* **Eye Tracking Dimensions:** 300x300\n",
    "* **Eye Tracking Offset:** 156x407\n",
    "* **Notes:**\n",
    "    * One neuropixels broke right before recording, one was in a suboptimal positon for implantation"
   ]
  },
  {
   "cell_type": "markdown",
   "metadata": {},
   "source": [
    "## C9 - 07/02/2020\n",
    "* **Head Fix Time:** 09:30\n",
    "* **Number of probes:** 2 (B and C?) \n",
    "* **Stimulus:** color_population\n",
    "* **Stimulus Start TIme:** 11:33\n",
    "* **Stimulus End Time:** 13:03\n",
    "* **Data Acquisition Software:** Spike GLX\n",
    "* **File Prefix:** 20200702_C9_BCD\n",
    "* **Eye Tracking Dimensions:** 300x300\n",
    "* **Eye Tracking Offset:** 827x617\n",
    "* **Notes:**\n",
    "    * Probe D broke for an undetermined reason during implantation"
   ]
  },
  {
   "cell_type": "markdown",
   "metadata": {},
   "source": [
    "## C5 - Wed, 07/08/2020 (No recording despite attempt)\n",
    "* **Head Fix Time:** 12:00\n",
    "* **Number of probes:** 2 (BC)\n",
    "* **Stimulus:** N/A\n",
    "* **Stimulus Start TIme:** N/A\n",
    "* **Stimulus End Time:** N/A\n",
    "* **Data Acquisition Software:** Spike GLX\n",
    "* **File Prefix:** 20200708_C5_BC\n",
    "* **Eye Tracking Dimensions:** N/A\n",
    "* **Eye Tracking Offset:** N/A\n",
    "* **Notes:**\n",
    "    * Despite verifiably being on the brain, probes would not advace into tissue without bending.\n",
    "    * Aborted recording at 14:00 once it was apparent that probes would not advance and recording would not be possible"
   ]
  },
  {
   "cell_type": "markdown",
   "metadata": {},
   "source": [
    "## C5 - Thurs, 07/09/2020\n",
    "* **Head Fix Time:** 09:30\n",
    "* **Number of probes:** 1 (B)\n",
    "* **Stimulus:** color_population.py\n",
    "* **Stimulus Start TIme:** 11:50\n",
    "* **Stimulus End Time:** 13:20 (?)\n",
    "* **Data Acquisition Software:** Spike GLX\n",
    "* **File Prefix:** 20200709_C5_BC_02 (two prior folders from setup)\n",
    "* **Eye Tracking Dimensions:** 300x300\n",
    "* **Eye Tracking Offset:** 203x0\n",
    "* **Notes:**\n",
    "    * Probe insertion began around 10:00 with Dan assisting remotely via teamviewer\n",
    "    * Eye tracking acquisition started at 12:03 due to technical issues\n",
    "    * Probe C appears to be too dull to penetrate the brain parenchyma\n",
    "    * Reference fell of, was noticed, and replaced at 13:12"
   ]
  },
  {
   "cell_type": "markdown",
   "metadata": {},
   "source": [
    "## C5 - Mon, 07/13/2020\n",
    "* **Head Fix Time:** 09:50\n",
    "* **Start lowering probes:** 11:30\n",
    "* **Probe Depth:** 3000um\n",
    "* **Probe descent rate:** 100um/min\n",
    "* **Probe descent stop:** 12:06\n",
    "* **Number of probes:** 2 (BC)\n",
    "* **Stimulus:** color_population.py\n",
    "* **Stimulus Start TIme:** 12:37\n",
    "* **Stimulus End Time:** 13:40\n",
    "* **Data Acquisition Software:** Spike GLX\n",
    "* **File Prefix:** 20200713_C5_BC_02 (two prior folders from setup)\n",
    "* **Eye Tracking Dimensions:** 300x300\n",
    "* **Eye Tracking Offset:** 670x48\n",
    "* **Notes:**\n",
    "    * Used needle tip to penetrate top layer of brain\n",
    "        * Most superficial cortical layers may be damaged\n",
    "    * Must remember to transfer eyetracking images to DENMAN wghen finished. Significant delay from troubleshooting eyetracking software\n",
    "    * Reference clip fell off 12:58 - 13:00. 13:03 - 13:04\n",
    "    * Porphyrin secretion starting around 13:20, attempted to clear at 13:30\n",
    "    * Mouse squinting, decided to abort recording at 13:40\n",
    "    * **Catastrophic rig failure** -- Mouse seemingly unharmed, although visibly shaken"
   ]
  },
  {
   "cell_type": "markdown",
   "metadata": {},
   "source": [
    "## C5 - Thurs, 07/16/2020\n",
    "\n",
    "* Attempted 4 probe recording\n",
    "* Brain was obscured by debris, inaccessible through the small cranial window, and too difficult to penetrate with probes.\n",
    "* Mouse was sac'd "
   ]
  },
  {
   "cell_type": "code",
   "execution_count": null,
   "metadata": {},
   "outputs": [],
   "source": []
  }
 ],
 "metadata": {
  "kernelspec": {
   "display_name": "Python 3",
   "language": "python",
   "name": "python3"
  },
  "language_info": {
   "codemirror_mode": {
    "name": "ipython",
    "version": 3
   },
   "file_extension": ".py",
   "mimetype": "text/x-python",
   "name": "python",
   "nbconvert_exporter": "python",
   "pygments_lexer": "ipython3",
   "version": "3.7.6"
  }
 },
 "nbformat": 4,
 "nbformat_minor": 4
}

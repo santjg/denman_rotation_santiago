{
 "cells": [
  {
   "cell_type": "code",
   "execution_count": 1,
   "metadata": {},
   "outputs": [],
   "source": [
    "#pynwb imports \n",
    "\n",
    "from pynwb import NWBFile, NWBHDF5IO, ProcessingModule\n",
    "from pynwb.ecephys import Clustering, ClusterWaveforms, ElectricalSeries\n",
    "from pynwb.misc import Units\n",
    "\n",
    "# General Imports\n",
    "\n",
    "import os\n",
    "import datetime\n",
    "import numpy as np\n",
    "import pandas as pd\n",
    "import matplotlib.pyplot as plt\n",
    "from dateutil import tz\n",
    "from datetime import datetime\n",
    "import io\n",
    "\n",
    "%matplotlib inline"
   ]
  },
  {
   "cell_type": "code",
   "execution_count": 2,
   "metadata": {
    "scrolled": true
   },
   "outputs": [],
   "source": [
    "# Common Data Path\n",
    "datapath = r'E:\\20200703_C9_BC_g0'\n",
    "\n",
    "#NI-DAQ raw files\n",
    "nidq_bin = os.path.join(datapath, '20200703_C9_BC_g0_t0.nidq.bin')\n",
    "nidq_meta = os.path.join(datapath, '20200703_C9_BC_g0_t0.nidq.meta')\n",
    "\n",
    "#NI-DAQ CatGT/TPrime Output\n",
    "xda = np.memmap((os.path.join(datapath, '20200703_C9_BC_g0_tcat.nidq.XA_0_500.txt')))\n",
    "xd02 = np.memmap((os.path.join(datapath, '20200703_C9_BC_g0_tcat.nidq.XD_0_2_0.txt')))\n",
    "xd03 = np.memmap((os.path.join(datapath, '20200703_C9_BC_g0_tcat.nidq.XD_0_3_0.txt')))\n",
    "xd04 = np.memmap((os.path.join(datapath, '20200703_C9_BC_g0_tcat.nidq.XD_0_4_0.txt')))\n",
    "xd05 = np.memmap((os.path.join(datapath, '20200703_C9_BC_g0_tcat.nidq.XD_0_5_0.txt')))\n",
    "xd06 = np.memmap((os.path.join(datapath, '20200703_C9_BC_g0_tcat.nidq.XD_0_6_0.txt')))\n",
    "xd07 = np.memmap((os.path.join(datapath, '20200703_C9_BC_g0_tcat.nidq.XD_0_7_0.txt')))\n",
    "xd08 = np.memmap((os.path.join(datapath, '20200703_C9_BC_g0_tcat.nidq.XD_0_8_0.txt')))"
   ]
  },
  {
   "cell_type": "code",
   "execution_count": 10,
   "metadata": {},
   "outputs": [],
   "source": [
    "# Path to imec0 Files\n",
    "imec0_datapath = r\"E:\\20200703_C9_BC_g0\\20200703_C9_BC_g0_imec0\" \n",
    "\n",
    "# phy .npy outputs for imec0:\n",
    "imec0_amplitudes = np.load(os.path.join(imec0_datapath, 'amplitudes.npy'))\n",
    "imec0_channel_pos = np.load(os.path.join(imec0_datapath, 'channel_positions.npy'))\n",
    "imec0_channel_map = np.load(os.path.join(imec0_datapath, 'channel_map.npy'))\n",
    "imec0_spike_clusters = np.ndarray.flatten(np.load(os.path.join(imec0_datapath, 'spike_clusters.npy')))\n",
    "imec0_spike_times = np.ndarray.flatten(np.load(os.path.join(imec0_datapath, 'spike_times.npy')))\n",
    "\n",
    "# TPrime Outputs\n",
    "imec0_spike_times2 = np.ndarray.flatten(np.load(os.path.join(imec0_datapath, 'spike_times_tprime2.npy')))\n",
    "imec0_spike_times3 = np.ndarray.flatten(np.load(os.path.join(imec0_datapath, 'spike_times_tprime3.npy')))\n",
    "imec0_spike_times4 = np.ndarray.flatten(np.load(os.path.join(imec0_datapath, 'spike_times_tprime4.npy')))\n",
    "#imec0_spike_times5 = np.ndarray.flatten(np.load(os.path.join(imec0_datapath, 'spike_times_tprime5.npy')))\n",
    "imec0_spike_times6 = np.ndarray.flatten(np.load(os.path.join(imec0_datapath, 'spike_times_tprime6.npy')))\n",
    "imec0_spike_times7 = np.ndarray.flatten(np.load(os.path.join(imec0_datapath, 'spike_times_tprime7.npy')))\n",
    "imec0_spike_times8 = np.ndarray.flatten(np.load(os.path.join(imec0_datapath, 'spike_times_tprime8.npy')))\n",
    "\n",
    "# non-standard .npy containing mean waveforms for each cluster:\n",
    "# mean_waveforms = np.load(os.path.join(datapath, 'mean_waveforms.npy'))\n",
    "\n",
    "# .tsv containing cluster labels:\n",
    "imec0_cluster_groups = pd.read_csv(os.path.join(imec0_datapath, 'cluster_group.tsv'), '\\t')"
   ]
  },
  {
   "cell_type": "code",
   "execution_count": 4,
   "metadata": {},
   "outputs": [],
   "source": [
    "# Path to imec1 Files\n",
    "imec1_datapath = r\"E:\\20200703_C9_BC_g0\\20200703_C9_BC_g0_imec1\"\n",
    "\n",
    "# phy .npy outputs for imec1:\n",
    "imec1_amplitudes = np.load(os.path.join(imec1_datapath, 'amplitudes.npy'))\n",
    "imec1_channel_pos = np.load(os.path.join(imec1_datapath, 'channel_positions.npy'))\n",
    "imec1_channel_map = np.load(os.path.join(imec1_datapath, 'channel_map.npy'))\n",
    "imec1_spike_clusters = np.ndarray.flatten(np.load(os.path.join(imec1_datapath, 'spike_clusters.npy')))\n",
    "imec1_spike_times = np.ndarray.flatten(np.load(os.path.join(imec1_datapath, 'spike_times_tprime.npy')))\n",
    "\n",
    "# TPrime Outputs\n",
    "imec1_spike_times2 = np.ndarray.flatten(np.load(os.path.join(imec1_datapath, 'spike_times_tprime2.npy')))\n",
    "imec1_spike_times3 = np.ndarray.flatten(np.load(os.path.join(imec1_datapath, 'spike_times_tprime3.npy')))\n",
    "imec1_spike_times4 = np.ndarray.flatten(np.load(os.path.join(imec1_datapath, 'spike_times_tprime4.npy')))\n",
    "#imec1_spike_times5 = np.ndarray.flatten(np.load(os.path.join(imec1_datapath, 'spike_times_tprime5.npy')))\n",
    "imec1_spike_times6 = np.ndarray.flatten(np.load(os.path.join(imec1_datapath, 'spike_times_tprime6.npy')))\n",
    "imec1_spike_times7 = np.ndarray.flatten(np.load(os.path.join(imec1_datapath, 'spike_times_tprime7.npy')))\n",
    "imec1_spike_times8 = np.ndarray.flatten(np.load(os.path.join(imec1_datapath, 'spike_times_tprime8.npy')))\n",
    "\n",
    "# non-standard .npy containing mean waveforms for each cluster:\n",
    "# mean_waveforms = np.load(os.path.join(datapath, 'mean_waveforms.npy'))\n",
    "\n",
    "# .tsv containing cluster labels:\n",
    "imec1_cluster_groups = pd.read_csv(os.path.join(imec1_datapath, 'cluster_group.tsv'), '\\t')"
   ]
  },
  {
   "cell_type": "code",
   "execution_count": 41,
   "metadata": {},
   "outputs": [
    {
     "data": {
      "text/html": [
       "<div>\n",
       "<style scoped>\n",
       "    .dataframe tbody tr th:only-of-type {\n",
       "        vertical-align: middle;\n",
       "    }\n",
       "\n",
       "    .dataframe tbody tr th {\n",
       "        vertical-align: top;\n",
       "    }\n",
       "\n",
       "    .dataframe thead th {\n",
       "        text-align: right;\n",
       "    }\n",
       "</style>\n",
       "<table border=\"1\" class=\"dataframe\">\n",
       "  <thead>\n",
       "    <tr style=\"text-align: right;\">\n",
       "      <th></th>\n",
       "      <th>0</th>\n",
       "    </tr>\n",
       "  </thead>\n",
       "  <tbody>\n",
       "    <tr>\n",
       "      <th>0</th>\n",
       "      <td>0.005321</td>\n",
       "    </tr>\n",
       "    <tr>\n",
       "      <th>1</th>\n",
       "      <td>0.006254</td>\n",
       "    </tr>\n",
       "    <tr>\n",
       "      <th>2</th>\n",
       "      <td>0.006521</td>\n",
       "    </tr>\n",
       "    <tr>\n",
       "      <th>3</th>\n",
       "      <td>0.006721</td>\n",
       "    </tr>\n",
       "    <tr>\n",
       "      <th>4</th>\n",
       "      <td>0.007188</td>\n",
       "    </tr>\n",
       "  </tbody>\n",
       "</table>\n",
       "</div>"
      ],
      "text/plain": [
       "          0\n",
       "0  0.005321\n",
       "1  0.006254\n",
       "2  0.006521\n",
       "3  0.006721\n",
       "4  0.007188"
      ]
     },
     "execution_count": 41,
     "metadata": {},
     "output_type": "execute_result"
    }
   ],
   "source": [
    "spikesecs2 = np.load(os.path.join(imec0_datapath, 'spikesecs2.npy'))\n"
   ]
  },
  {
   "cell_type": "code",
   "execution_count": 5,
   "metadata": {},
   "outputs": [],
   "source": [
    "# Specify sampling rate in Hz\n",
    "\n",
    "# If the data came from Open Ephys, the sampling rate is available in the 'structure.oebin' json file\n",
    "# for example:\n",
    "#    import json\n",
    "#    info = json.load(open(fname))\n",
    "#    sampling_rate = float(info['continuous'][0]['sample_rate'])\n",
    "\n",
    "# Kilosort output file, 'params.py' contains the sampling rate. \n",
    "# This should be consistent across recordings, but you can always check\n",
    "sampling_rate = 30000"
   ]
  },
  {
   "cell_type": "code",
   "execution_count": 36,
   "metadata": {},
   "outputs": [
    {
     "ename": "TypeError",
     "evalue": "'tuple' object is not callable",
     "output_type": "error",
     "traceback": [
      "\u001b[1;31m---------------------------------------------------------------------------\u001b[0m",
      "\u001b[1;31mTypeError\u001b[0m                                 Traceback (most recent call last)",
      "\u001b[1;32m<ipython-input-36-5bd4331a439b>\u001b[0m in \u001b[0;36m<module>\u001b[1;34m\u001b[0m\n\u001b[0;32m      1\u001b[0m \u001b[0mchannelpos\u001b[0m \u001b[1;33m=\u001b[0m \u001b[0mnp\u001b[0m\u001b[1;33m.\u001b[0m\u001b[0masarray\u001b[0m\u001b[1;33m(\u001b[0m\u001b[0mimec0_channel_pos\u001b[0m\u001b[1;33m)\u001b[0m\u001b[1;33m\u001b[0m\u001b[1;33m\u001b[0m\u001b[0m\n\u001b[1;32m----> 2\u001b[1;33m \u001b[0mchannelpos\u001b[0m\u001b[1;33m.\u001b[0m\u001b[0mshape\u001b[0m\u001b[1;33m(\u001b[0m\u001b[1;33m)\u001b[0m\u001b[1;33m\u001b[0m\u001b[1;33m\u001b[0m\u001b[0m\n\u001b[0m",
      "\u001b[1;31mTypeError\u001b[0m: 'tuple' object is not callable"
     ]
    }
   ],
   "source": [
    "channeldepth"
   ]
  },
  {
   "cell_type": "code",
   "execution_count": 32,
   "metadata": {},
   "outputs": [
    {
     "ename": "ValueError",
     "evalue": "x and y must have same first dimension, but have shapes (5000,) and (383, 2)",
     "output_type": "error",
     "traceback": [
      "\u001b[1;31m---------------------------------------------------------------------------\u001b[0m",
      "\u001b[1;31mValueError\u001b[0m                                Traceback (most recent call last)",
      "\u001b[1;32m<ipython-input-32-5ac052d12f90>\u001b[0m in \u001b[0;36m<module>\u001b[1;34m\u001b[0m\n\u001b[0;32m      4\u001b[0m plt.plot(spikes_tprime[:5000],\n\u001b[0;32m      5\u001b[0m          \u001b[0mimec0_channel_pos\u001b[0m\u001b[1;33m[\u001b[0m\u001b[1;33m:\u001b[0m\u001b[1;36m5000\u001b[0m\u001b[1;33m]\u001b[0m\u001b[1;33m,\u001b[0m\u001b[1;33m\u001b[0m\u001b[1;33m\u001b[0m\u001b[0m\n\u001b[1;32m----> 6\u001b[1;33m          '.', color='gray')\n\u001b[0m\u001b[0;32m      7\u001b[0m \u001b[1;33m\u001b[0m\u001b[0m\n\u001b[0;32m      8\u001b[0m \u001b[0mplt\u001b[0m\u001b[1;33m.\u001b[0m\u001b[0mxlabel\u001b[0m\u001b[1;33m(\u001b[0m\u001b[1;34m'Time (s)'\u001b[0m\u001b[1;33m)\u001b[0m\u001b[1;33m\u001b[0m\u001b[1;33m\u001b[0m\u001b[0m\n",
      "\u001b[1;32m~\\anaconda3\\lib\\site-packages\\matplotlib\\pyplot.py\u001b[0m in \u001b[0;36mplot\u001b[1;34m(scalex, scaley, data, *args, **kwargs)\u001b[0m\n\u001b[0;32m   2794\u001b[0m     return gca().plot(\n\u001b[0;32m   2795\u001b[0m         *args, scalex=scalex, scaley=scaley, **({\"data\": data} if data\n\u001b[1;32m-> 2796\u001b[1;33m         is not None else {}), **kwargs)\n\u001b[0m\u001b[0;32m   2797\u001b[0m \u001b[1;33m\u001b[0m\u001b[0m\n\u001b[0;32m   2798\u001b[0m \u001b[1;33m\u001b[0m\u001b[0m\n",
      "\u001b[1;32m~\\anaconda3\\lib\\site-packages\\matplotlib\\axes\\_axes.py\u001b[0m in \u001b[0;36mplot\u001b[1;34m(self, scalex, scaley, data, *args, **kwargs)\u001b[0m\n\u001b[0;32m   1663\u001b[0m         \"\"\"\n\u001b[0;32m   1664\u001b[0m         \u001b[0mkwargs\u001b[0m \u001b[1;33m=\u001b[0m \u001b[0mcbook\u001b[0m\u001b[1;33m.\u001b[0m\u001b[0mnormalize_kwargs\u001b[0m\u001b[1;33m(\u001b[0m\u001b[0mkwargs\u001b[0m\u001b[1;33m,\u001b[0m \u001b[0mmlines\u001b[0m\u001b[1;33m.\u001b[0m\u001b[0mLine2D\u001b[0m\u001b[1;33m.\u001b[0m\u001b[0m_alias_map\u001b[0m\u001b[1;33m)\u001b[0m\u001b[1;33m\u001b[0m\u001b[1;33m\u001b[0m\u001b[0m\n\u001b[1;32m-> 1665\u001b[1;33m         \u001b[0mlines\u001b[0m \u001b[1;33m=\u001b[0m \u001b[1;33m[\u001b[0m\u001b[1;33m*\u001b[0m\u001b[0mself\u001b[0m\u001b[1;33m.\u001b[0m\u001b[0m_get_lines\u001b[0m\u001b[1;33m(\u001b[0m\u001b[1;33m*\u001b[0m\u001b[0margs\u001b[0m\u001b[1;33m,\u001b[0m \u001b[0mdata\u001b[0m\u001b[1;33m=\u001b[0m\u001b[0mdata\u001b[0m\u001b[1;33m,\u001b[0m \u001b[1;33m**\u001b[0m\u001b[0mkwargs\u001b[0m\u001b[1;33m)\u001b[0m\u001b[1;33m]\u001b[0m\u001b[1;33m\u001b[0m\u001b[1;33m\u001b[0m\u001b[0m\n\u001b[0m\u001b[0;32m   1666\u001b[0m         \u001b[1;32mfor\u001b[0m \u001b[0mline\u001b[0m \u001b[1;32min\u001b[0m \u001b[0mlines\u001b[0m\u001b[1;33m:\u001b[0m\u001b[1;33m\u001b[0m\u001b[1;33m\u001b[0m\u001b[0m\n\u001b[0;32m   1667\u001b[0m             \u001b[0mself\u001b[0m\u001b[1;33m.\u001b[0m\u001b[0madd_line\u001b[0m\u001b[1;33m(\u001b[0m\u001b[0mline\u001b[0m\u001b[1;33m)\u001b[0m\u001b[1;33m\u001b[0m\u001b[1;33m\u001b[0m\u001b[0m\n",
      "\u001b[1;32m~\\anaconda3\\lib\\site-packages\\matplotlib\\axes\\_base.py\u001b[0m in \u001b[0;36m__call__\u001b[1;34m(self, *args, **kwargs)\u001b[0m\n\u001b[0;32m    223\u001b[0m                 \u001b[0mthis\u001b[0m \u001b[1;33m+=\u001b[0m \u001b[0margs\u001b[0m\u001b[1;33m[\u001b[0m\u001b[1;36m0\u001b[0m\u001b[1;33m]\u001b[0m\u001b[1;33m,\u001b[0m\u001b[1;33m\u001b[0m\u001b[1;33m\u001b[0m\u001b[0m\n\u001b[0;32m    224\u001b[0m                 \u001b[0margs\u001b[0m \u001b[1;33m=\u001b[0m \u001b[0margs\u001b[0m\u001b[1;33m[\u001b[0m\u001b[1;36m1\u001b[0m\u001b[1;33m:\u001b[0m\u001b[1;33m]\u001b[0m\u001b[1;33m\u001b[0m\u001b[1;33m\u001b[0m\u001b[0m\n\u001b[1;32m--> 225\u001b[1;33m             \u001b[1;32myield\u001b[0m \u001b[1;32mfrom\u001b[0m \u001b[0mself\u001b[0m\u001b[1;33m.\u001b[0m\u001b[0m_plot_args\u001b[0m\u001b[1;33m(\u001b[0m\u001b[0mthis\u001b[0m\u001b[1;33m,\u001b[0m \u001b[0mkwargs\u001b[0m\u001b[1;33m)\u001b[0m\u001b[1;33m\u001b[0m\u001b[1;33m\u001b[0m\u001b[0m\n\u001b[0m\u001b[0;32m    226\u001b[0m \u001b[1;33m\u001b[0m\u001b[0m\n\u001b[0;32m    227\u001b[0m     \u001b[1;32mdef\u001b[0m \u001b[0mget_next_color\u001b[0m\u001b[1;33m(\u001b[0m\u001b[0mself\u001b[0m\u001b[1;33m)\u001b[0m\u001b[1;33m:\u001b[0m\u001b[1;33m\u001b[0m\u001b[1;33m\u001b[0m\u001b[0m\n",
      "\u001b[1;32m~\\anaconda3\\lib\\site-packages\\matplotlib\\axes\\_base.py\u001b[0m in \u001b[0;36m_plot_args\u001b[1;34m(self, tup, kwargs)\u001b[0m\n\u001b[0;32m    389\u001b[0m             \u001b[0mx\u001b[0m\u001b[1;33m,\u001b[0m \u001b[0my\u001b[0m \u001b[1;33m=\u001b[0m \u001b[0mindex_of\u001b[0m\u001b[1;33m(\u001b[0m\u001b[0mtup\u001b[0m\u001b[1;33m[\u001b[0m\u001b[1;33m-\u001b[0m\u001b[1;36m1\u001b[0m\u001b[1;33m]\u001b[0m\u001b[1;33m)\u001b[0m\u001b[1;33m\u001b[0m\u001b[1;33m\u001b[0m\u001b[0m\n\u001b[0;32m    390\u001b[0m \u001b[1;33m\u001b[0m\u001b[0m\n\u001b[1;32m--> 391\u001b[1;33m         \u001b[0mx\u001b[0m\u001b[1;33m,\u001b[0m \u001b[0my\u001b[0m \u001b[1;33m=\u001b[0m \u001b[0mself\u001b[0m\u001b[1;33m.\u001b[0m\u001b[0m_xy_from_xy\u001b[0m\u001b[1;33m(\u001b[0m\u001b[0mx\u001b[0m\u001b[1;33m,\u001b[0m \u001b[0my\u001b[0m\u001b[1;33m)\u001b[0m\u001b[1;33m\u001b[0m\u001b[1;33m\u001b[0m\u001b[0m\n\u001b[0m\u001b[0;32m    392\u001b[0m \u001b[1;33m\u001b[0m\u001b[0m\n\u001b[0;32m    393\u001b[0m         \u001b[1;32mif\u001b[0m \u001b[0mself\u001b[0m\u001b[1;33m.\u001b[0m\u001b[0mcommand\u001b[0m \u001b[1;33m==\u001b[0m \u001b[1;34m'plot'\u001b[0m\u001b[1;33m:\u001b[0m\u001b[1;33m\u001b[0m\u001b[1;33m\u001b[0m\u001b[0m\n",
      "\u001b[1;32m~\\anaconda3\\lib\\site-packages\\matplotlib\\axes\\_base.py\u001b[0m in \u001b[0;36m_xy_from_xy\u001b[1;34m(self, x, y)\u001b[0m\n\u001b[0;32m    268\u001b[0m         \u001b[1;32mif\u001b[0m \u001b[0mx\u001b[0m\u001b[1;33m.\u001b[0m\u001b[0mshape\u001b[0m\u001b[1;33m[\u001b[0m\u001b[1;36m0\u001b[0m\u001b[1;33m]\u001b[0m \u001b[1;33m!=\u001b[0m \u001b[0my\u001b[0m\u001b[1;33m.\u001b[0m\u001b[0mshape\u001b[0m\u001b[1;33m[\u001b[0m\u001b[1;36m0\u001b[0m\u001b[1;33m]\u001b[0m\u001b[1;33m:\u001b[0m\u001b[1;33m\u001b[0m\u001b[1;33m\u001b[0m\u001b[0m\n\u001b[0;32m    269\u001b[0m             raise ValueError(\"x and y must have same first dimension, but \"\n\u001b[1;32m--> 270\u001b[1;33m                              \"have shapes {} and {}\".format(x.shape, y.shape))\n\u001b[0m\u001b[0;32m    271\u001b[0m         \u001b[1;32mif\u001b[0m \u001b[0mx\u001b[0m\u001b[1;33m.\u001b[0m\u001b[0mndim\u001b[0m \u001b[1;33m>\u001b[0m \u001b[1;36m2\u001b[0m \u001b[1;32mor\u001b[0m \u001b[0my\u001b[0m\u001b[1;33m.\u001b[0m\u001b[0mndim\u001b[0m \u001b[1;33m>\u001b[0m \u001b[1;36m2\u001b[0m\u001b[1;33m:\u001b[0m\u001b[1;33m\u001b[0m\u001b[1;33m\u001b[0m\u001b[0m\n\u001b[0;32m    272\u001b[0m             raise ValueError(\"x and y can be no greater than 2-D, but have \"\n",
      "\u001b[1;31mValueError\u001b[0m: x and y must have same first dimension, but have shapes (5000,) and (383, 2)"
     ]
    },
    {
     "data": {
      "image/png": "[encoded data removed]",
      "text/plain": [
       "<Figure size 720x360 with 1 Axes>"
      ]
     },
     "metadata": {
      "needs_background": "light"
     },
     "output_type": "display_data"
    }
   ],
   "source": [
    "# imec0 - Raster for XD0,1\n",
    "plt.figure(figsize=(10,5))\n",
    "\n",
    "plt.plot(spikes_tprime[:5000],\n",
    "         imec0_channel_pos[:5000],\n",
    "         '.', color='gray')\n",
    "\n",
    "plt.xlabel('Time (s)')\n",
    "plt.ylabel('Depth')\n",
    "plt.title('Spike Raster for All Units')\n",
    "plt.show()"
   ]
  },
  {
   "cell_type": "code",
   "execution_count": null,
   "metadata": {},
   "outputs": [],
   "source": [
    "# imec0 - Single unit amplitude plot\n",
    "plt.figure(figsize=(10,2))\n",
    "\n",
    "unitID = 34 # Select a Unit\n",
    "\n",
    "plt.plot(imec0_spike_times[imec0_spike_clusters == unitID]/sampling_rate,\n",
    "         imec0_amplitudes[imec0_spike_clusters == unitID],\n",
    "         '.', color='orange',\n",
    "         markersize=1,\n",
    "         alpha=0.5)\n",
    "\n",
    "plt.xlabel('Time (s)')\n",
    "plt.ylabel('Amplitude')\n",
    "plt.title('Spike Amplitudes for One Unit')\n",
    "\n",
    "plt.show()"
   ]
  },
  {
   "cell_type": "code",
   "execution_count": null,
   "metadata": {},
   "outputs": [],
   "source": [
    "# imec1 - Raster for all units\n",
    "plt.figure(figsize=(10,5))\n",
    "\n",
    "plt.plot(imec0_spike_times3[:5000]/sampling_rate,\n",
    "         imec0_spike_clusters[:5000],\n",
    "         '.', color='gray')\n",
    "\n",
    "plt.xlabel('Time (s)')\n",
    "plt.ylabel('Unit ID')\n",
    "plt.title('Spike Raster for All Units')\n",
    "plt.show()\n",
    "\n",
    "# imec1 - Single unit amplitude plot\n",
    "plt.figure(figsize=(10,2))\n",
    "\n",
    "unitID = 34 # Select a Unit\n",
    "\n",
    "plt.plot(imec1_spike_times[imec1_spike_clusters == unitID]/sampling_rate,\n",
    "         imec1_amplitudes[imec1_spike_clusters == unitID],\n",
    "         '.', color='orange',\n",
    "         markersize=1,\n",
    "         alpha=0.5)\n",
    "\n",
    "plt.xlabel('Time (s)')\n",
    "plt.ylabel('Amplitude')\n",
    "plt.title('Spike Amplitudes for One Unit')\n",
    "\n",
    "plt.show()"
   ]
  },
  {
   "cell_type": "code",
   "execution_count": 34,
   "metadata": {},
   "outputs": [
    {
     "ename": "TypeError",
     "evalue": "'tuple' object is not callable",
     "output_type": "error",
     "traceback": [
      "\u001b[1;31m---------------------------------------------------------------------------\u001b[0m",
      "\u001b[1;31mTypeError\u001b[0m                                 Traceback (most recent call last)",
      "\u001b[1;32m<ipython-input-34-21ecbee11e32>\u001b[0m in \u001b[0;36m<module>\u001b[1;34m\u001b[0m\n\u001b[0;32m      1\u001b[0m \u001b[0mimec0_channelpos\u001b[0m \u001b[1;33m=\u001b[0m \u001b[0mpd\u001b[0m\u001b[1;33m.\u001b[0m\u001b[0mDataFrame\u001b[0m\u001b[1;33m(\u001b[0m\u001b[0mimec0_channel_pos\u001b[0m\u001b[1;33m)\u001b[0m\u001b[1;33m\u001b[0m\u001b[1;33m\u001b[0m\u001b[0m\n\u001b[1;32m----> 2\u001b[1;33m \u001b[0mimec0_channelpos\u001b[0m\u001b[1;33m.\u001b[0m\u001b[0mshape\u001b[0m\u001b[1;33m(\u001b[0m\u001b[1;33m)\u001b[0m\u001b[1;33m\u001b[0m\u001b[1;33m\u001b[0m\u001b[0m\n\u001b[0m",
      "\u001b[1;31mTypeError\u001b[0m: 'tuple' object is not callable"
     ]
    }
   ],
   "source": [
    "imec0_channelpos = pd.DataFrame(imec0_channel_pos)\n",
    "imec0_channelpos.shape()"
   ]
  },
  {
   "cell_type": "code",
   "execution_count": null,
   "metadata": {},
   "outputs": [],
   "source": []
  }
 ],
 "metadata": {
  "kernelspec": {
   "display_name": "Python 3",
   "language": "python",
   "name": "python3"
  },
  "language_info": {
   "codemirror_mode": {
    "name": "ipython",
    "version": 3
   },
   "file_extension": ".py",
   "mimetype": "text/x-python",
   "name": "python",
   "nbconvert_exporter": "python",
   "pygments_lexer": "ipython3",
   "version": "3.7.6"
  }
 },
 "nbformat": 4,
 "nbformat_minor": 4
}

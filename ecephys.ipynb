{
 "cells": [
  {
   "cell_type": "code",
   "execution_count": 1,
   "metadata": {},
   "outputs": [],
   "source": [
    "%matplotlib inline"
   ]
  },
  {
   "cell_type": "markdown",
   "metadata": {},
   "source": [
    "\n",
    "\n",
    "Extracellular electrophysiology data\n",
    "============================================\n",
    "\n",
    "The following examples will reference variables that may not be defined within the block they are used in. For\n",
    "clarity, we define them here:\n"
   ]
  },
  {
   "cell_type": "code",
   "execution_count": 2,
   "metadata": {},
   "outputs": [],
   "source": [
    "import numpy as np"
   ]
  },
  {
   "cell_type": "markdown",
   "metadata": {},
   "source": [
    "Creating and Writing NWB files\n",
    "------------------------------\n",
    "\n",
    "When creating a NWB file, the first step is to create the :py:class:`~pynwb.file.NWBFile`. The first\n",
    "argument is the name of the NWB file, and the second argument is a brief description of the dataset.\n",
    "\n"
   ]
  },
  {
   "cell_type": "code",
   "execution_count": 3,
   "metadata": {},
   "outputs": [],
   "source": [
    "from datetime import datetime\n",
    "from dateutil.tz import tzlocal\n",
    "from pynwb import NWBFile\n",
    "\n",
    "nwbfile = NWBFile('my first synthetic recording', 'EXAMPLE_ID', datetime.now(tzlocal()),\n",
    "                  experimenter='Dr. Bilbo Baggins',\n",
    "                  lab='Bag End Laboratory',\n",
    "                  institution='University of Middle Earth at the Shire',\n",
    "                  experiment_description='I went on an adventure with thirteen dwarves to reclaim vast treasures.',\n",
    "                  session_id='LONELYMTN')"
   ]
  },
  {
   "cell_type": "markdown",
   "metadata": {},
   "source": [
    "Electrode metadata\n",
    "^^^^^^^^^^^^^^^^^^\n",
    "\n",
    "Electrode groups (i.e. experimentally relevant groupings of channels) are represented by\n",
    ":py:class:`~pynwb.ecephys.ElectrodeGroup` objects. To create an electrode group, you can use the\n",
    ":py:class:`~pynwb.file.NWBFile` instance method :py:meth:`~pynwb.file.NWBFile.create_electrode_group`.\n",
    "\n",
    "Before creating an :py:class:`~pynwb.ecephys.ElectrodeGroup`, you need to provide some information about the\n",
    "device that was used to record from the electrode. This is done by creating a :py:class:`~pynwb.device.Device`\n",
    "object using the instance method :py:meth:`~pynwb.file.NWBFile.create_device`.\n",
    "\n"
   ]
  },
  {
   "cell_type": "code",
   "execution_count": 4,
   "metadata": {},
   "outputs": [],
   "source": [
    "device = nwbfile.create_device(name='trodes_rig123')"
   ]
  },
  {
   "cell_type": "markdown",
   "metadata": {},
   "source": [
    "Once you have created the :py:class:`~pynwb.device.Device`, you can create an\n",
    ":py:class:`~pynwb.ecephys.ElectrodeGroup`.\n",
    "\n"
   ]
  },
  {
   "cell_type": "code",
   "execution_count": null,
   "metadata": {},
   "outputs": [],
   "source": [
    "electrode_name = 'tetrode1'\n",
    "description = \"an example tetrode\"\n",
    "location = \"somewhere in the hippocampus\"\n",
    "\n",
    "electrode_group = nwbfile.create_electrode_group(electrode_name,\n",
    "                                                 description=description,\n",
    "                                                 location=location,\n",
    "                                                 device=device)"
   ]
  },
  {
   "cell_type": "markdown",
   "metadata": {},
   "source": [
    "After setting up electrode group metadata, you should add metadata about the individual electrodes comprising\n",
    "each electrode group. This is done with :py:func:`~pynwb.file.NWBFile.add_electrode`.\n",
    "\n",
    "The first argument to :py:class:`~pynwb.file.NWBFile.add_electrode` is a unique identifier that the user should\n",
    "assign. For details on the rest of the arguments, please see the\n",
    ":py:func:`API documentation <pynwb.file.NWBFile.add_electrode>`.\n",
    "\n"
   ]
  },
  {
   "cell_type": "code",
   "execution_count": null,
   "metadata": {},
   "outputs": [],
   "source": [
    "for idx in [1, 2, 3, 4]:\n",
    "    nwbfile.add_electrode(id=idx,\n",
    "                          x=1.0, y=2.0, z=3.0,\n",
    "                          imp=float(-idx),\n",
    "                          location='CA1', filtering='none',\n",
    "                          group=electrode_group)"
   ]
  },
  {
   "cell_type": "markdown",
   "metadata": {},
   "source": [
    ".. note: :py:class:`~pynwb.file.NWBFile.add_electrode` returns the index of the electrode you just added.\n",
    "   This can come in handy when creating with an :py:class:`~pynwb.core.DynamicTableRegion`\n",
    "   :py:class:`~pynwb.file.NWBFile.create_electrode_table_region` (See `ec_recordings`).\n",
    "\n"
   ]
  },
  {
   "cell_type": "markdown",
   "metadata": {},
   "source": [
    "\n",
    "Extracellular recordings\n",
    "^^^^^^^^^^^^^^^^^^^^^^^^\n",
    "\n",
    "The main classes for storing extracellular recordings are :py:class:`~pynwb.ecephys.ElectricalSeries`\n",
    "and :py:class:`~pynwb.ecephys.SpikeEventSeries`. :py:class:`~pynwb.ecephys.ElectricalSeries` should be used\n",
    "for storing raw voltage traces, local-field potential and filtered voltage traces and\n",
    ":py:class:`~pynwb.ecephys.SpikeEventSeries` is meant for storing spike waveforms (typically in preparation for\n",
    "clustering). The results of spike clustering (e.g. per-unit metadata and spike times) should be stored in the\n",
    "top-level :py:class:`~pynwb.misc.Units` table.\n",
    "\n",
    "In addition to the *data* and *timestamps* fields inherited\n",
    "from :py:class:`~pynwb.base.TimeSeries` class, these two classs will require metadata about the elctrodes\n",
    "from which *data* was generated. This is done by providing an :py:class:`~pynwb.core.DynamicTableRegion`,\n",
    "which you can create using the :py:class:`~pynwb.file.NWBFile.create_electrode_table_region`\n",
    "\n",
    "The first argument to :py:class:`~pynwb.file.NWBFile.create_electrode_table_region` a list of the\n",
    "indices of the electrodes you want in the region..\n",
    "\n"
   ]
  },
  {
   "cell_type": "code",
   "execution_count": null,
   "metadata": {},
   "outputs": [],
   "source": [
    "electrode_table_region = nwbfile.create_electrode_table_region([0, 2], 'the first and third electrodes')"
   ]
  },
  {
   "cell_type": "markdown",
   "metadata": {},
   "source": [
    "Now that we have a :py:class:`~pynwb.core.DynamicTableRegion`, we can create an\n",
    ":py:class:`~pynwb.ecephys.ElectricalSeries` and add it to our :py:class:`~pynwb.file.NWBFile`.\n",
    "\n"
   ]
  },
  {
   "cell_type": "code",
   "execution_count": null,
   "metadata": {},
   "outputs": [],
   "source": [
    "from pynwb.ecephys import ElectricalSeries\n",
    "\n",
    "rate = 10.0\n",
    "np.random.seed(1234)\n",
    "data_len = 1000\n",
    "ephys_data = np.random.rand(data_len * 2).reshape((data_len, 2))\n",
    "ephys_timestamps = np.arange(data_len) / rate\n",
    "\n",
    "ephys_ts = ElectricalSeries('test_ephys_data',\n",
    "                            ephys_data,\n",
    "                            electrode_table_region,\n",
    "                            timestamps=ephys_timestamps,\n",
    "                            # Alternatively, could specify starting_time and rate as follows\n",
    "                            # starting_time=ephys_timestamps[0],\n",
    "                            # rate=rate,\n",
    "                            resolution=0.001,\n",
    "                            comments=\"This data was randomly generated with numpy, using 1234 as the seed\",\n",
    "                            description=\"Random numbers generated with numpy.random.rand\")\n",
    "nwbfile.add_acquisition(ephys_ts)"
   ]
  },
  {
   "cell_type": "markdown",
   "metadata": {},
   "source": [
    "\n",
    "Associate electrodes with units\n",
    "^^^^^^^^^^^^^^^^^^^^^^^^^^^^^^^\n",
    "\n",
    "The `PyNWB Basics tutorial <basics>` demonstrates how to add data about units and specifying custom metadata\n",
    "about units. As mentioned `here <units_fields_ref>`, there are some optional fields for units, one of these\n",
    "is *electrodes*. This field takes a list of indices into the electrode table for the electrodes that the unit\n",
    "corresponds to. For example, if two units were inferred from the first electrode (*id* = 1, index = 0), you would\n",
    "specify that like so:\n",
    "\n"
   ]
  },
  {
   "cell_type": "code",
   "execution_count": null,
   "metadata": {},
   "outputs": [],
   "source": [
    "nwbfile.add_unit(id=1, electrodes=[0])\n",
    "nwbfile.add_unit(id=2, electrodes=[0])"
   ]
  },
  {
   "cell_type": "markdown",
   "metadata": {},
   "source": [
    "Designating electrophysiology data\n",
    "^^^^^^^^^^^^^^^^^^^^^^^^^^^^^^^^^^\n",
    "\n",
    "As mentioned above, :py:class:`~pynwb.ecephys.ElectricalSeries` and :py:class:`~pynwb.ecephys.SpikeEventSeries`\n",
    "are meant for storing specific types of extracellular recordings. In addition to these two\n",
    ":py:class:`~pynwb.base.TimeSeries` classes, NWB provides some `data interfaces <basic_data_interfaces>`\n",
    "for designating the type of data you are storing. We will briefly discuss them here, and refer the reader to\n",
    ":py:mod:`API documentation <pynwb.ecephys>` and `PyNWB Basics tutorial <basics>` for more details on\n",
    "using these objects.\n",
    "\n",
    "For storing spike data, there are two options. Which one you choose depends on what data you have available.\n",
    "If you need to store the complete, continuous raw voltage traces, you should store your the traces with\n",
    ":py:class:`~pynwb.ecephys.ElectricalSeries` objects as `acquisition <basic_timeseries>` data, and use\n",
    "the :py:class:`~pynwb.ecephys.EventDetection` class for identifying the spike events in your raw traces.\n",
    "If you do not want to store the raw voltage traces and only the waveform 'snippets' surrounding spike events,\n",
    "you should use the :py:class:`~pynwb.ecephys.EventWaveform` class, which can store one or more\n",
    ":py:class:`~pynwb.ecephys.SpikeEventSeries` objects.\n",
    "\n",
    "The results of spike sorting (or clustering) should be stored in the top-level :py:class:`~pynwb.misc.Units` table.\n",
    "Note that it is not required to store spike waveforms in order to store spike events or waveforms--if you only\n",
    "want to store the spike times of clustered units you can use only the Units table.\n",
    "\n",
    "For local field potential data, there are two options. Again, which one you choose depends on what data you\n",
    "have available. With both options, you should store your traces with :py:class:`~pynwb.ecephys.ElectricalSeries`\n",
    "objects. If you are storing unfiltered local field potential data, you should store\n",
    "the :py:class:`~pynwb.ecephys.ElectricalSeries` objects in :py:class:`~pynwb.ecephys.LFP` data interface object(s).\n",
    "If you have filtered LFP data, you should store the :py:class:`~pynwb.ecephys.ElectricalSeries` objects  in\n",
    ":py:class:`~pynwb.ecephys.FilteredEphys` data interface object(s).\n",
    "\n"
   ]
  },
  {
   "cell_type": "markdown",
   "metadata": {},
   "source": [
    "\n",
    "Once you have finished adding all of your data to the :py:class:`~pynwb.file.NWBFile`,\n",
    "write the file with :py:class:`~pynwb.NWBHDF5IO`.\n",
    "\n"
   ]
  },
  {
   "cell_type": "code",
   "execution_count": null,
   "metadata": {},
   "outputs": [],
   "source": [
    "from pynwb import NWBHDF5IO\n",
    "\n",
    "with NWBHDF5IO('ecephys_example.nwb', 'w') as io:\n",
    "    io.write(nwbfile)"
   ]
  },
  {
   "cell_type": "markdown",
   "metadata": {},
   "source": [
    "For more details on :py:class:`~pynwb.NWBHDF5IO`, see the `basic tutorial <basic_writing>`.\n",
    "\n"
   ]
  },
  {
   "cell_type": "markdown",
   "metadata": {},
   "source": [
    "\n",
    "Reading electrophysiology data\n",
    "------------------------------\n",
    "\n",
    "Now that you have written some electrophysiology data, you can read it back in.\n",
    "\n"
   ]
  },
  {
   "cell_type": "code",
   "execution_count": null,
   "metadata": {},
   "outputs": [],
   "source": [
    "io = NWBHDF5IO('ecephys_example.nwb', 'r')\n",
    "nwbfile = io.read()"
   ]
  },
  {
   "cell_type": "markdown",
   "metadata": {},
   "source": [
    "For details on retrieving data from an :py:class:`~pynwb.file.NWBFile`, we refer the reader to the\n",
    "`basic tutorial <basic_reading>`. For this tutorial, we will just get back our the\n",
    ":py:class:`~pynwb.ecephys.ElectricalSeries` object we added above.\n",
    "\n",
    "First, get the :py:class:`~pynwb.ecephys.ElectricalSeries`.\n",
    "\n"
   ]
  },
  {
   "cell_type": "code",
   "execution_count": null,
   "metadata": {},
   "outputs": [],
   "source": [
    "ephys_ts = nwbfile.acquisition['test_ephys_data']"
   ]
  },
  {
   "cell_type": "markdown",
   "metadata": {},
   "source": [
    "The second dimension of the :py:func:`~pynwb.base.TimeSeries.data` attribute should be the\n",
    "electrodes the data was recorded with. We can get the electrodes for each column in *data*\n",
    "from the :py:func:`~pynwb.ecephys.ElectricalSeries.electrodes` attribute. For example,\n",
    "information about the electrode in the second index can be retrieved like so:\n",
    "\n"
   ]
  },
  {
   "cell_type": "code",
   "execution_count": null,
   "metadata": {},
   "outputs": [],
   "source": [
    "elec2 = ephys_ts.electrodes[1]"
   ]
  }
 ],
 "metadata": {
  "kernelspec": {
   "display_name": "Python 3",
   "language": "python",
   "name": "python3"
  },
  "language_info": {
   "codemirror_mode": {
    "name": "ipython",
    "version": 3
   },
   "file_extension": ".py",
   "mimetype": "text/x-python",
   "name": "python",
   "nbconvert_exporter": "python",
   "pygments_lexer": "ipython3",
   "version": "3.7.6"
  }
 },
 "nbformat": 4,
 "nbformat_minor": 1
}

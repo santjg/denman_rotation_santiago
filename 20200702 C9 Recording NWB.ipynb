{
 "cells": [
  {
   "cell_type": "markdown",
   "metadata": {},
   "source": [
    "# Set Up NWB\n",
    "Each file must have a session description, identifier, and session start time."
   ]
  },
  {
   "cell_type": "code",
   "execution_count": 6,
   "metadata": {},
   "outputs": [
    {
     "name": "stdout",
     "output_type": "stream",
     "text": [
      "root pynwb.file.NWBFile at 0x2135009838728\n",
      "Fields:\n",
      "  experimenter: ['Juan Santiago']\n",
      "  file_create_date: [datetime.datetime(2020, 7, 30, 11, 17, 16, 936969, tzinfo=tzlocal())]\n",
      "  identifier: 20200702_C9\n",
      "  institution: University of Colorado\n",
      "  lab: Denman Lab\n",
      "  session_description: Probes BD; color_population.py\n",
      "  session_id: recording 1\n",
      "  session_start_time: 2020-07-02 11:30:00-06:00\n",
      "  timestamps_reference_time: 2020-07-02 11:30:00-06:00\n",
      "\n"
     ]
    }
   ],
   "source": [
    "from pynwb import NWBFile\n",
    "from datetime import datetime\n",
    "from dateutil import tz\n",
    "\n",
    "start_time = datetime(2020, 7, 2, 11, 30, tzinfo = tz.gettz('US/Mountain'))\n",
    "\n",
    "nwbfile = NWBFile(\n",
    "    session_description = 'Two neuropixels probes recording from V1 in headfixed mouse',\n",
    "    identifier = '20200702_C9',\n",
    "    session_start_time = start_time,\n",
    "    stimulus = 'color_population.py',\n",
    "    session_id = 'recording 1',\n",
    "    experimenter = 'Juan Santiago',\n",
    "    lab = 'Denman Lab',\n",
    "    institution = 'University of Colorado'\n",
    "    #related_publications = \n",
    "    \n",
    ")\n",
    "print(nwbfile)"
   ]
  },
  {
   "cell_type": "markdown",
   "metadata": {},
   "source": [
    "# Subject Information\n",
    "Create `Subject` object to store information about the experimental subject such as age, species, genotype, sex, and a freeform description. Then, set `nwbfile.subject` to the `Subject` object."
   ]
  },
  {
   "cell_type": "code",
   "execution_count": 9,
   "metadata": {},
   "outputs": [],
   "source": [
    "from pynwb.file import Subject\n",
    "\n",
    "nwbfile.subject = Subject(\n",
    "    age = '28 weeks',\n",
    "    description = 'C9',\n",
    "    genotype = 'BL6',\n",
    "    sex = 'F',\n",
    ")"
   ]
  },
  {
   "cell_type": "code",
   "execution_count": null,
   "metadata": {},
   "outputs": [],
   "source": []
  }
 ],
 "metadata": {
  "kernelspec": {
   "display_name": "Python 3",
   "language": "python",
   "name": "python3"
  },
  "language_info": {
   "codemirror_mode": {
    "name": "ipython",
    "version": 3
   },
   "file_extension": ".py",
   "mimetype": "text/x-python",
   "name": "python",
   "nbconvert_exporter": "python",
   "pygments_lexer": "ipython3",
   "version": "3.7.6"
  }
 },
 "nbformat": 4,
 "nbformat_minor": 4
}

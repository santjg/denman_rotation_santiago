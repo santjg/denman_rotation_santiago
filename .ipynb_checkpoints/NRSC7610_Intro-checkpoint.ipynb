{
 "cells": [
  {
   "cell_type": "markdown",
   "metadata": {},
   "source": [
    "# Introduction to Python (for Neuroscientists)\n",
    "## a guided tour of data analysis with python\n",
    "10 Jan 2019<br>\n",
    "NRSC 7601 Systems Neuroscience<br>\n",
    "Daniel J Denman<br>\n",
    "University of Colorado Anschutz<br>\n",
    "<br>"
   ]
  },
  {
   "cell_type": "markdown",
   "metadata": {},
   "source": [
    "# Important: this is not meant to be a comprehensive guide. \n",
    "Use the internet! [Python documentation](https://docs.python.org/3.7/tutorial/index.html), [Stack Overflow](https://stackoverflow.com/), Google, Markdown cheatsheets [(e.g. this one)](https://github.com/adam-p/markdown-here/wiki/Markdown-Cheatsheet) all are your friends.\n",
    "### we're going to cover two things in the introduction here:\n",
    "0. Jupyter notebooks and some pure Python basics\n",
    "1. Importing useful packages for neuroscience analysis [and doing a few things with them]\n",
    "<br>[hot tip: python indexing starts with 0!]"
   ]
  },
  {
   "cell_type": "markdown",
   "metadata": {},
   "source": [
    "# 0. Jupyter notebooks and some pure Python basics\n",
    "#### Here, we are using a Jupyter notebook environment to run a Python 3.7 kernel\n",
    "##### [FYI: you've had the option to run the Jupyter locally or on Google Cloud VM preconfigured by Dan.]\n",
    "##### First, let's get our bearings in a Jupyter notebook<br>\n",
    "In a Jupyter notebook, we can iteratively explore data, do computations, make plots, and define functions and objects.<br>\n",
    "The notebook will contain a mix of code, markdown (a simple way to make formatted text) that might explain what is going on in the code, and outputs. The outputs will be in the form of printed statements and plots.\n",
    "<br>\n",
    "The fundamental unit of the Jupyter notebook is the cell. Here is an empty code cell:"
   ]
  },
  {
   "cell_type": "code",
   "execution_count": null,
   "metadata": {},
   "outputs": [],
   "source": []
  },
  {
   "cell_type": "markdown",
   "metadata": {},
   "source": [
    "- You can see the empty brackets on the left; this bracket is empty until the cell is executed\n",
    "- Cells can be \"code\", \"markdown\", or \"raw\". This cell, for example, is a \"markdown cell\". When i execute it (by pressing ```Shift + Enter```), it renders the text I have entered. <br>\n",
    "- In the cell below, a code cell, we will enter some code. To execute it, enter that cell and press ```Shift + Enter```. "
   ]
  },
  {
   "cell_type": "code",
   "execution_count": 1,
   "metadata": {},
   "outputs": [
    {
     "name": "stdout",
     "output_type": "stream",
     "text": [
      "hello world! time to do some science\n"
     ]
    }
   ],
   "source": [
    "message = 'hello world! time to do some science' #define a variable. this variable is a string, because we put the value in ''\n",
    "print(message) #print() is a function that is part of core python. it prints text; in the case of notebook, this will appear in the output of this cell, below"
   ]
  },
  {
   "cell_type": "markdown",
   "metadata": {},
   "source": [
    "Notice that the empty brackets on the left of the cell above have now been filled with a number, which is the order in in which the cell was executed. This will forever increment until the  this bracket is empty until the kernel (or Jupyter notebook) is restarted.\n",
    "<br>Also, you'll notice i added some text after a ```#```; this is commented code, which is ignored by the interepreter. you can write whatever you want, but the idea is to note what you did, if it is important/not clear from the syntax\n",
    "<br>\n",
    "<br>\n",
    "<br>\n",
    "So far, this notebook has only the Python kernel at the moment. It can only do basic Python things, like define simple variables and do simple operations:"
   ]
  },
  {
   "cell_type": "code",
   "execution_count": 4,
   "metadata": {},
   "outputs": [],
   "source": [
    "word = 'some letters'\n",
    "name = 'your name'\n",
    "a = 12\n",
    "b = 3. "
   ]
  },
  {
   "cell_type": "markdown",
   "metadata": {},
   "source": [
    "python has built in variable types. in this case, we have used ```str```, ```int```, and ```float```. \n",
    "<br>```str``` is declared with ```''```\n",
    "<br>```int``` is declared with any number [no decimal point]\n",
    "<br>```float``` is declared with a number with a decimal point\n",
    "<br>\n",
    "<br>now we can do some things with the variables"
   ]
  },
  {
   "cell_type": "code",
   "execution_count": 5,
   "metadata": {},
   "outputs": [
    {
     "name": "stdout",
     "output_type": "stream",
     "text": [
      "<class 'int'>\n",
      "<class 'str'>\n"
     ]
    }
   ],
   "source": [
    "print(type(a))\n",
    "print(type(word))"
   ]
  },
  {
   "cell_type": "code",
   "execution_count": 6,
   "metadata": {},
   "outputs": [
    {
     "data": {
      "text/plain": [
       "15.0"
      ]
     },
     "execution_count": 6,
     "metadata": {},
     "output_type": "execute_result"
    }
   ],
   "source": [
    "a + b"
   ]
  },
  {
   "cell_type": "code",
   "execution_count": 7,
   "metadata": {},
   "outputs": [
    {
     "data": {
      "text/plain": [
       "'some lettersyour name'"
      ]
     },
     "execution_count": 7,
     "metadata": {},
     "output_type": "execute_result"
    }
   ],
   "source": [
    "word + name"
   ]
  },
  {
   "cell_type": "markdown",
   "metadata": {},
   "source": [
    "here are some other useful standard python variable types:\n",
    "<br>list:"
   ]
  },
  {
   "cell_type": "code",
   "execution_count": 50,
   "metadata": {},
   "outputs": [],
   "source": [
    "group_of_things = [12,'a',3.0,'denmanlab','python']"
   ]
  },
  {
   "cell_type": "markdown",
   "metadata": {},
   "source": [
    "dictionary:"
   ]
  },
  {
   "cell_type": "code",
   "execution_count": 51,
   "metadata": {},
   "outputs": [],
   "source": [
    "dict_of_things = {'key1':a,\n",
    "                  'key2':b,\n",
    "                  'key3':9,\n",
    "                  'someotherkey':group_of_things}"
   ]
  },
  {
   "cell_type": "code",
   "execution_count": 52,
   "metadata": {},
   "outputs": [
    {
     "data": {
      "text/plain": [
       "{'key1': 12,\n",
       " 'key2': 3.0,\n",
       " 'key3': 9,\n",
       " 'someotherkey': [12, 'a', 3.0, 'denmanlab', 'python']}"
      ]
     },
     "execution_count": 52,
     "metadata": {},
     "output_type": "execute_result"
    }
   ],
   "source": [
    "dict_of_things"
   ]
  },
  {
   "cell_type": "markdown",
   "metadata": {},
   "source": [
    "Another key concept for Jupyter is the difference between using the keyboard to add code or markdown, and using the keyboard to change the notebook itself. When you are \"in\" a cell, you are adding code or markdown. To jump up a level to add a cell, you need to ```esc``` out of that cell. Now at the noteook level, you can use letters on the keyboard to do thinge like add, delete, copy, paste, etc. cells. To add, press ```a``` (to add above where you are) or ```b``` (to add below). ```c``` for copy, ```x``` for cut, ```v``` for paste. Remember, no ```Shift```s needed. Try adding a cell below this one:"
   ]
  },
  {
   "cell_type": "markdown",
   "metadata": {},
   "source": [
    "These shortcuts can be found over there on the left in menu with a palette, or on the internet. Other important ones: ```dd``` to delete, and ```Enter``` to go down a level and in to the cell you have selected"
   ]
  },
  {
   "cell_type": "markdown",
   "metadata": {},
   "source": [
    "--> There are other tricks to notebooks: moving cells, copy/cuttting cells, running all or sets of cells, etc. Demonstrate some."
   ]
  },
  {
   "cell_type": "markdown",
   "metadata": {},
   "source": [
    "<br><br>\n",
    "# 1. Importing useful packages\n",
    "We will probably need to import some packages to do any kind of data analysis. For most science, numpy and matplotlib (or packages that use matplotlib) are a good place to start. For many \"data science\" applications and some forms of analysis, pandas is also a very useful package. seaborn goes well with pandas, especially for making \"big data\" plots"
   ]
  },
  {
   "cell_type": "markdown",
   "metadata": {},
   "source": [
    "## numpy"
   ]
  },
  {
   "cell_type": "code",
   "execution_count": 12,
   "metadata": {},
   "outputs": [],
   "source": [
    "import numpy as np"
   ]
  },
  {
   "cell_type": "markdown",
   "metadata": {},
   "source": [
    "We can now use numpy, an extensive package of quantitative tools (**num**erical **py**thon)\n",
    "<br>**As with all packages (and objects), you access attributes of the package with the ```.``` notation. The ```.``` means you are \"going in something\", to get an attribute or function that lives inside of it**\n",
    "<br>So with that ```import numpy as np``` statement above, we have brought the numpy package and all of its attributes into our notebook. if we want to use a numpy function, we use ```np.name_of_numpy_function_we_want```. For example, numpy has a function called ```save```, which saves a thing to disk. You would use this by typing ```np.save(thing_to_save)```. similarly, the numpy ```load``` function is invoked with ```np.load(thing_to_load)```"
   ]
  },
  {
   "cell_type": "markdown",
   "metadata": {},
   "source": [
    "packages also have non-function attributes - strings and floats or whatever else. for example, numpy has pi as an attribute, since one sometimes wants pi, to, you know, do numerical calculateion type things:"
   ]
  },
  {
   "cell_type": "code",
   "execution_count": 13,
   "metadata": {},
   "outputs": [
    {
     "data": {
      "text/plain": [
       "3.141592653589793"
      ]
     },
     "execution_count": 13,
     "metadata": {},
     "output_type": "execute_result"
    }
   ],
   "source": [
    "np.pi"
   ]
  },
  {
   "cell_type": "markdown",
   "metadata": {},
   "source": [
    "<br>The most important thing is the new variable type: the numpy ndarray. an ndarray is an n-dimensional group of numbers. Here are example one, two, and three dimensional ndarrays:"
   ]
  },
  {
   "cell_type": "code",
   "execution_count": 15,
   "metadata": {},
   "outputs": [],
   "source": [
    "one_dim = np.array([1,2,3])\n",
    "two_dim = np.array([[1,2,3,4,5],[1,2,3,4,5]])\n",
    "three_dim = np.array([[[1,2,3],[1,2,3],[1,2,3]],[[1,2,3],[1,2,3],[1,2,3]]])"
   ]
  },
  {
   "cell_type": "markdown",
   "metadata": {},
   "source": [
    "ok, here we've done something wrong, and python has given us an error after it tried to do the wrong thing we told it to do. in this case, we tried to name a variabile with an integer at the beginning. that's not allowed. "
   ]
  },
  {
   "cell_type": "code",
   "execution_count": 16,
   "metadata": {},
   "outputs": [],
   "source": [
    "three_dim = np.array([[[1,2,3],[1,2,3],[1,2,3]],[[1,2,3],[1,2,3],[1,2,3]]])"
   ]
  },
  {
   "cell_type": "markdown",
   "metadata": {},
   "source": [
    "### note: these ```ndarray```s are basically lists of numbers. \n",
    "but, of course, that is the core of what we are doing with *any* kind of quantitative analyusis. ```numpy``` has many, many functions to manipulate and do analysis on them. and numpy ```ndarray```s are much faster than pure python lists. ```scipy``` has many other anaylses, and expects ```numpy``` ```ndarray```s as input. Machine learning packages like ```scikit-learn```, ```tensorflow```, etc. will also often expect numpy, be faster with them, or at least be compatible. "
   ]
  },
  {
   "cell_type": "markdown",
   "metadata": {},
   "source": [
    "let's move on to plotting some things"
   ]
  },
  {
   "cell_type": "code",
   "execution_count": 17,
   "metadata": {},
   "outputs": [],
   "source": [
    "import matplotlib.pyplot as plt"
   ]
  },
  {
   "cell_type": "markdown",
   "metadata": {},
   "source": [
    "## matplotib\n",
    "an extensive package of plotting tools"
   ]
  },
  {
   "cell_type": "markdown",
   "metadata": {},
   "source": [
    "first, make some numpy nd arrays to plot. these are going to be:\n",
    "- ```x```: a 1D array increasing from 1.0 to 30.0, over 1000 data points\n",
    "- ```y```: a 1D array of a the sin(x), over 1000 data points"
   ]
  },
  {
   "cell_type": "code",
   "execution_count": 18,
   "metadata": {},
   "outputs": [],
   "source": [
    "x = np.linspace(1,30,1000)\n",
    "y = np.sin(x)"
   ]
  },
  {
   "cell_type": "markdown",
   "metadata": {},
   "source": [
    "now we can plot what ```x``` and ```y``` look like:"
   ]
  },
  {
   "cell_type": "code",
   "execution_count": 19,
   "metadata": {},
   "outputs": [
    {
     "data": {
      "text/plain": [
       "[<matplotlib.lines.Line2D at 0x27db59fb508>]"
      ]
     },
     "execution_count": 19,
     "metadata": {},
     "output_type": "execute_result"
    },
    {
     "data": {
      "image/png": "[encoded data removed]",
      "text/plain": [
       "<Figure size 432x288 with 1 Axes>"
      ]
     },
     "metadata": {
      "needs_background": "light"
     },
     "output_type": "display_data"
    }
   ],
   "source": [
    "plt.plot(x)"
   ]
  },
  {
   "cell_type": "code",
   "execution_count": 20,
   "metadata": {},
   "outputs": [
    {
     "data": {
      "text/plain": [
       "Text(0, 0.5, 'y data')"
      ]
     },
     "execution_count": 20,
     "metadata": {},
     "output_type": "execute_result"
    },
    {
     "data": {
      "image/png": "[encoded data removed]",
      "text/plain": [
       "<Figure size 432x288 with 1 Axes>"
      ]
     },
     "metadata": {
      "needs_background": "light"
     },
     "output_type": "display_data"
    }
   ],
   "source": [
    "plt.plot(x,y)\n",
    "plt.xlabel('x data')\n",
    "plt.ylabel('y data')"
   ]
  },
  {
   "cell_type": "markdown",
   "metadata": {},
   "source": [
    "and do some simple calculations on them:"
   ]
  },
  {
   "cell_type": "code",
   "execution_count": 21,
   "metadata": {},
   "outputs": [
    {
     "name": "stdout",
     "output_type": "stream",
     "text": [
      "mean: 0.013224572160721586\n",
      "s.d.: 0.7145770047302514\n"
     ]
    }
   ],
   "source": [
    "print('mean: '+str(np.mean(y)))\n",
    "print('s.d.: '+str(np.std(y)))"
   ]
  },
  {
   "cell_type": "markdown",
   "metadata": {},
   "source": [
    "we can also do more complicated measurements, like finding the area between two parts of a curve."
   ]
  },
  {
   "cell_type": "code",
   "execution_count": 22,
   "metadata": {},
   "outputs": [
    {
     "data": {
      "text/plain": [
       "Text(0, 0.5, 'y data')"
      ]
     },
     "execution_count": 22,
     "metadata": {},
     "output_type": "execute_result"
    },
    {
     "data": {
      "image/png": "[encoded data removed]",
      "text/plain": [
       "<Figure size 432x288 with 1 Axes>"
      ]
     },
     "metadata": {
      "needs_background": "light"
     },
     "output_type": "display_data"
    }
   ],
   "source": [
    "plt.plot(x,y)\n",
    "plt.axhline(np.mean(y),color='red')\n",
    "plt.axhline(np.std(y),color='pink');plt.axhline(np.std(y)*-1,color='pink')\n",
    "plt.xlabel('x data')\n",
    "plt.ylabel('y data')"
   ]
  },
  {
   "cell_type": "markdown",
   "metadata": {},
   "source": [
    "question: in what ranges of x is y above the s.d. of y?"
   ]
  },
  {
   "cell_type": "code",
   "execution_count": 23,
   "metadata": {},
   "outputs": [
    {
     "name": "stdout",
     "output_type": "stream",
     "text": [
      "[  0   1   2   3   4   5   6   7   8   9  10  11  12  13  14  15  16  17\n",
      "  18  19  20  21  22  23  24  25  26  27  28  29  30  31  32  33  34  35\n",
      "  36  37  38  39  40  41  42  43  44  45  46 210 211 212 213 214 215 216\n",
      " 217 218 219 220 221 222 223 224 225 226 227 228 229 230 231 232 233 234\n",
      " 235 236 237 238 239 240 241 242 243 244 245 246 247 248 249 250 251 252\n",
      " 253 254 255 256 257 258 259 260 261 262 426 427 428 429 430 431 432 433\n",
      " 434 435 436 437 438 439 440 441 442 443 444 445 446 447 448 449 450 451\n",
      " 452 453 454 455 456 457 458 459 460 461 462 463 464 465 466 467 468 469\n",
      " 470 471 472 473 474 475 476 477 478 479 643 644 645 646 647 648 649 650\n",
      " 651 652 653 654 655 656 657 658 659 660 661 662 663 664 665 666 667 668\n",
      " 669 670 671 672 673 674 675 676 677 678 679 680 681 682 683 684 685 686\n",
      " 687 688 689 690 691 692 693 694 695 859 860 861 862 863 864 865 866 867\n",
      " 868 869 870 871 872 873 874 875 876 877 878 879 880 881 882 883 884 885\n",
      " 886 887 888 889 890 891 892 893 894 895 896 897 898 899 900 901 902 903\n",
      " 904 905 906 907 908 909 910 911 912]\n"
     ]
    }
   ],
   "source": [
    "indices = np.where(y>np.std(y))[0]\n",
    "print(indices)"
   ]
  },
  {
   "cell_type": "code",
   "execution_count": 24,
   "metadata": {},
   "outputs": [
    {
     "data": {
      "text/plain": [
       "Text(0, 0.5, 'y data')"
      ]
     },
     "execution_count": 24,
     "metadata": {},
     "output_type": "execute_result"
    },
    {
     "data": {
      "image/png": "[encoded data removed]",
      "text/plain": [
       "<Figure size 432x288 with 1 Axes>"
      ]
     },
     "metadata": {
      "needs_background": "light"
     },
     "output_type": "display_data"
    }
   ],
   "source": [
    "plt.plot(x,y)\n",
    "\n",
    "plt.axhline(np.mean(y),color='red')\n",
    "plt.axhline(np.std(y),color='pink')\n",
    "plt.axhline(np.std(y)*-1,color='pink')\n",
    "\n",
    "plt.fill_between(x[indices], y[indices], np.std(y),color='pink')\n",
    "\n",
    "plt.xlabel('x data')\n",
    "plt.ylabel('y data')"
   ]
  },
  {
   "cell_type": "markdown",
   "metadata": {},
   "source": [
    "## Pandas\n",
    "The core data structure in ```pandas``` is a ```DataFrame```.<br>\n",
    "A ```DataFrame``` is essentially a nice table - you could think of it like Excel with simpler indexing and the ability to make any kind of plot your heart desires. "
   ]
  },
  {
   "cell_type": "code",
   "execution_count": 27,
   "metadata": {},
   "outputs": [],
   "source": [
    "import pandas as pd"
   ]
  },
  {
   "cell_type": "markdown",
   "metadata": {},
   "source": [
    "in fact we start with a nice function of pandas, ```read_csv```, which is importing a csv file (of the type you'd import into excel). note: you can also ```pd.read_excel``` to just read an .xlsx file!"
   ]
  },
  {
   "cell_type": "code",
   "execution_count": 34,
   "metadata": {},
   "outputs": [],
   "source": [
    "df_python = pd.read_csv(r'\\Users\\juans\\OneDrive\\Documents\\nrsc7610-master\\res\\timeline_python.csv',skiprows=1)\n",
    "df_matlab = pd.read_csv(r'\\Users\\juans\\OneDrive\\Documents\\nrsc7610-master\\res\\timeline_MATLAB.csv',skiprows=1)"
   ]
  },
  {
   "cell_type": "code",
   "execution_count": 35,
   "metadata": {},
   "outputs": [
    {
     "data": {
      "text/html": [
       "<div>\n",
       "<style scoped>\n",
       "    .dataframe tbody tr th:only-of-type {\n",
       "        vertical-align: middle;\n",
       "    }\n",
       "\n",
       "    .dataframe tbody tr th {\n",
       "        vertical-align: top;\n",
       "    }\n",
       "\n",
       "    .dataframe thead th {\n",
       "        text-align: right;\n",
       "    }\n",
       "</style>\n",
       "<table border=\"1\" class=\"dataframe\">\n",
       "  <thead>\n",
       "    <tr style=\"text-align: right;\">\n",
       "      <th></th>\n",
       "      <th>year</th>\n",
       "      <th>count</th>\n",
       "    </tr>\n",
       "  </thead>\n",
       "  <tbody>\n",
       "    <tr>\n",
       "      <th>0</th>\n",
       "      <td>2020</td>\n",
       "      <td>19</td>\n",
       "    </tr>\n",
       "    <tr>\n",
       "      <th>1</th>\n",
       "      <td>2019</td>\n",
       "      <td>697</td>\n",
       "    </tr>\n",
       "    <tr>\n",
       "      <th>2</th>\n",
       "      <td>2018</td>\n",
       "      <td>661</td>\n",
       "    </tr>\n",
       "    <tr>\n",
       "      <th>3</th>\n",
       "      <td>2017</td>\n",
       "      <td>588</td>\n",
       "    </tr>\n",
       "    <tr>\n",
       "      <th>4</th>\n",
       "      <td>2016</td>\n",
       "      <td>530</td>\n",
       "    </tr>\n",
       "  </tbody>\n",
       "</table>\n",
       "</div>"
      ],
      "text/plain": [
       "   year  count\n",
       "0  2020     19\n",
       "1  2019    697\n",
       "2  2018    661\n",
       "3  2017    588\n",
       "4  2016    530"
      ]
     },
     "execution_count": 35,
     "metadata": {},
     "output_type": "execute_result"
    }
   ],
   "source": [
    "df_matlab.head()"
   ]
  },
  {
   "cell_type": "markdown",
   "metadata": {},
   "source": [
    "add a column called 'language' to each, that notes what language each row of data corresponds to"
   ]
  },
  {
   "cell_type": "code",
   "execution_count": 36,
   "metadata": {},
   "outputs": [],
   "source": [
    "df_python['language']=['python']*df_python.shape[0]\n",
    "df_matlab['language']=['MATLAB']*df_matlab.shape[0]"
   ]
  },
  {
   "cell_type": "markdown",
   "metadata": {},
   "source": [
    "combine the DataFrames"
   ]
  },
  {
   "cell_type": "code",
   "execution_count": 37,
   "metadata": {},
   "outputs": [],
   "source": [
    "df = pd.concat((df_python,df_matlab),ignore_index=True)"
   ]
  },
  {
   "cell_type": "code",
   "execution_count": 38,
   "metadata": {},
   "outputs": [],
   "source": [
    "df = df[df.year < 2020]"
   ]
  },
  {
   "cell_type": "markdown",
   "metadata": {},
   "source": [
    "## seaborn\n",
    "for easy/pretty plotting with pandas"
   ]
  },
  {
   "cell_type": "code",
   "execution_count": 39,
   "metadata": {},
   "outputs": [],
   "source": [
    "import seaborn as sns"
   ]
  },
  {
   "cell_type": "code",
   "execution_count": 40,
   "metadata": {},
   "outputs": [
    {
     "data": {
      "text/plain": [
       "<matplotlib.axes._subplots.AxesSubplot at 0x27db9447148>"
      ]
     },
     "execution_count": 40,
     "metadata": {},
     "output_type": "execute_result"
    },
    {
     "data": {
      "image/png": "[encoded data removed]",
      "text/plain": [
       "<Figure size 432x288 with 1 Axes>"
      ]
     },
     "metadata": {
      "needs_background": "light"
     },
     "output_type": "display_data"
    }
   ],
   "source": [
    "sns.lineplot(data=df,x='year',y='count',hue='language')"
   ]
  },
  {
   "cell_type": "markdown",
   "metadata": {},
   "source": [
    "this seems silly to look back that far - let's limit to after python was developed, 1991:"
   ]
  },
  {
   "cell_type": "code",
   "execution_count": null,
   "metadata": {},
   "outputs": [],
   "source": []
  },
  {
   "cell_type": "markdown",
   "metadata": {},
   "source": [
    "also, we'll flip the order:"
   ]
  },
  {
   "cell_type": "code",
   "execution_count": 41,
   "metadata": {},
   "outputs": [
    {
     "data": {
      "text/plain": [
       "<matplotlib.axes._subplots.AxesSubplot at 0x27db9430ec8>"
      ]
     },
     "execution_count": 41,
     "metadata": {},
     "output_type": "execute_result"
    },
    {
     "data": {
      "image/png": "[encoded data removed]",
      "text/plain": [
       "<Figure size 432x288 with 1 Axes>"
      ]
     },
     "metadata": {
      "needs_background": "light"
     },
     "output_type": "display_data"
    }
   ],
   "source": [
    "sns.lineplot(data=df,x='year',y='count',hue='language',hue_order=['MATLAB','python'])"
   ]
  },
  {
   "cell_type": "markdown",
   "metadata": {},
   "source": [
    "you can of course control every aspect of these plots. for example, colors!"
   ]
  },
  {
   "cell_type": "code",
   "execution_count": 42,
   "metadata": {},
   "outputs": [
    {
     "data": {
      "text/plain": [
       "<matplotlib.axes._subplots.AxesSubplot at 0x27db9588108>"
      ]
     },
     "execution_count": 42,
     "metadata": {},
     "output_type": "execute_result"
    },
    {
     "data": {
      "image/png": "[encoded data removed]",
      "text/plain": [
       "<Figure size 432x288 with 1 Axes>"
      ]
     },
     "metadata": {
      "needs_background": "light"
     },
     "output_type": "display_data"
    }
   ],
   "source": [
    "sns.set_palette(sns.color_palette('colorblind')[::-1])\n",
    "sns.lineplot(data=df,x='year',y='count',hue='language',hue_order=['MATLAB','python'])"
   ]
  },
  {
   "cell_type": "code",
   "execution_count": null,
   "metadata": {},
   "outputs": [],
   "source": []
  },
  {
   "cell_type": "markdown",
   "metadata": {},
   "source": [
    "## Flow control\n",
    "To script things (make function, automate the boring stuff, etc), we need to know the syntax for \"flow control\". This means things like ```if``` statements and ```for``` loops. We'll do examples of those, as well as put some of that into a function we define.\n",
    "<br><br>\n",
    "Let's go back to a variabile we had before, ```group_of_things```"
   ]
  },
  {
   "cell_type": "code",
   "execution_count": 71,
   "metadata": {},
   "outputs": [
    {
     "data": {
      "text/plain": [
       "[12, 'a', 3.0, 'denmanlab', 'python']"
      ]
     },
     "execution_count": 71,
     "metadata": {},
     "output_type": "execute_result"
    }
   ],
   "source": [
    "group_of_things"
   ]
  },
  {
   "cell_type": "code",
   "execution_count": 79,
   "metadata": {},
   "outputs": [
    {
     "data": {
      "text/plain": [
       "str"
      ]
     },
     "execution_count": 79,
     "metadata": {},
     "output_type": "execute_result"
    }
   ],
   "source": [
    "type(group_of_things[1])"
   ]
  },
  {
   "cell_type": "markdown",
   "metadata": {},
   "source": [
    "Let's say we want to print only the non-string things in ```group of things```. We'll make a ```for``` loop with an ```if``` statement"
   ]
  },
  {
   "cell_type": "code",
   "execution_count": 80,
   "metadata": {},
   "outputs": [
    {
     "name": "stdout",
     "output_type": "stream",
     "text": [
      "12\n",
      "3.0\n"
     ]
    }
   ],
   "source": [
    "for x in group_of_things: \n",
    "    if type(x)!=str:\n",
    "        print(x)  "
   ]
  },
  {
   "cell_type": "markdown",
   "metadata": {},
   "source": [
    "What if we want to do the same thing for a different list? "
   ]
  },
  {
   "cell_type": "code",
   "execution_count": 72,
   "metadata": {},
   "outputs": [
    {
     "name": "stdout",
     "output_type": "stream",
     "text": [
      "[12, 3.0, 9, [12, 'a', 3.0, 'denmanlab', 'python']]\n"
     ]
    }
   ],
   "source": [
    "another_list = list(dict_of_things.values())\n",
    "print(another_list)"
   ]
  },
  {
   "cell_type": "markdown",
   "metadata": {},
   "source": [
    "we could copy and paste, or we could put the flow control we have already written in a function:"
   ]
  },
  {
   "cell_type": "code",
   "execution_count": 82,
   "metadata": {},
   "outputs": [
    {
     "name": "stdout",
     "output_type": "stream",
     "text": [
      "12\n",
      "3.0\n",
      "9\n",
      "[12, 'a', 3.0, 'denmanlab', 'python']\n"
     ]
    }
   ],
   "source": [
    "for x in another_list: \n",
    "    if type(x)!=str:\n",
    "        print(x)  "
   ]
  },
  {
   "cell_type": "code",
   "execution_count": null,
   "metadata": {},
   "outputs": [],
   "source": []
  }
 ],
 "metadata": {
  "kernelspec": {
   "display_name": "Python 3",
   "language": "python",
   "name": "python3"
  },
  "language_info": {
   "codemirror_mode": {
    "name": "ipython",
    "version": 3
   },
   "file_extension": ".py",
   "mimetype": "text/x-python",
   "name": "python",
   "nbconvert_exporter": "python",
   "pygments_lexer": "ipython3",
   "version": "3.7.6"
  }
 },
 "nbformat": 4,
 "nbformat_minor": 4
}

{
 "cells": [
  {
   "cell_type": "code",
   "execution_count": 1,
   "metadata": {},
   "outputs": [],
   "source": [
    "import pickle\n",
    "\n",
    "with open(r\"E:\\20200703_C9_BC_g0\\stimulus\\200703115841-gratings_orientation-C9.pkl\", 'rb') as f:\n",
    "    data = pickle.load(f)"
   ]
  },
  {
   "cell_type": "code",
   "execution_count": 55,
   "metadata": {},
   "outputs": [
    {
     "data": {
      "text/plain": [
       "dict_keys(['window', 'params', 'showmouse', 'fps', 'degreemode', 'domain', 'miniwindow', 'script', 'wwidth', 'wheight', 'monitor', 'vsynccount', 'stimuli', 'runs', 'shuffle', 'preexpsec', 'postexpsec', 'postsweepsec', 'sweeplength', 'blanksweeps', 'logdir', 'backupdir', 'mouseid', 'userid', 'nidevice', 'bgcolor', 'syncsqr', 'syncsqrloc', 'syncsqrfreq', 'syncsqrcolorsequence', 'syncpulse', 'syncpulseport', 'syncpulselines', 'trigger', 'triggerdiport', 'triggerdiline', 'savesweeptable', 'eyetracker', 'syncsqrBit', 'sweepsdisplayed', 'errors', 'bgSweep', 'fgSweep', 'bgFrame', 'fgFrame', 'bgsweeptable', 'bgsweeporder', 'bgdimnames', 'fgsweeptable', 'fgsweeporder', 'fgdimnames', 'bgStim', 'fgStim', 'do', 'sweepBit', 'frameBit', 'startdatetime', 'starttime', 'stoptime', 'stopdatetime', 'intervalsms', 'droppedframes', 'scripttext', 'platform', 'vsyncintervals', 'bgsweepframes', 'keys', 'unpickleable'])"
      ]
     },
     "execution_count": 55,
     "metadata": {},
     "output_type": "execute_result"
    }
   ],
   "source": [
    "data.keys()"
   ]
  },
  {
   "cell_type": "code",
   "execution_count": 57,
   "metadata": {},
   "outputs": [
    {
     "name": "stdout",
     "output_type": "stream",
     "text": [
      "Window(allowGUI=True, allowStencil=False, args=UNKNOWN, autoLog=True, bitsMode=UNKNOWN, blendMode='avg', color=array([0., 0., 0.]), colorSpace='rgb', fullscr=<method-wrapper '__getattribute__' of attributeSetter object at 0x0000028793A1A088>, gamma=None, gammaErrorPolicy='raise', kwargs=UNKNOWN, lms=UNKNOWN, monitor=<psychopy.monitors.calibTools.Monitor object at 0x00000287962C6E88>, multiSample=False, name='window1', numSamples=2, pos=[0.0, 0.0], screen=1, size=array([1024,  768]), stereo=False, units='norm', useFBO=True, useRetina=False, viewOri=0.0, viewPos=None, viewScale=None, waitBlanking=True, winType='pyglet')\n"
     ]
    }
   ],
   "source": [
    "print(data['window'])"
   ]
  },
  {
   "cell_type": "code",
   "execution_count": 56,
   "metadata": {
    "scrolled": true
   },
   "outputs": [
    {
     "name": "stdout",
     "output_type": "stream",
     "text": [
      "{'runs': 10, 'shuffle': True, 'preexpsec': 5, 'postexpsec': 2, 'sweeplength': 2, 'postsweepsec': 1.0, 'syncsqr': False, 'syncsqrloc': (30, 200), 'syncsqrfreq': 60, 'syncsqrcolorsequence': [-1, 1], 'nidevice': 'Dev1', 'syncpulse': True, 'doport': 0, 'invertdo': True, 'diport': 2, 'syncpulselines': [1, 2], 'eyetracker': False, 'eyetrackerip': 'W7DTMJ82MX5', 'eyetrackerport': 10000, 'mouseid': 'C9'}\n"
     ]
    }
   ],
   "source": [
    "print(data['params'])"
   ]
  },
  {
   "cell_type": "code",
   "execution_count": 96,
   "metadata": {},
   "outputs": [
    {
     "name": "stdout",
     "output_type": "stream",
     "text": [
      "[1, 2]\n"
     ]
    }
   ],
   "source": [
    "print(data['params']['syncpulselines'])"
   ]
  },
  {
   "cell_type": "code",
   "execution_count": 58,
   "metadata": {},
   "outputs": [
    {
     "name": "stdout",
     "output_type": "stream",
     "text": [
      "60.0\n"
     ]
    }
   ],
   "source": [
    "print(data['fps'])"
   ]
  },
  {
   "cell_type": "code",
   "execution_count": 59,
   "metadata": {},
   "outputs": [
    {
     "name": "stdout",
     "output_type": "stream",
     "text": [
      "arc\n"
     ]
    }
   ],
   "source": [
    "print(data['degreemode'])"
   ]
  },
  {
   "cell_type": "code",
   "execution_count": 61,
   "metadata": {},
   "outputs": [
    {
     "name": "stdout",
     "output_type": "stream",
     "text": [
      "10\n"
     ]
    }
   ],
   "source": [
    "print(data['runs'])"
   ]
  },
  {
   "cell_type": "code",
   "execution_count": 62,
   "metadata": {},
   "outputs": [
    {
     "name": "stdout",
     "output_type": "stream",
     "text": [
      "5\n"
     ]
    }
   ],
   "source": [
    "print(data['preexpsec'])"
   ]
  },
  {
   "cell_type": "code",
   "execution_count": 63,
   "metadata": {},
   "outputs": [
    {
     "name": "stdout",
     "output_type": "stream",
     "text": [
      "2\n"
     ]
    }
   ],
   "source": [
    "print(data['sweeplength'])"
   ]
  },
  {
   "cell_type": "code",
   "execution_count": 65,
   "metadata": {},
   "outputs": [
    {
     "name": "stdout",
     "output_type": "stream",
     "text": [
      "Dev1\n"
     ]
    }
   ],
   "source": [
    "print(data['nidevice'])"
   ]
  },
  {
   "cell_type": "code",
   "execution_count": 68,
   "metadata": {},
   "outputs": [
    {
     "name": "stdout",
     "output_type": "stream",
     "text": [
      "(30, 200)\n"
     ]
    }
   ],
   "source": [
    "print(data['syncsqrloc'])"
   ]
  },
  {
   "cell_type": "code",
   "execution_count": 69,
   "metadata": {},
   "outputs": [
    {
     "name": "stdout",
     "output_type": "stream",
     "text": [
      "60\n"
     ]
    }
   ],
   "source": [
    "print(data['syncsqrfreq'])"
   ]
  },
  {
   "cell_type": "code",
   "execution_count": 70,
   "metadata": {},
   "outputs": [
    {
     "name": "stdout",
     "output_type": "stream",
     "text": [
      "[-1, 1]\n"
     ]
    }
   ],
   "source": [
    "print(data['syncsqrcolorsequence'])"
   ]
  },
  {
   "cell_type": "code",
   "execution_count": 72,
   "metadata": {},
   "outputs": [
    {
     "name": "stdout",
     "output_type": "stream",
     "text": [
      "0\n"
     ]
    }
   ],
   "source": [
    "print(data['syncpulseport'])"
   ]
  },
  {
   "cell_type": "code",
   "execution_count": 73,
   "metadata": {},
   "outputs": [
    {
     "name": "stdout",
     "output_type": "stream",
     "text": [
      "[1, 2]\n"
     ]
    }
   ],
   "source": [
    "print(data['syncpulselines'])"
   ]
  },
  {
   "cell_type": "code",
   "execution_count": 77,
   "metadata": {},
   "outputs": [
    {
     "name": "stdout",
     "output_type": "stream",
     "text": [
      "220\n"
     ]
    }
   ],
   "source": [
    "print(data['sweepsdisplayed'])"
   ]
  },
  {
   "cell_type": "code",
   "execution_count": 78,
   "metadata": {},
   "outputs": [
    {
     "name": "stdout",
     "output_type": "stream",
     "text": [
      "{'Ori': ([0, 30, 60, 90, 120, 180, 210, 240, 270, 300, 330], 6), 'SF': ([0.08, 0.16], 3), 'Contrast': ([1], 0), 'TF': ([2], 2), 'Phase': ([0], 4), 'PosX': ([0], 5), 'PosY': ([0], 1)}\n"
     ]
    }
   ],
   "source": [
    "print(data['bgSweep'])"
   ]
  },
  {
   "cell_type": "code",
   "execution_count": 80,
   "metadata": {},
   "outputs": [
    {
     "name": "stdout",
     "output_type": "stream",
     "text": [
      "{'TF': 2}\n"
     ]
    }
   ],
   "source": [
    "print(data['bgFrame'])"
   ]
  },
  {
   "cell_type": "code",
   "execution_count": 10,
   "metadata": {},
   "outputs": [
    {
     "data": {
      "text/plain": [
       "[(1, 0, 2, 0.08, 0, 0, 0),\n",
       " (1, 0, 2, 0.08, 0, 0, 30),\n",
       " (1, 0, 2, 0.08, 0, 0, 60),\n",
       " (1, 0, 2, 0.08, 0, 0, 90),\n",
       " (1, 0, 2, 0.08, 0, 0, 120),\n",
       " (1, 0, 2, 0.08, 0, 0, 180),\n",
       " (1, 0, 2, 0.08, 0, 0, 210),\n",
       " (1, 0, 2, 0.08, 0, 0, 240),\n",
       " (1, 0, 2, 0.08, 0, 0, 270),\n",
       " (1, 0, 2, 0.08, 0, 0, 300),\n",
       " (1, 0, 2, 0.08, 0, 0, 330),\n",
       " (1, 0, 2, 0.16, 0, 0, 0),\n",
       " (1, 0, 2, 0.16, 0, 0, 30),\n",
       " (1, 0, 2, 0.16, 0, 0, 60),\n",
       " (1, 0, 2, 0.16, 0, 0, 90),\n",
       " (1, 0, 2, 0.16, 0, 0, 120),\n",
       " (1, 0, 2, 0.16, 0, 0, 180),\n",
       " (1, 0, 2, 0.16, 0, 0, 210),\n",
       " (1, 0, 2, 0.16, 0, 0, 240),\n",
       " (1, 0, 2, 0.16, 0, 0, 270),\n",
       " (1, 0, 2, 0.16, 0, 0, 300),\n",
       " (1, 0, 2, 0.16, 0, 0, 330)]"
      ]
     },
     "execution_count": 10,
     "metadata": {},
     "output_type": "execute_result"
    }
   ],
   "source": [
    "# List of tuples with all ossible stim combinations\n",
    "data['bgsweeptable']"
   ]
  },
  {
   "cell_type": "code",
   "execution_count": 48,
   "metadata": {},
   "outputs": [
    {
     "name": "stdout",
     "output_type": "stream",
     "text": [
      "[21, 8, 7, 2, 8, 3, 21, 5, 4, 0, 14, 9, 15, 7, 15, 11, 11, 0, 20, 20, 4, 20, 10, 9, 13, 4, 14, 21, 11, 21, 12, 6, 18, 4, 6, 18, 19, 1, 17, 17, 1, 20, 19, 0, 3, 10, 20, 3, 18, 14, 19, 1, 18, 9, 9, 16, 7, 19, 3, 15, 21, 9, 15, 8, 11, 18, 20, 15, 17, 15, 10, 12, 9, 11, 12, 13, 10, 10, 3, 17, 16, 13, 18, 9, 1, 1, 2, 13, 21, 7, 7, 14, 10, 17, 8, 6, 18, 18, 14, 2, 8, 7, 4, 21, 10, 12, 4, 9, 4, 2, 6, 16, 18, 18, 5, 1, 11, 13, 14, 0, 16, 14, 7, 10, 20, 13, 11, 12, 2, 8, 8, 5, 16, 14, 15, 12, 3, 11, 20, 20, 5, 1, 8, 21, 4, 16, 19, 1, 8, 1, 17, 11, 19, 11, 10, 5, 15, 14, 1, 3, 5, 3, 17, 10, 5, 19, 3, 7, 19, 12, 12, 2, 15, 17, 21, 9, 16, 15, 7, 13, 0, 6, 19, 4, 0, 5, 2, 16, 6, 0, 4, 6, 13, 6, 5, 5, 21, 0, 2, 20, 2, 16, 17, 0, 3, 8, 17, 13, 12, 12, 2, 13, 0, 6, 6, 7, 9, 19, 14, 16]\n"
     ]
    }
   ],
   "source": [
    "#order of stimuli presented\n",
    "print(data['bgsweeporder'])"
   ]
  },
  {
   "cell_type": "code",
   "execution_count": 83,
   "metadata": {},
   "outputs": [
    {
     "name": "stdout",
     "output_type": "stream",
     "text": [
      "['Contrast', 'PosY', 'TF', 'SF', 'Phase', 'PosX', 'Ori']\n"
     ]
    }
   ],
   "source": [
    "print(data['bgdimnames'])"
   ]
  },
  {
   "cell_type": "code",
   "execution_count": 85,
   "metadata": {},
   "outputs": [
    {
     "name": "stdout",
     "output_type": "stream",
     "text": [
      "GratingStim(__class__=<class 'psychopy.visual.grating.GratingStim'>, autoDraw=False, autoLog=True, blendmode='avg', color=array([1., 1., 1.]), colorSpace='rgb', contrast=1.0, depth=0, interpolate=False, mask='raisedCos', maskParams=None, name='unnamed GratingStim', opacity=1.0, ori=180.0, phase=array([3.96666667, 3.96666667]), pos=array([0., 0.]), rgbPedestal=array([0., 0., 0.]), sf=array([0.16, 0.16]), size=array([1024.,  768.]), tex='sqr', texRes=256, units='deg', win=Window(...))\n"
     ]
    }
   ],
   "source": [
    "print(data['bgStim'])"
   ]
  },
  {
   "cell_type": "code",
   "execution_count": 5,
   "metadata": {},
   "outputs": [
    {
     "ename": "AttributeError",
     "evalue": "'list' object has no attribute 'units'",
     "output_type": "error",
     "traceback": [
      "\u001b[1;31m---------------------------------------------------------------------------\u001b[0m",
      "\u001b[1;31mAttributeError\u001b[0m                            Traceback (most recent call last)",
      "\u001b[1;32m<ipython-input-5-40cc9ddfc64f>\u001b[0m in \u001b[0;36m<module>\u001b[1;34m\u001b[0m\n\u001b[0;32m      1\u001b[0m \u001b[0mbgStim\u001b[0m \u001b[1;33m=\u001b[0m \u001b[0mdata\u001b[0m\u001b[1;33m[\u001b[0m\u001b[1;34m'bgStim'\u001b[0m\u001b[1;33m]\u001b[0m\u001b[1;33m.\u001b[0m\u001b[0msplit\u001b[0m\u001b[1;33m(\u001b[0m\u001b[1;34m','\u001b[0m\u001b[1;33m)\u001b[0m\u001b[1;33m\u001b[0m\u001b[1;33m\u001b[0m\u001b[0m\n\u001b[1;32m----> 2\u001b[1;33m \u001b[0mbgStim\u001b[0m\u001b[1;33m.\u001b[0m\u001b[0munits\u001b[0m\u001b[1;33m\u001b[0m\u001b[1;33m\u001b[0m\u001b[0m\n\u001b[0m",
      "\u001b[1;31mAttributeError\u001b[0m: 'list' object has no attribute 'units'"
     ]
    }
   ],
   "source": [
    "bgStim = data['bgStim'].split(',')\n"
   ]
  },
  {
   "cell_type": "code",
   "execution_count": 104,
   "metadata": {},
   "outputs": [
    {
     "data": {
      "text/plain": [
       "str"
      ]
     },
     "execution_count": 104,
     "metadata": {},
     "output_type": "execute_result"
    }
   ],
   "source": [
    "type(data['bgStim'])"
   ]
  },
  {
   "cell_type": "code",
   "execution_count": 87,
   "metadata": {},
   "outputs": [
    {
     "name": "stdout",
     "output_type": "stream",
     "text": [
      "1\n"
     ]
    }
   ],
   "source": [
    "print(data['sweepBit'])"
   ]
  },
  {
   "cell_type": "code",
   "execution_count": 88,
   "metadata": {},
   "outputs": [
    {
     "name": "stdout",
     "output_type": "stream",
     "text": [
      "2\n"
     ]
    }
   ],
   "source": [
    "print(data['frameBit'])"
   ]
  },
  {
   "cell_type": "code",
   "execution_count": 42,
   "metadata": {},
   "outputs": [
    {
     "name": "stdout",
     "output_type": "stream",
     "text": [
      "3.5244411\n"
     ]
    }
   ],
   "source": [
    "print(data['starttime'])"
   ]
  },
  {
   "cell_type": "code",
   "execution_count": 89,
   "metadata": {},
   "outputs": [
    {
     "name": "stdout",
     "output_type": "stream",
     "text": [
      "670.4834934\n"
     ]
    }
   ],
   "source": [
    "print(data['stoptime'])"
   ]
  },
  {
   "cell_type": "code",
   "execution_count": 90,
   "metadata": {},
   "outputs": [
    {
     "name": "stdout",
     "output_type": "stream",
     "text": [
      "[16.47519995 16.67000004 16.67979988 ... 16.64609998 16.60540001\n",
      " 16.86739991]\n"
     ]
    }
   ],
   "source": [
    "print(data['intervalsms'])"
   ]
  },
  {
   "cell_type": "code",
   "execution_count": 93,
   "metadata": {},
   "outputs": [
    {
     "name": "stdout",
     "output_type": "stream",
     "text": [
      "\"\"\"\n",
      "\n",
      "gratingsexp.py\n",
      "\n",
      "@author: derricw\n",
      "\n",
      "updaded: 2014/6/8\n",
      "\n",
      "This is an example of a grating stimulus that varies is screen location and\n",
      "    orientation.  It also features a sync square that flashes black to white\n",
      "    every 60 frames.\n",
      "\n",
      "\"\"\"\n",
      "\n",
      "from aibs.SweepStim import SweepStim\n",
      "from psychopy import visual\n",
      "from aibs.Projector.ProjectorWindow import *\n",
      "from psychopy.visual.windowwarp import Warper\n",
      "\n",
      "params = {\n",
      "    'runs': 10,  # number of runs\n",
      "    'shuffle': True,  # shuffle sweep tables\n",
      "    'preexpsec': 5,  # seconds at the start of the experiment\n",
      "    'postexpsec': 2,  # seconds at the end of the experiment\n",
      "    'sweeplength': 2,  # length of sweeps\n",
      "    'postsweepsec': 1.,  # black period after sweeps (foreground remains)\n",
      "    'syncsqr': False,  # display a flashing square for synchronization\n",
      "    'syncsqrloc': (30, 200),\n",
      "    'syncsqrfreq': 60,  # square flips from black to white every x frames\n",
      "    'syncsqrcolorsequence': [-1, 1],\n",
      "    'nidevice': 'Dev1',\n",
      "    'syncpulse':True,\n",
      "    'doport':0,\n",
      "    'invertdo':True,\n",
      "    'diport':2, #ignored by SweepStim line 195 in _setupDAQ, djd 2020 06 29\n",
      "    'syncpulselines':[1,2],\n",
      "    'eyetracker':False,\n",
      "    'eyetrackerip': \"W7DTMJ82MX5\", \n",
      "    'eyetrackerport': 10000,\n",
      "    'mouseid': 'C9',\n",
      "    }\n",
      "\n",
      "#INITIALIZE WINDOWS\n",
      "#WINDOW\n",
      "settings = WindowSettingsFromStimCfg()\n",
      "mon = monitors.Monitor('uvprojector',width=115.2,distance=30,gamma=None,notes=None,useBits=None,verbose=True)\n",
      "mon.setSizePix([1024,768])\n",
      "win =  visual.Window(monitor = 'testMonitor',color=(0,0,0),screen=1,fullscr=True,useFBO=True)\n",
      "warper = Warper(win, warpfile=r'C:\\Users\\denma\\Desktop\\dan\\warps\\uvProjector2_Warp2.data',\n",
      "                                warp='warpfile',flipHorizontal=True)\n",
      "\n",
      "#CREATE BACKGROUND STIMULUS\n",
      "grating = visual.GratingStim(win, tex=\"sqr\", mask='raisedCos', texRes=256,\n",
      "                             size=[1024, 768], sf=1, ori=0, units='deg',\n",
      "                             )\n",
      "\n",
      "#CREATE BACKGROUND SWEEP PARAMETERS ([possible_values], column_in_table)\n",
      "bgSweep = {\n",
      "    'Ori': ([0,30,60,90,120,180,210,240,270,300,330], 6),\n",
      "    'SF': ([0.08,0.16], 3),\n",
      "    'Contrast': ([1], 0),\n",
      "    'TF': ([2], 2),\n",
      "    'Phase': ([0], 4),\n",
      "    'PosX': ([0], 5),\n",
      "    'PosY': ([0], 1),\n",
      "    }\n",
      "#CREATE FORAGING CLASS INSTANCE\n",
      "g = SweepStim(window=win, params=params, bgStim=grating, bgSweep=bgSweep)\n",
      "#RUN IT\n",
      "g.run()\n",
      "\n"
     ]
    }
   ],
   "source": [
    "print(data['scripttext'])"
   ]
  },
  {
   "cell_type": "code",
   "execution_count": 94,
   "metadata": {},
   "outputs": [
    {
     "name": "stdout",
     "output_type": "stream",
     "text": [
      "[16.47519995 16.67000004 16.67979988 ... 16.64609998 16.60540001\n",
      " 16.86739991]\n"
     ]
    }
   ],
   "source": [
    "print(data['vsyncintervals'])"
   ]
  },
  {
   "cell_type": "code",
   "execution_count": 9,
   "metadata": {},
   "outputs": [
    {
     "ename": "NameError",
     "evalue": "name 'np' is not defined",
     "output_type": "error",
     "traceback": [
      "\u001b[1;31m---------------------------------------------------------------------------\u001b[0m",
      "\u001b[1;31mNameError\u001b[0m                                 Traceback (most recent call last)",
      "\u001b[1;32m<ipython-input-9-3207b7d08a52>\u001b[0m in \u001b[0;36m<module>\u001b[1;34m\u001b[0m\n\u001b[1;32m----> 1\u001b[1;33m \u001b[0mnp\u001b[0m\u001b[1;33m.\u001b[0m\u001b[0masarray\u001b[0m\u001b[1;33m(\u001b[0m\u001b[0mdata\u001b[0m\u001b[1;33m[\u001b[0m\u001b[1;34m'bgStim'\u001b[0m\u001b[1;33m]\u001b[0m\u001b[1;33m)\u001b[0m\u001b[1;33m.\u001b[0m\u001b[0mshape\u001b[0m\u001b[1;33m(\u001b[0m\u001b[1;33m)\u001b[0m\u001b[1;33m\u001b[0m\u001b[1;33m\u001b[0m\u001b[0m\n\u001b[0m\u001b[0;32m      2\u001b[0m \u001b[0mprint\u001b[0m\u001b[1;33m(\u001b[0m\u001b[0mdata\u001b[0m\u001b[1;33m[\u001b[0m\u001b[1;34m'bgsweepframes'\u001b[0m\u001b[1;33m]\u001b[0m\u001b[1;33m)\u001b[0m\u001b[1;33m\u001b[0m\u001b[1;33m\u001b[0m\u001b[0m\n",
      "\u001b[1;31mNameError\u001b[0m: name 'np' is not defined"
     ]
    }
   ],
   "source": [
    "np.asarray(data['bgStim']).shape()\n",
    "print(data['bgsweepframes'])"
   ]
  },
  {
   "cell_type": "code",
   "execution_count": 42,
   "metadata": {},
   "outputs": [
    {
     "name": "stdout",
     "output_type": "stream",
     "text": [
      "    contrast  posY  TF    SF  phase  posX  ori  order\n",
      "0          1     0   2  0.08      0     0    0      0\n",
      "1          1     0   2  0.08      0     0   30      1\n",
      "2          1     0   2  0.08      0     0   60      2\n",
      "3          1     0   2  0.08      0     0   90      3\n",
      "4          1     0   2  0.08      0     0  120      4\n",
      "5          1     0   2  0.08      0     0  180      5\n",
      "6          1     0   2  0.08      0     0  210      6\n",
      "7          1     0   2  0.08      0     0  240      7\n",
      "8          1     0   2  0.08      0     0  270      8\n",
      "9          1     0   2  0.08      0     0  300      9\n",
      "10         1     0   2  0.08      0     0  330     10\n",
      "11         1     0   2  0.16      0     0    0     11\n",
      "12         1     0   2  0.16      0     0   30     12\n",
      "13         1     0   2  0.16      0     0   60     13\n",
      "14         1     0   2  0.16      0     0   90     14\n",
      "15         1     0   2  0.16      0     0  120     15\n",
      "16         1     0   2  0.16      0     0  180     16\n",
      "17         1     0   2  0.16      0     0  210     17\n",
      "18         1     0   2  0.16      0     0  240     18\n",
      "19         1     0   2  0.16      0     0  270     19\n",
      "20         1     0   2  0.16      0     0  300     20\n",
      "21         1     0   2  0.16      0     0  330     21\n"
     ]
    }
   ],
   "source": [
    "import pandas as pd\n",
    "df = pd.DataFrame(data['bgsweeptable'], columns = ['contrast', 'posY', 'TF', 'SF', 'phase', 'posX', 'ori'])\n",
    "df['order'] = df.index\n",
    "print(df)"
   ]
  },
  {
   "cell_type": "code",
   "execution_count": 16,
   "metadata": {
    "scrolled": true
   },
   "outputs": [
    {
     "name": "stdout",
     "output_type": "stream",
     "text": [
      "     order\n",
      "0       21\n",
      "1        8\n",
      "2        7\n",
      "3        2\n",
      "4        8\n",
      "..     ...\n",
      "215      7\n",
      "216      9\n",
      "217     19\n",
      "218     14\n",
      "219     16\n",
      "\n",
      "[220 rows x 1 columns]\n"
     ]
    }
   ],
   "source": [
    "df2 = pd.DataFrame(data['bgsweeporder'], columns = ['order'])\n",
    "print(df2)"
   ]
  },
  {
   "cell_type": "code",
   "execution_count": 51,
   "metadata": {},
   "outputs": [
    {
     "name": "stdout",
     "output_type": "stream",
     "text": [
      "     order  contrast  posY  TF    SF  phase  posX  ori\n",
      "0       21         1     0   2  0.16      0     0  330\n",
      "1        8         1     0   2  0.08      0     0  270\n",
      "2        7         1     0   2  0.08      0     0  240\n",
      "3        2         1     0   2  0.08      0     0   60\n",
      "4        8         1     0   2  0.08      0     0  270\n",
      "..     ...       ...   ...  ..   ...    ...   ...  ...\n",
      "215      7         1     0   2  0.08      0     0  240\n",
      "216      9         1     0   2  0.08      0     0  300\n",
      "217     19         1     0   2  0.16      0     0  270\n",
      "218     14         1     0   2  0.16      0     0   90\n",
      "219     16         1     0   2  0.16      0     0  180\n",
      "\n",
      "[220 rows x 8 columns]\n"
     ]
    }
   ],
   "source": [
    "gratori_df = pd.merge(left = df2, \n",
    "                      right = df, \n",
    "                      on = 'order', \n",
    "                      sort = False, \n",
    "                      how = 'left'\n",
    "                     )\n",
    "print(gratori_df)"
   ]
  },
  {
   "cell_type": "code",
   "execution_count": 64,
   "metadata": {},
   "outputs": [],
   "source": [
    "gratori_list = gratori_df.iloc[:,1:7].values.tolist()"
   ]
  },
  {
   "cell_type": "code",
   "execution_count": 65,
   "metadata": {},
   "outputs": [
    {
     "name": "stdout",
     "output_type": "stream",
     "text": [
      "[[1.0, 0.0, 2.0, 0.16, 0.0, 0.0], [1.0, 0.0, 2.0, 0.08, 0.0, 0.0], [1.0, 0.0, 2.0, 0.08, 0.0, 0.0], [1.0, 0.0, 2.0, 0.08, 0.0, 0.0], [1.0, 0.0, 2.0, 0.08, 0.0, 0.0], [1.0, 0.0, 2.0, 0.08, 0.0, 0.0], [1.0, 0.0, 2.0, 0.16, 0.0, 0.0], [1.0, 0.0, 2.0, 0.08, 0.0, 0.0], [1.0, 0.0, 2.0, 0.08, 0.0, 0.0], [1.0, 0.0, 2.0, 0.08, 0.0, 0.0], [1.0, 0.0, 2.0, 0.16, 0.0, 0.0], [1.0, 0.0, 2.0, 0.08, 0.0, 0.0], [1.0, 0.0, 2.0, 0.16, 0.0, 0.0], [1.0, 0.0, 2.0, 0.08, 0.0, 0.0], [1.0, 0.0, 2.0, 0.16, 0.0, 0.0], [1.0, 0.0, 2.0, 0.16, 0.0, 0.0], [1.0, 0.0, 2.0, 0.16, 0.0, 0.0], [1.0, 0.0, 2.0, 0.08, 0.0, 0.0], [1.0, 0.0, 2.0, 0.16, 0.0, 0.0], [1.0, 0.0, 2.0, 0.16, 0.0, 0.0], [1.0, 0.0, 2.0, 0.08, 0.0, 0.0], [1.0, 0.0, 2.0, 0.16, 0.0, 0.0], [1.0, 0.0, 2.0, 0.08, 0.0, 0.0], [1.0, 0.0, 2.0, 0.08, 0.0, 0.0], [1.0, 0.0, 2.0, 0.16, 0.0, 0.0], [1.0, 0.0, 2.0, 0.08, 0.0, 0.0], [1.0, 0.0, 2.0, 0.16, 0.0, 0.0], [1.0, 0.0, 2.0, 0.16, 0.0, 0.0], [1.0, 0.0, 2.0, 0.16, 0.0, 0.0], [1.0, 0.0, 2.0, 0.16, 0.0, 0.0], [1.0, 0.0, 2.0, 0.16, 0.0, 0.0], [1.0, 0.0, 2.0, 0.08, 0.0, 0.0], [1.0, 0.0, 2.0, 0.16, 0.0, 0.0], [1.0, 0.0, 2.0, 0.08, 0.0, 0.0], [1.0, 0.0, 2.0, 0.08, 0.0, 0.0], [1.0, 0.0, 2.0, 0.16, 0.0, 0.0], [1.0, 0.0, 2.0, 0.16, 0.0, 0.0], [1.0, 0.0, 2.0, 0.08, 0.0, 0.0], [1.0, 0.0, 2.0, 0.16, 0.0, 0.0], [1.0, 0.0, 2.0, 0.16, 0.0, 0.0], [1.0, 0.0, 2.0, 0.08, 0.0, 0.0], [1.0, 0.0, 2.0, 0.16, 0.0, 0.0], [1.0, 0.0, 2.0, 0.16, 0.0, 0.0], [1.0, 0.0, 2.0, 0.08, 0.0, 0.0], [1.0, 0.0, 2.0, 0.08, 0.0, 0.0], [1.0, 0.0, 2.0, 0.08, 0.0, 0.0], [1.0, 0.0, 2.0, 0.16, 0.0, 0.0], [1.0, 0.0, 2.0, 0.08, 0.0, 0.0], [1.0, 0.0, 2.0, 0.16, 0.0, 0.0], [1.0, 0.0, 2.0, 0.16, 0.0, 0.0], [1.0, 0.0, 2.0, 0.16, 0.0, 0.0], [1.0, 0.0, 2.0, 0.08, 0.0, 0.0], [1.0, 0.0, 2.0, 0.16, 0.0, 0.0], [1.0, 0.0, 2.0, 0.08, 0.0, 0.0], [1.0, 0.0, 2.0, 0.08, 0.0, 0.0], [1.0, 0.0, 2.0, 0.16, 0.0, 0.0], [1.0, 0.0, 2.0, 0.08, 0.0, 0.0], [1.0, 0.0, 2.0, 0.16, 0.0, 0.0], [1.0, 0.0, 2.0, 0.08, 0.0, 0.0], [1.0, 0.0, 2.0, 0.16, 0.0, 0.0], [1.0, 0.0, 2.0, 0.16, 0.0, 0.0], [1.0, 0.0, 2.0, 0.08, 0.0, 0.0], [1.0, 0.0, 2.0, 0.16, 0.0, 0.0], [1.0, 0.0, 2.0, 0.08, 0.0, 0.0], [1.0, 0.0, 2.0, 0.16, 0.0, 0.0], [1.0, 0.0, 2.0, 0.16, 0.0, 0.0], [1.0, 0.0, 2.0, 0.16, 0.0, 0.0], [1.0, 0.0, 2.0, 0.16, 0.0, 0.0], [1.0, 0.0, 2.0, 0.16, 0.0, 0.0], [1.0, 0.0, 2.0, 0.16, 0.0, 0.0], [1.0, 0.0, 2.0, 0.08, 0.0, 0.0], [1.0, 0.0, 2.0, 0.16, 0.0, 0.0], [1.0, 0.0, 2.0, 0.08, 0.0, 0.0], [1.0, 0.0, 2.0, 0.16, 0.0, 0.0], [1.0, 0.0, 2.0, 0.16, 0.0, 0.0], [1.0, 0.0, 2.0, 0.16, 0.0, 0.0], [1.0, 0.0, 2.0, 0.08, 0.0, 0.0], [1.0, 0.0, 2.0, 0.08, 0.0, 0.0], [1.0, 0.0, 2.0, 0.08, 0.0, 0.0], [1.0, 0.0, 2.0, 0.16, 0.0, 0.0], [1.0, 0.0, 2.0, 0.16, 0.0, 0.0], [1.0, 0.0, 2.0, 0.16, 0.0, 0.0], [1.0, 0.0, 2.0, 0.16, 0.0, 0.0], [1.0, 0.0, 2.0, 0.08, 0.0, 0.0], [1.0, 0.0, 2.0, 0.08, 0.0, 0.0], [1.0, 0.0, 2.0, 0.08, 0.0, 0.0], [1.0, 0.0, 2.0, 0.08, 0.0, 0.0], [1.0, 0.0, 2.0, 0.16, 0.0, 0.0], [1.0, 0.0, 2.0, 0.16, 0.0, 0.0], [1.0, 0.0, 2.0, 0.08, 0.0, 0.0], [1.0, 0.0, 2.0, 0.08, 0.0, 0.0], [1.0, 0.0, 2.0, 0.16, 0.0, 0.0], [1.0, 0.0, 2.0, 0.08, 0.0, 0.0], [1.0, 0.0, 2.0, 0.16, 0.0, 0.0], [1.0, 0.0, 2.0, 0.08, 0.0, 0.0], [1.0, 0.0, 2.0, 0.08, 0.0, 0.0], [1.0, 0.0, 2.0, 0.16, 0.0, 0.0], [1.0, 0.0, 2.0, 0.16, 0.0, 0.0], [1.0, 0.0, 2.0, 0.16, 0.0, 0.0], [1.0, 0.0, 2.0, 0.08, 0.0, 0.0], [1.0, 0.0, 2.0, 0.08, 0.0, 0.0], [1.0, 0.0, 2.0, 0.08, 0.0, 0.0], [1.0, 0.0, 2.0, 0.08, 0.0, 0.0], [1.0, 0.0, 2.0, 0.16, 0.0, 0.0], [1.0, 0.0, 2.0, 0.08, 0.0, 0.0], [1.0, 0.0, 2.0, 0.16, 0.0, 0.0], [1.0, 0.0, 2.0, 0.08, 0.0, 0.0], [1.0, 0.0, 2.0, 0.08, 0.0, 0.0], [1.0, 0.0, 2.0, 0.08, 0.0, 0.0], [1.0, 0.0, 2.0, 0.08, 0.0, 0.0], [1.0, 0.0, 2.0, 0.08, 0.0, 0.0], [1.0, 0.0, 2.0, 0.16, 0.0, 0.0], [1.0, 0.0, 2.0, 0.16, 0.0, 0.0], [1.0, 0.0, 2.0, 0.16, 0.0, 0.0], [1.0, 0.0, 2.0, 0.08, 0.0, 0.0], [1.0, 0.0, 2.0, 0.08, 0.0, 0.0], [1.0, 0.0, 2.0, 0.16, 0.0, 0.0], [1.0, 0.0, 2.0, 0.16, 0.0, 0.0], [1.0, 0.0, 2.0, 0.16, 0.0, 0.0], [1.0, 0.0, 2.0, 0.08, 0.0, 0.0], [1.0, 0.0, 2.0, 0.16, 0.0, 0.0], [1.0, 0.0, 2.0, 0.16, 0.0, 0.0], [1.0, 0.0, 2.0, 0.08, 0.0, 0.0], [1.0, 0.0, 2.0, 0.08, 0.0, 0.0], [1.0, 0.0, 2.0, 0.16, 0.0, 0.0], [1.0, 0.0, 2.0, 0.16, 0.0, 0.0], [1.0, 0.0, 2.0, 0.16, 0.0, 0.0], [1.0, 0.0, 2.0, 0.16, 0.0, 0.0], [1.0, 0.0, 2.0, 0.08, 0.0, 0.0], [1.0, 0.0, 2.0, 0.08, 0.0, 0.0], [1.0, 0.0, 2.0, 0.08, 0.0, 0.0], [1.0, 0.0, 2.0, 0.08, 0.0, 0.0], [1.0, 0.0, 2.0, 0.16, 0.0, 0.0], [1.0, 0.0, 2.0, 0.16, 0.0, 0.0], [1.0, 0.0, 2.0, 0.16, 0.0, 0.0], [1.0, 0.0, 2.0, 0.16, 0.0, 0.0], [1.0, 0.0, 2.0, 0.08, 0.0, 0.0], [1.0, 0.0, 2.0, 0.16, 0.0, 0.0], [1.0, 0.0, 2.0, 0.16, 0.0, 0.0], [1.0, 0.0, 2.0, 0.16, 0.0, 0.0], [1.0, 0.0, 2.0, 0.08, 0.0, 0.0], [1.0, 0.0, 2.0, 0.08, 0.0, 0.0], [1.0, 0.0, 2.0, 0.08, 0.0, 0.0], [1.0, 0.0, 2.0, 0.16, 0.0, 0.0], [1.0, 0.0, 2.0, 0.08, 0.0, 0.0], [1.0, 0.0, 2.0, 0.16, 0.0, 0.0], [1.0, 0.0, 2.0, 0.16, 0.0, 0.0], [1.0, 0.0, 2.0, 0.08, 0.0, 0.0], [1.0, 0.0, 2.0, 0.08, 0.0, 0.0], [1.0, 0.0, 2.0, 0.08, 0.0, 0.0], [1.0, 0.0, 2.0, 0.16, 0.0, 0.0], [1.0, 0.0, 2.0, 0.16, 0.0, 0.0], [1.0, 0.0, 2.0, 0.16, 0.0, 0.0], [1.0, 0.0, 2.0, 0.16, 0.0, 0.0], [1.0, 0.0, 2.0, 0.08, 0.0, 0.0], [1.0, 0.0, 2.0, 0.08, 0.0, 0.0], [1.0, 0.0, 2.0, 0.16, 0.0, 0.0], [1.0, 0.0, 2.0, 0.16, 0.0, 0.0], [1.0, 0.0, 2.0, 0.08, 0.0, 0.0], [1.0, 0.0, 2.0, 0.08, 0.0, 0.0], [1.0, 0.0, 2.0, 0.08, 0.0, 0.0], [1.0, 0.0, 2.0, 0.08, 0.0, 0.0], [1.0, 0.0, 2.0, 0.16, 0.0, 0.0], [1.0, 0.0, 2.0, 0.08, 0.0, 0.0], [1.0, 0.0, 2.0, 0.08, 0.0, 0.0], [1.0, 0.0, 2.0, 0.16, 0.0, 0.0], [1.0, 0.0, 2.0, 0.08, 0.0, 0.0], [1.0, 0.0, 2.0, 0.08, 0.0, 0.0], [1.0, 0.0, 2.0, 0.16, 0.0, 0.0], [1.0, 0.0, 2.0, 0.16, 0.0, 0.0], [1.0, 0.0, 2.0, 0.16, 0.0, 0.0], [1.0, 0.0, 2.0, 0.08, 0.0, 0.0], [1.0, 0.0, 2.0, 0.16, 0.0, 0.0], [1.0, 0.0, 2.0, 0.16, 0.0, 0.0], [1.0, 0.0, 2.0, 0.16, 0.0, 0.0], [1.0, 0.0, 2.0, 0.08, 0.0, 0.0], [1.0, 0.0, 2.0, 0.16, 0.0, 0.0], [1.0, 0.0, 2.0, 0.16, 0.0, 0.0], [1.0, 0.0, 2.0, 0.08, 0.0, 0.0], [1.0, 0.0, 2.0, 0.16, 0.0, 0.0], [1.0, 0.0, 2.0, 0.08, 0.0, 0.0], [1.0, 0.0, 2.0, 0.08, 0.0, 0.0], [1.0, 0.0, 2.0, 0.16, 0.0, 0.0], [1.0, 0.0, 2.0, 0.08, 0.0, 0.0], [1.0, 0.0, 2.0, 0.08, 0.0, 0.0], [1.0, 0.0, 2.0, 0.08, 0.0, 0.0], [1.0, 0.0, 2.0, 0.08, 0.0, 0.0], [1.0, 0.0, 2.0, 0.16, 0.0, 0.0], [1.0, 0.0, 2.0, 0.08, 0.0, 0.0], [1.0, 0.0, 2.0, 0.08, 0.0, 0.0], [1.0, 0.0, 2.0, 0.08, 0.0, 0.0], [1.0, 0.0, 2.0, 0.08, 0.0, 0.0], [1.0, 0.0, 2.0, 0.16, 0.0, 0.0], [1.0, 0.0, 2.0, 0.08, 0.0, 0.0], [1.0, 0.0, 2.0, 0.08, 0.0, 0.0], [1.0, 0.0, 2.0, 0.08, 0.0, 0.0], [1.0, 0.0, 2.0, 0.16, 0.0, 0.0], [1.0, 0.0, 2.0, 0.08, 0.0, 0.0], [1.0, 0.0, 2.0, 0.08, 0.0, 0.0], [1.0, 0.0, 2.0, 0.16, 0.0, 0.0], [1.0, 0.0, 2.0, 0.08, 0.0, 0.0], [1.0, 0.0, 2.0, 0.16, 0.0, 0.0], [1.0, 0.0, 2.0, 0.16, 0.0, 0.0], [1.0, 0.0, 2.0, 0.08, 0.0, 0.0], [1.0, 0.0, 2.0, 0.08, 0.0, 0.0], [1.0, 0.0, 2.0, 0.08, 0.0, 0.0], [1.0, 0.0, 2.0, 0.16, 0.0, 0.0], [1.0, 0.0, 2.0, 0.16, 0.0, 0.0], [1.0, 0.0, 2.0, 0.16, 0.0, 0.0], [1.0, 0.0, 2.0, 0.16, 0.0, 0.0], [1.0, 0.0, 2.0, 0.08, 0.0, 0.0], [1.0, 0.0, 2.0, 0.16, 0.0, 0.0], [1.0, 0.0, 2.0, 0.08, 0.0, 0.0], [1.0, 0.0, 2.0, 0.08, 0.0, 0.0], [1.0, 0.0, 2.0, 0.08, 0.0, 0.0], [1.0, 0.0, 2.0, 0.08, 0.0, 0.0], [1.0, 0.0, 2.0, 0.08, 0.0, 0.0], [1.0, 0.0, 2.0, 0.16, 0.0, 0.0], [1.0, 0.0, 2.0, 0.16, 0.0, 0.0], [1.0, 0.0, 2.0, 0.16, 0.0, 0.0]]\n"
     ]
    }
   ],
   "source": [
    "print(gratori_list)"
   ]
  },
  {
   "cell_type": "code",
   "execution_count": 3,
   "metadata": {},
   "outputs": [],
   "source": [
    "with open(r\"E:\\20200703_C9_BC_g0\\stimulus\\200703122004-scene_flicker-C9.pkl\", 'rb') as f:\n",
    "    data2 = pickle.load(f)"
   ]
  },
  {
   "cell_type": "code",
   "execution_count": 5,
   "metadata": {},
   "outputs": [
    {
     "name": "stdout",
     "output_type": "stream",
     "text": [
      "from psychopy import visual\n",
      "import os\n",
      "from aibs.Foraging import Foraging\n",
      "from aibs.Projector.ProjectorWindow import *\n",
      "from psychopy.visual.windowwarp import Warper\n",
      "\n",
      "params = {\n",
      "    'runs':50,\n",
      "    'blanksweeps':0,\n",
      "    'shuffle':False,\n",
      "    'preexpsec':10, #seconds at the start of the experiment\n",
      "    'postexpsec':0, #seconds at the end of the experiment\n",
      "    'sweeplength':0.1, #length of sweeps\n",
      "    'postsweepsec':0., #black period after sweeps (foreground remains)\n",
      "    'mouseid': \"C9\",                                #name of the mouse\n",
      "    'userid': \"danield\",                        #name of the user    \n",
      "    'nidevice': 'Dev1',               #NI device name\n",
      "    'blanksweeps': 0,             #blank sweep every x sweeps\n",
      "    'bgcolor': 'black',                #background color\n",
      "    'syncsqr': False,                  #display a flashing square for synchronization\n",
      "    'syncsqrloc': (30,200),\n",
      "    'syncsqrfreq': 60,                   #from black to white every X frames\n",
      "    'syncpulse':True,\n",
      "    'doport':0,\n",
      "    'diport':2,\n",
      "    'syncpulselines':[1,2,3],\n",
      "    \"savesweeptable\": False,\n",
      "    'eyetracker':False,\n",
      "    'eyetrackerip': \"W7DTMJ82MX5\", \n",
      "    'eyetrackerport': 10000,\n",
      "    'lims_upload':False,\n",
      "}\n",
      "\n",
      "mon = monitors.Monitor('uvprojector',width=115.2,distance=30,gamma=None,notes=None,useBits=None,verbose=True)\n",
      "mon.setSizePix([800,600])\n",
      "mon = monitors.Monitor('uvprojector',width=115.2,distance=30,gamma=None,notes=None,useBits=None,verbose=True)\n",
      "mon.setSizePix([1024,768])\n",
      "window =  visual.Window(monitor = 'testMonitor',color=(0,0,0),screen=1,fullscr=True,useFBO=True)\n",
      "warper = Warper(window, warpfile=r'C:\\Users\\denma\\Desktop\\dan\\warps\\uvProjector2_Warp2.data',\n",
      "                                warp='warpfile',flipHorizontal=True)\n",
      "\n",
      "path = r\"C:\\Users\\denma\\Desktop\\stimuli_static\\CAM_stimuli\\NaturalImages\"\n",
      "imagefiles = [os.path.join(path,f) for f in os.listdir(path) if len(f) > 4 and f[-4:] in ['.jpg','.png','.tif','tiff']]\n",
      "# print(imagefiles[0][imagefiles[0].find('NaturalImages\\\\')+len('NaturalImages\\\\'):imagefiles[0].rfind('.')])\n",
      "sequence = []\n",
      "for i in imagefiles:\n",
      "    filename = i[i.find('NaturalImages\\\\')+len('NaturalImages\\\\'):i.rfind('.')]\n",
      "    firstcharacterinimagestring = filename[0]\n",
      "    if firstcharacterinimagestring.lower() == 'm' or firstcharacterinimagestring.lower() == 'p':\n",
      "        sequence.append(visual.ImageStim(window,image = i,flipVert=True,flipHoriz=False,size=(228*1.2,170*1.2),pos=(228/3,0),units='pix'))\n",
      "    else:\n",
      "        sequence.append(visual.ImageStim(window,image = i,flipVert=True,flipHoriz=False,size=(256*1.2,170*1.2),pos=(256/3,0),units='pix'))\n",
      "\n",
      "\n",
      "g = Foraging(window, params, bgStim=sequence)\n",
      "g.imagefiles = imagefiles\n",
      "\n",
      "\n",
      "g.run()\n",
      "\n",
      "\n",
      "\n"
     ]
    }
   ],
   "source": [
    "print(data2['scripttext'])"
   ]
  },
  {
   "cell_type": "code",
   "execution_count": null,
   "metadata": {},
   "outputs": [],
   "source": []
  }
 ],
 "metadata": {
  "kernelspec": {
   "display_name": "Python 3",
   "language": "python",
   "name": "python3"
  },
  "language_info": {
   "codemirror_mode": {
    "name": "ipython",
    "version": 3
   },
   "file_extension": ".py",
   "mimetype": "text/x-python",
   "name": "python",
   "nbconvert_exporter": "python",
   "pygments_lexer": "ipython3",
   "version": "3.7.6"
  }
 },
 "nbformat": 4,
 "nbformat_minor": 4
}

{
 "cells": [
  {
   "cell_type": "markdown",
   "metadata": {},
   "source": [
    "# Cranial Window Surgery"
   ]
  },
  {
   "cell_type": "code",
   "execution_count": 3,
   "metadata": {},
   "outputs": [],
   "source": [
    "from prettytable import PrettyTable"
   ]
  },
  {
   "cell_type": "code",
   "execution_count": 2,
   "metadata": {},
   "outputs": [],
   "source": [
    "import matplotlib.pyplot as plt\n",
    "import numpy as np"
   ]
  },
  {
   "cell_type": "markdown",
   "metadata": {},
   "source": [
    "**Standard Coordinates for V1 in Left Hemisphere (Relative to Bregma)**    \n",
    "\n",
    "|Location|AP    |ML    |\n",
    "|:-------|:----:|:----:|\n",
    "|A       |-0.316|+0.195|\n",
    "|B       |-0.315|+0.197|\n",
    "|C       |-0.240|+0.200|\n",
    "|D       |-0.333|+0.223|"
   ]
  },
  {
   "cell_type": "markdown",
   "metadata": {},
   "source": [
    "## C9 - Wed, 07/01/2020"
   ]
  },
  {
   "cell_type": "markdown",
   "metadata": {},
   "source": [
    "* **Procedure:**\n",
    "    * Drilled cranial window around the area of V1 using Dremel\n",
    "        * Guided with stereotaxis\n",
    "    * Start Time: 10:00  \n",
    "    * End Time: 12:35  \n",
    "    * Drugs: 0.15mg Carprofen IP (250uL at 0.6mg/mL)\n",
    "* Mouse Info:\n",
    "    * Age and Sex unknown\n",
    "    * CC#: 197199\n",
    "    * Number of Tail Bands: 2\n",
    "    * Weight: 25.0g with headcap    \n",
    "* **Notes:**    \n",
    "Created rectangular cranial window around stereotaxic coordinates to ensure acces to V1 and ability to accomodate during recordings. "
   ]
  },
  {
   "cell_type": "markdown",
   "metadata": {},
   "source": [
    "### Coordinates"
   ]
  },
  {
   "cell_type": "code",
   "execution_count": 5,
   "metadata": {},
   "outputs": [
    {
     "name": "stdout",
     "output_type": "stream",
     "text": [
      "+----------+------+------+\n",
      "| Location |  ML  |  AP  |\n",
      "+----------+------+------+\n",
      "|    A     | 2.22 | 5.59 |\n",
      "|    B     | 2.23 | 5.59 |\n",
      "|    C     | 2.23 | 5.67 |\n",
      "|    D     | 2.25 | 5.58 |\n",
      "+----------+------+------+\n"
     ]
    },
    {
     "data": {
      "image/png": "[encoded data removed]",
      "text/plain": [
       "<Figure size 432x288 with 1 Axes>"
      ]
     },
     "metadata": {
      "needs_background": "light"
     },
     "output_type": "display_data"
    }
   ],
   "source": [
    "breg_y = 5.91 #bregma AP\n",
    "breg_x = 2.03 #bregma ML\n",
    "\n",
    "# Do not change anything below this\n",
    "y_a = round((breg_y - 0.316),2)\n",
    "y_b = round((breg_y - 0.315),2)\n",
    "y_c = round((breg_y - 0.240),2)\n",
    "y_d = round((breg_y - 0.333),2)\n",
    "x_a = round((breg_x + 0.195),2)\n",
    "x_b = round((breg_x + 0.197),2)\n",
    "x_c = round((breg_x + 0.200),2)\n",
    "x_d = round((breg_x + 0.223),2)\n",
    "\n",
    "p = PrettyTable()\n",
    "p.field_names = ['Location', 'ML', 'AP']\n",
    "p.add_row(['A', x_a, y_a])\n",
    "p.add_row(['B', x_b, y_b])\n",
    "p.add_row(['C', x_c, y_c])\n",
    "p.add_row(['D', x_d, y_d])\n",
    "print(p)\n",
    "plt.scatter([breg_x, x_a, x_b, x_c, x_d],[breg_y, y_a, y_b, y_c, y_d])\n",
    "plt.axis('scaled')\n",
    "plt.gca().invert_xaxis()\n",
    "plt.text(breg_x, breg_y, 'Bregma')\n",
    "plt.grid(True)"
   ]
  },
  {
   "cell_type": "markdown",
   "metadata": {},
   "source": [
    "## C5 - Wed, 07/08/2020"
   ]
  },
  {
   "cell_type": "markdown",
   "metadata": {},
   "source": [
    "* **Procedure:**\n",
    "    * Drilled cranial window around the area of V1 using Dremel\n",
    "        * Guided with stereotaxis\n",
    "    * Start Time: 10:00  \n",
    "    * End Time: 11:40 \n",
    "    * Drugs: 0.15mg Carprofen IP (250uL at 0.6mg/mL)\n",
    "* **Mouse Info:**\n",
    "    * Age and Sex unknown\n",
    "    * CC#: 191679\n",
    "    * Weight: 24.1g with headcap\n",
    "    * Number of Tail Bands: 1\n",
    "* **Notes:**  \n",
    "    * Created rectangular cranial window around stereotaxic coordinates to ensure acces to V1 and ability to accomodate during recordings. \n",
    "    * Surgery performed immediately before recordings\n",
    "    * Small piece of weigh boat used to cover craniotomy prior to addng kwikset"
   ]
  },
  {
   "cell_type": "markdown",
   "metadata": {},
   "source": [
    "### Coordinates"
   ]
  },
  {
   "cell_type": "code",
   "execution_count": 1,
   "metadata": {},
   "outputs": [
    {
     "ename": "NameError",
     "evalue": "name 'np' is not defined",
     "output_type": "error",
     "traceback": [
      "\u001b[1;31m---------------------------------------------------------------------------\u001b[0m",
      "\u001b[1;31mNameError\u001b[0m                                 Traceback (most recent call last)",
      "\u001b[1;32m<ipython-input-1-9c5339b8a17e>\u001b[0m in \u001b[0;36m<module>\u001b[1;34m\u001b[0m\n\u001b[0;32m      2\u001b[0m \u001b[0mbregma_y\u001b[0m \u001b[1;33m=\u001b[0m \u001b[1;33m-\u001b[0m\u001b[1;36m10.69\u001b[0m \u001b[1;31m#digital\u001b[0m\u001b[1;33m\u001b[0m\u001b[1;33m\u001b[0m\u001b[0m\n\u001b[0;32m      3\u001b[0m \u001b[1;31m#Change nothing below\u001b[0m\u001b[1;33m\u001b[0m\u001b[1;33m\u001b[0m\u001b[1;33m\u001b[0m\u001b[0m\n\u001b[1;32m----> 4\u001b[1;33m \u001b[0mloc\u001b[0m \u001b[1;33m=\u001b[0m \u001b[0mnp\u001b[0m\u001b[1;33m.\u001b[0m\u001b[0marray\u001b[0m\u001b[1;33m(\u001b[0m\u001b[1;33m[\u001b[0m\u001b[1;34m'Bregma'\u001b[0m\u001b[1;33m,\u001b[0m \u001b[1;34m'A'\u001b[0m\u001b[1;33m,\u001b[0m \u001b[1;34m'B'\u001b[0m\u001b[1;33m,\u001b[0m \u001b[1;34m'C'\u001b[0m\u001b[1;33m,\u001b[0m \u001b[1;34m'D'\u001b[0m\u001b[1;33m]\u001b[0m\u001b[1;33m)\u001b[0m\u001b[1;33m\u001b[0m\u001b[1;33m\u001b[0m\u001b[0m\n\u001b[0m\u001b[0;32m      5\u001b[0m \u001b[0map_adj\u001b[0m \u001b[1;33m=\u001b[0m \u001b[0mnp\u001b[0m\u001b[1;33m.\u001b[0m\u001b[0marray\u001b[0m\u001b[1;33m(\u001b[0m\u001b[1;33m[\u001b[0m\u001b[1;33m-\u001b[0m\u001b[1;36m0.316\u001b[0m\u001b[1;33m,\u001b[0m \u001b[1;33m-\u001b[0m\u001b[1;36m0.315\u001b[0m\u001b[1;33m,\u001b[0m \u001b[1;33m-\u001b[0m\u001b[1;36m0.240\u001b[0m\u001b[1;33m,\u001b[0m \u001b[1;33m-\u001b[0m\u001b[1;36m0.333\u001b[0m\u001b[1;33m]\u001b[0m\u001b[1;33m)\u001b[0m\u001b[1;33m\u001b[0m\u001b[1;33m\u001b[0m\u001b[0m\n\u001b[0;32m      6\u001b[0m \u001b[0mml_adj\u001b[0m \u001b[1;33m=\u001b[0m \u001b[0mnp\u001b[0m\u001b[1;33m.\u001b[0m\u001b[0marray\u001b[0m\u001b[1;33m(\u001b[0m\u001b[1;33m[\u001b[0m\u001b[1;36m0.195\u001b[0m\u001b[1;33m,\u001b[0m \u001b[1;36m0.197\u001b[0m\u001b[1;33m,\u001b[0m \u001b[1;36m0.200\u001b[0m\u001b[1;33m,\u001b[0m \u001b[1;36m0.223\u001b[0m\u001b[1;33m]\u001b[0m\u001b[1;33m)\u001b[0m\u001b[1;33m\u001b[0m\u001b[1;33m\u001b[0m\u001b[0m\n",
      "\u001b[1;31mNameError\u001b[0m: name 'np' is not defined"
     ]
    }
   ],
   "source": [
    "bregma_x = -8.45 #digital\n",
    "bregma_y = -10.69 #digital\n",
    "#Change nothing below\n",
    "loc = np.array(['Bregma', 'A', 'B', 'C', 'D'])\n",
    "ap_adj = np.array([-0.316, -0.315, -0.240, -0.333])\n",
    "ml_adj = np.array([0.195, 0.197, 0.200, 0.223])\n",
    "\n",
    "y = np.round((bregma_y + ap_adj), 2)\n",
    "x = np.round((bregma_x + ml_adj), 2)\n",
    "xy = np.column_stack((x, y))\n",
    "\n",
    "pt = PrettyTable()\n",
    "\n",
    "pt.add_column('Location', ['A', 'B', 'C', 'D'])\n",
    "pt.add_column('ML', xy[:,0])\n",
    "pt.add_column('AP', xy[:,1])\n",
    "pt.add_row(['Bregma', bregma_x, bregma_y])\n",
    "print(pt)"
   ]
  },
  {
   "cell_type": "markdown",
   "metadata": {},
   "source": [
    "## C27 - Mon, 08/03/2020"
   ]
  },
  {
   "cell_type": "markdown",
   "metadata": {},
   "source": [
    "* **Procedure:**\n",
    "    * Drilled cranial window around the area of V1 using Dremel\n",
    "        * Guided with stereotaxis\n",
    "    * Start Time: 09:30\n",
    "    * End Time: 10:50\n",
    "    * Drugs: 0.15mg Carprofen IP (250uL at 0.6mg/mL)\n",
    "* **Mouse Info:**\n",
    "    * F\n",
    "    * CC#: 230746\n",
    "    * Weight: ?\n",
    "    * Number of Tail Bands: 2\n",
    "* **Notes:**  \n",
    "    * Created rectangular cranial window around stereotaxic coordinates to ensure acces to V1 and ability to accomodate during recordings. \n",
    "    * Surgery performed immediately before recordings\n",
    "    * Small piece of weigh boat used to cover craniotomy prior to addng kwikset\n",
    "    * took a while to fully anesthetize. Set iso to 3% before eventually turning it down to 2.5%"
   ]
  },
  {
   "cell_type": "code",
   "execution_count": 9,
   "metadata": {},
   "outputs": [
    {
     "name": "stdout",
     "output_type": "stream",
     "text": [
      "+----------+------+------+\n",
      "| Location |  ML  |  AP  |\n",
      "+----------+------+------+\n",
      "|    A     | 2.06 | 5.77 |\n",
      "|    B     | 2.07 | 5.78 |\n",
      "|    C     | 2.07 | 5.85 |\n",
      "|    D     | 2.09 | 5.76 |\n",
      "|  Bregma  | 1.87 | 6.09 |\n",
      "+----------+------+------+\n"
     ]
    }
   ],
   "source": [
    "bregma_x = 1.87 \n",
    "bregma_y = 6.09 \n",
    "#Change nothing below\n",
    "loc = np.array(['Bregma', 'A', 'B', 'C', 'D'])\n",
    "ap_adj = np.array([-0.316, -0.315, -0.240, -0.333])\n",
    "ml_adj = np.array([0.195, 0.197, 0.200, 0.223])\n",
    "\n",
    "y = np.round((bregma_y + ap_adj), 2)\n",
    "x = np.round((bregma_x + ml_adj), 2)\n",
    "xy = np.column_stack((x, y))\n",
    "\n",
    "pt = PrettyTable()\n",
    "\n",
    "pt.add_column('Location', ['A', 'B', 'C', 'D'])\n",
    "pt.add_column('ML', xy[:,0])\n",
    "pt.add_column('AP', xy[:,1])\n",
    "pt.add_row(['Bregma', bregma_x, bregma_y])\n",
    "print(pt)"
   ]
  },
  {
   "cell_type": "markdown",
   "metadata": {},
   "source": [
    "# Head Cap Surgery"
   ]
  },
  {
   "cell_type": "markdown",
   "metadata": {},
   "source": [
    "## C26 - Wed, 07/15/20"
   ]
  },
  {
   "cell_type": "markdown",
   "metadata": {},
   "source": [
    "C26 and C27 were pulled from cage 0000224433 in room 415 and placed into their own cage for housing in 201B  \n",
    "* **Procedure:**  \n",
    "    * implanted head plate, filled center with acrylic dental cement\n",
    "    * Anesthetic: 1.5% isoflurane  \n",
    "    * Drugs: 0.15mg Carprofen IP (250uL at 0.6mg/mL)\n",
    "* **Mouse info:**\n",
    "    * F of Unknown Age\n",
    "    * DOB: ?\n",
    "    * Orig. cage card#: 224433\n",
    "    * Pre-surgery weight: 20.1g\n",
    "    * Number of Tail Bands: 1\n",
    "* * **Notes:**\n",
    "    * Cut scalp a little too far rostrally (between the eyes). Used acrylic to cover exposed skull\n",
    "    * Readminisered same carprofen dose IP on the two days following sx"
   ]
  },
  {
   "cell_type": "markdown",
   "metadata": {},
   "source": [
    "## C27 - Wed, 07/15/20"
   ]
  },
  {
   "cell_type": "markdown",
   "metadata": {},
   "source": [
    "* **Procedure:**  \n",
    "    * implanted head plate, filled center with acrylic dental cement\n",
    "    * Anesthetic: 1.5% isoflurane \n",
    "    * Drugs: 0.15mg Carprofen IP (250uL at 0.6mg/mL)\n",
    "* **Mouse info:**\n",
    "    * F of Unknown Age\n",
    "    * DOB: 05/19/20\n",
    "    * Orig. cage card#: 224433\n",
    "    * Pre-surgery weight: 18.7g\n",
    "    * Number of Tail Bands: 2\n",
    "* **Notes:**\n",
    "    * Had to re-anesthetize due to issues placing mouse on bite bar\n",
    "    * Readminisered same carprofen dose IP on the two days following sx"
   ]
  },
  {
   "cell_type": "markdown",
   "metadata": {},
   "source": [
    "## C28 - Mon, 07/27/20"
   ]
  },
  {
   "cell_type": "markdown",
   "metadata": {},
   "source": [
    "* **Procedure:**  \n",
    "    * implanted head plate, filled center with acrylic dental cement\n",
    "    * Anesthetic: 2.0% isoflurane \n",
    "    * Drugs: 0.15mg Carprofen IP (250uL at 0.6mg/mL)\n",
    "* **Mouse info:**\n",
    "    * 10 wk old F\n",
    "    * DOB: 05/19/20\n",
    "    * Orig. cage card#: 224433\n",
    "    * Pre-surgery weight: \n",
    "    * Number of Tail Bands: 1\n",
    "* **Notes:**\n",
    "    * issues with ear bars meant the skull may not have been completely flat"
   ]
  },
  {
   "cell_type": "markdown",
   "metadata": {},
   "source": [
    "## C29 - Mon, 07/27/20"
   ]
  },
  {
   "cell_type": "markdown",
   "metadata": {},
   "source": [
    "* **Procedure:**  \n",
    "    * implanted head plate, filled center with acrylic dental cement\n",
    "    * Anesthetic: 2.5% isoflurane \n",
    "    * Drugs: 0.15mg Carprofen IP (250uL at 0.6mg/mL)\n",
    "* **Mouse info:**\n",
    "    * 10wk old F\n",
    "    * DOB: 05/19/20\n",
    "    * Orig. cage card#: 224433\n",
    "    * Pre-surgery weight:\n",
    "    * Number of Tail Bands: 2\n",
    "* **Notes:**\n",
    "    * Required more anesthesia than usual to anesthetize"
   ]
  },
  {
   "cell_type": "markdown",
   "metadata": {},
   "source": []
  },
  {
   "cell_type": "code",
   "execution_count": null,
   "metadata": {},
   "outputs": [],
   "source": []
  }
 ],
 "metadata": {
  "kernelspec": {
   "display_name": "Python 3",
   "language": "python",
   "name": "python3"
  },
  "language_info": {
   "codemirror_mode": {
    "name": "ipython",
    "version": 3
   },
   "file_extension": ".py",
   "mimetype": "text/x-python",
   "name": "python",
   "nbconvert_exporter": "python",
   "pygments_lexer": "ipython3",
   "version": "3.7.6"
  }
 },
 "nbformat": 4,
 "nbformat_minor": 4
}

{
 "cells": [
  {
   "cell_type": "markdown",
   "metadata": {},
   "source": [
    "# (Re-Habituation) - Beginning 06/19/2020"
   ]
  },
  {
   "cell_type": "markdown",
   "metadata": {},
   "source": [
    "### Mouse Labeling Notation\n",
    "Tails were marked with permanent marker to distinguish cage-mates. In numerical order, each mouse got either one or two tail bands (two mice per cage). \n",
    "> C5 in cage 191679 becomes 191679-1 (one band)  \n",
    "> C6 in the same cage becomes 191679-2 (two bands)"
   ]
  },
  {
   "cell_type": "markdown",
   "metadata": {},
   "source": [
    "### 191679-1 (C5)\n",
    "\n",
    "* **Day 1 - Fri, 06/19/2020**\n",
    "    * 5 min head fixed, no stimulus\n",
    "    * Comfortable in hand, no significant distress noted on the rig\n",
    "* **Day 2 - Sun, 06/21/2020**\n",
    "    * 15 min head fixed - 15 min stimulus (ArbMatrix_color.py)\n",
    "    * Comfortable in hand, no significant distress noted on the rig\n",
    "* **Day 3 - Mon, 06/22/2020**\n",
    "    * 30 min head fixed - 15 min stimulus (ArbMatrix_color.py), 15 min no stimulus\n",
    "    * Comfortable in hand, no significant distress noted on the rig\n",
    "* **Day 4 - Tue, 06/23/2020**\n",
    "    * 1h head fixed - 15 min stimulus (ArbMatrix_color.py), 45min no stimulus\n",
    "    * Comfortable in hand, no significant distress noted on the rig\n",
    "* **Day 5 - Wed, 06/24/2020**\n",
    "    * Neuropixels turned on to acclimate to ultrasound\n",
    "    * 2h head fixed - 15min stimulus (ArbMatrix_color.py), 1h 45min no stimulus\n",
    "    * No major signs of distress after 2h. Slight poprhyrin secretion. Will attempt another long (2h) session tomorrow to improve habituation\n",
    "* **Day 6 - Thurs, 06/25/2020**\n",
    "    * 2h head fixed - 15min stimulus (ArbMatrix_color.py), 1h 45min no stimulus\n",
    "    * Aborted habituation with 40min left due to signicant porphyrin deposition\n",
    "* **Day 7 - Fri, 06/26/2020**\n",
    "    * 2h head fixed - 15min stimulus (ArbMatrix_color.py), 1h 45min no stimulus\n",
    "    * Noticed porphyrin secretion beginning around 1h 20min in. Habituation allowed to run until around 1h 40min in due to significant secretion that showed no sign of slowing\n",
    "* **Day 8 - Mon, 06/29/2020**\n",
    "    * 2h head fixed \n",
    "    * Aborted with 20 min to go due to significant porphyrin secretion. Attemted to wipe away some porphyrin with saline swab, but this was ineffective\n",
    "* **Day 9 - Tue, 06/30/2020**\n",
    "    * 2h head fixed - 15min stimulus (ArbMatrix_color.py), 1h 45min no stimulus\n",
    "    * Slight porphyrin secretion noted a little past the 1h mark\n",
    "    * Significantly better than yesterday, but still non-negligible degree of secretion\n",
    "    * Session completed despite porpyrin\n",
    "* **Day 10 - Mon, 07/06/2020**\n",
    "    * 2h head fixed - 15min stimulus (ArbMatrix_color.py), 1h 45min no stimulus\n",
    "    * No porphyrin secretion was noted until 15min prior to completion which was quickly cleared by the mouse\n",
    "* **Day 11 - Tue, 07/07/2020**\n",
    "    * 2h head fixed - 15min stimulus (ArbMatrix_color.py), 1h 45min no stimulus\n",
    "    * No issues. Mouse ready for surgery and recording"
   ]
  },
  {
   "cell_type": "markdown",
   "metadata": {},
   "source": [
    "### 191679-2 (C6)\n",
    "\n",
    "* **Day 1 - Fri, 06/19/2020**\n",
    "    * 5 min head fixed, no stimulus\n",
    "    * Comfortable in hand, no significant distress noted on the rig\n",
    "* **Day 2 - Sun, 06/21/2020**\n",
    "    * 15 min head fixed - 15 min stimulus (ArbMatrix_color.py)\n",
    "    * Comfortable in hand, no significant distress noted on the rig\n",
    "* **Day 3 - Mon, 06/22/2020**\n",
    "    * 30 min head fixed - 15 min stimulus (ArbMatrix_color.py), 15 min no stimulus\n",
    "    * Comfortable in hand, no significant distress noted on the rig\n",
    "* **Day 4 - Tue, 06/23/2020**\n",
    "    * 1h head fixed - 15 min stimulus (ArbMatrix_color.py), 45min no stimulus\n",
    "    * Comfortable in hand\n",
    "    * Significant porphyrin deposition after 1h had elapsed suggesting distress\n",
    "    * Attempt 1h again tomorrow\n",
    "* **Day 5 - Wed, 06/24/2020**\n",
    "    * 1h head fixed - 15 min stimulus (ArbMatrix_color.py), 45min no stimulus\n",
    "    * Comfortable in hand\n",
    "    * Slightly uncomfortable being put on the rig. Attempted to wiggle out for a moment\n",
    "    * Watched closely for signs of distress every 15-20min\n",
    "    * Significant porphyrin secretion noted at 1h, that was not noted at 40min\n",
    "    * Will attempt 1h again\n",
    "* **Day 6 - Fri, 06/26/2020**\n",
    "    * 1h head fixed - No stimulus\n",
    "    * Performed on Right rig\n",
    "    * Dissecting scope light turned on for 20min and then swapped out for red flashlight attached to the microscope\n",
    "    * No signs of porphyrin after 1h \n",
    "* **Day 7 - Mon, 06/29/2020**\n",
    "    * 1h head fixed - No stimulus\n",
    "        * Actively resisted head fixation like mot all other attempts\n",
    "    * Performed on Right rig\n",
    "    * Dissecting scope light turned on for 20min and then swapped out for red flashlight attached to the microscope\n",
    "    * Aborted after 30min due to significant porphyrin secretion\n",
    "* **Day 8 - Mon, 07/06/2020**\n",
    "    * 2h head fixed - 15min stimulus (ArbMatrix_color.py), 1h 45min no stimulus\n",
    "    * No blinking seen on eye camera. Is mouse unable to blink due to headcap?\n",
    "    * Porphyrin secretion noted at the 1h mark\n",
    "    * Pulled with 45min remaining due to significant porpyrin secretion\n",
    "* **Day 9 - Tue, 07/07/2020**\n",
    "    * 2h head fixed - 15min stimulus (ArbMatrix_color.py), 1h 45min no stimulus\n",
    "    * Porphyrin secretion noted at the 1h mark\n",
    "    * Pulled with 30min remaining due to significant porpyrin secretion"
   ]
  },
  {
   "cell_type": "markdown",
   "metadata": {},
   "source": [
    "### 197199-1 (C8)\n",
    "\n",
    "* **Day 1 - Fri, 06/19/2020**\n",
    "    * 5 min head fixed, no stimulus\n",
    "    * Comfortable in hand, no significant distress noted on the rig\n",
    "* **Day 2 - Sun, 06/21/2020**\n",
    "    * 15 min head fixed - 15 min stimulus (ArbMatrix_color.py)\n",
    "    * Comfortable in hand, no significant distress noted on the rig\n",
    "* **Day 3 - Mon, 06/22/2020**\n",
    "    * 30 min head fixed - 15 min stimulus (ArbMatrix_color.py), 15 min no stimulus\n",
    "    * Comfortable in hand, no significant distress noted on the rig\n",
    "* **Day 4 - Tue, 06/23/2020**\n",
    "    * 1h head fixed - 15 min stimulus (ArbMatrix_color.py), 45min no stimulus\n",
    "    * Comfortable in hand, no significant distress noted on the rig\n",
    "* **Mon, 06/29/2020**\n",
    "    * Headcap found to be loose. Because mouse had no prior craniotomy, readhesion of the headcap was attempted under anesthesia.\n",
    "    * **Headcap found to be severrely infected and animal was sacrificed**"
   ]
  },
  {
   "cell_type": "markdown",
   "metadata": {},
   "source": [
    "### 197199-2 (C9)\n",
    "\n",
    "* **Day 1 - 06/19/2020**\n",
    "    * 5 min head fixed, no stimulus\n",
    "    * Comfortable in hand, no significant distress noted on the rig\n",
    "* **Day 2 - 06/21/2020**\n",
    "    * 15 min head fixed - 15 min stimulus (ArbMatrix_color.py)\n",
    "    * Comfortable in hand, no significant distress noted on the rig\n",
    "* **Day 3 - 06/22/2020**\n",
    "    * 30 min head fixed - 15 min stimulus (ArbMatrix_color.py), 15 min no stimulus\n",
    "    * Comfortable in hand, no significant distress noted on the rig\n",
    "* **Day 4 - 06/23/2020**\n",
    "    * 1h head fixed - 15 min stimulus (ArbMatrix_color.py), 45min no stimulus\n",
    "    * Comfortable in hand, no significant distress noted on the rig\n",
    "* **Day 5 - 06/29/2020**\n",
    "    * 2h head fixed - 15min stimulus (ArbMatrix_color.py), 1h 45min no stimulus\n",
    "    * Mydriasis noted throughout entire stimulus\n",
    "    * Slight porphyrin secretion beginning at 1h 15min, but secretion is progressing slowly\n",
    "    * Slightly cleared with blinking/tear production\n",
    "* **Day 6 - 06/30/2020**\n",
    "    * 2h head fixed - 15min stimulus (ArbMatrix_color.py), 1h 45min no stimulus\n",
    "    * Very slight porphyrin secretion cleared with blinking/tear production\n",
    "    * Should be ready for neuropizels recordings this week\n",
    "* **07/06/2020 - Mouse was found to have lost the seal on their head cap over the weekend and was sacrificed**"
   ]
  },
  {
   "cell_type": "markdown",
   "metadata": {},
   "source": [
    "### 224433-1 (C26)"
   ]
  },
  {
   "cell_type": "markdown",
   "metadata": {},
   "source": [
    "* **Day 1 - 07/20/2020**\n",
    "    * 15 min head fixed, no stimulus\n",
    "    * Comfortable in hand, no significant distress noted on the rig\n",
    "* **Day 2 - 07/21/2020**\n",
    "    * 15 min head fixed, no stimulus\n",
    "    * Comfortable in hand\n",
    "    * Mouse didn't seem super comfortable on the wheel, so I didn't lower the dome, but the projector was on\n",
    "* **Day 3 - 07/22/2020**\n",
    "    * 30 min head fixed, no stimulus\n",
    "    * Comfortable in hand, no significant distress noted on the rig\n",
    "    * Dome down, projector on\n",
    "* **Day 4 - 07/23/2020**\n",
    "    * **Headcap found to have fallen off. Mouse sac'd**\n",
    "   "
   ]
  },
  {
   "cell_type": "markdown",
   "metadata": {},
   "source": [
    "### 224433-2 (C27)"
   ]
  },
  {
   "cell_type": "markdown",
   "metadata": {},
   "source": [
    "* **Day 1 - 07/20/2020**\n",
    "    * 15 min head fixed, no stimulus\n",
    "    * Comfortable in hand, no significant distress noted on the rig\n",
    "* **Day 2 - 07/21/2020**\n",
    "    * 15 min head fixed, no stimulus\n",
    "    * Comfortable in hand\n",
    "    * Mouse didn't seem super comfortable on the wheel, so I didn't lower the dome, but the projector was on\n",
    "* **Day 3 - 07/22/2020**\n",
    "    * 30 min head fixed, no stimulus\n",
    "    * Comfortable in hand, no significant distress noted on the rig\n",
    "    * Dome down, projector on\n",
    "* **Day 4 - 07/23/2020**\n",
    "    * 1h head fixed - 15 min stimulus (ArbMatrix_color.py), 45min no stimulus\n",
    "    * Comfortable in hand, no significant distress noted on the rig\n",
    "    * Dome down, projector on\n",
    "* **Day 5 - 07/24/2020**\n",
    "    * 1h head fixed - 15 min stimulus (ArbMatrix_color.py), 45min no stimulus\n",
    "    * Comfortable in hand, no significant distress noted on the rig\n",
    "    * Dome down, projector on\n",
    "* **Day 6 - 07/28/2020**\n",
    "    * 2h head fixed - 90 min stimulus (color_population.py)\n",
    "    * Comfortable in hand, no significant distress noted on the rig\n",
    "    * Dome down, projector on\n",
    "* **Day 7 - 07/31/2020**\n",
    "    * 2h head fixed - 90 min stimulus (color_population.py)\n",
    "    * Comfortable in hand\n",
    "    * Dome down, projector on\n",
    "    * Signs of distress when taken off rig. Significant porphyrin secretion starting ~20min prior to habituation ending\n",
    "* **Day 8 - 08/01/2020**\n",
    "    * 2h head fixed - 90 min stimulus (color_population.py)\n",
    "    * Comfortable in hand\n",
    "    * Dome down, projector on\n",
    "    * Mouse kept trying to curl up into ball while on wheel. However, did not seem distinctly distressed when doing so\n",
    "    * No significant stress noted on rig"
   ]
  },
  {
   "cell_type": "markdown",
   "metadata": {},
   "source": [
    "## C28"
   ]
  },
  {
   "cell_type": "markdown",
   "metadata": {},
   "source": [
    "* **Day 1 - 08/04/2020**\n",
    "    * 5 min head fixed, no stimulus\n",
    "    * Comfortable in hand\n",
    "    * seemed distressed on the rig and was pulled off after 3min\n",
    "* **Day 2 - 08/05/2020**\n",
    "    * 15 min head fixed, no stimulus\n",
    "    * Comfortable in hand, no significant distress noted on the rig\n",
    "* **Day 3 - 08/06/2020**\n",
    "    * 30 min head fixed, 15 min stimulus (ArbMatrix_color.py)\n",
    "    * Comfortable in hand, no significant distress noted on the rig\n",
    "    * Dome down, projector on"
   ]
  },
  {
   "cell_type": "markdown",
   "metadata": {},
   "source": [
    "## C29"
   ]
  },
  {
   "cell_type": "markdown",
   "metadata": {},
   "source": [
    "* **Day 1 - 08/04/2020**\n",
    "    * 5 min head fixed, no stimulus\n",
    "    * Comfortable in hand, no significant distress noted on the rig\n",
    "* **Day 2 - 08/05/2020**\n",
    "    * 15 min head fixed, no stimulus\n",
    "    * Comfortable in hand, no significant distress noted on the rig\n",
    "* **Day 3 - 08/06/2020**\n",
    "    * 30 min head fixed, 15 min stimulus (ArbMatrix_color.py)\n",
    "    * Comfortable in hand, no significant distress noted on the rig\n",
    "    * Dome down, projector on"
   ]
  },
  {
   "cell_type": "markdown",
   "metadata": {},
   "source": []
  },
  {
   "cell_type": "markdown",
   "metadata": {},
   "source": []
  },
  {
   "cell_type": "markdown",
   "metadata": {},
   "source": []
  },
  {
   "cell_type": "code",
   "execution_count": null,
   "metadata": {},
   "outputs": [],
   "source": []
  },
  {
   "cell_type": "code",
   "execution_count": null,
   "metadata": {},
   "outputs": [],
   "source": []
  }
 ],
 "metadata": {
  "kernelspec": {
   "display_name": "Python 3",
   "language": "python",
   "name": "python3"
  },
  "language_info": {
   "codemirror_mode": {
    "name": "ipython",
    "version": 3
   },
   "file_extension": ".py",
   "mimetype": "text/x-python",
   "name": "python",
   "nbconvert_exporter": "python",
   "pygments_lexer": "ipython3",
   "version": "3.7.6"
  }
 },
 "nbformat": 4,
 "nbformat_minor": 4
}

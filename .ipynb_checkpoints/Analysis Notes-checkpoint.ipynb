{
 "cells": [
  {
   "cell_type": "markdown",
   "metadata": {},
   "source": [
    "# Spike Clustering in Phy"
   ]
  },
  {
   "cell_type": "markdown",
   "metadata": {},
   "source": [
    "### Merging/Splitting Heuristics"
   ]
  },
  {
   "cell_type": "markdown",
   "metadata": {},
   "source": [
    "#### Drift – changes amplitude over the time of the recording.\n",
    "Often consistent across the neurons in an area, but not perfectly so between areas. Are there suspicious bimodality in example waveforms? Can lead to splitting and merging, or both.\n",
    "#### Signs of mis-sorting in the ISI / CCG based on refractory period (0.8-2 msec) requirement\n",
    "**When to split:** is the ISI close to being clean and you want this data to certainly be single units and are willing to sacrifice cleanness? Is the unit amplitude large? Try cutting some smaller amplitude spikes to clean up possible MUA that has invaded.\n",
    "#### When to merge: two common cases:\n",
    "1. Do the ISIs of two units look similar? Does one look like a scaled version of the other, with some bias in early vs late in the recording (i.e., drift)? Is there a strong symmetrical dip in the CCG? Merge\n",
    "2. Does the CCG have a VERY strong asymmetry, such that the spikes of one unit always come 2-5 msec after another unit, and (almost) never before? Often with secondary bumps in the CCG after that 2-5 msec bump? Is the unit firing later a scaled down version of the other one? This indicated a burst that was artificially split, merge these.  \n",
    "\n",
    "#### Artifact removal\n",
    "Does a unit look pretty good, with a few example waveforms or points in PC space that are way, way off? Split the ones that are way off, and see if they look like coincident spikes of the main waveform with another nearby unit, or if they just look like artifact.  \n",
    "\n",
    "> Other than that, mostly don’t do it, just annotate\n",
    "\n",
    ">**Suggestion:** when sorting a fresh dataset, take some screenshots for each of these cases. If you don’t obvious ones for each, take a screen shot of a good unit (“representative example”) and point out how it *does not* match the case. send the screenshots to me of before and after your merge/splits, and we can compare our judgements."
   ]
  },
  {
   "cell_type": "markdown",
   "metadata": {},
   "source": [
    "## File: 20200703_C9_BC_g0_imec0"
   ]
  },
  {
   "cell_type": "markdown",
   "metadata": {},
   "source": [
    "* Used [Phy User Manual](https://github.com/kwikteam/phy-contrib/blob/master/docs/template-gui.md) to guide analysis\n",
    "* Evaluated all clusters with n > 1000 spikes as 'good', 'mua', or 'noise'\n",
    "* In similarity view, looked at all similar units within 60um from reference\n",
    "* **'Good' clusters with nice action potentials:**\n",
    "    * 34\n",
    "    * 93\n",
    "    * 74\n",
    "    * 70\n",
    "    * 349\n",
    "    * 45\n",
    "    * 353\n",
    "* **Temporal cluster issues:**\n",
    "    * 33\n",
    "    * 219\n",
    "    * 69\n",
    "    * 92 (really odd temporal pattern)\n",
    "    * 152\n",
    "    * 145\n",
    "    * 172\n",
    "    * 56\n",
    "    * 34\n",
    "    * 9\n",
    "    * 74\n",
    "    * 433\n",
    "    * 99\n",
    "    * 413\n",
    "    * 85\n",
    "    * 198\n",
    "    * 9\n",
    "    * 239 \n",
    "    * 287\n",
    "    * 119\n",
    "    * 363\n",
    "    * 340\n",
    "* **Splitting:**\n",
    "    * Split 35 into 384 and 385\n",
    "    * 104 into 394 and 395\n",
    "    * 105 into 408 and 409\n",
    "    * 408 to 420 and 421\n",
    "    * 64 into 412 and 413\n",
    "    * 150 into 424 and 425\n",
    "    * 17 into 426 and 427\n",
    "    * 313 to432 and 433\n",
    "    * 102 to 458 and 459\n",
    "    * 276 into 468 and 469\n",
    "    * 273 to 477 and 478\n",
    "* **Other notes:** \n",
    "   * 128 looked like it might be drifty or had some other unit noise. Marked good"
   ]
  },
  {
   "cell_type": "markdown",
   "metadata": {},
   "source": [
    "## File: 20200703_C9_BC_g0_imec1"
   ]
  },
  {
   "cell_type": "markdown",
   "metadata": {},
   "source": [
    "* Used [Phy User Manual](https://github.com/kwikteam/phy-contrib/blob/master/docs/template-gui.md) to guide analysis\n",
    "* Evaluated all clusters with n > 1000 spikes as 'good', 'mua', or 'noise'\n",
    "* Any clusters I was unsure about went unlabeled\n",
    "* More 'noise' channels than the other probe\n",
    "* **'Good' clusters with nice action potentials:**\n",
    "    * 94\n",
    "    * 136\n",
    "    * 123\n",
    "    * 50\n",
    "    * 85\n",
    "    * 148\n",
    "    * 95\n",
    "    \n",
    "* **Drift?:**\n",
    "    * 106\n",
    "    * 45\n",
    "    * 21\n",
    "    * 364\n",
    "    * 63\n",
    "    * 10\n",
    "    * 3\n",
    "    * 155 (unsure)\n",
    "* **Split:**\n",
    "    * 311 into 311 and 312\n",
    "    * 363 into 363 and 364\n",
    "    * 387 into 387 and 388\n",
    "    * 93 to 417 and 418. \n",
    "* **Looks like 2 clusters, but probably not:**\n",
    "    * 101\n",
    "    * 96\n",
    "    * 74\n",
    "    * 76\n",
    "    * 88\n",
    "    * 212\n",
    "    * 131 \n",
    "        * Unsure about refractory period, but I think its a single unit with some noise\n",
    "    * 172\n",
    "    * 103\n",
    "    * 262\n",
    "    * 363\n",
    "* **Unsure:**\n",
    "    * 86 has very high amplitude deflections that I assume are mua noise. Unsure how to split by amplitude(marked as good)\n",
    "    * 93 \"...\" \n",
    "    * Unsure if 132 is mua or a single noisy unit\n",
    "    * 90 is very noisy, but good I think\n",
    "    * 115 \"...\"\n",
    "    * 116 like 93 and 86\n",
    "    * Unsure if 201 is good or mua\n",
    "    * 136 is noisy, but good\n",
    "    * 123 same as 86\n",
    "    * Really unsure whatto make of 46. 112 looks similar despite being far away\n",
    "    * 194 refractory not very deep, but I think it's just noisy\n",
    "    * Cluster 61 formed two clusters due to error in temporal accuacy. Not separated, called good\n",
    "    * 78 similar to 61\n",
    "    * 58 \"...\"\n",
    "    * 44 \"...\"\n",
    "* **Noise/Artifact:**\n",
    "    * 230\n",
    "    * 236\n",
    "    * 237\n",
    "    * 232\n",
    "    * 253\n",
    "    * 238"
   ]
  },
  {
   "cell_type": "markdown",
   "metadata": {},
   "source": []
  }
 ],
 "metadata": {
  "kernelspec": {
   "display_name": "Python 3",
   "language": "python",
   "name": "python3"
  },
  "language_info": {
   "codemirror_mode": {
    "name": "ipython",
    "version": 3
   },
   "file_extension": ".py",
   "mimetype": "text/x-python",
   "name": "python",
   "nbconvert_exporter": "python",
   "pygments_lexer": "ipython3",
   "version": "3.7.6"
  }
 },
 "nbformat": 4,
 "nbformat_minor": 4
}

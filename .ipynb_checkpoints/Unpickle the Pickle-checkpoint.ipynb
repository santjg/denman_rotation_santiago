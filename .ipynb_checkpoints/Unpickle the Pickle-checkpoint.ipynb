{
 "cells": [
  {
   "cell_type": "code",
   "execution_count": 2,
   "metadata": {},
   "outputs": [],
   "source": [
    "import pickle\n",
    "import numpy as np\n",
    "with open(r\"E:\\20200703_C9_BC_g0\\stimulus\\2020-07-03-114729603102color_.pkl\", 'rb') as f:\n",
    "    data = pickle.load(f)"
   ]
  },
  {
   "cell_type": "code",
   "execution_count": 3,
   "metadata": {},
   "outputs": [
    {
     "data": {
      "text/plain": [
       "dict_keys(['stackG', 'stackB'])"
      ]
     },
     "execution_count": 3,
     "metadata": {},
     "output_type": "execute_result"
    }
   ],
   "source": [
    "data.keys()"
   ]
  },
  {
   "cell_type": "code",
   "execution_count": 2,
   "metadata": {},
   "outputs": [
    {
     "ename": "AttributeError",
     "evalue": "'numpy.ndarray' object has no attribute 'keys'",
     "output_type": "error",
     "traceback": [
      "\u001b[1;31m---------------------------------------------------------------------------\u001b[0m",
      "\u001b[1;31mAttributeError\u001b[0m                            Traceback (most recent call last)",
      "\u001b[1;32m<ipython-input-2-df8885c573f8>\u001b[0m in \u001b[0;36m<module>\u001b[1;34m\u001b[0m\n\u001b[1;32m----> 1\u001b[1;33m \u001b[0mdata\u001b[0m\u001b[1;33m[\u001b[0m\u001b[1;34m'stackG'\u001b[0m\u001b[1;33m]\u001b[0m\u001b[1;33m.\u001b[0m\u001b[0mkeys\u001b[0m\u001b[1;33m(\u001b[0m\u001b[1;33m)\u001b[0m\u001b[1;33m\u001b[0m\u001b[1;33m\u001b[0m\u001b[0m\n\u001b[0m",
      "\u001b[1;31mAttributeError\u001b[0m: 'numpy.ndarray' object has no attribute 'keys'"
     ]
    }
   ],
   "source": []
  },
  {
   "cell_type": "code",
   "execution_count": 4,
   "metadata": {},
   "outputs": [
    {
     "data": {
      "text/plain": [
       "(7200, 64, 64)"
      ]
     },
     "execution_count": 4,
     "metadata": {},
     "output_type": "execute_result"
    }
   ],
   "source": [
    "np.shape(data['stackG'])"
   ]
  },
  {
   "cell_type": "code",
   "execution_count": 2,
   "metadata": {},
   "outputs": [],
   "source": [
    "with open(r'E:\\20200703_C9_BC_g0\\stimulus\\2020-07-03-113513959914.pkl', 'rb') as g:\n",
    "    data2 = pickle.load(g)"
   ]
  },
  {
   "cell_type": "code",
   "execution_count": 7,
   "metadata": {},
   "outputs": [
    {
     "data": {
      "text/plain": [
       "array([[[  0, 254,   0, ...,   0, 254, 254],\n",
       "        [254,   0,   0, ..., 254,   0, 254],\n",
       "        [254, 254, 254, ..., 254, 254,   0],\n",
       "        ...,\n",
       "        [  0,   0, 254, ..., 254, 254, 254],\n",
       "        [  0, 254, 254, ..., 254, 254, 254],\n",
       "        [  0,   0, 254, ..., 254, 254,   0]],\n",
       "\n",
       "       [[254,   0,   0, ...,   0, 254, 254],\n",
       "        [254, 254,   0, ...,   0,   0, 254],\n",
       "        [254,   0, 254, ...,   0,   0, 254],\n",
       "        ...,\n",
       "        [254, 254,   0, ..., 254,   0,   0],\n",
       "        [254,   0, 254, ...,   0, 254, 254],\n",
       "        [  0,   0, 254, ..., 254,   0, 254]],\n",
       "\n",
       "       [[254,   0,   0, ...,   0,   0, 254],\n",
       "        [254, 254,   0, ..., 254, 254,   0],\n",
       "        [  0, 254,   0, ...,   0,   0, 254],\n",
       "        ...,\n",
       "        [254,   0,   0, ..., 254,   0, 254],\n",
       "        [254,   0,   0, ..., 254,   0,   0],\n",
       "        [  0,   0,   0, ...,   0, 254, 254]],\n",
       "\n",
       "       ...,\n",
       "\n",
       "       [[  0, 254,   0, ..., 254, 254, 254],\n",
       "        [254, 254, 254, ...,   0, 254,   0],\n",
       "        [254, 254,   0, ...,   0,   0,   0],\n",
       "        ...,\n",
       "        [  0,   0,   0, ...,   0,   0,   0],\n",
       "        [254,   0,   0, ...,   0,   0,   0],\n",
       "        [  0,   0,   0, ...,   0,   0,   0]],\n",
       "\n",
       "       [[  0, 254, 254, ...,   0,   0,   0],\n",
       "        [  0,   0,   0, ..., 254,   0,   0],\n",
       "        [254, 254, 254, ..., 254,   0,   0],\n",
       "        ...,\n",
       "        [  0,   0,   0, ..., 254,   0, 254],\n",
       "        [  0,   0,   0, ...,   0,   0, 254],\n",
       "        [254,   0, 254, ...,   0,   0, 254]],\n",
       "\n",
       "       [[  0,   0,   0, ..., 254,   0, 254],\n",
       "        [  0, 254,   0, ...,   0, 254, 254],\n",
       "        [254,   0,   0, ...,   0,   0, 254],\n",
       "        ...,\n",
       "        [  0,   0,   0, ..., 254,   0,   0],\n",
       "        [  0, 254, 254, ..., 254,   0, 254],\n",
       "        [  0,   0,   0, ..., 254, 254,   0]]], dtype=uint8)"
      ]
     },
     "execution_count": 7,
     "metadata": {},
     "output_type": "execute_result"
    }
   ],
   "source": [
    "data2"
   ]
  },
  {
   "cell_type": "code",
   "execution_count": 8,
   "metadata": {},
   "outputs": [
    {
     "data": {
      "text/plain": [
       "(7200, 64, 64)"
      ]
     },
     "execution_count": 8,
     "metadata": {},
     "output_type": "execute_result"
    }
   ],
   "source": [
    "np.shape(data2)"
   ]
  },
  {
   "cell_type": "code",
   "execution_count": 10,
   "metadata": {},
   "outputs": [],
   "source": [
    "with open(r\"E:\\20200703_C9_BC_g0\\stimulus\\200703125223-scene_flicker_shuffled-C9.pkl\", 'rb') as g:\n",
    "    data3 = pickle.load(g)"
   ]
  },
  {
   "cell_type": "code",
   "execution_count": 14,
   "metadata": {},
   "outputs": [
    {
     "data": {
      "text/plain": [
       "dict_keys(['window', 'params', 'showmouse', 'fps', 'degreemode', 'domain', 'miniwindow', 'script', 'wwidth', 'wheight', 'monitor', 'vsynccount', 'stimuli', 'runs', 'shuffle', 'preexpsec', 'postexpsec', 'postsweepsec', 'sweeplength', 'blanksweeps', 'logdir', 'backupdir', 'mouseid', 'userid', 'nidevice', 'bgcolor', 'syncsqr', 'syncsqrloc', 'syncsqrfreq', 'syncsqrcolorsequence', 'syncpulse', 'syncpulseport', 'syncpulselines', 'controlstream', 'trigger', 'triggerdiport', 'triggerdiline', 'savesweeptable', 'eyetracker', 'syncsqrBit', 'sweepsdisplayed', 'errors', 'bgSweep', 'fgSweep', 'bgFrame', 'fgFrame', 'bgsweeptable', 'bgsweeporder', 'bgdimnames', 'bgStim', 'fgStim', 'do', 'ai', 'ao', 'sweepBit', 'frameBit', 'redoblockedsweeps', 'laptimeout', 'lapstartx', 'laptimeoutx', 'difficultyindex', 'task', 'paradigm', 'stage', 'volumelimit', 'timelimit', 'mode', 'diport', 'doport', 'invertdo', 'behavioralreport', 'shapingfile', 'laps', 'rewards', 'stimuluslog', 'punishments', 'laptimeouts', 'posx', 'dx', 'vin', 'vsig', 'terrainlog', 'commandrecord', 'blocked_sweeps', 'keycontrol', 'opto_off_time', 'terrain', 'offscreen', 'performanceip', 'performanceport', 'datastream', 'encoder', 'keys', 'lickports', 'rewardlines', 'rewardport', 'rewardlimit', 'rewardvol', 'reward', 'lickData', 'imagefiles', 'startdatetime', 'starttime', 'stoptime', 'stopdatetime', 'intervalsms', 'droppedframes', 'scripttext', 'platform', 'vsyncintervals', 'bgsweepframes', 'adjustment', 'lickSensor', 'punishment', 'led', 'unpickleable'])"
      ]
     },
     "execution_count": 14,
     "metadata": {},
     "output_type": "execute_result"
    }
   ],
   "source": [
    "data3.keys()"
   ]
  },
  {
   "cell_type": "code",
   "execution_count": 38,
   "metadata": {},
   "outputs": [
    {
     "name": "stdout",
     "output_type": "stream",
     "text": [
      "768\n"
     ]
    }
   ],
   "source": [
    "print(data3['wheight'])"
   ]
  },
  {
   "cell_type": "code",
   "execution_count": 12,
   "metadata": {},
   "outputs": [
    {
     "name": "stdout",
     "output_type": "stream",
     "text": [
      "2950\n"
     ]
    }
   ],
   "source": [
    "print(data3['sweepsdisplayed'])"
   ]
  },
  {
   "cell_type": "code",
   "execution_count": 11,
   "metadata": {},
   "outputs": [
    {
     "name": "stdout",
     "output_type": "stream",
     "text": [
      "from psychopy import visual\n",
      "import os\n",
      "from aibs.Foraging import Foraging\n",
      "from aibs.Projector.ProjectorWindow import *\n",
      "from psychopy.visual.windowwarp import Warper\n",
      "\n",
      "params = {\n",
      "    'runs':25,\n",
      "    'blanksweeps':0,\n",
      "    'shuffle':True,\n",
      "    'preexpsec':10, #seconds at the start of the experiment\n",
      "    'postexpsec':0, #seconds at the end of the experiment\n",
      "    'sweeplength':0.1, #length of sweeps\n",
      "    'postsweepsec':0., #black period after sweeps (foreground remains)\n",
      "    'mouseid': \"C9\",                                #name of the mouse\n",
      "    'userid': \"danield\",                        #name of the user    \n",
      "    'nidevice': 'Dev1',               #NI device name\n",
      "    'blanksweeps': 0,             #blank sweep every x sweeps\n",
      "    'bgcolor': 'black',                #background color\n",
      "    'syncsqr': False,                  #display a flashing square for synchronization\n",
      "    'syncsqrloc': (30,200),\n",
      "    'syncsqrfreq': 60,                   #from black to white every X frames\n",
      "    'syncpulse':True,\n",
      "    'doport':0,\n",
      "    'diport':2,\n",
      "    'syncpulselines':[1,2,3],\n",
      "    \"savesweeptable\": False,\n",
      "    'eyetracker':False,\n",
      "    'eyetrackerip': \"W7DTMJ82MX5\", \n",
      "    'eyetrackerport': 10000,\n",
      "    'lims_upload':False,\n",
      "}\n",
      "\n",
      "mon = monitors.Monitor('uvprojector',width=115.2,distance=30,gamma=None,notes=None,useBits=None,verbose=True)\n",
      "mon.setSizePix([800,600])\n",
      "mon = monitors.Monitor('uvprojector',width=115.2,distance=30,gamma=None,notes=None,useBits=None,verbose=True)\n",
      "mon.setSizePix([1024,768])\n",
      "window =  visual.Window(monitor = 'testMonitor',color=(0,0,0),screen=1,fullscr=True,useFBO=True)\n",
      "warper = Warper(window, warpfile=r'C:\\Users\\denma\\Desktop\\dan\\warps\\uvProjector2_Warp2.data',\n",
      "                                warp='warpfile',flipHorizontal=True)\n",
      "\n",
      "path = r\"C:\\Users\\denma\\Desktop\\stimuli_static\\CAM_stimuli\\NaturalImages\"\n",
      "imagefiles = [os.path.join(path,f) for f in os.listdir(path) if len(f) > 4 and f[-4:] in ['.jpg','.png','.tif','tiff']]\n",
      "# print(imagefiles[0][imagefiles[0].find('NaturalImages\\\\')+len('NaturalImages\\\\'):imagefiles[0].rfind('.')])\n",
      "sequence = []\n",
      "for i in imagefiles:\n",
      "    filename = i[i.find('NaturalImages\\\\')+len('NaturalImages\\\\'):i.rfind('.')]\n",
      "    firstcharacterinimagestring = filename[0]\n",
      "    if firstcharacterinimagestring.lower() == 'm' or firstcharacterinimagestring.lower() == 'p':\n",
      "        sequence.append(visual.ImageStim(window,image = i,flipVert=True,flipHoriz=False,size=(228*1.2,170*1.2),pos=(228/3,0),units='pix'))\n",
      "    else:\n",
      "        sequence.append(visual.ImageStim(window,image = i,flipVert=True,flipHoriz=False,size=(256*1.2,170*1.2),pos=(256/3,0),units='pix'))\n",
      "\n",
      "\n",
      "g = Foraging(window, params, bgStim=sequence)\n",
      "g.imagefiles = imagefiles\n",
      "\n",
      "\n",
      "g.run()\n",
      "\n",
      "\n",
      "\n"
     ]
    }
   ],
   "source": [
    "print(data3['scripttext'])"
   ]
  },
  {
   "cell_type": "code",
   "execution_count": 23,
   "metadata": {},
   "outputs": [
    {
     "data": {
      "text/plain": [
       "['C:\\\\Users\\\\denma\\\\Desktop\\\\stimuli_static\\\\CAM_stimuli\\\\NaturalImages\\\\BSDS_100075.tiff',\n",
       " 'C:\\\\Users\\\\denma\\\\Desktop\\\\stimuli_static\\\\CAM_stimuli\\\\NaturalImages\\\\BSDS_100098.tiff',\n",
       " 'C:\\\\Users\\\\denma\\\\Desktop\\\\stimuli_static\\\\CAM_stimuli\\\\NaturalImages\\\\BSDS_100099.tiff',\n",
       " 'C:\\\\Users\\\\denma\\\\Desktop\\\\stimuli_static\\\\CAM_stimuli\\\\NaturalImages\\\\BSDS_103006.tiff',\n",
       " 'C:\\\\Users\\\\denma\\\\Desktop\\\\stimuli_static\\\\CAM_stimuli\\\\NaturalImages\\\\BSDS_103029.tiff',\n",
       " 'C:\\\\Users\\\\denma\\\\Desktop\\\\stimuli_static\\\\CAM_stimuli\\\\NaturalImages\\\\BSDS_105019.tiff',\n",
       " 'C:\\\\Users\\\\denma\\\\Desktop\\\\stimuli_static\\\\CAM_stimuli\\\\NaturalImages\\\\BSDS_105027.tiff',\n",
       " 'C:\\\\Users\\\\denma\\\\Desktop\\\\stimuli_static\\\\CAM_stimuli\\\\NaturalImages\\\\BSDS_105053.tiff',\n",
       " 'C:\\\\Users\\\\denma\\\\Desktop\\\\stimuli_static\\\\CAM_stimuli\\\\NaturalImages\\\\BSDS_107014.tiff',\n",
       " 'C:\\\\Users\\\\denma\\\\Desktop\\\\stimuli_static\\\\CAM_stimuli\\\\NaturalImages\\\\BSDS_107072.tiff',\n",
       " 'C:\\\\Users\\\\denma\\\\Desktop\\\\stimuli_static\\\\CAM_stimuli\\\\NaturalImages\\\\BSDS_108004.tiff',\n",
       " 'C:\\\\Users\\\\denma\\\\Desktop\\\\stimuli_static\\\\CAM_stimuli\\\\NaturalImages\\\\BSDS_108069.tiff',\n",
       " 'C:\\\\Users\\\\denma\\\\Desktop\\\\stimuli_static\\\\CAM_stimuli\\\\NaturalImages\\\\BSDS_108073.tiff',\n",
       " 'C:\\\\Users\\\\denma\\\\Desktop\\\\stimuli_static\\\\CAM_stimuli\\\\NaturalImages\\\\BSDS_109034.tiff',\n",
       " 'C:\\\\Users\\\\denma\\\\Desktop\\\\stimuli_static\\\\CAM_stimuli\\\\NaturalImages\\\\BSDS_109055.tiff',\n",
       " 'C:\\\\Users\\\\denma\\\\Desktop\\\\stimuli_static\\\\CAM_stimuli\\\\NaturalImages\\\\BSDS_134008.tiff',\n",
       " 'C:\\\\Users\\\\denma\\\\Desktop\\\\stimuli_static\\\\CAM_stimuli\\\\NaturalImages\\\\BSDS_134049.tiff',\n",
       " 'C:\\\\Users\\\\denma\\\\Desktop\\\\stimuli_static\\\\CAM_stimuli\\\\NaturalImages\\\\BSDS_134052.tiff',\n",
       " 'C:\\\\Users\\\\denma\\\\Desktop\\\\stimuli_static\\\\CAM_stimuli\\\\NaturalImages\\\\BSDS_135037.tiff',\n",
       " 'C:\\\\Users\\\\denma\\\\Desktop\\\\stimuli_static\\\\CAM_stimuli\\\\NaturalImages\\\\BSDS_135069.tiff',\n",
       " 'C:\\\\Users\\\\denma\\\\Desktop\\\\stimuli_static\\\\CAM_stimuli\\\\NaturalImages\\\\BSDS_145079.tiff',\n",
       " 'C:\\\\Users\\\\denma\\\\Desktop\\\\stimuli_static\\\\CAM_stimuli\\\\NaturalImages\\\\BSDS_160006.tiff',\n",
       " 'C:\\\\Users\\\\denma\\\\Desktop\\\\stimuli_static\\\\CAM_stimuli\\\\NaturalImages\\\\BSDS_160067.tiff',\n",
       " 'C:\\\\Users\\\\denma\\\\Desktop\\\\stimuli_static\\\\CAM_stimuli\\\\NaturalImages\\\\BSDS_16052.tiff',\n",
       " 'C:\\\\Users\\\\denma\\\\Desktop\\\\stimuli_static\\\\CAM_stimuli\\\\NaturalImages\\\\BSDS_163062.tiff',\n",
       " 'C:\\\\Users\\\\denma\\\\Desktop\\\\stimuli_static\\\\CAM_stimuli\\\\NaturalImages\\\\BSDS_173036.tiff',\n",
       " 'C:\\\\Users\\\\denma\\\\Desktop\\\\stimuli_static\\\\CAM_stimuli\\\\NaturalImages\\\\BSDS_175083.tiff',\n",
       " 'C:\\\\Users\\\\denma\\\\Desktop\\\\stimuli_static\\\\CAM_stimuli\\\\NaturalImages\\\\BSDS_187039.tiff',\n",
       " 'C:\\\\Users\\\\denma\\\\Desktop\\\\stimuli_static\\\\CAM_stimuli\\\\NaturalImages\\\\BSDS_196015.tiff',\n",
       " 'C:\\\\Users\\\\denma\\\\Desktop\\\\stimuli_static\\\\CAM_stimuli\\\\NaturalImages\\\\BSDS_196062.tiff',\n",
       " 'C:\\\\Users\\\\denma\\\\Desktop\\\\stimuli_static\\\\CAM_stimuli\\\\NaturalImages\\\\BSDS_2092.tiff',\n",
       " 'C:\\\\Users\\\\denma\\\\Desktop\\\\stimuli_static\\\\CAM_stimuli\\\\NaturalImages\\\\BSDS_216066.tiff',\n",
       " 'C:\\\\Users\\\\denma\\\\Desktop\\\\stimuli_static\\\\CAM_stimuli\\\\NaturalImages\\\\BSDS_236017.tiff',\n",
       " 'C:\\\\Users\\\\denma\\\\Desktop\\\\stimuli_static\\\\CAM_stimuli\\\\NaturalImages\\\\BSDS_247003.tiff',\n",
       " 'C:\\\\Users\\\\denma\\\\Desktop\\\\stimuli_static\\\\CAM_stimuli\\\\NaturalImages\\\\BSDS_253016.tiff',\n",
       " 'C:\\\\Users\\\\denma\\\\Desktop\\\\stimuli_static\\\\CAM_stimuli\\\\NaturalImages\\\\BSDS_268048.tiff',\n",
       " 'C:\\\\Users\\\\denma\\\\Desktop\\\\stimuli_static\\\\CAM_stimuli\\\\NaturalImages\\\\BSDS_28075.tiff',\n",
       " 'C:\\\\Users\\\\denma\\\\Desktop\\\\stimuli_static\\\\CAM_stimuli\\\\NaturalImages\\\\BSDS_28083.tiff',\n",
       " 'C:\\\\Users\\\\denma\\\\Desktop\\\\stimuli_static\\\\CAM_stimuli\\\\NaturalImages\\\\BSDS_309004.tiff',\n",
       " 'C:\\\\Users\\\\denma\\\\Desktop\\\\stimuli_static\\\\CAM_stimuli\\\\NaturalImages\\\\BSDS_326038.tiff',\n",
       " 'C:\\\\Users\\\\denma\\\\Desktop\\\\stimuli_static\\\\CAM_stimuli\\\\NaturalImages\\\\BSDS_35008.tiff',\n",
       " 'C:\\\\Users\\\\denma\\\\Desktop\\\\stimuli_static\\\\CAM_stimuli\\\\NaturalImages\\\\BSDS_35049.tiff',\n",
       " 'C:\\\\Users\\\\denma\\\\Desktop\\\\stimuli_static\\\\CAM_stimuli\\\\NaturalImages\\\\BSDS_35058.tiff',\n",
       " 'C:\\\\Users\\\\denma\\\\Desktop\\\\stimuli_static\\\\CAM_stimuli\\\\NaturalImages\\\\BSDS_36046.tiff',\n",
       " 'C:\\\\Users\\\\denma\\\\Desktop\\\\stimuli_static\\\\CAM_stimuli\\\\NaturalImages\\\\BSDS_41004.tiff',\n",
       " 'C:\\\\Users\\\\denma\\\\Desktop\\\\stimuli_static\\\\CAM_stimuli\\\\NaturalImages\\\\BSDS_41006.tiff',\n",
       " 'C:\\\\Users\\\\denma\\\\Desktop\\\\stimuli_static\\\\CAM_stimuli\\\\NaturalImages\\\\BSDS_41029.tiff',\n",
       " 'C:\\\\Users\\\\denma\\\\Desktop\\\\stimuli_static\\\\CAM_stimuli\\\\NaturalImages\\\\BSDS_41085.tiff',\n",
       " 'C:\\\\Users\\\\denma\\\\Desktop\\\\stimuli_static\\\\CAM_stimuli\\\\NaturalImages\\\\BSDS_41096.tiff',\n",
       " 'C:\\\\Users\\\\denma\\\\Desktop\\\\stimuli_static\\\\CAM_stimuli\\\\NaturalImages\\\\BSDS_42044.tiff',\n",
       " 'C:\\\\Users\\\\denma\\\\Desktop\\\\stimuli_static\\\\CAM_stimuli\\\\NaturalImages\\\\BSDS_42078.tiff',\n",
       " 'C:\\\\Users\\\\denma\\\\Desktop\\\\stimuli_static\\\\CAM_stimuli\\\\NaturalImages\\\\BSDS_43033.tiff',\n",
       " 'C:\\\\Users\\\\denma\\\\Desktop\\\\stimuli_static\\\\CAM_stimuli\\\\NaturalImages\\\\BSDS_43051.tiff',\n",
       " 'C:\\\\Users\\\\denma\\\\Desktop\\\\stimuli_static\\\\CAM_stimuli\\\\NaturalImages\\\\BSDS_49024.tiff',\n",
       " 'C:\\\\Users\\\\denma\\\\Desktop\\\\stimuli_static\\\\CAM_stimuli\\\\NaturalImages\\\\BSDS_69022.tiff',\n",
       " 'C:\\\\Users\\\\denma\\\\Desktop\\\\stimuli_static\\\\CAM_stimuli\\\\NaturalImages\\\\BSDS_70011.tiff',\n",
       " 'C:\\\\Users\\\\denma\\\\Desktop\\\\stimuli_static\\\\CAM_stimuli\\\\NaturalImages\\\\BSDS_8049.tiff',\n",
       " 'C:\\\\Users\\\\denma\\\\Desktop\\\\stimuli_static\\\\CAM_stimuli\\\\NaturalImages\\\\BSDS_8068.tiff',\n",
       " 'C:\\\\Users\\\\denma\\\\Desktop\\\\stimuli_static\\\\CAM_stimuli\\\\NaturalImages\\\\BSDS_8143.tiff',\n",
       " 'C:\\\\Users\\\\denma\\\\Desktop\\\\stimuli_static\\\\CAM_stimuli\\\\NaturalImages\\\\imk00182.tiff',\n",
       " 'C:\\\\Users\\\\denma\\\\Desktop\\\\stimuli_static\\\\CAM_stimuli\\\\NaturalImages\\\\imk00264.tiff',\n",
       " 'C:\\\\Users\\\\denma\\\\Desktop\\\\stimuli_static\\\\CAM_stimuli\\\\NaturalImages\\\\imk00459.tiff',\n",
       " 'C:\\\\Users\\\\denma\\\\Desktop\\\\stimuli_static\\\\CAM_stimuli\\\\NaturalImages\\\\imk00895.tiff',\n",
       " 'C:\\\\Users\\\\denma\\\\Desktop\\\\stimuli_static\\\\CAM_stimuli\\\\NaturalImages\\\\imk00942.tiff',\n",
       " 'C:\\\\Users\\\\denma\\\\Desktop\\\\stimuli_static\\\\CAM_stimuli\\\\NaturalImages\\\\imk01024.tiff',\n",
       " 'C:\\\\Users\\\\denma\\\\Desktop\\\\stimuli_static\\\\CAM_stimuli\\\\NaturalImages\\\\imk01057.tiff',\n",
       " 'C:\\\\Users\\\\denma\\\\Desktop\\\\stimuli_static\\\\CAM_stimuli\\\\NaturalImages\\\\imk01097.tiff',\n",
       " 'C:\\\\Users\\\\denma\\\\Desktop\\\\stimuli_static\\\\CAM_stimuli\\\\NaturalImages\\\\imk01159.tiff',\n",
       " 'C:\\\\Users\\\\denma\\\\Desktop\\\\stimuli_static\\\\CAM_stimuli\\\\NaturalImages\\\\imk01166.tiff',\n",
       " 'C:\\\\Users\\\\denma\\\\Desktop\\\\stimuli_static\\\\CAM_stimuli\\\\NaturalImages\\\\imk01220.tiff',\n",
       " 'C:\\\\Users\\\\denma\\\\Desktop\\\\stimuli_static\\\\CAM_stimuli\\\\NaturalImages\\\\imk01251.tiff',\n",
       " 'C:\\\\Users\\\\denma\\\\Desktop\\\\stimuli_static\\\\CAM_stimuli\\\\NaturalImages\\\\imk01261.tiff',\n",
       " 'C:\\\\Users\\\\denma\\\\Desktop\\\\stimuli_static\\\\CAM_stimuli\\\\NaturalImages\\\\imk01266.tiff',\n",
       " 'C:\\\\Users\\\\denma\\\\Desktop\\\\stimuli_static\\\\CAM_stimuli\\\\NaturalImages\\\\imk01306.tiff',\n",
       " 'C:\\\\Users\\\\denma\\\\Desktop\\\\stimuli_static\\\\CAM_stimuli\\\\NaturalImages\\\\imk01322.tiff',\n",
       " 'C:\\\\Users\\\\denma\\\\Desktop\\\\stimuli_static\\\\CAM_stimuli\\\\NaturalImages\\\\imk01333.tiff',\n",
       " 'C:\\\\Users\\\\denma\\\\Desktop\\\\stimuli_static\\\\CAM_stimuli\\\\NaturalImages\\\\imk01343.tiff',\n",
       " 'C:\\\\Users\\\\denma\\\\Desktop\\\\stimuli_static\\\\CAM_stimuli\\\\NaturalImages\\\\imk01378.tiff',\n",
       " 'C:\\\\Users\\\\denma\\\\Desktop\\\\stimuli_static\\\\CAM_stimuli\\\\NaturalImages\\\\imk01390.tiff',\n",
       " 'C:\\\\Users\\\\denma\\\\Desktop\\\\stimuli_static\\\\CAM_stimuli\\\\NaturalImages\\\\imk01470.tiff',\n",
       " 'C:\\\\Users\\\\denma\\\\Desktop\\\\stimuli_static\\\\CAM_stimuli\\\\NaturalImages\\\\imk01491.tiff',\n",
       " 'C:\\\\Users\\\\denma\\\\Desktop\\\\stimuli_static\\\\CAM_stimuli\\\\NaturalImages\\\\imk01536.tiff',\n",
       " 'C:\\\\Users\\\\denma\\\\Desktop\\\\stimuli_static\\\\CAM_stimuli\\\\NaturalImages\\\\imk01559.tiff',\n",
       " 'C:\\\\Users\\\\denma\\\\Desktop\\\\stimuli_static\\\\CAM_stimuli\\\\NaturalImages\\\\imk01574.tiff',\n",
       " 'C:\\\\Users\\\\denma\\\\Desktop\\\\stimuli_static\\\\CAM_stimuli\\\\NaturalImages\\\\imk01601.tiff',\n",
       " 'C:\\\\Users\\\\denma\\\\Desktop\\\\stimuli_static\\\\CAM_stimuli\\\\NaturalImages\\\\imk01643.tiff',\n",
       " 'C:\\\\Users\\\\denma\\\\Desktop\\\\stimuli_static\\\\CAM_stimuli\\\\NaturalImages\\\\imk01677.tiff',\n",
       " 'C:\\\\Users\\\\denma\\\\Desktop\\\\stimuli_static\\\\CAM_stimuli\\\\NaturalImages\\\\imk01710.tiff',\n",
       " 'C:\\\\Users\\\\denma\\\\Desktop\\\\stimuli_static\\\\CAM_stimuli\\\\NaturalImages\\\\imk01733.tiff',\n",
       " 'C:\\\\Users\\\\denma\\\\Desktop\\\\stimuli_static\\\\CAM_stimuli\\\\NaturalImages\\\\imk01776.tiff',\n",
       " 'C:\\\\Users\\\\denma\\\\Desktop\\\\stimuli_static\\\\CAM_stimuli\\\\NaturalImages\\\\imk01950.tiff',\n",
       " 'C:\\\\Users\\\\denma\\\\Desktop\\\\stimuli_static\\\\CAM_stimuli\\\\NaturalImages\\\\imk02169.tiff',\n",
       " 'C:\\\\Users\\\\denma\\\\Desktop\\\\stimuli_static\\\\CAM_stimuli\\\\NaturalImages\\\\imk02655.tiff',\n",
       " 'C:\\\\Users\\\\denma\\\\Desktop\\\\stimuli_static\\\\CAM_stimuli\\\\NaturalImages\\\\imk03348.tiff',\n",
       " 'C:\\\\Users\\\\denma\\\\Desktop\\\\stimuli_static\\\\CAM_stimuli\\\\NaturalImages\\\\imk03402.tiff',\n",
       " 'C:\\\\Users\\\\denma\\\\Desktop\\\\stimuli_static\\\\CAM_stimuli\\\\NaturalImages\\\\imk03407.tiff',\n",
       " 'C:\\\\Users\\\\denma\\\\Desktop\\\\stimuli_static\\\\CAM_stimuli\\\\NaturalImages\\\\imk03725.tiff',\n",
       " 'C:\\\\Users\\\\denma\\\\Desktop\\\\stimuli_static\\\\CAM_stimuli\\\\NaturalImages\\\\imk03833.tiff',\n",
       " 'C:\\\\Users\\\\denma\\\\Desktop\\\\stimuli_static\\\\CAM_stimuli\\\\NaturalImages\\\\imk03836.tiff',\n",
       " 'C:\\\\Users\\\\denma\\\\Desktop\\\\stimuli_static\\\\CAM_stimuli\\\\NaturalImages\\\\imk04103.tiff',\n",
       " 'C:\\\\Users\\\\denma\\\\Desktop\\\\stimuli_static\\\\CAM_stimuli\\\\NaturalImages\\\\imk04175.tiff',\n",
       " 'C:\\\\Users\\\\denma\\\\Desktop\\\\stimuli_static\\\\CAM_stimuli\\\\NaturalImages\\\\imk04208.tiff',\n",
       " 'C:\\\\Users\\\\denma\\\\Desktop\\\\stimuli_static\\\\CAM_stimuli\\\\NaturalImages\\\\McGill_bird.tiff',\n",
       " 'C:\\\\Users\\\\denma\\\\Desktop\\\\stimuli_static\\\\CAM_stimuli\\\\NaturalImages\\\\McGill_grass_bench.tiff',\n",
       " 'C:\\\\Users\\\\denma\\\\Desktop\\\\stimuli_static\\\\CAM_stimuli\\\\NaturalImages\\\\McGill_rock.tiff',\n",
       " 'C:\\\\Users\\\\denma\\\\Desktop\\\\stimuli_static\\\\CAM_stimuli\\\\NaturalImages\\\\McGill_staircase_bricks.tiff',\n",
       " 'C:\\\\Users\\\\denma\\\\Desktop\\\\stimuli_static\\\\CAM_stimuli\\\\NaturalImages\\\\McGill_stairs.tiff',\n",
       " 'C:\\\\Users\\\\denma\\\\Desktop\\\\stimuli_static\\\\CAM_stimuli\\\\NaturalImages\\\\McGill_trees_snow.tiff',\n",
       " 'C:\\\\Users\\\\denma\\\\Desktop\\\\stimuli_static\\\\CAM_stimuli\\\\NaturalImages\\\\McGill_tree_wall.tiff',\n",
       " 'C:\\\\Users\\\\denma\\\\Desktop\\\\stimuli_static\\\\CAM_stimuli\\\\NaturalImages\\\\merry_mexico0152.tiff',\n",
       " 'C:\\\\Users\\\\denma\\\\Desktop\\\\stimuli_static\\\\CAM_stimuli\\\\NaturalImages\\\\pippin0096.tiff',\n",
       " 'C:\\\\Users\\\\denma\\\\Desktop\\\\stimuli_static\\\\CAM_stimuli\\\\NaturalImages\\\\pippin0122.tiff',\n",
       " 'C:\\\\Users\\\\denma\\\\Desktop\\\\stimuli_static\\\\CAM_stimuli\\\\NaturalImages\\\\pippin0128.tiff',\n",
       " 'C:\\\\Users\\\\denma\\\\Desktop\\\\stimuli_static\\\\CAM_stimuli\\\\NaturalImages\\\\pippin0229.tiff',\n",
       " 'C:\\\\Users\\\\denma\\\\Desktop\\\\stimuli_static\\\\CAM_stimuli\\\\NaturalImages\\\\pippin0233.tiff',\n",
       " 'C:\\\\Users\\\\denma\\\\Desktop\\\\stimuli_static\\\\CAM_stimuli\\\\NaturalImages\\\\pippin0269.tiff',\n",
       " 'C:\\\\Users\\\\denma\\\\Desktop\\\\stimuli_static\\\\CAM_stimuli\\\\NaturalImages\\\\pippin_Mex07_023.tiff',\n",
       " 'C:\\\\Users\\\\denma\\\\Desktop\\\\stimuli_static\\\\CAM_stimuli\\\\NaturalImages\\\\pippin_Mex07_030.tiff']"
      ]
     },
     "execution_count": 23,
     "metadata": {},
     "output_type": "execute_result"
    }
   ],
   "source": [
    "data3['imagefiles']"
   ]
  },
  {
   "cell_type": "code",
   "execution_count": 35,
   "metadata": {},
   "outputs": [
    {
     "name": "stdout",
     "output_type": "stream",
     "text": [
      "['BSDS_100075.tiff', 'BSDS_100098.tiff', 'BSDS_100099.tiff', 'BSDS_103006.tiff', 'BSDS_103029.tiff', 'BSDS_105019.tiff', 'BSDS_105027.tiff', 'BSDS_105053.tiff', 'BSDS_107014.tiff', 'BSDS_107072.tiff', 'BSDS_108004.tiff', 'BSDS_108069.tiff', 'BSDS_108073.tiff', 'BSDS_109034.tiff', 'BSDS_109055.tiff', 'BSDS_134008.tiff', 'BSDS_134049.tiff', 'BSDS_134052.tiff', 'BSDS_135037.tiff', 'BSDS_135069.tiff', 'BSDS_145079.tiff', 'BSDS_160006.tiff', 'BSDS_160067.tiff', 'BSDS_16052.tiff', 'BSDS_163062.tiff', 'BSDS_173036.tiff', 'BSDS_175083.tiff', 'BSDS_187039.tiff', 'BSDS_196015.tiff', 'BSDS_196062.tiff', 'BSDS_2092.tiff', 'BSDS_216066.tiff', 'BSDS_236017.tiff', 'BSDS_247003.tiff', 'BSDS_253016.tiff', 'BSDS_268048.tiff', 'BSDS_28075.tiff', 'BSDS_28083.tiff', 'BSDS_309004.tiff', 'BSDS_326038.tiff', 'BSDS_35008.tiff', 'BSDS_35049.tiff', 'BSDS_35058.tiff', 'BSDS_36046.tiff', 'BSDS_41004.tiff', 'BSDS_41006.tiff', 'BSDS_41029.tiff', 'BSDS_41085.tiff', 'BSDS_41096.tiff', 'BSDS_42044.tiff', 'BSDS_42078.tiff', 'BSDS_43033.tiff', 'BSDS_43051.tiff', 'BSDS_49024.tiff', 'BSDS_69022.tiff', 'BSDS_70011.tiff', 'BSDS_8049.tiff', 'BSDS_8068.tiff', 'BSDS_8143.tiff', 'imk00182.tiff', 'imk00264.tiff', 'imk00459.tiff', 'imk00895.tiff', 'imk00942.tiff', 'imk01024.tiff', 'imk01057.tiff', 'imk01097.tiff', 'imk01159.tiff', 'imk01166.tiff', 'imk01220.tiff', 'imk01251.tiff', 'imk01261.tiff', 'imk01266.tiff', 'imk01306.tiff', 'imk01322.tiff', 'imk01333.tiff', 'imk01343.tiff', 'imk01378.tiff', 'imk01390.tiff', 'imk01470.tiff', 'imk01491.tiff', 'imk01536.tiff', 'imk01559.tiff', 'imk01574.tiff', 'imk01601.tiff', 'imk01643.tiff', 'imk01677.tiff', 'imk01710.tiff', 'imk01733.tiff', 'imk01776.tiff', 'imk01950.tiff', 'imk02169.tiff', 'imk02655.tiff', 'imk03348.tiff', 'imk03402.tiff', 'imk03407.tiff', 'imk03725.tiff', 'imk03833.tiff', 'imk03836.tiff', 'imk04103.tiff', 'imk04175.tiff', 'imk04208.tiff', 'McGill_bird.tiff', 'McGill_grass_bench.tiff', 'McGill_rock.tiff', 'McGill_staircase_bricks.tiff', 'McGill_stairs.tiff', 'McGill_trees_snow.tiff', 'McGill_tree_wall.tiff', 'merry_mexico0152.tiff', 'pippin0096.tiff', 'pippin0122.tiff', 'pippin0128.tiff', 'pippin0229.tiff', 'pippin0233.tiff', 'pippin0269.tiff', 'pippin_Mex07_023.tiff', 'pippin_Mex07_030.tiff']\n"
     ]
    }
   ],
   "source": [
    "import os\n",
    "data = []\n",
    "\n",
    "for i in range(118):\n",
    "    data.append(os.path.basename(data3['imagefiles'][i])),\n",
    "    \n",
    "print(data)"
   ]
  },
  {
   "cell_type": "code",
   "execution_count": 12,
   "metadata": {},
   "outputs": [],
   "source": [
    "with open(r\"E:\\20200703_C9_BC_g0\\stimulus\\200703120953-gratings_orientation_isoluminant-C9.pkl\", 'rb') as h:\n",
    "    data4 = pickle.load(h)"
   ]
  },
  {
   "cell_type": "code",
   "execution_count": 14,
   "metadata": {},
   "outputs": [
    {
     "data": {
      "text/plain": [
       "dict_keys(['window', 'params', 'showmouse', 'fps', 'degreemode', 'domain', 'miniwindow', 'script', 'wwidth', 'wheight', 'monitor', 'vsynccount', 'stimuli', 'runs', 'shuffle', 'preexpsec', 'postexpsec', 'postsweepsec', 'sweeplength', 'blanksweeps', 'logdir', 'backupdir', 'mouseid', 'userid', 'nidevice', 'bgcolor', 'syncsqr', 'syncsqrloc', 'syncsqrfreq', 'syncsqrcolorsequence', 'syncpulse', 'syncpulseport', 'syncpulselines', 'trigger', 'triggerdiport', 'triggerdiline', 'savesweeptable', 'eyetracker', 'syncsqrBit', 'sweepsdisplayed', 'errors', 'bgSweep', 'fgSweep', 'bgFrame', 'fgFrame', 'bgsweeptable', 'bgsweeporder', 'bgdimnames', 'fgsweeptable', 'fgsweeporder', 'fgdimnames', 'bgStim', 'fgStim', 'do', 'sweepBit', 'frameBit', 'startdatetime', 'starttime', 'stoptime', 'stopdatetime', 'intervalsms', 'droppedframes', 'scripttext', 'platform', 'vsyncintervals', 'bgsweepframes', 'keys', 'unpickleable'])"
      ]
     },
     "execution_count": 14,
     "metadata": {},
     "output_type": "execute_result"
    }
   ],
   "source": [
    "data4.keys()"
   ]
  },
  {
   "cell_type": "code",
   "execution_count": 19,
   "metadata": {},
   "outputs": [
    {
     "data": {
      "text/plain": [
       "(220,)"
      ]
     },
     "execution_count": 19,
     "metadata": {},
     "output_type": "execute_result"
    }
   ],
   "source": [
    "np.asarray(data4['bgsweeporder']).shape"
   ]
  },
  {
   "cell_type": "code",
   "execution_count": 20,
   "metadata": {},
   "outputs": [
    {
     "name": "stdout",
     "output_type": "stream",
     "text": [
      "    Contrast  PosY  TF    SF  Phase  PosX  Ori            Color\n",
      "0          1     0   2  0.08      0     0    0       (0, -1, 1)\n",
      "1          1     0   2  0.08      0     0    0   (0, -0.8, 0.3)\n",
      "2          1     0   2  0.08      0     0    0        (0, 1, 0)\n",
      "3          1     0   2  0.08      0     0    0  (0, -0.9, -0.5)\n",
      "4          1     0   2  0.08      0     0    0   (0, -0.4, 0.6)\n",
      "5          1     0   2  0.08      0     0    0     (0, -0.5, 0)\n",
      "6          1     0   2  0.08      0     0    0    (0, -0.2, -1)\n",
      "7          1     0   2  0.08      0     0    0   (0, 0.5, -0.7)\n",
      "8          1     0   2  0.08      0     0    0   (0, 0.1, -0.6)\n",
      "9          1     0   2  0.08      0     0    0   (0, 0.7, -0.3)\n",
      "10         1     0   2  0.08      0     0    0     (0, 0, -0.2)\n",
      "11         1     0   2  0.08      0     0    0     (0, 1, -0.7)\n",
      "12         1     0   2  0.16      0     0    0       (0, -1, 1)\n",
      "13         1     0   2  0.16      0     0    0   (0, -0.8, 0.3)\n",
      "14         1     0   2  0.16      0     0    0        (0, 1, 0)\n",
      "15         1     0   2  0.16      0     0    0  (0, -0.9, -0.5)\n",
      "16         1     0   2  0.16      0     0    0   (0, -0.4, 0.6)\n",
      "17         1     0   2  0.16      0     0    0     (0, -0.5, 0)\n",
      "18         1     0   2  0.16      0     0    0    (0, -0.2, -1)\n",
      "19         1     0   2  0.16      0     0    0   (0, 0.5, -0.7)\n",
      "20         1     0   2  0.16      0     0    0   (0, 0.1, -0.6)\n",
      "21         1     0   2  0.16      0     0    0   (0, 0.7, -0.3)\n",
      "22         1     0   2  0.16      0     0    0     (0, 0, -0.2)\n",
      "23         1     0   2  0.16      0     0    0     (0, 1, -0.7)\n"
     ]
    }
   ],
   "source": [
    "import pandas as pd\n",
    "\n",
    "gratcolo_df = pd.DataFrame(data3['bgsweeptable'], columns = ['Contrast', 'PosY', 'TF', 'SF', 'Phase', 'PosX', 'Ori', 'Color'])\n",
    "print(gratcolo_df)"
   ]
  },
  {
   "cell_type": "code",
   "execution_count": 3,
   "metadata": {},
   "outputs": [],
   "source": [
    "nwb = r\"E:\\20200703_C9.nwb\""
   ]
  },
  {
   "cell_type": "code",
   "execution_count": 6,
   "metadata": {},
   "outputs": [
    {
     "ename": "ValueError",
     "evalue": "No data_type found for builder root",
     "output_type": "error",
     "traceback": [
      "\u001b[1;31m---------------------------------------------------------------------------\u001b[0m",
      "\u001b[1;31mValueError\u001b[0m                                Traceback (most recent call last)",
      "\u001b[1;32m<ipython-input-6-cb2edc06220e>\u001b[0m in \u001b[0;36m<module>\u001b[1;34m\u001b[0m\n\u001b[0;32m      1\u001b[0m \u001b[1;32mfrom\u001b[0m \u001b[0mpynwb\u001b[0m \u001b[1;32mimport\u001b[0m \u001b[0mNWBHDF5IO\u001b[0m\u001b[1;33m\u001b[0m\u001b[1;33m\u001b[0m\u001b[0m\n\u001b[0;32m      2\u001b[0m \u001b[0mio\u001b[0m \u001b[1;33m=\u001b[0m \u001b[0mNWBHDF5IO\u001b[0m\u001b[1;33m(\u001b[0m\u001b[1;34m\"E:\\\\20200703_C9.nwb\"\u001b[0m\u001b[1;33m,\u001b[0m \u001b[1;34m'r'\u001b[0m\u001b[1;33m)\u001b[0m\u001b[1;33m\u001b[0m\u001b[1;33m\u001b[0m\u001b[0m\n\u001b[1;32m----> 3\u001b[1;33m \u001b[0mnwbfile\u001b[0m \u001b[1;33m=\u001b[0m \u001b[0mio\u001b[0m\u001b[1;33m.\u001b[0m\u001b[0mread\u001b[0m\u001b[1;33m(\u001b[0m\u001b[1;33m)\u001b[0m\u001b[1;33m\u001b[0m\u001b[1;33m\u001b[0m\u001b[0m\n\u001b[0m",
      "\u001b[1;32m~\\anaconda3\\lib\\site-packages\\hdmf\\backends\\hdf5\\h5tools.py\u001b[0m in \u001b[0;36mread\u001b[1;34m(self, **kwargs)\u001b[0m\n\u001b[0;32m    294\u001b[0m                                        % (self.__path, self.__mode))\n\u001b[0;32m    295\u001b[0m         \u001b[1;32mtry\u001b[0m\u001b[1;33m:\u001b[0m\u001b[1;33m\u001b[0m\u001b[1;33m\u001b[0m\u001b[0m\n\u001b[1;32m--> 296\u001b[1;33m             \u001b[1;32mreturn\u001b[0m \u001b[0mcall_docval_func\u001b[0m\u001b[1;33m(\u001b[0m\u001b[0msuper\u001b[0m\u001b[1;33m(\u001b[0m\u001b[1;33m)\u001b[0m\u001b[1;33m.\u001b[0m\u001b[0mread\u001b[0m\u001b[1;33m,\u001b[0m \u001b[0mkwargs\u001b[0m\u001b[1;33m)\u001b[0m\u001b[1;33m\u001b[0m\u001b[1;33m\u001b[0m\u001b[0m\n\u001b[0m\u001b[0;32m    297\u001b[0m         \u001b[1;32mexcept\u001b[0m \u001b[0mUnsupportedOperation\u001b[0m \u001b[1;32mas\u001b[0m \u001b[0me\u001b[0m\u001b[1;33m:\u001b[0m\u001b[1;33m\u001b[0m\u001b[1;33m\u001b[0m\u001b[0m\n\u001b[0;32m    298\u001b[0m             \u001b[1;32mif\u001b[0m \u001b[0mstr\u001b[0m\u001b[1;33m(\u001b[0m\u001b[0me\u001b[0m\u001b[1;33m)\u001b[0m \u001b[1;33m==\u001b[0m \u001b[1;34m'Cannot build data. There are no values.'\u001b[0m\u001b[1;33m:\u001b[0m\u001b[1;33m\u001b[0m\u001b[1;33m\u001b[0m\u001b[0m\n",
      "\u001b[1;32m~\\anaconda3\\lib\\site-packages\\hdmf\\utils.py\u001b[0m in \u001b[0;36mcall_docval_func\u001b[1;34m(func, kwargs)\u001b[0m\n\u001b[0;32m    341\u001b[0m \u001b[1;32mdef\u001b[0m \u001b[0mcall_docval_func\u001b[0m\u001b[1;33m(\u001b[0m\u001b[0mfunc\u001b[0m\u001b[1;33m,\u001b[0m \u001b[0mkwargs\u001b[0m\u001b[1;33m)\u001b[0m\u001b[1;33m:\u001b[0m\u001b[1;33m\u001b[0m\u001b[1;33m\u001b[0m\u001b[0m\n\u001b[0;32m    342\u001b[0m     \u001b[0mfargs\u001b[0m\u001b[1;33m,\u001b[0m \u001b[0mfkwargs\u001b[0m \u001b[1;33m=\u001b[0m \u001b[0mfmt_docval_args\u001b[0m\u001b[1;33m(\u001b[0m\u001b[0mfunc\u001b[0m\u001b[1;33m,\u001b[0m \u001b[0mkwargs\u001b[0m\u001b[1;33m)\u001b[0m\u001b[1;33m\u001b[0m\u001b[1;33m\u001b[0m\u001b[0m\n\u001b[1;32m--> 343\u001b[1;33m     \u001b[1;32mreturn\u001b[0m \u001b[0mfunc\u001b[0m\u001b[1;33m(\u001b[0m\u001b[1;33m*\u001b[0m\u001b[0mfargs\u001b[0m\u001b[1;33m,\u001b[0m \u001b[1;33m**\u001b[0m\u001b[0mfkwargs\u001b[0m\u001b[1;33m)\u001b[0m\u001b[1;33m\u001b[0m\u001b[1;33m\u001b[0m\u001b[0m\n\u001b[0m\u001b[0;32m    344\u001b[0m \u001b[1;33m\u001b[0m\u001b[0m\n\u001b[0;32m    345\u001b[0m \u001b[1;33m\u001b[0m\u001b[0m\n",
      "\u001b[1;32m~\\anaconda3\\lib\\site-packages\\hdmf\\utils.py\u001b[0m in \u001b[0;36mfunc_call\u001b[1;34m(*args, **kwargs)\u001b[0m\n\u001b[0;32m    451\u001b[0m \u001b[1;33m\u001b[0m\u001b[0m\n\u001b[0;32m    452\u001b[0m             \u001b[1;32mif\u001b[0m \u001b[0mis_method\u001b[0m\u001b[1;33m:\u001b[0m\u001b[1;33m\u001b[0m\u001b[1;33m\u001b[0m\u001b[0m\n\u001b[1;32m--> 453\u001b[1;33m                 \u001b[1;32mreturn\u001b[0m \u001b[0mfunc\u001b[0m\u001b[1;33m(\u001b[0m\u001b[0margs\u001b[0m\u001b[1;33m[\u001b[0m\u001b[1;36m0\u001b[0m\u001b[1;33m]\u001b[0m\u001b[1;33m,\u001b[0m \u001b[1;33m**\u001b[0m\u001b[0mparsed\u001b[0m\u001b[1;33m[\u001b[0m\u001b[1;34m'args'\u001b[0m\u001b[1;33m]\u001b[0m\u001b[1;33m)\u001b[0m\u001b[1;33m\u001b[0m\u001b[1;33m\u001b[0m\u001b[0m\n\u001b[0m\u001b[0;32m    454\u001b[0m             \u001b[1;32melse\u001b[0m\u001b[1;33m:\u001b[0m\u001b[1;33m\u001b[0m\u001b[1;33m\u001b[0m\u001b[0m\n\u001b[0;32m    455\u001b[0m                 \u001b[1;32mreturn\u001b[0m \u001b[0mfunc\u001b[0m\u001b[1;33m(\u001b[0m\u001b[1;33m**\u001b[0m\u001b[0mparsed\u001b[0m\u001b[1;33m[\u001b[0m\u001b[1;34m'args'\u001b[0m\u001b[1;33m]\u001b[0m\u001b[1;33m)\u001b[0m\u001b[1;33m\u001b[0m\u001b[1;33m\u001b[0m\u001b[0m\n",
      "\u001b[1;32m~\\anaconda3\\lib\\site-packages\\hdmf\\backends\\io.py\u001b[0m in \u001b[0;36mread\u001b[1;34m(self, **kwargs)\u001b[0m\n\u001b[0;32m     33\u001b[0m             \u001b[1;31m# TODO also check that the keys are appropriate. print a better error message\u001b[0m\u001b[1;33m\u001b[0m\u001b[1;33m\u001b[0m\u001b[1;33m\u001b[0m\u001b[0m\n\u001b[0;32m     34\u001b[0m             \u001b[1;32mraise\u001b[0m \u001b[0mUnsupportedOperation\u001b[0m\u001b[1;33m(\u001b[0m\u001b[1;34m'Cannot build data. There are no values.'\u001b[0m\u001b[1;33m)\u001b[0m\u001b[1;33m\u001b[0m\u001b[1;33m\u001b[0m\u001b[0m\n\u001b[1;32m---> 35\u001b[1;33m         \u001b[0mcontainer\u001b[0m \u001b[1;33m=\u001b[0m \u001b[0mself\u001b[0m\u001b[1;33m.\u001b[0m\u001b[0m__manager\u001b[0m\u001b[1;33m.\u001b[0m\u001b[0mconstruct\u001b[0m\u001b[1;33m(\u001b[0m\u001b[0mf_builder\u001b[0m\u001b[1;33m)\u001b[0m\u001b[1;33m\u001b[0m\u001b[1;33m\u001b[0m\u001b[0m\n\u001b[0m\u001b[0;32m     36\u001b[0m         \u001b[1;32mreturn\u001b[0m \u001b[0mcontainer\u001b[0m\u001b[1;33m\u001b[0m\u001b[1;33m\u001b[0m\u001b[0m\n\u001b[0;32m     37\u001b[0m \u001b[1;33m\u001b[0m\u001b[0m\n",
      "\u001b[1;32m~\\anaconda3\\lib\\site-packages\\hdmf\\utils.py\u001b[0m in \u001b[0;36mfunc_call\u001b[1;34m(*args, **kwargs)\u001b[0m\n\u001b[0;32m    451\u001b[0m \u001b[1;33m\u001b[0m\u001b[0m\n\u001b[0;32m    452\u001b[0m             \u001b[1;32mif\u001b[0m \u001b[0mis_method\u001b[0m\u001b[1;33m:\u001b[0m\u001b[1;33m\u001b[0m\u001b[1;33m\u001b[0m\u001b[0m\n\u001b[1;32m--> 453\u001b[1;33m                 \u001b[1;32mreturn\u001b[0m \u001b[0mfunc\u001b[0m\u001b[1;33m(\u001b[0m\u001b[0margs\u001b[0m\u001b[1;33m[\u001b[0m\u001b[1;36m0\u001b[0m\u001b[1;33m]\u001b[0m\u001b[1;33m,\u001b[0m \u001b[1;33m**\u001b[0m\u001b[0mparsed\u001b[0m\u001b[1;33m[\u001b[0m\u001b[1;34m'args'\u001b[0m\u001b[1;33m]\u001b[0m\u001b[1;33m)\u001b[0m\u001b[1;33m\u001b[0m\u001b[1;33m\u001b[0m\u001b[0m\n\u001b[0m\u001b[0;32m    454\u001b[0m             \u001b[1;32melse\u001b[0m\u001b[1;33m:\u001b[0m\u001b[1;33m\u001b[0m\u001b[1;33m\u001b[0m\u001b[0m\n\u001b[0;32m    455\u001b[0m                 \u001b[1;32mreturn\u001b[0m \u001b[0mfunc\u001b[0m\u001b[1;33m(\u001b[0m\u001b[1;33m**\u001b[0m\u001b[0mparsed\u001b[0m\u001b[1;33m[\u001b[0m\u001b[1;34m'args'\u001b[0m\u001b[1;33m]\u001b[0m\u001b[1;33m)\u001b[0m\u001b[1;33m\u001b[0m\u001b[1;33m\u001b[0m\u001b[0m\n",
      "\u001b[1;32m~\\anaconda3\\lib\\site-packages\\hdmf\\build\\manager.py\u001b[0m in \u001b[0;36mconstruct\u001b[1;34m(self, **kwargs)\u001b[0m\n\u001b[0;32m    197\u001b[0m                 \u001b[1;31m# we are at the top of the hierarchy,\u001b[0m\u001b[1;33m\u001b[0m\u001b[1;33m\u001b[0m\u001b[1;33m\u001b[0m\u001b[0m\n\u001b[0;32m    198\u001b[0m                 \u001b[1;31m# so it must be time to resolve parents\u001b[0m\u001b[1;33m\u001b[0m\u001b[1;33m\u001b[0m\u001b[1;33m\u001b[0m\u001b[0m\n\u001b[1;32m--> 199\u001b[1;33m                 \u001b[0mresult\u001b[0m \u001b[1;33m=\u001b[0m \u001b[0mself\u001b[0m\u001b[1;33m.\u001b[0m\u001b[0m__type_map\u001b[0m\u001b[1;33m.\u001b[0m\u001b[0mconstruct\u001b[0m\u001b[1;33m(\u001b[0m\u001b[0mbuilder\u001b[0m\u001b[1;33m,\u001b[0m \u001b[0mself\u001b[0m\u001b[1;33m,\u001b[0m \u001b[1;32mNone\u001b[0m\u001b[1;33m)\u001b[0m\u001b[1;33m\u001b[0m\u001b[1;33m\u001b[0m\u001b[0m\n\u001b[0m\u001b[0;32m    200\u001b[0m                 \u001b[0mself\u001b[0m\u001b[1;33m.\u001b[0m\u001b[0m__resolve_parents\u001b[0m\u001b[1;33m(\u001b[0m\u001b[0mresult\u001b[0m\u001b[1;33m)\u001b[0m\u001b[1;33m\u001b[0m\u001b[1;33m\u001b[0m\u001b[0m\n\u001b[0;32m    201\u001b[0m             \u001b[0mself\u001b[0m\u001b[1;33m.\u001b[0m\u001b[0mprebuilt\u001b[0m\u001b[1;33m(\u001b[0m\u001b[0mresult\u001b[0m\u001b[1;33m,\u001b[0m \u001b[0mbuilder\u001b[0m\u001b[1;33m)\u001b[0m\u001b[1;33m\u001b[0m\u001b[1;33m\u001b[0m\u001b[0m\n",
      "\u001b[1;32m~\\anaconda3\\lib\\site-packages\\hdmf\\utils.py\u001b[0m in \u001b[0;36mfunc_call\u001b[1;34m(*args, **kwargs)\u001b[0m\n\u001b[0;32m    451\u001b[0m \u001b[1;33m\u001b[0m\u001b[0m\n\u001b[0;32m    452\u001b[0m             \u001b[1;32mif\u001b[0m \u001b[0mis_method\u001b[0m\u001b[1;33m:\u001b[0m\u001b[1;33m\u001b[0m\u001b[1;33m\u001b[0m\u001b[0m\n\u001b[1;32m--> 453\u001b[1;33m                 \u001b[1;32mreturn\u001b[0m \u001b[0mfunc\u001b[0m\u001b[1;33m(\u001b[0m\u001b[0margs\u001b[0m\u001b[1;33m[\u001b[0m\u001b[1;36m0\u001b[0m\u001b[1;33m]\u001b[0m\u001b[1;33m,\u001b[0m \u001b[1;33m**\u001b[0m\u001b[0mparsed\u001b[0m\u001b[1;33m[\u001b[0m\u001b[1;34m'args'\u001b[0m\u001b[1;33m]\u001b[0m\u001b[1;33m)\u001b[0m\u001b[1;33m\u001b[0m\u001b[1;33m\u001b[0m\u001b[0m\n\u001b[0m\u001b[0;32m    454\u001b[0m             \u001b[1;32melse\u001b[0m\u001b[1;33m:\u001b[0m\u001b[1;33m\u001b[0m\u001b[1;33m\u001b[0m\u001b[0m\n\u001b[0;32m    455\u001b[0m                 \u001b[1;32mreturn\u001b[0m \u001b[0mfunc\u001b[0m\u001b[1;33m(\u001b[0m\u001b[1;33m**\u001b[0m\u001b[0mparsed\u001b[0m\u001b[1;33m[\u001b[0m\u001b[1;34m'args'\u001b[0m\u001b[1;33m]\u001b[0m\u001b[1;33m)\u001b[0m\u001b[1;33m\u001b[0m\u001b[1;33m\u001b[0m\u001b[0m\n",
      "\u001b[1;32m~\\anaconda3\\lib\\site-packages\\hdmf\\build\\manager.py\u001b[0m in \u001b[0;36mconstruct\u001b[1;34m(self, **kwargs)\u001b[0m\n\u001b[0;32m    763\u001b[0m         \u001b[1;32mif\u001b[0m \u001b[0mbuild_manager\u001b[0m \u001b[1;32mis\u001b[0m \u001b[1;32mNone\u001b[0m\u001b[1;33m:\u001b[0m\u001b[1;33m\u001b[0m\u001b[1;33m\u001b[0m\u001b[0m\n\u001b[0;32m    764\u001b[0m             \u001b[0mbuild_manager\u001b[0m \u001b[1;33m=\u001b[0m \u001b[0mBuildManager\u001b[0m\u001b[1;33m(\u001b[0m\u001b[0mself\u001b[0m\u001b[1;33m)\u001b[0m\u001b[1;33m\u001b[0m\u001b[1;33m\u001b[0m\u001b[0m\n\u001b[1;32m--> 765\u001b[1;33m         \u001b[0mobj_mapper\u001b[0m \u001b[1;33m=\u001b[0m \u001b[0mself\u001b[0m\u001b[1;33m.\u001b[0m\u001b[0mget_map\u001b[0m\u001b[1;33m(\u001b[0m\u001b[0mbuilder\u001b[0m\u001b[1;33m)\u001b[0m\u001b[1;33m\u001b[0m\u001b[1;33m\u001b[0m\u001b[0m\n\u001b[0m\u001b[0;32m    766\u001b[0m         \u001b[1;32mif\u001b[0m \u001b[0mobj_mapper\u001b[0m \u001b[1;32mis\u001b[0m \u001b[1;32mNone\u001b[0m\u001b[1;33m:\u001b[0m\u001b[1;33m\u001b[0m\u001b[1;33m\u001b[0m\u001b[0m\n\u001b[0;32m    767\u001b[0m             \u001b[0mdt\u001b[0m \u001b[1;33m=\u001b[0m \u001b[0mbuilder\u001b[0m\u001b[1;33m.\u001b[0m\u001b[0mattributes\u001b[0m\u001b[1;33m[\u001b[0m\u001b[0mself\u001b[0m\u001b[1;33m.\u001b[0m\u001b[0mnamespace_catalog\u001b[0m\u001b[1;33m.\u001b[0m\u001b[0mgroup_spec_cls\u001b[0m\u001b[1;33m.\u001b[0m\u001b[0mtype_key\u001b[0m\u001b[1;33m(\u001b[0m\u001b[1;33m)\u001b[0m\u001b[1;33m]\u001b[0m\u001b[1;33m\u001b[0m\u001b[1;33m\u001b[0m\u001b[0m\n",
      "\u001b[1;32m~\\anaconda3\\lib\\site-packages\\hdmf\\utils.py\u001b[0m in \u001b[0;36mfunc_call\u001b[1;34m(*args, **kwargs)\u001b[0m\n\u001b[0;32m    451\u001b[0m \u001b[1;33m\u001b[0m\u001b[0m\n\u001b[0;32m    452\u001b[0m             \u001b[1;32mif\u001b[0m \u001b[0mis_method\u001b[0m\u001b[1;33m:\u001b[0m\u001b[1;33m\u001b[0m\u001b[1;33m\u001b[0m\u001b[0m\n\u001b[1;32m--> 453\u001b[1;33m                 \u001b[1;32mreturn\u001b[0m \u001b[0mfunc\u001b[0m\u001b[1;33m(\u001b[0m\u001b[0margs\u001b[0m\u001b[1;33m[\u001b[0m\u001b[1;36m0\u001b[0m\u001b[1;33m]\u001b[0m\u001b[1;33m,\u001b[0m \u001b[1;33m**\u001b[0m\u001b[0mparsed\u001b[0m\u001b[1;33m[\u001b[0m\u001b[1;34m'args'\u001b[0m\u001b[1;33m]\u001b[0m\u001b[1;33m)\u001b[0m\u001b[1;33m\u001b[0m\u001b[1;33m\u001b[0m\u001b[0m\n\u001b[0m\u001b[0;32m    454\u001b[0m             \u001b[1;32melse\u001b[0m\u001b[1;33m:\u001b[0m\u001b[1;33m\u001b[0m\u001b[1;33m\u001b[0m\u001b[0m\n\u001b[0;32m    455\u001b[0m                 \u001b[1;32mreturn\u001b[0m \u001b[0mfunc\u001b[0m\u001b[1;33m(\u001b[0m\u001b[1;33m**\u001b[0m\u001b[0mparsed\u001b[0m\u001b[1;33m[\u001b[0m\u001b[1;34m'args'\u001b[0m\u001b[1;33m]\u001b[0m\u001b[1;33m)\u001b[0m\u001b[1;33m\u001b[0m\u001b[1;33m\u001b[0m\u001b[0m\n",
      "\u001b[1;32m~\\anaconda3\\lib\\site-packages\\hdmf\\build\\manager.py\u001b[0m in \u001b[0;36mget_map\u001b[1;34m(self, **kwargs)\u001b[0m\n\u001b[0;32m    685\u001b[0m             \u001b[0mdata_type\u001b[0m \u001b[1;33m=\u001b[0m \u001b[0mself\u001b[0m\u001b[1;33m.\u001b[0m\u001b[0mget_builder_dt\u001b[0m\u001b[1;33m(\u001b[0m\u001b[0mobj\u001b[0m\u001b[1;33m)\u001b[0m\u001b[1;33m\u001b[0m\u001b[1;33m\u001b[0m\u001b[0m\n\u001b[0;32m    686\u001b[0m             \u001b[0mnamespace\u001b[0m \u001b[1;33m=\u001b[0m \u001b[0mself\u001b[0m\u001b[1;33m.\u001b[0m\u001b[0mget_builder_ns\u001b[0m\u001b[1;33m(\u001b[0m\u001b[0mobj\u001b[0m\u001b[1;33m)\u001b[0m\u001b[1;33m\u001b[0m\u001b[1;33m\u001b[0m\u001b[0m\n\u001b[1;32m--> 687\u001b[1;33m             \u001b[0mcontainer_cls\u001b[0m \u001b[1;33m=\u001b[0m \u001b[0mself\u001b[0m\u001b[1;33m.\u001b[0m\u001b[0mget_cls\u001b[0m\u001b[1;33m(\u001b[0m\u001b[0mobj\u001b[0m\u001b[1;33m)\u001b[0m\u001b[1;33m\u001b[0m\u001b[1;33m\u001b[0m\u001b[0m\n\u001b[0m\u001b[0;32m    688\u001b[0m         \u001b[1;31m# now build the ObjectMapper class\u001b[0m\u001b[1;33m\u001b[0m\u001b[1;33m\u001b[0m\u001b[1;33m\u001b[0m\u001b[0m\n\u001b[0;32m    689\u001b[0m         \u001b[0mmapper\u001b[0m \u001b[1;33m=\u001b[0m \u001b[0mself\u001b[0m\u001b[1;33m.\u001b[0m\u001b[0m__mappers\u001b[0m\u001b[1;33m.\u001b[0m\u001b[0mget\u001b[0m\u001b[1;33m(\u001b[0m\u001b[0mcontainer_cls\u001b[0m\u001b[1;33m)\u001b[0m\u001b[1;33m\u001b[0m\u001b[1;33m\u001b[0m\u001b[0m\n",
      "\u001b[1;32m~\\anaconda3\\lib\\site-packages\\hdmf\\utils.py\u001b[0m in \u001b[0;36mfunc_call\u001b[1;34m(*args, **kwargs)\u001b[0m\n\u001b[0;32m    451\u001b[0m \u001b[1;33m\u001b[0m\u001b[0m\n\u001b[0;32m    452\u001b[0m             \u001b[1;32mif\u001b[0m \u001b[0mis_method\u001b[0m\u001b[1;33m:\u001b[0m\u001b[1;33m\u001b[0m\u001b[1;33m\u001b[0m\u001b[0m\n\u001b[1;32m--> 453\u001b[1;33m                 \u001b[1;32mreturn\u001b[0m \u001b[0mfunc\u001b[0m\u001b[1;33m(\u001b[0m\u001b[0margs\u001b[0m\u001b[1;33m[\u001b[0m\u001b[1;36m0\u001b[0m\u001b[1;33m]\u001b[0m\u001b[1;33m,\u001b[0m \u001b[1;33m**\u001b[0m\u001b[0mparsed\u001b[0m\u001b[1;33m[\u001b[0m\u001b[1;34m'args'\u001b[0m\u001b[1;33m]\u001b[0m\u001b[1;33m)\u001b[0m\u001b[1;33m\u001b[0m\u001b[1;33m\u001b[0m\u001b[0m\n\u001b[0m\u001b[0;32m    454\u001b[0m             \u001b[1;32melse\u001b[0m\u001b[1;33m:\u001b[0m\u001b[1;33m\u001b[0m\u001b[1;33m\u001b[0m\u001b[0m\n\u001b[0;32m    455\u001b[0m                 \u001b[1;32mreturn\u001b[0m \u001b[0mfunc\u001b[0m\u001b[1;33m(\u001b[0m\u001b[1;33m**\u001b[0m\u001b[0mparsed\u001b[0m\u001b[1;33m[\u001b[0m\u001b[1;34m'args'\u001b[0m\u001b[1;33m]\u001b[0m\u001b[1;33m)\u001b[0m\u001b[1;33m\u001b[0m\u001b[1;33m\u001b[0m\u001b[0m\n",
      "\u001b[1;32m~\\anaconda3\\lib\\site-packages\\hdmf\\build\\manager.py\u001b[0m in \u001b[0;36mget_cls\u001b[1;34m(self, **kwargs)\u001b[0m\n\u001b[0;32m    614\u001b[0m         \u001b[0mdata_type\u001b[0m \u001b[1;33m=\u001b[0m \u001b[0mself\u001b[0m\u001b[1;33m.\u001b[0m\u001b[0mget_builder_dt\u001b[0m\u001b[1;33m(\u001b[0m\u001b[0mbuilder\u001b[0m\u001b[1;33m)\u001b[0m\u001b[1;33m\u001b[0m\u001b[1;33m\u001b[0m\u001b[0m\n\u001b[0;32m    615\u001b[0m         \u001b[1;32mif\u001b[0m \u001b[0mdata_type\u001b[0m \u001b[1;32mis\u001b[0m \u001b[1;32mNone\u001b[0m\u001b[1;33m:\u001b[0m\u001b[1;33m\u001b[0m\u001b[1;33m\u001b[0m\u001b[0m\n\u001b[1;32m--> 616\u001b[1;33m             \u001b[1;32mraise\u001b[0m \u001b[0mValueError\u001b[0m\u001b[1;33m(\u001b[0m\u001b[1;34m\"No data_type found for builder %s\"\u001b[0m \u001b[1;33m%\u001b[0m \u001b[0mbuilder\u001b[0m\u001b[1;33m.\u001b[0m\u001b[0mpath\u001b[0m\u001b[1;33m)\u001b[0m\u001b[1;33m\u001b[0m\u001b[1;33m\u001b[0m\u001b[0m\n\u001b[0m\u001b[0;32m    617\u001b[0m         \u001b[0mnamespace\u001b[0m \u001b[1;33m=\u001b[0m \u001b[0mself\u001b[0m\u001b[1;33m.\u001b[0m\u001b[0mget_builder_ns\u001b[0m\u001b[1;33m(\u001b[0m\u001b[0mbuilder\u001b[0m\u001b[1;33m)\u001b[0m\u001b[1;33m\u001b[0m\u001b[1;33m\u001b[0m\u001b[0m\n\u001b[0;32m    618\u001b[0m         \u001b[1;32mif\u001b[0m \u001b[0mnamespace\u001b[0m \u001b[1;32mis\u001b[0m \u001b[1;32mNone\u001b[0m\u001b[1;33m:\u001b[0m\u001b[1;33m\u001b[0m\u001b[1;33m\u001b[0m\u001b[0m\n",
      "\u001b[1;31mValueError\u001b[0m: No data_type found for builder root"
     ]
    }
   ],
   "source": [
    "from pynwb import NWBHDF5IO\n",
    "io = NWBHDF5IO(\"E:\\\\20200703_C9.nwb\", 'r')\n",
    "nwbfile = io.read()"
   ]
  },
  {
   "cell_type": "code",
   "execution_count": 4,
   "metadata": {},
   "outputs": [],
   "source": [
    "with open(r\"E:\\20200703_C9_BC_g0\\stimulus\\200703130627-gratings_color-C9.pkl\", 'rb') as f:\n",
    "    data = pickle.load(f)"
   ]
  },
  {
   "cell_type": "code",
   "execution_count": 6,
   "metadata": {},
   "outputs": [
    {
     "name": "stdout",
     "output_type": "stream",
     "text": [
      "\"\"\"\n",
      "\n",
      "gratingsexp.py\n",
      "\n",
      "@author: derricw\n",
      "\n",
      "updaded: 2014/6/8\n",
      "\n",
      "This is an example of a grating stimulus that varies is screen location and\n",
      "    orientation.  It also features a sync square that flashes black to white\n",
      "    every 60 frames.\n",
      "\n",
      "\"\"\"\n",
      "\n",
      "from aibs.SweepStim import SweepStim\n",
      "from psychopy import visual\n",
      "from aibs.Projector.ProjectorWindow import *\n",
      "from psychopy.visual.windowwarp import Warper\n",
      "\n",
      "params = {\n",
      "    'runs': 10,  # number of runs\n",
      "    'shuffle': True,  # shuffle sweep tables\n",
      "    'preexpsec': 5,  # seconds at the start of the experiment\n",
      "    'postexpsec': 2,  # seconds at the end of the experiment\n",
      "    'sweeplength': 2,  # length of sweeps\n",
      "    'postsweepsec': 1.,  # black period after sweeps (foreground remains)\n",
      "    'syncsqr': False,  # display a flashing square for synchronization\n",
      "    'syncsqrloc': (30, 200),\n",
      "    'syncsqrfreq': 60,  # square flips from black to white every x frames\n",
      "    'syncsqrcolorsequence': [-1, 1],\n",
      "    'nidevice': 'Dev1',\n",
      "    'syncpulse':True,\n",
      "    'doport':0,\n",
      "    'invertdo':True,\n",
      "    'diport':2, #ignored by SweepStim line 195 in _setupDAQ, djd 2020 06 29\n",
      "    'syncpulselines':[1,2],\n",
      "    'eyetracker':False,\n",
      "    'eyetrackerip': \"W7DTMJ82MX5\", \n",
      "    'eyetrackerport': 10000,\n",
      "    'mouseid': 'C9',\n",
      "    }\n",
      "\n",
      "#INITIALIZE WINDOWS\n",
      "#WINDOW\n",
      "settings = WindowSettingsFromStimCfg()\n",
      "mon = monitors.Monitor('uvprojector',width=115.2,distance=30,gamma=None,notes=None,useBits=None,verbose=True)\n",
      "mon.setSizePix([1024,768])\n",
      "win =  visual.Window(monitor = 'testMonitor',color=(0,0,0),screen=1,fullscr=True,useFBO=True)\n",
      "warper = Warper(win, warpfile=r'C:\\Users\\denma\\Desktop\\dan\\warps\\uvProjector2_Warp2.data',\n",
      "                                warp='warpfile',flipHorizontal=True)\n",
      "\n",
      "#CREATE BACKGROUND STIMULUS\n",
      "grating = visual.GratingStim(win, tex=\"sqr\", mask='raisedCos', texRes=256,\n",
      "                             size=[1024, 768], sf=0.08, ori=0, units='deg',\n",
      "                             color=(-1,-1,1)\n",
      "                             )\n",
      "\n",
      "#CREATE BACKGROUND SWEEP PARAMETERS ([possible_values], column_in_table)\n",
      "bgSweep = {\n",
      "    'Ori': ([0], 6),\n",
      "    'SF': ([0.08,0.16], 3),\n",
      "    'Contrast': ([1], 0),\n",
      "    'TF': ([2], 2),\n",
      "    'Phase': ([0], 4),\n",
      "    'PosX': ([0], 5),\n",
      "    'PosY': ([0], 1),\n",
      "    'Color': ([(0,-1,1),\n",
      "               (0,-.8,0.3),\n",
      "               (0,1,0),\n",
      "               (0,-.9,-0.5),\n",
      "               (0,-0.4,0.6),\n",
      "               (0,-0.5,0),\n",
      "               (0,-0.2,-1),\n",
      "               (0,0.5,-0.7),\n",
      "               (0,0.1,-0.6),\n",
      "               (0,0.7,-0.3),\n",
      "               (0,0,-0.2),\n",
      "               (0,1,-0.7)],\n",
      "               7),\n",
      "    }\n",
      "#CREATE FORAGING CLASS INSTANCE\n",
      "g = SweepStim(window=win, params=params, bgStim=grating, bgSweep=bgSweep)\n",
      "#RUN IT\n",
      "g.run()\n",
      "\n"
     ]
    }
   ],
   "source": [
    "print(data['scripttext'])"
   ]
  },
  {
   "cell_type": "code",
   "execution_count": 3,
   "metadata": {},
   "outputs": [],
   "source": [
    "with open(r'E:\\digital_lines_rising_samples.pkl', 'rb') as f:\n",
    "    data = pickle.load(f)"
   ]
  },
  {
   "cell_type": "code",
   "execution_count": 4,
   "metadata": {},
   "outputs": [
    {
     "data": {
      "text/plain": [
       "dict_keys(['D7', 'D6', 'D5', 'D4', 'D3', 'D2', 'D1', 'D0'])"
      ]
     },
     "execution_count": 4,
     "metadata": {},
     "output_type": "execute_result"
    }
   ],
   "source": [
    "data.keys()"
   ]
  },
  {
   "cell_type": "code",
   "execution_count": 10,
   "metadata": {},
   "outputs": [
    {
     "data": {
      "text/plain": [
       "array([ 238.66561,  238.71737,  238.76665, ..., 7102.83229, 7102.93181,\n",
       "       7103.03237])"
      ]
     },
     "execution_count": 10,
     "metadata": {},
     "output_type": "execute_result"
    }
   ],
   "source": [
    "D1 = np.asarray(data['D1'])\n",
    "D1sec = D1/1e7\n",
    "D1sec"
   ]
  },
  {
   "cell_type": "code",
   "execution_count": 11,
   "metadata": {},
   "outputs": [
    {
     "data": {
      "text/plain": [
       "array([ 237.66747,  237.68218,  237.69868, ..., 7103.08287, 7103.09948,\n",
       "       7103.11627])"
      ]
     },
     "execution_count": 11,
     "metadata": {},
     "output_type": "execute_result"
    }
   ],
   "source": [
    "D2 = np.asarray(data['D2'])\n",
    "D2sec = D2/1e7\n",
    "D2sec"
   ]
  },
  {
   "cell_type": "code",
   "execution_count": null,
   "metadata": {},
   "outputs": [],
   "source": []
  }
 ],
 "metadata": {
  "kernelspec": {
   "display_name": "Python 3",
   "language": "python",
   "name": "python3"
  },
  "language_info": {
   "codemirror_mode": {
    "name": "ipython",
    "version": 3
   },
   "file_extension": ".py",
   "mimetype": "text/x-python",
   "name": "python",
   "nbconvert_exporter": "python",
   "pygments_lexer": "ipython3",
   "version": "3.7.6"
  }
 },
 "nbformat": 4,
 "nbformat_minor": 4
}

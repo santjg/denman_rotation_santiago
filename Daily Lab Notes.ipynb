{
 "cells": [
  {
   "cell_type": "markdown",
   "metadata": {},
   "source": [
    "# Weekly Meetings"
   ]
  },
  {
   "cell_type": "markdown",
   "metadata": {},
   "source": [
    "### Lab Goals: \n",
    "Test if data from mouse visual cortex recordings becomes more consistent when using visual stimuli that is more targeted to the physiology of the mouse retina."
   ]
  },
  {
   "cell_type": "markdown",
   "metadata": {},
   "source": [
    "### 06/16/2020\n",
    "* **Weekly Summary:**\n",
    "This week was mainly devoted to familiarizing myself with the lab. I went through the learnpython.org tutorial to familiarize myself with the basics of python. I additionally completed (after plenty of trial and error) the Python for Neuroscience Intro and Receptive Fields notebooks. To give me a better background in the lab’s research and experimental design, I spent time reading some papers from the Lab Canon and watched the first two lectures from the Harvard CS50 course\n",
    "* **Weekly goals:**\n",
    "    * Create a preliminary experiment design for the summer\n",
    "    * Begin animal work (Training and/or surgery)\n",
    "    * Watch more of the CS50 lectures (2-3 realistically)\n",
    "    * Continue to familiarize myself with python\n",
    "    * Continue reading from the canon as well as references I find which may enhance my understanding\n",
    "* **What Dan can do to make the weekly goals happen:**\n",
    "I think an additional meeting later in the week to discuss experimental design and my ideas for moving forward would be great if possible. This is a very new field for me and I would love both feedback and guidance regarding how I’m approaching problems and what the realities of the science are. Any additional references you might suggest could also be helpful. Apart from that, I think you’ve been very available and patient responding to my questions, so just keep that up if you can!\n",
    "* **Notes:**"
   ]
  },
  {
   "cell_type": "markdown",
   "metadata": {},
   "source": [
    "### 06/23/2020\n",
    "* **Weekly Summary:**  \n",
    "This week, we got the project rolling first by discussing a project proposal and potential directions for the project. You also gave me several references to gain a better understanding of stimulus paradigms and how we might apply them for our goals. On Thursday, we went over my written  project proposal (up to that point) and discussed strengths/weaknesses. On Friday, we started habituation for our mice which is still ongoing.\n",
    "* **Weekly goals:**  \n",
    "    * Complete habituation\n",
    "    * Saline Recordings (Thursday or Friday)\n",
    "    * Begin Recordings (likely Monday)\n",
    "    * Watch 2-3 CS50 lectures \n",
    "* **What Dan can do to make the weekly goals happen:**\n",
    "    * Continue helping me with habituation as needed\n",
    "    * Provide guidance during saline recordings and V1 recordings\n",
    "    * Maybe another meeting later this week where we can really discuss what we've decided to do for our stimulus and why\n",
    "* **Notes:**\n",
    "    * Set up a Git repository for easy sharing and saving\n",
    "    * Practice receptive field mapping with practice data on extrernal drive\n",
    "    * Make sure to habituate mice with neuropixels turned on since they emit ultrasound\n",
    "    * Choose one mouse to continue habituating for multiple hours \n",
    "        * Going to use C5\n",
    "    * Send Dan research proposal once I've gone back and filled in what I lost\n",
    "    * Dan will get back to me once he's figured out the stimulus protocol"
   ]
  },
  {
   "cell_type": "markdown",
   "metadata": {},
   "source": [
    "### 06/30/2020\n",
    "* **Weekly Summary:**\n",
    "This week, we continued the (re-)habituation for mice C5, C6, C8, and C9. We progressed to 2h attempts for C5, but still have not succeeded consistently completing 2h without stress. C8 was found to have a loose, infected head cap on 06/29 and was sacrificed. Dan showed me how to use OpenEphys and set up the neuropixels for saline recordings. Apart from work with mice, I also created a skeleton Jupyter notebook for receptive field analysis, learned how to use Git, and continued to familiarize myself with literature.   \n",
    "* **Weekly Goals:**\n",
    "    * See if C8 can successfuly complete 2h on the rig without significant stress\n",
    "    * Decide on a stimulus that helps us answer our specific questions\n",
    "    * (Potentially) Complete first neuropixels recording \n",
    "    * Watch 2-3 Allen Visual Coding 101 lectures\n",
    "* **What Dan can do:**\n",
    "    * Discuss stimulus design (already planned)\n",
    "    * Provide \"midpoint\" feedback or just regular feedback on things I could do to be a better student/scientist\n",
    "* **Notes:**\n",
    "    * Concrete python coding goals\n",
    "        * Phi GUI data \n",
    "        * .nwb file practice analysis"
   ]
  },
  {
   "cell_type": "markdown",
   "metadata": {},
   "source": [
    "### Spike Sorting Meeting - 07/02/2020\n",
    "* Kilosort 2\n",
    "    * Learns templates of the shape of a spike and scans through to find matches\n",
    "    * Overlapping spike matching\n",
    "    * Cluster based\n",
    "    * Breaking gaussian assumptions\n",
    "* Can't just plug n' play - Lack of unit agreement across pike sorting programs\n",
    "* Not finding a ground truth. The data depends on the features used to generate clusters\n",
    "* Failure modes\n",
    "    * Sorter might not know which of two neurons to assign a spike if the spike shares features of both\n",
    "    * Spikes from one neuron where the burst is split into different clusters\n",
    "    * Sparse unit being called good although its probably a artifact from multiple other spikes\n",
    "    "
   ]
  },
  {
   "cell_type": "markdown",
   "metadata": {},
   "source": [
    "### 07/07/2020\n",
    "* **Weekly Summary:**\n",
    "This week, we finally did our first cranial wiondow surgery and two sessions of awake recordings. Unfortuantely the mouse lost the seal on their head cap and was euthanized before we could do more recording. We had a meeting on spike sorting where we discussed the basics of using Phy. I additionally watched 5 of the Coding and Vision 101 lectures from the Allen Institute. \n",
    "* **Weekly Goals:**\n",
    "    * Begin data analysis for recordings\n",
    "    * Head cap two more mice\n",
    "    * Cranial window surgery and recordings for Mouse C5\n",
    "    * Watch 2-3 Vision and Coding Lectures\n",
    "* **What Dan Can Do:**\n",
    "    * Discussion about my potentially transitioning into this lab for my thesis\n",
    "    * Provide guidance for planning these surgeries/experiments in his absence\n",
    "* **Notes:**\n",
    "    * In Phy:\n",
    "        * Cluster view, but also go through similarity \n",
    "        * Similarity score is based on template, not waveforms\n",
    "        * Look at all similar units within 60um from reference\n",
    "        * Look through Dans annotations made with old version \n",
    "        * Recordings from second day more portable\n",
    "    * After Phy:\n",
    "        * Pull all data in and create `.nwb`\n",
    "    * Try the recording and if I find myself uncomfortable, just pull it. \n",
    "    * Straight down probe more anterior than angled probe\n",
    "    * Fastest we want to put in probes is 100um/min and going in 3000um (~30min of implant alone)\n",
    "    * Sideline Mouse C6"
   ]
  },
  {
   "cell_type": "markdown",
   "metadata": {},
   "source": [
    "### 07/07/2020\n",
    "* **Weekly Summary:**\n",
    "    * Completed Habituation on mouse C5 (07/07/20)\n",
    "    * Cranial window surgery and attempted awake recording (07/08/20)\n",
    "    * Successful probe insertion and awake recording (not recorded?) (07/09/20)\n",
    "    * Figured out how to do cluster analysis via TeamViewer (07/10/20)\n",
    "    * Catastrophic rig failure following recording (07/13/20)\n",
    "* **Weekly Goals:**\n",
    "    * Find out if I can continue to do recordings on the rig \n",
    "        * if not, headcap 2 new mice\n",
    "        * if so, complete 1-2 more recordings with mouse C5\n",
    "    * Complete cluster sorting and get raw data `.nwb` file from recordings\n",
    "    * Start data analysis\n",
    "* **What Dan Can Do:**\n",
    "    * Go over criteria for merging and splitting clusters\n",
    "    * Discuss data analysis theory since we only have 2 more weeks in July and I want to know I'm comfortable with/excted about the analysis portion of work\n",
    "        * Vyas et al., 2020?\n",
    "* **Notes:**\n",
    "    * "
   ]
  },
  {
   "cell_type": "markdown",
   "metadata": {},
   "source": [
    "# (Re-Habituation) - Beginning 06/19/2020"
   ]
  },
  {
   "cell_type": "markdown",
   "metadata": {},
   "source": [
    "### Mouse Labeling Notation\n",
    "Tails were marked with permanent marker to distinguish cage-mates. In numerical order, each mouse got either one or two tail bands (two mice per cage). \n",
    "> C5 in cage 191679 becomes 191679-1 (one band)  \n",
    "> C6 in the same cage becomes 191679-2 (two bands)"
   ]
  },
  {
   "cell_type": "markdown",
   "metadata": {},
   "source": [
    "### 191679-1 (C5)\n",
    "\n",
    "* **Day 1 - Fri, 06/19/2020**\n",
    "    * 5 min head fixed, no stimulus\n",
    "    * Comfortable in hand, no significant distress noted on the rig\n",
    "* **Day 2 - Sun, 06/21/2020**\n",
    "    * 15 min head fixed - 15 min stimulus (ArbMatrix_color.py)\n",
    "    * Comfortable in hand, no significant distress noted on the rig\n",
    "* **Day 3 - Mon, 06/22/2020**\n",
    "    * 30 min head fixed - 15 min stimulus (ArbMatrix_color.py), 15 min no stimulus\n",
    "    * Comfortable in hand, no significant distress noted on the rig\n",
    "* **Day 4 - Tue, 06/23/2020**\n",
    "    * 1h head fixed - 15 min stimulus (ArbMatrix_color.py), 45min no stimulus\n",
    "    * Comfortable in hand, no significant distress noted on the rig\n",
    "* **Day 5 - Wed, 06/24/2020**\n",
    "    * Neuropixels turned on to acclimate to ultrasound\n",
    "    * 2h head fixed - 15min stimulus (ArbMatrix_color.py), 1h 45min no stimulus\n",
    "    * No major signs of distress after 2h. Slight poprhyrin secretion. Will attempt another long (2h) session tomorrow to improve habituation\n",
    "* **Day 6 - Thurs, 06/25/2020**\n",
    "    * 2h head fixed - 15min stimulus (ArbMatrix_color.py), 1h 45min no stimulus\n",
    "    * Aborted habituation with 40min left due to signicant porphyrin deposition\n",
    "* **Day 7 - Fri, 06/26/2020**\n",
    "    * 2h head fixed - 15min stimulus (ArbMatrix_color.py), 1h 45min no stimulus\n",
    "    * Noticed porphyrin secretion beginning around 1h 20min in. Habituation allowed to run until around 1h 40min in due to significant secretion that showed no sign of slowing\n",
    "* **Day 8 - Mon, 06/29/2020**\n",
    "    * 2h head fixed \n",
    "    * Aborted with 20 min to go due to significant porphyrin secretion. Attemted to wipe away some porphyrin with saline swab, but this was ineffective\n",
    "* **Day 9 - Tue, 06/30/2020**\n",
    "    * 2h head fixed - 15min stimulus (ArbMatrix_color.py), 1h 45min no stimulus\n",
    "    * Slight porphyrin secretion noted a little past the 1h mark\n",
    "    * Significantly better than yesterday, but still non-negligible degree of secretion\n",
    "    * Session completed despite porpyrin\n",
    "* **Day 10 - Mon, 07/06/2020**\n",
    "    * 2h head fixed - 15min stimulus (ArbMatrix_color.py), 1h 45min no stimulus\n",
    "    * No porphyrin secretion was noted until 15min prior to completion which was quickly cleared by the mouse\n",
    "* **Day 11 - Tue, 07/07/2020**\n",
    "    * 2h head fixed - 15min stimulus (ArbMatrix_color.py), 1h 45min no stimulus\n",
    "    * No issues. Mouse ready for surgery and recording"
   ]
  },
  {
   "cell_type": "markdown",
   "metadata": {},
   "source": [
    "### 191679-2 (C6)\n",
    "\n",
    "* **Day 1 - Fri, 06/19/2020**\n",
    "    * 5 min head fixed, no stimulus\n",
    "    * Comfortable in hand, no significant distress noted on the rig\n",
    "* **Day 2 - Sun, 06/21/2020**\n",
    "    * 15 min head fixed - 15 min stimulus (ArbMatrix_color.py)\n",
    "    * Comfortable in hand, no significant distress noted on the rig\n",
    "* **Day 3 - Mon, 06/22/2020**\n",
    "    * 30 min head fixed - 15 min stimulus (ArbMatrix_color.py), 15 min no stimulus\n",
    "    * Comfortable in hand, no significant distress noted on the rig\n",
    "* **Day 4 - Tue, 06/23/2020**\n",
    "    * 1h head fixed - 15 min stimulus (ArbMatrix_color.py), 45min no stimulus\n",
    "    * Comfortable in hand\n",
    "    * Significant porphyrin deposition after 1h had elapsed suggesting distress\n",
    "    * Attempt 1h again tomorrow\n",
    "* **Day 5 - Wed, 06/24/2020**\n",
    "    * 1h head fixed - 15 min stimulus (ArbMatrix_color.py), 45min no stimulus\n",
    "    * Comfortable in hand\n",
    "    * Slightly uncomfortable being put on the rig. Attempted to wiggle out for a moment\n",
    "    * Watched closely for signs of distress every 15-20min\n",
    "    * Significant porphyrin secretion noted at 1h, that was not noted at 40min\n",
    "    * Will attempt 1h again\n",
    "* **Day 6 - Fri, 06/26/2020**\n",
    "    * 1h head fixed - No stimulus\n",
    "    * Performed on Right rig\n",
    "    * Dissecting scope light turned on for 20min and then swapped out for red flashlight attached to the microscope\n",
    "    * No signs of porphyrin after 1h \n",
    "* **Day 7 - Mon, 06/29/2020**\n",
    "    * 1h head fixed - No stimulus\n",
    "        * Actively resisted head fixation like mot all other attempts\n",
    "    * Performed on Right rig\n",
    "    * Dissecting scope light turned on for 20min and then swapped out for red flashlight attached to the microscope\n",
    "    * Aborted after 30min due to significant porphyrin secretion\n",
    "* **Day 8 - Mon, 07/06/2020**\n",
    "    * 2h head fixed - 15min stimulus (ArbMatrix_color.py), 1h 45min no stimulus\n",
    "    * No blinking seen on eye camera. Is mouse unable to blink due to headcap?\n",
    "    * Porphyrin secretion noted at the 1h mark\n",
    "    * Pulled with 45min remaining due to significant porpyrin secretion\n",
    "* **Day 9 - Tue, 07/07/2020**\n",
    "    * 2h head fixed - 15min stimulus (ArbMatrix_color.py), 1h 45min no stimulus\n",
    "    * Porphyrin secretion noted at the 1h mark\n",
    "    * Pulled with 30min remaining due to significant porpyrin secretion"
   ]
  },
  {
   "cell_type": "markdown",
   "metadata": {},
   "source": [
    "### 197199-1 (C8)\n",
    "\n",
    "* **Day 1 - Fri, 06/19/2020**\n",
    "    * 5 min head fixed, no stimulus\n",
    "    * Comfortable in hand, no significant distress noted on the rig\n",
    "* **Day 2 - Sun, 06/21/2020**\n",
    "    * 15 min head fixed - 15 min stimulus (ArbMatrix_color.py)\n",
    "    * Comfortable in hand, no significant distress noted on the rig\n",
    "* **Day 3 - Mon, 06/22/2020**\n",
    "    * 30 min head fixed - 15 min stimulus (ArbMatrix_color.py), 15 min no stimulus\n",
    "    * Comfortable in hand, no significant distress noted on the rig\n",
    "* **Day 4 - Tue, 06/23/2020**\n",
    "    * 1h head fixed - 15 min stimulus (ArbMatrix_color.py), 45min no stimulus\n",
    "    * Comfortable in hand, no significant distress noted on the rig\n",
    "* **Mon, 06/29/2020**\n",
    "    * Headcap found to be loose. Because mouse had no prior craniotomy, readhesion of the headcap was attempted under anesthesia.\n",
    "    * **Headcap found to be severrely infected and animal was sacrificed**"
   ]
  },
  {
   "cell_type": "markdown",
   "metadata": {},
   "source": [
    "### 197199-2 (C9)\n",
    "\n",
    "* **Day 1 - 06/19/2020**\n",
    "    * 5 min head fixed, no stimulus\n",
    "    * Comfortable in hand, no significant distress noted on the rig\n",
    "* **Day 2 - 06/21/2020**\n",
    "    * 15 min head fixed - 15 min stimulus (ArbMatrix_color.py)\n",
    "    * Comfortable in hand, no significant distress noted on the rig\n",
    "* **Day 3 - 06/22/2020**\n",
    "    * 30 min head fixed - 15 min stimulus (ArbMatrix_color.py), 15 min no stimulus\n",
    "    * Comfortable in hand, no significant distress noted on the rig\n",
    "* **Day 4 - 06/23/2020**\n",
    "    * 1h head fixed - 15 min stimulus (ArbMatrix_color.py), 45min no stimulus\n",
    "    * Comfortable in hand, no significant distress noted on the rig\n",
    "* **Day 5 - 06/29/2020**\n",
    "    * 2h head fixed - 15min stimulus (ArbMatrix_color.py), 1h 45min no stimulus\n",
    "    * Mydriasis noted throughout entire stimulus\n",
    "    * Slight porphyrin secretion beginning at 1h 15min, but secretion is progressing slowly\n",
    "    * Slightly cleared with blinking/tear production\n",
    "* **Day 6 - 06/30/2020**\n",
    "    * 2h head fixed - 15min stimulus (ArbMatrix_color.py), 1h 45min no stimulus\n",
    "    * Very slight porphyrin secretion cleared with blinking/tear production\n",
    "    * Should be ready for neuropizels recordings this week\n",
    "* **07/06/2020 - Mouse was found to have lost the seal on their head cap over the weekend and was sacrificed**"
   ]
  },
  {
   "cell_type": "markdown",
   "metadata": {},
   "source": [
    "# Saline Recordings"
   ]
  },
  {
   "cell_type": "markdown",
   "metadata": {},
   "source": [
    "## Thurs, 06/25/2020\n",
    "Arrived to find one of the Neuropixels probes broken. Broken probe was removed and saline recordings were attempted by Dan with two probes. One probe seemed functional. The other probe seems to have an unknown issue causing jitter in the recordings."
   ]
  },
  {
   "cell_type": "markdown",
   "metadata": {},
   "source": [
    "# Cranial Window Surgery"
   ]
  },
  {
   "cell_type": "code",
   "execution_count": 1,
   "metadata": {},
   "outputs": [],
   "source": [
    "from prettytable import PrettyTable"
   ]
  },
  {
   "cell_type": "code",
   "execution_count": 2,
   "metadata": {},
   "outputs": [],
   "source": [
    "import matplotlib.pyplot as plt\n",
    "import numpy as np"
   ]
  },
  {
   "cell_type": "markdown",
   "metadata": {},
   "source": [
    "**Standard Coordinates for V1 in Left Hemisphere (Relative to Bregma)**    \n",
    "\n",
    "|Location|AP    |ML    |\n",
    "|:-------|:----:|:----:|\n",
    "|A       |-0.316|+0.195|\n",
    "|B       |-0.315|+0.197|\n",
    "|C       |-0.240|+0.200|\n",
    "|D       |-0.333|+0.223|"
   ]
  },
  {
   "cell_type": "markdown",
   "metadata": {},
   "source": [
    "## C9 - Wed, 07/01/2020"
   ]
  },
  {
   "cell_type": "markdown",
   "metadata": {},
   "source": [
    "**Start Time:** 10:00  \n",
    "**End Time:** 12:35  \n",
    "**Weight:** 25.0g with headcap    \n",
    "**Notes:**  \n",
    "Created rectangular cranial window around stereotaxic coordinates to ensure acces to V1 and ability to accomodate during recordings. "
   ]
  },
  {
   "cell_type": "markdown",
   "metadata": {},
   "source": [
    "### Coordinates"
   ]
  },
  {
   "cell_type": "code",
   "execution_count": null,
   "metadata": {},
   "outputs": [],
   "source": [
    "breg_y = 5.91 #bregma AP\n",
    "breg_x = 2.03 #bregma ML"
   ]
  },
  {
   "cell_type": "code",
   "execution_count": 15,
   "metadata": {},
   "outputs": [
    {
     "name": "stdout",
     "output_type": "stream",
     "text": [
      "+----------+------+------+\n",
      "| Location |  ML  |  AP  |\n",
      "+----------+------+------+\n",
      "|    A     | 2.22 | 5.59 |\n",
      "|    B     | 2.23 | 5.59 |\n",
      "|    C     | 2.23 | 5.67 |\n",
      "|    D     | 2.25 | 5.58 |\n",
      "+----------+------+------+\n"
     ]
    },
    {
     "data": {
      "image/png": "[encoded data removed]",
      "text/plain": [
       "<Figure size 432x288 with 1 Axes>"
      ]
     },
     "metadata": {
      "needs_background": "light"
     },
     "output_type": "display_data"
    }
   ],
   "source": [
    "# Do not change anything below this\n",
    "y_a = round((breg_y - 0.316),2)\n",
    "y_b = round((breg_y - 0.315),2)\n",
    "y_c = round((breg_y - 0.240),2)\n",
    "y_d = round((breg_y - 0.333),2)\n",
    "x_a = round((breg_x + 0.195),2)\n",
    "x_b = round((breg_x + 0.197),2)\n",
    "x_c = round((breg_x + 0.200),2)\n",
    "x_d = round((breg_x + 0.223),2)\n",
    "\n",
    "p = PrettyTable()\n",
    "p.field_names = ['Location', 'ML', 'AP']\n",
    "p.add_row(['A', x_a, y_a])\n",
    "p.add_row(['B', x_b, y_b])\n",
    "p.add_row(['C', x_c, y_c])\n",
    "p.add_row(['D', x_d, y_d])\n",
    "print(p)\n",
    "plt.scatter([breg_x, x_a, x_b, x_c, x_d],[breg_y, y_a, y_b, y_c, y_d])\n",
    "plt.axis('scaled')\n",
    "plt.gca().invert_xaxis()\n",
    "plt.text(breg_x, breg_y, 'Bregma')\n",
    "plt.grid(True)"
   ]
  },
  {
   "cell_type": "markdown",
   "metadata": {},
   "source": [
    "## C5 - 07/08/2020"
   ]
  },
  {
   "cell_type": "markdown",
   "metadata": {},
   "source": [
    "* **Start Time:** 10:00  \n",
    "* **End Time:** 11:40 \n",
    "* **Weight:** 24.1g with headcap\n",
    "* **Drugs:** Carprofen 250ug\n",
    "* **Saline?:** No\n",
    "* **Notes:**  \n",
    "    * Created rectangular cranial window around stereotaxic coordinates to ensure acces to V1 and ability to accomodate during recordings. \n",
    "    * Surgery performed immediately before recordings\n",
    "    * Small piece of weigh boat used to cover craniotomy prior to addng kwikset"
   ]
  },
  {
   "cell_type": "markdown",
   "metadata": {},
   "source": [
    "### Coordinates"
   ]
  },
  {
   "cell_type": "code",
   "execution_count": 3,
   "metadata": {},
   "outputs": [
    {
     "name": "stdout",
     "output_type": "stream",
     "text": [
      "+----------+------+------+\n",
      "| Location |  ML  |  AP  |\n",
      "+----------+------+------+\n",
      "|    A     | 1.98 | 5.44 |\n",
      "|    B     | 1.99 | 5.44 |\n",
      "|    C     | 1.99 | 5.52 |\n",
      "|    D     | 2.01 | 5.43 |\n",
      "|  Bregma  | 1.79 | 5.76 |\n",
      "+----------+------+------+\n"
     ]
    }
   ],
   "source": [
    "bregma_x = 1.79\n",
    "bregma_y = 5.76\n",
    "#Change nothing below\n",
    "loc = np.array(['Bregma', 'A', 'B', 'C', 'D'])\n",
    "ap_adj = np.array([-0.316, -0.315, -0.240, -0.333])\n",
    "ml_adj = np.array([0.195, 0.197, 0.200, 0.223])\n",
    "\n",
    "y = np.round((bregma_y + ap_adj), 2)\n",
    "x = np.round((bregma_x + ml_adj), 2)\n",
    "xy = np.column_stack((x, y))\n",
    "\n",
    "pt = PrettyTable()\n",
    "\n",
    "pt.add_column('Location', ['A', 'B', 'C', 'D'])\n",
    "pt.add_column('ML', xy[:,0])\n",
    "pt.add_column('AP', xy[:,1])\n",
    "pt.add_row(['Bregma', bregma_x, bregma_y])\n",
    "print(pt)"
   ]
  },
  {
   "cell_type": "markdown",
   "metadata": {},
   "source": [
    "# Awake Recordings"
   ]
  },
  {
   "cell_type": "markdown",
   "metadata": {},
   "source": [
    "## C9 - 07/02/2020\n",
    "* **Head Fix time:** \n",
    "* **Number of probes:** 2 (B and D?)\n",
    "* **Stimulus:** color_population\n",
    "* **Stimulus Start Time:**  \n",
    "* **Stimulus End Time:**\n",
    "* **Data Acquisition Software:** Spike GLX\n",
    "* **File Prefix:** 20200702_C9\n",
    "* **Eye Tracking Dimensions:** 300x300\n",
    "* **Eye Tracking Offset:** 156x407\n",
    "* **Notes:**\n",
    "    * One neuropixels broke right before recording, one was in a suboptimal positon for implantation"
   ]
  },
  {
   "cell_type": "markdown",
   "metadata": {},
   "source": [
    "## C9 - 07/02/2020\n",
    "* **Head Fix Time:** 09:30\n",
    "* **Number of probes:** 2 (B and C?) \n",
    "* **Stimulus:** color_population\n",
    "* **Stimulus Start TIme:** 11:33\n",
    "* **Stimulus End Time:** 13:03\n",
    "* **Data Acquisition Software:** Spike GLX\n",
    "* **File Prefix:** 20200702_C9_BCD\n",
    "* **Eye Tracking Dimensions:** 300x300\n",
    "* **Eye Tracking Offset:** 827x617\n",
    "* **Notes:**\n",
    "    * Probe D broke for an undetermined reason during implantation"
   ]
  },
  {
   "cell_type": "markdown",
   "metadata": {},
   "source": [
    "## C5 - Wed, 07/08/2020 (No recording despite attempt)\n",
    "* **Head Fix Time:** 12:00\n",
    "* **Number of probes:** 2 (BC)\n",
    "* **Stimulus:** N/A\n",
    "* **Stimulus Start TIme:** N/A\n",
    "* **Stimulus End Time:** N/A\n",
    "* **Data Acquisition Software:** Spike GLX\n",
    "* **File Prefix:** 20200708_C5_BC\n",
    "* **Eye Tracking Dimensions:** N/A\n",
    "* **Eye Tracking Offset:** N/A\n",
    "* **Notes:**\n",
    "    * Despite verifiably being on the brain, probes would not advace into tissue without bending.\n",
    "    * Aborted recording at 14:00 once it was apparent that probes would not advance and recording would not be possible"
   ]
  },
  {
   "cell_type": "markdown",
   "metadata": {},
   "source": [
    "## C5 - Thurs, 07/09/2020\n",
    "* **Head Fix Time:** 09:30\n",
    "* **Number of probes:** 1 (B)\n",
    "* **Stimulus:** color_population.py\n",
    "* **Stimulus Start TIme:** 11:50\n",
    "* **Stimulus End Time:** 13:20 (?)\n",
    "* **Data Acquisition Software:** Spike GLX\n",
    "* **File Prefix:** 20200709_C5_BC_02 (two prior folders from setup)\n",
    "* **Eye Tracking Dimensions:** 300x300\n",
    "* **Eye Tracking Offset:** 203x0\n",
    "* **Notes:**\n",
    "    * Probe insertion began around 10:00 with Dan assisting remotely via teamviewer\n",
    "    * Eye tracking acquisition started at 12:03 due to technical issues\n",
    "    * Probe C appears to be too dull to penetrate the brain parenchyma\n",
    "    * Reference fell of, was noticed, and replaced at 13:12"
   ]
  },
  {
   "cell_type": "markdown",
   "metadata": {},
   "source": [
    "## C5 - Mon, 07/13/2020\n",
    "* **Head Fix Time:** 09:50\n",
    "* **Start lowering probes:** 11:30\n",
    "* **Probe Depth:** 3000um\n",
    "* **Probe descent rate:** 100um/min\n",
    "* **Probe descent stop:** 12:06\n",
    "* **Number of probes:** 2 (BC)\n",
    "* **Stimulus:** color_population.py\n",
    "* **Stimulus Start TIme:** 12:37\n",
    "* **Stimulus End Time:** 13:40\n",
    "* **Data Acquisition Software:** Spike GLX\n",
    "* **File Prefix:** 20200713_C5_BC_02 (two prior folders from setup)\n",
    "* **Eye Tracking Dimensions:** 300x300\n",
    "* **Eye Tracking Offset:** 670x48\n",
    "* **Notes:**\n",
    "    * Used needle tip to penetrate top layer of brain\n",
    "        * Most superficial cortical layers may be damaged\n",
    "    * Must remember to transfer eyetracking images to DENMAN wghen finished. Significant delay from troubleshooting eyetracking software\n",
    "    * Reference clip fell off 12:58 - 13:00. 13:03 - 13:04\n",
    "    * Porphyrin secretion starting around 13:20, attempted to clear at 13:30\n",
    "    * Mouse squinting, decided to abort recording at 13:40\n",
    "    * **Catastrophic rig failure** -- Mouse seemingly unharmed, although visibly shaken"
   ]
  },
  {
   "cell_type": "markdown",
   "metadata": {},
   "source": [
    "# Analysis"
   ]
  },
  {
   "cell_type": "markdown",
   "metadata": {},
   "source": [
    "## Spike Clustering in Phy"
   ]
  },
  {
   "cell_type": "markdown",
   "metadata": {},
   "source": [
    "### 20200703_C9_BC_g0_imec0"
   ]
  },
  {
   "cell_type": "markdown",
   "metadata": {},
   "source": [
    "* Used [Phy User Manual](https://github.com/kwikteam/phy-contrib/blob/master/docs/template-gui.md) to guide analysis\n",
    "* Evaluated all clusters with n > 1000 spikes as 'good', 'mua', or 'noise'\n",
    "* **'Good' clusters with nice action potentials:**\n",
    "    * 34\n",
    "    * 93\n",
    "    * 74\n",
    "    * 70\n",
    "    * 349\n",
    "    * 45\n",
    "    * 353\n",
    "* **Merging and Splitting:**"
   ]
  },
  {
   "cell_type": "markdown",
   "metadata": {},
   "source": [
    "### 20200703_C9_BC_g0_imec1"
   ]
  },
  {
   "cell_type": "markdown",
   "metadata": {},
   "source": [
    "* Used [Phy User Manual](https://github.com/kwikteam/phy-contrib/blob/master/docs/template-gui.md) to guide analysis\n",
    "* Evaluated all clusters with n > 1000 spikes as 'good', 'mua', or 'noise'\n",
    "* **'Good' clusters with nice action potentials:**\n",
    "    * 94\n",
    "* **Merging and Splitting:**"
   ]
  }
 ],
 "metadata": {
  "kernelspec": {
   "display_name": "Python 3",
   "language": "python",
   "name": "python3"
  },
  "language_info": {
   "codemirror_mode": {
    "name": "ipython",
    "version": 3
   },
   "file_extension": ".py",
   "mimetype": "text/x-python",
   "name": "python",
   "nbconvert_exporter": "python",
   "pygments_lexer": "ipython3",
   "version": "3.7.6"
  }
 },
 "nbformat": 4,
 "nbformat_minor": 4
}

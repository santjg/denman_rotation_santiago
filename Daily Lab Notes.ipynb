{
 "cells": [
  {
   "cell_type": "markdown",
   "metadata": {},
   "source": [
    "# Weekly Meetings"
   ]
  },
  {
   "cell_type": "markdown",
   "metadata": {},
   "source": [
    "### Lab Goals: \n",
    "Test if data from mouse visual cortex recordings becomes more consistent when using visual stimuli that is more targeted to the physiology of the mouse retina."
   ]
  },
  {
   "cell_type": "markdown",
   "metadata": {},
   "source": [
    "### 06/16/2020\n",
    "* **Weekly Summary:**\n",
    "This week was mainly devoted to familiarizing myself with the lab. I went through the learnpython.org tutorial to familiarize myself with the basics of python. I additionally completed (after plenty of trial and error) the Python for Neuroscience Intro and Receptive Fields notebooks. To give me a better background in the lab’s research and experimental design, I spent time reading some papers from the Lab Canon and watched the first two lectures from the Harvard CS50 course\n",
    "* **Weekly goals:**\n",
    "    * Create a preliminary experiment design for the summer\n",
    "    * Begin animal work (Training and/or surgery)\n",
    "    * Watch more of the CS50 lectures (2-3 realistically)\n",
    "    * Continue to familiarize myself with python\n",
    "    * Continue reading from the canon as well as references I find which may enhance my understanding\n",
    "* **What Dan can do to make the weekly goals happen:**\n",
    "I think an additional meeting later in the week to discuss experimental design and my ideas for moving forward would be great if possible. This is a very new field for me and I would love both feedback and guidance regarding how I’m approaching problems and what the realities of the science are. Any additional references you might suggest could also be helpful. Apart from that, I think you’ve been very available and patient responding to my questions, so just keep that up if you can!\n",
    "* **Notes:**"
   ]
  },
  {
   "cell_type": "markdown",
   "metadata": {},
   "source": [
    "### 06/23/2020\n",
    "* **Weekly Summary:**  \n",
    "This week, we got the project rolling first by discussing a project proposal and potential directions for the project. You also gave me several references to gain a better understanding of stimulus paradigms and how we might apply them for our goals. On Thursday, we went over my written  project proposal (up to that point) and discussed strengths/weaknesses. On Friday, we started habituation for our mice which is still ongoing.\n",
    "* **Weekly goals:**  \n",
    "    * Complete habituation\n",
    "    * Saline Recordings (Thursday or Friday)\n",
    "    * Begin Recordings (likely Monday)\n",
    "    * Watch 2-3 CS50 lectures \n",
    "* **What Dan can do to make the weekly goals happen:**\n",
    "    * Continue helping me with habituation as needed\n",
    "    * Provide guidance during saline recordings and V1 recordings\n",
    "    * Maybe another meeting later this week where we can really discuss what we've decided to do for our stimulus and why\n",
    "* **Notes:**\n",
    "    * Set up a Git repository for easy sharing and saving\n",
    "    * Practice receptive field mapping with practice data on extrernal drive\n",
    "    * Make sure to habituate mice with neuropixels turned on since they emit ultrasound\n",
    "    * Choose one mouse to continue habituating for multiple hours \n",
    "        * Going to use C5\n",
    "    * Send Dan research proposal once I've gone back and filled in what I lost\n",
    "    * Dan will get back to me once he's figured out the stimulus protocol"
   ]
  },
  {
   "cell_type": "markdown",
   "metadata": {},
   "source": [
    "# (Re-Habituation) - Beginning 06/19/2020"
   ]
  },
  {
   "cell_type": "markdown",
   "metadata": {},
   "source": [
    "### Mouse Labeling Notation\n",
    "Tails were marked with permanent marker to distinguish cage-mates. In numerical order, each mouse got either one or two tail bands (two mice per cage). \n",
    "> C5 in cage 191679 becomes 191679-1 (one band)  \n",
    "> C6 in the same cage becomes 191679-2 (two bands)"
   ]
  },
  {
   "cell_type": "markdown",
   "metadata": {},
   "source": [
    "### 191679-1 (C5)\n",
    "\n",
    "* **Day 1 - Fri, 06/19/2020**\n",
    "    * 5 min head fixed, no stimulus\n",
    "    * Comfortable in hand, no significant distress noted on the rig\n",
    "* **Day 2 - Sun, 06/21/2020**\n",
    "    * 15 min head fixed - 15 min stimulus (ArbMatrix_color.py)\n",
    "    * Comfortable in hand, no significant distress noted on the rig\n",
    "* **Day 3 - Mon, 06/22/2020**\n",
    "    * 30 min head fixed - 15 min stimulus (ArbMatrix_color.py), 15 min no stimulus\n",
    "    * Comfortable in hand, no significant distress noted on the rig\n",
    "* **Day 4 - Tue, 06/23/2020**\n",
    "    * 1h head fixed - 15 min stimulus (ArbMatrix_color.py), 45min no stimulus\n",
    "    * Comfortable in hand, no significant distress noted on the rig\n",
    "* **Day 5 - Wed, 06/24/2020**\n",
    "    * Neuropixels turned on to acclimate to ultrasound\n",
    "    * 2h head fixed - 15min stimulus (ArbMatrix_color.py), 1h 45min no stimulus\n",
    "    * No major signs of distress after 2h. Slight poprhyrin secretion. Will attempt another long (2h) session tomorrow to improve habituation\n",
    "* **Day 6 - Thurs, 06/25/2020**\n",
    "    * 2h head fixed - 15min stimulus (ArbMatrix_color.py), 1h 45min no stimulus\n",
    "    * Aborted habituation with 40min left due to signicant porphyrin deposition\n",
    "* **Day 7 - Fri, 06/26/2020**\n",
    "    * 2h head fixed - 15min stimulus (ArbMatrix_color.py), 1h 45min no stimulus\n",
    "    * Noticed porphyrin secretion beginning around 1h 20min in. Habituation allowed to run until around 1h 40min in due to significant secretion that showed no sign of slowing"
   ]
  },
  {
   "cell_type": "markdown",
   "metadata": {},
   "source": [
    "### 191679-2 (C6)\n",
    "\n",
    "* **Day 1 - Fri, 06/19/2020**\n",
    "    * 5 min head fixed, no stimulus\n",
    "    * Comfortable in hand, no significant distress noted on the rig\n",
    "* **Day 2 - Sun, 06/21/2020**\n",
    "    * 15 min head fixed - 15 min stimulus (ArbMatrix_color.py)\n",
    "    * Comfortable in hand, no significant distress noted on the rig\n",
    "* **Day 3 - Mon, 06/22/2020**\n",
    "    * 30 min head fixed - 15 min stimulus (ArbMatrix_color.py), 15 min no stimulus\n",
    "    * Comfortable in hand, no significant distress noted on the rig\n",
    "* **Day 4 - Tue, 06/23/2020**\n",
    "    * 1h head fixed - 15 min stimulus (ArbMatrix_color.py), 45min no stimulus\n",
    "    * Comfortable in hand\n",
    "    * Significant porphyrin deposition after 1h had elapsed suggesting distress\n",
    "    * Attempt 1h again tomorrow\n",
    "* **Day 5 - Wed, 06/24/2020**\n",
    "    * 1h head fixed - 15 min stimulus (ArbMatrix_color.py), 45min no stimulus\n",
    "    * Comfortable in hand\n",
    "    * Slightly uncomfortable being put on the rig. Attempted to wiggle out for a moment\n",
    "    * Watched closely for signs of distress every 15-20min\n",
    "    * Significant porphyrin secretion noted at 1h, that was not noted at 40min\n",
    "    * Will attempt 1h again\n",
    "* **Day 6 - Fri, 06/26/2020\n",
    "    * 1h head fixed - No stimulus\n",
    "    * Performed on Right rig\n",
    "    * Dissecting scope light turned on for 20min and then swapped out for red flashlight attached to the microscope\n",
    "    * No signs of porphyrin after 1h "
   ]
  },
  {
   "cell_type": "markdown",
   "metadata": {},
   "source": [
    "### 197199-1 (C8)\n",
    "\n",
    "* **Day 1 - Fri, 06/19/2020**\n",
    "    * 5 min head fixed, no stimulus\n",
    "    * Comfortable in hand, no significant distress noted on the rig\n",
    "* **Day 2 - Sun, 06/21/2020**\n",
    "    * 15 min head fixed - 15 min stimulus (ArbMatrix_color.py)\n",
    "    * Comfortable in hand, no significant distress noted on the rig\n",
    "* **Day 3 - Mon, 06/22/2020**\n",
    "    * 30 min head fixed - 15 min stimulus (ArbMatrix_color.py), 15 min no stimulus\n",
    "    * Comfortable in hand, no significant distress noted on the rig\n",
    "* **Day 4 - Tue, 06/23/2020**\n",
    "    * 1h head fixed - 15 min stimulus (ArbMatrix_color.py), 45min no stimulus\n",
    "    * Comfortable in hand, no significant distress noted on the rig"
   ]
  },
  {
   "cell_type": "markdown",
   "metadata": {},
   "source": [
    "### 197199-2 (C9)\n",
    "\n",
    "* **Day 1 - 06/19/2020**\n",
    "    * 5 min head fixed, no stimulus\n",
    "    * Comfortable in hand, no significant distress noted on the rig\n",
    "* **Day 2 - 06/21/2020**\n",
    "    * 15 min head fixed - 15 min stimulus (ArbMatrix_color.py)\n",
    "    * Comfortable in hand, no significant distress noted on the rig\n",
    "* **Day 3 - 06/22/2020**\n",
    "    * 30 min head fixed - 15 min stimulus (ArbMatrix_color.py), 15 min no stimulus\n",
    "    * Comfortable in hand, no significant distress noted on the rig\n",
    "* **Day 4 - 06/23/2020**\n",
    "    * 1h head fixed - 15 min stimulus (ArbMatrix_color.py), 45min no stimulus\n",
    "    * Comfortable in hand, no significant distress noted on the rig"
   ]
  },
  {
   "cell_type": "markdown",
   "metadata": {},
   "source": [
    "# Saline Recordings"
   ]
  },
  {
   "cell_type": "markdown",
   "metadata": {},
   "source": [
    "## Thurs, 06/25/2020\n",
    "Arrived to find one of the Neuropixels probes broken. Broken probe was removed and saline recordings were attempted by Dan with two probes. One probe seemed functional. The other probe seems to have an unknown issue causing jitter in the recordings."
   ]
  },
  {
   "cell_type": "markdown",
   "metadata": {},
   "source": [
    "## Fri, 06/26/2020"
   ]
  },
  {
   "cell_type": "markdown",
   "metadata": {},
   "source": []
  },
  {
   "cell_type": "markdown",
   "metadata": {},
   "source": [
    "# Awake Recordings - 06/29/2020"
   ]
  },
  {
   "cell_type": "markdown",
   "metadata": {},
   "source": []
  },
  {
   "cell_type": "code",
   "execution_count": null,
   "metadata": {},
   "outputs": [],
   "source": []
  },
  {
   "cell_type": "code",
   "execution_count": null,
   "metadata": {},
   "outputs": [],
   "source": []
  }
 ],
 "metadata": {
  "kernelspec": {
   "display_name": "Python 3",
   "language": "python",
   "name": "python3"
  },
  "language_info": {
   "codemirror_mode": {
    "name": "ipython",
    "version": 3
   },
   "file_extension": ".py",
   "mimetype": "text/x-python",
   "name": "python",
   "nbconvert_exporter": "python",
   "pygments_lexer": "ipython3",
   "version": "3.7.6"
  }
 },
 "nbformat": 4,
 "nbformat_minor": 4
}

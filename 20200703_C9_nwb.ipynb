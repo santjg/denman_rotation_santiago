{
 "cells": [
  {
   "cell_type": "markdown",
   "metadata": {},
   "source": [
    "# SpikeGLX to NWB Pipeline\n",
    "This notebook was created to form a pipeline for packaging neuropixels data, acquired using SpikeGLX and preprocessed in Phy/Kilosort. It was built off of multiple sources listed below:  \n",
    "\n",
    "* [pynwb API Documentation](https://pynwb.readthedocs.io/en/stable/pynwb.html)\n",
    "* [NWB for Neuropixels Experiments](https://neurodatawithoutborders.github.io/nwb_hackathons/HCK04_2018_Seattle/Projects/Neuropixels/)\n",
    "* [NWB Basics](https://pynwb.readthedocs.io/en/stable/tutorials/general/file.html#sphx-glr-tutorials-general-file-py)\n",
    "* [Advanced HDF5 I/O](https://pynwb.readthedocs.io/en/stable/tutorials/general/advanced_hdf5_io.html#sphx-glr-tutorials-general-advanced-hdf5-io-py)\n",
    "* [Iterative Data Write](https://pynwb.readthedocs.io/en/latest/tutorials/general/iterative_write.html#sphx-glr-tutorials-general-iterative-write-py)  \n",
    "* [Extracellular Electrophysiology Data](https://pynwb.readthedocs.io/en/stable/tutorials/domain/ecephys.html#sphx-glr-tutorials-domain-ecephys-py)"
   ]
  },
  {
   "cell_type": "code",
   "execution_count": 1,
   "metadata": {},
   "outputs": [],
   "source": [
    "#pynwb imports \n",
    "\n",
    "from pynwb import NWBFile, NWBHDF5IO, ProcessingModule, image, TimeSeries\n",
    "from pynwb.ecephys import Clustering, ClusterWaveforms, ElectricalSeries\n",
    "from pynwb.misc import Units, AbstractFeatureSeries \n",
    "\n",
    "# General Imports\n",
    "\n",
    "import os\n",
    "import datetime\n",
    "import numpy as np\n",
    "import pandas as pd\n",
    "import matplotlib.pyplot as plt\n",
    "from dateutil import tz\n",
    "from datetime import datetime\n",
    "import io\n",
    "import DemoReadSGLXData.readSGLX as readSGLX\n",
    "from pathlib import Path\n",
    "from hdmf import common\n",
    "import pickle\n",
    "\n",
    "%matplotlib inline"
   ]
  },
  {
   "cell_type": "markdown",
   "metadata": {},
   "source": [
    "## Load Data\n",
    "By this point, you should have run at least kilosort and probably Phy on your raw data (which is what I did), but SpikeGLX suggests running CatGT before any of this. This is mostly, however for the purpose of filtering your data prior to any spike sorting. We don't generally do this and as such, don't really feel CatGT is necessary before our spike sorting/clustering steps.  \n",
    "This notebook is based off another Jupyter notebook for packaging Phy and Kilosort Data into NWB. It included multiple functions invoving mean waveforms. Mean waveforms are not a standard data output and must be  calculated using the [`meanWaveForms`](https://github.com/cortex-lab/spikes/blob/master/analysis/getWaveForms.m) function in Matlab. "
   ]
  },
  {
   "cell_type": "code",
   "execution_count": 2,
   "metadata": {},
   "outputs": [],
   "source": [
    "#Stimulus Files\n",
    "highspeed = r\"E:\\20200703_C9_BC_g0\\stimulus\\2020-07-03-113513959914.pkl\"\n",
    "color_matrix = r\"E:\\20200703_C9_BC_g0\\stimulus\\2020-07-03-114729603102color_.pkl\"\n",
    "gratings_orientation_all = r\"E:\\20200703_C9_BC_g0\\stimulus\\200703115841-gratings_orientation-C9.pkl\"\n",
    "gratings_iso_all = r\"E:\\20200703_C9_BC_g0\\stimulus\\200703120953-gratings_orientation_isoluminant-C9.pkl\"\n",
    "gratings_color_all = r\"E:\\20200703_C9_BC_g0\\stimulus\\200703130627-gratings_color-C9.pkl\"\n",
    "scene_flicker_all = r\"E:\\20200703_C9_BC_g0\\stimulus\\200703122004-scene_flicker-C9.pkl\"\n",
    "flicker_shuffled_all = r\"E:\\20200703_C9_BC_g0\\stimulus\\200703122519-scene_flicker_shuffled-C9.pkl\"\n",
    "scene_flicker_gn = r\"E:\\20200703_C9_BC_g0\\stimulus\\200703122519-scene_flicker_shuffled-C9.pkl\"\n",
    "gratings_orientation_gn = r\"E:\\20200703_C9_BC_g0\\stimulus\\200703124707-gratings_orientation-C9.pkl\"\n",
    "flicker_shuffled_gn = r\"E:\\20200703_C9_BC_g0\\stimulus\\200703125223-scene_flicker_shuffled-C9.pkl\"\n",
    "#scene_flicker_uv = \n",
    "#gratings_orientation_uv = "
   ]
  },
  {
   "cell_type": "code",
   "execution_count": 3,
   "metadata": {
    "scrolled": true
   },
   "outputs": [],
   "source": [
    "# Common Data Path\n",
    "datapath = r'E:\\20200703_C9_BC_g0'\n",
    "\n",
    "#NI-DAQ raw files\n",
    "nidq_bin = os.path.join(datapath, '20200703_C9_BC_g0_t0.nidq.bin')\n",
    "nidq_meta = os.path.join(datapath, '20200703_C9_BC_g0_t0.nidq.meta')"
   ]
  },
  {
   "cell_type": "code",
   "execution_count": 4,
   "metadata": {},
   "outputs": [],
   "source": [
    "# Path to imec0 Files\n",
    "imec0_datapath = r\"E:\\20200703_C9_BC_g0\\20200703_C9_BC_g0_imec0\" \n",
    "\n",
    "# kilosort .npy outputs for imec0:\n",
    "imec0_amplitudes = np.load(os.path.join(imec0_datapath, 'amplitudes.npy'))\n",
    "imec0_channel_pos = np.load(os.path.join(imec0_datapath, 'channel_positions.npy'))\n",
    "imec0_channel_map = np.load(os.path.join(imec0_datapath, 'channel_map.npy'))\n",
    "imec0_spike_clusters = np.ndarray.flatten(np.load(os.path.join(imec0_datapath, 'spike_clusters.npy')))\n",
    "imec0_spiketimes = np.ndarray.flatten(np.load(os.path.join(imec0_datapath, 'spike_times.npy')))\n",
    "\n",
    "# non-standard .npy containing mean waveforms for each cluster:\n",
    "# mean_waveforms = np.load(os.path.join(datapath, 'mean_waveforms.npy'))\n",
    "\n",
    "# .tsv containing cluster labels:\n",
    "imec0_cluster_groups = pd.read_csv(os.path.join(imec0_datapath, 'cluster_group.tsv'), '\\t')"
   ]
  },
  {
   "cell_type": "code",
   "execution_count": 5,
   "metadata": {},
   "outputs": [],
   "source": [
    "# Path to imec1 Files\n",
    "imec1_datapath = r\"E:\\20200703_C9_BC_g0\\20200703_C9_BC_g0_imec1\"\n",
    "\n",
    "# kilosort .npy outputs for imec1:\n",
    "imec1_amplitudes = np.load(os.path.join(imec1_datapath, 'amplitudes.npy'))\n",
    "imec1_channel_pos = np.load(os.path.join(imec1_datapath, 'channel_positions.npy'))\n",
    "imec1_channel_map = np.load(os.path.join(imec1_datapath, 'channel_map.npy'))\n",
    "imec1_spike_clusters = np.ndarray.flatten(np.load(os.path.join(imec1_datapath, 'spike_clusters.npy')))\n",
    "imec1_spiketimes = np.ndarray.flatten(np.load(os.path.join(imec1_datapath, 'spike_times.npy')))\n",
    "\n",
    "# non-standard .npy containing mean waveforms for each cluster:\n",
    "# mean_waveforms = np.load(os.path.join(datapath, 'mean_waveforms.npy'))\n",
    "\n",
    "# .tsv containing cluster labels:\n",
    "imec1_cluster_groups = pd.read_csv(os.path.join(imec1_datapath, 'cluster_group.tsv'), '\\t')"
   ]
  },
  {
   "cell_type": "markdown",
   "metadata": {},
   "source": [
    "## Running CatGT\n",
    "CatGT is a command line tool from SpikeGLX used to preprocess data before spike sorting. It allows you to pass your raw data through various filters as well as detect the edges of NiI-DAQ sync waves to label sync times. These can then be used as proxies for event times (digital stream), or as reference times to align edges of events using TPrime. "
   ]
  },
  {
   "cell_type": "code",
   "execution_count": 6,
   "metadata": {},
   "outputs": [],
   "source": [
    "#imec CatGT Output\n",
    "imec0_catgt_bin = os.path.join(imec0_datapath, '20200703_C9_BC_g0_tcat.imec0.ap.bin')\n",
    "imec1_catgt_bin = os.path.join(imec1_datapath, '20200703_C9_BC_g0_tcat.imec1.ap.bin')\n",
    "\n",
    "#NI-DAQ CatGT Output\n",
    "xda = np.memmap((os.path.join(datapath, '20200703_C9_BC_g0_tcat.nidq.XA_0_500.txt')))\n",
    "xd02 = np.memmap((os.path.join(datapath, '20200703_C9_BC_g0_tcat.nidq.XD_0_2_0.txt')))\n",
    "xd03 = np.memmap((os.path.join(datapath, '20200703_C9_BC_g0_tcat.nidq.XD_0_3_0.txt')))\n",
    "xd04 = np.memmap((os.path.join(datapath, '20200703_C9_BC_g0_tcat.nidq.XD_0_4_0.txt')))\n",
    "xd05 = np.memmap((os.path.join(datapath, '20200703_C9_BC_g0_tcat.nidq.XD_0_5_0.txt')))\n",
    "xd06 = np.memmap((os.path.join(datapath, '20200703_C9_BC_g0_tcat.nidq.XD_0_6_0.txt')))\n",
    "xd07 = np.memmap((os.path.join(datapath, '20200703_C9_BC_g0_tcat.nidq.XD_0_7_0.txt')))\n",
    "xd08 = np.memmap((os.path.join(datapath, '20200703_C9_BC_g0_tcat.nidq.XD_0_8_0.txt')))"
   ]
  },
  {
   "cell_type": "markdown",
   "metadata": {},
   "source": [
    "For precision, you should be manually extracting the sampling rate from each imec metadata file. This is because the sampling rate will be slightly different from headstage to headstage. "
   ]
  },
  {
   "cell_type": "code",
   "execution_count": 7,
   "metadata": {
    "scrolled": true
   },
   "outputs": [
    {
     "name": "stdout",
     "output_type": "stream",
     "text": [
      "imec0 sampling rate = 30000.211765 Hz\n"
     ]
    }
   ],
   "source": [
    "# imec0 sampling rate \n",
    "binFullPath = Path(imec0_catgt_bin)\n",
    "meta = readSGLX.readMeta(binFullPath)\n",
    "imec0_sRate = readSGLX.SampRate(meta)\n",
    "imec0_ogchans = readSGLX.OriginalChans(meta)\n",
    "\n",
    "print('imec0 sampling rate =', imec0_sRate, 'Hz')"
   ]
  },
  {
   "cell_type": "code",
   "execution_count": 8,
   "metadata": {},
   "outputs": [
    {
     "name": "stdout",
     "output_type": "stream",
     "text": [
      "imec1 sampling rate = 30000.174789915967 Hz\n"
     ]
    }
   ],
   "source": [
    "# imec1 sampling rate \n",
    "binFullPath = Path(imec1_catgt_bin)\n",
    "meta = readSGLX.readMeta(binFullPath)\n",
    "imec1_sRate = readSGLX.SampRate(meta)\n",
    "print('imec1 sampling rate =', imec1_sRate, 'Hz')"
   ]
  },
  {
   "cell_type": "markdown",
   "metadata": {},
   "source": [
    "Now with these sampling rates, we can convert the spike times array, which is a kilosort output from samples to seconds. We'll then save them to a new array we'll call `spike_seconds.npy`"
   ]
  },
  {
   "cell_type": "code",
   "execution_count": 9,
   "metadata": {},
   "outputs": [],
   "source": [
    "# imec0\n",
    "imec0_spike_seconds = np.divide(imec0_spiketimes, imec0_sRate)\n",
    "np.save(os.path.join(imec0_datapath, 'spike_seconds'), imec0_spike_seconds)"
   ]
  },
  {
   "cell_type": "code",
   "execution_count": 10,
   "metadata": {},
   "outputs": [],
   "source": [
    "# imec1\n",
    "imec1_spike_seconds = np.divide(imec1_spiketimes, imec1_sRate)\n",
    "np.save(os.path.join(imec1_datapath, 'spike_seconds'), imec1_spike_seconds)"
   ]
  },
  {
   "cell_type": "markdown",
   "metadata": {},
   "source": [
    "## TPrime\n",
    "These `spike_seconds` arrays are then used as event inputs for TPrime to align spike times to the NI-DAQ sync stream. The output arrays are named `spikesecs.npy`"
   ]
  },
  {
   "cell_type": "code",
   "execution_count": 11,
   "metadata": {},
   "outputs": [],
   "source": [
    "imec0_spikesecs = np.ndarray.flatten(np.load(os.path.join(imec0_datapath, 'spikesecs.npy')))\n",
    "imec1_spikesecs = np.ndarray.flatten(np.load(os.path.join(imec1_datapath, 'spikesecs.npy')))"
   ]
  },
  {
   "cell_type": "markdown",
   "metadata": {},
   "source": [
    "## Create NWB"
   ]
  },
  {
   "cell_type": "markdown",
   "metadata": {},
   "source": [
    "Before making the NWB, we need to create a Units interface"
   ]
  },
  {
   "cell_type": "code",
   "execution_count": 12,
   "metadata": {},
   "outputs": [
    {
     "name": "stdout",
     "output_type": "stream",
     "text": [
      "root pynwb.file.NWBFile at 0x1189305077448\n",
      "Fields:\n",
      "  experimenter: ['Juan Santiago']\n",
      "  file_create_date: [datetime.datetime(2020, 9, 4, 14, 54, 47, 556756, tzinfo=tzlocal())]\n",
      "  identifier: 20200703_C9\n",
      "  institution: University of Colorado\n",
      "  lab: Denman Lab\n",
      "  session_description: Two neuropixels probes recording from V1 in headfixed mouse\n",
      "  session_id: recording 2\n",
      "  session_start_time: 2020-07-03 11:30:00-06:00\n",
      "  timestamps_reference_time: 2020-07-03 11:30:00-06:00\n",
      "\n"
     ]
    }
   ],
   "source": [
    "# Create File\n",
    "\n",
    "start_time = datetime(2020, 7, 3, 11, 30, tzinfo = tz.gettz('US/Mountain'))\n",
    "\n",
    "nwbfile = NWBFile(session_description = 'Two neuropixels probes recording from V1 in headfixed mouse',\n",
    "                  identifier = '20200703_C9',\n",
    "                  session_start_time = start_time,\n",
    "                  session_id = 'recording 2',\n",
    "                  experimenter = 'Juan Santiago',\n",
    "                  lab = 'Denman Lab',\n",
    "                  institution = 'University of Colorado', \n",
    "                 )\n",
    "\n",
    "print(nwbfile)"
   ]
  },
  {
   "cell_type": "markdown",
   "metadata": {},
   "source": [
    "### Electrode Metadata"
   ]
  },
  {
   "cell_type": "markdown",
   "metadata": {},
   "source": [
    "Create a `device` which corresponds to the neurophys rig containing the neuropixels probes where you are doing your recordings from. "
   ]
  },
  {
   "cell_type": "code",
   "execution_count": 13,
   "metadata": {},
   "outputs": [],
   "source": [
    "#Create device\n",
    "device = nwbfile.create_device(name='denman_ephys_rig1')"
   ]
  },
  {
   "cell_type": "markdown",
   "metadata": {},
   "source": [
    "Create an `ElectrodeGroup` for each experimentally relevant group of electrodes. In this case, there will be an `ElectrodeGroup` for each neuropixels probe"
   ]
  },
  {
   "cell_type": "code",
   "execution_count": 14,
   "metadata": {},
   "outputs": [],
   "source": [
    "electrode_name_1 = 'imec0'\n",
    "description_1 = \"Neuropixels Probe B\"\n",
    "electrode_name_2 = 'imec1'\n",
    "description_2 = \"Neuropixels Probe C\"\n",
    "\n",
    "location = \"V1\"\n",
    "\n",
    "# imec0\n",
    "imec0 = nwbfile.create_electrode_group(electrode_name_1,\n",
    "                                       description=description_1,\n",
    "                                       location=location,\n",
    "                                       device= device\n",
    "                                      )\n",
    "# imec1\n",
    "imec1 = nwbfile.create_electrode_group(electrode_name_2,\n",
    "                                       description=description_2,\n",
    "                                       location=location,\n",
    "                                       device= device\n",
    "                                      )"
   ]
  },
  {
   "cell_type": "markdown",
   "metadata": {},
   "source": [
    "Now, you should add metadata for each `electrode` within an `ElectrodeGroup` (individual neuropixels probe) using `add_electrode`."
   ]
  },
  {
   "cell_type": "code",
   "execution_count": 15,
   "metadata": {},
   "outputs": [],
   "source": [
    "# Assign individual electrodes to groups\n",
    "for idx in range(384):\n",
    "    nwbfile.add_electrode(id=idx,\n",
    "                          x=imec0_channel_pos[0,0].T, \n",
    "                          y=imec0_channel_pos[0,1].T, \n",
    "                          z=0.0,\n",
    "                          imp=float(-idx),\n",
    "                          location='V1', \n",
    "                          filtering='none',\n",
    "                          group=imec0\n",
    "                         )\n",
    "\n",
    "for idx in range(384):\n",
    "    nwbfile.add_electrode(id=idx,\n",
    "                          x=imec1_channel_pos[0,0].T, \n",
    "                          y=imec1_channel_pos[0,1].T, \n",
    "                          z=0.0,\n",
    "                          imp=float(-idx),\n",
    "                          location='V1', \n",
    "                          filtering='none',\n",
    "                          group=imec1\n",
    "                         )"
   ]
  },
  {
   "cell_type": "code",
   "execution_count": 16,
   "metadata": {},
   "outputs": [],
   "source": [
    "# Generate Dynamic Tables to assign Units\n",
    "imec0_df = pd.DataFrame(imec0_channel_pos)\n",
    "imec0_df.columns = ['x','y']\n",
    "imec0_dt = common.table.DynamicTable.from_dataframe(name = 'imec0 dynamic table', \n",
    "                                       df = imec0_df, \n",
    "                                       table_description = 'DynamicTable from channel positions'\n",
    "                                      )\n",
    "\n",
    "imec1_df = pd.DataFrame(imec1_channel_pos)\n",
    "imec1_df.columns = ['x','y']\n",
    "imec1_dt = common.table.DynamicTable.from_dataframe(name = 'imec1 dynamic table', \n",
    "                                       df = imec1_df, \n",
    "                                       table_description = 'DynamicTable from channel positions'\n",
    "                                      )"
   ]
  },
  {
   "cell_type": "markdown",
   "metadata": {},
   "source": [
    "###  Pre-processed Ephys Data\n",
    "Prior NWB's I had seen packaged unit and cluster information separately. `Clustering` has since been deprecated in favor of `Units`. `Units` is additionally the new name for `UnitTimes`. This method of storage is specific to spike clustering programs (Kilosort/Phy). In an example notebook, Spike data went into its own `ProcessingModule` under `Units` and that's demonstrated in the code blocks below. `Units` is a top level category where output from processing modules is stored."
   ]
  },
  {
   "cell_type": "markdown",
   "metadata": {},
   "source": [
    "Processing modules are objects that group together common analyses done during processing of data. Processing module objects are unique collections of analysis results. To standardize the storage of common analyses, NWB provides the concept of an NWBDataInterface, where the output of common analyses are represented as objects that extend the NWBDataInterface class. In most cases, you will not need to interact with the NWBDataInterface class directly. More commonly, you will be creating instances of classes that extend this class. **The final output of processing modules should go into the top-level, `Units`, but since our clusters are preprocessed, I don't believe we need modules**"
   ]
  },
  {
   "cell_type": "markdown",
   "metadata": {},
   "source": [
    "### Imec0"
   ]
  },
  {
   "cell_type": "code",
   "execution_count": 17,
   "metadata": {},
   "outputs": [],
   "source": [
    "# imec0 Units\n",
    "#imec0_units = Units('Neuropixels Probe B',\n",
    "#                   electrode_table = imec0_dt,\n",
    "#                  )\n",
    "\n",
    "for index, unitID in enumerate(imec0_cluster_groups['cluster_id'].values):\n",
    "    if imec0_cluster_groups['group'][index] == 'good':\n",
    "        times = imec0_spikesecs[imec0_spike_clusters == unitID]\n",
    "        nwbfile.add_unit(spike_times = times,\n",
    "                             id = unitID,\n",
    "                             electrode_group = imec0\n",
    "                            )      "
   ]
  },
  {
   "cell_type": "markdown",
   "metadata": {},
   "source": [
    "### Imec1"
   ]
  },
  {
   "cell_type": "code",
   "execution_count": 18,
   "metadata": {},
   "outputs": [],
   "source": [
    "# imec1 Total Units\n",
    "#imec1_units = Units('Neuropixels Probe C',\n",
    "#                    electrode_table = imec1_dt\n",
    "#                   )\n",
    "\n",
    "for index, unitID in enumerate(imec1_cluster_groups['cluster_id'].values):\n",
    "    if imec1_cluster_groups['group'][index] == 'good':\n",
    "        times = imec1_spikesecs[imec1_spike_clusters == unitID]\n",
    "        nwbfile.add_unit(spike_times = times, \n",
    "                             id = unitID,\n",
    "                             electrode_group = imec1\n",
    "                            )"
   ]
  },
  {
   "cell_type": "markdown",
   "metadata": {},
   "source": [
    "## Stimulus"
   ]
  },
  {
   "cell_type": "code",
   "execution_count": 20,
   "metadata": {},
   "outputs": [],
   "source": [
    "#Unpickle stimulus files\n",
    "with open(highspeed, 'rb') as a:\n",
    "    highspeed_pkl = pickle.load(a)\n",
    "    \n",
    "with open(color_matrix, 'rb') as b:\n",
    "    color_matrix = pickle.load(b)\n",
    "    \n",
    "with open(gratings_orientation_all, 'rb') as c:\n",
    "    gratori_all = pickle.load(c) \n",
    "    \n",
    "with open(gratings_iso_all, 'rb') as d:\n",
    "    gratiso_all = pickle.load(d)\n",
    "\n",
    "with open(gratings_color_all, 'rb') as e:\n",
    "    gratcol_all = pickle.load(e)\n",
    "\n",
    "with open(scene_flicker_all, 'rb') as f:\n",
    "    sceflic_all = pickle.load(f)\n",
    "\n",
    "with open(flicker_shuffled_all, 'rb') as g:\n",
    "    flicshuf_all = pickle.load(g)\n",
    "\n",
    "with open(scene_flicker_gn, 'rb') as h:\n",
    "    sceflic_gn = pickle.load(h)\n",
    "\n",
    "with open(gratings_orientation_gn, 'rb') as i:\n",
    "    gratori_gn = pickle.load(i)\n",
    "    \n",
    "with open(flicker_shuffled_gn, 'rb') as j:\n",
    "    flicshuf_gn = pickle.load(j)"
   ]
  },
  {
   "attachments": {
    "image.png": {
     "image/png": "[encoded data removed]"
    }
   },
   "cell_type": "markdown",
   "metadata": {},
   "source": [
    "### Parsing Stimulus Timestamps\n",
    "Dan created a program to properly parse the NIDAQ data because we were suspicious of CatGT/TPrime outputs. An chart of the digital lines over time below.  \n",
    "![Digital Lines](attachment:image.png)"
   ]
  },
  {
   "cell_type": "code",
   "execution_count": 21,
   "metadata": {},
   "outputs": [],
   "source": [
    "with open(r'E:\\digital_lines_rising_samples.pkl', 'rb') as f:\n",
    "    data = pickle.load(f)"
   ]
  },
  {
   "cell_type": "code",
   "execution_count": 22,
   "metadata": {},
   "outputs": [
    {
     "data": {
      "text/plain": [
       "array([ 238.66561,  238.71737,  238.76665, ..., 7102.83229, 7102.93181,\n",
       "       7103.03237])"
      ]
     },
     "execution_count": 22,
     "metadata": {},
     "output_type": "execute_result"
    }
   ],
   "source": [
    "D1 = np.asarray(data['D1'])\n",
    "d1sec = D1/1e7\n",
    "d1sec"
   ]
  },
  {
   "cell_type": "code",
   "execution_count": 23,
   "metadata": {},
   "outputs": [
    {
     "data": {
      "text/plain": [
       "array([ 237.66747,  237.68218,  237.69868, ..., 7103.08287, 7103.09948,\n",
       "       7103.11627])"
      ]
     },
     "execution_count": 23,
     "metadata": {},
     "output_type": "execute_result"
    }
   ],
   "source": [
    "D2 = np.asarray(data['D2'])\n",
    "d2sec = D2/1e7\n",
    "d2sec"
   ]
  },
  {
   "cell_type": "code",
   "execution_count": 24,
   "metadata": {},
   "outputs": [
    {
     "data": {
      "text/plain": [
       "array([611.78947, 611.79967, 611.84189, ..., 971.62248, 971.67251,\n",
       "       971.72254])"
      ]
     },
     "execution_count": 24,
     "metadata": {},
     "output_type": "execute_result"
    }
   ],
   "source": [
    "D3 = np.asarray(data['D3'])\n",
    "d3sec = D3/1e7\n",
    "d3sec"
   ]
  },
  {
   "cell_type": "markdown",
   "metadata": {},
   "source": [
    "**Highspeed Matrix - All** (highspeed_pkl)  \n",
    "D1: set low at start. flip high when the stimulus starts. remain high until stimulus is over  \n",
    "D2: set low at start. flip high for one frame every time the frame changes. should occur 21600 times  \n",
    "**stimDuration** = 360 **sweeplength** = 0.05 **postsweepsec** = 0, **Runs** = 3(?)"
   ]
  },
  {
   "cell_type": "code",
   "execution_count": 25,
   "metadata": {},
   "outputs": [
    {
     "name": "stdout",
     "output_type": "stream",
     "text": [
      "Start Time: 238.66561\n",
      "Stop Time: 594.59534\n"
     ]
    }
   ],
   "source": [
    "# highspeed_pkl.shape\n",
    "highspeed_stamps = d1sec[0:7200]\n",
    "print('Start Time:', highspeed_stamps[0])\n",
    "print('Stop Time:', highspeed_stamps[7119])"
   ]
  },
  {
   "cell_type": "markdown",
   "metadata": {},
   "source": [
    "**Color Matrix - All** (color_matrix)  \n",
    "D1: set low at start  \n",
    "D2: set low at start  \n",
    "D3: set low at start. flip high for one frame every time the frame changes. should occur 21600 times  \n",
    "**stimDuration** = 300 **sweeplength** = 0.05 **postsweepsec** = 0, **Runs** = 3(?)"
   ]
  },
  {
   "cell_type": "code",
   "execution_count": 26,
   "metadata": {},
   "outputs": [
    {
     "name": "stdout",
     "output_type": "stream",
     "text": [
      "Start Time: 611.79967\n",
      "Stop Time: 971.72254\n"
     ]
    }
   ],
   "source": [
    "color_stamps = np.asarray(d3sec)[1:]\n",
    "print('Start Time:', color_stamps[0])\n",
    "print('Stop Time:', color_stamps[7199])"
   ]
  },
  {
   "cell_type": "markdown",
   "metadata": {},
   "source": [
    "**Gratings Orientation - All** (gratori_all)  \n",
    "D1: set low at start. flip high when each grating starts. remain high until grating is over, then set low. one for each grating, should be 220 total  \n",
    "D2: set low at start. flip high for one frame every time the frame changes within a grating.  \n",
    "**preexpsec** = 5 **postexpsec** = 2 **sweeplength** = 2 **postsweepsec** = 1"
   ]
  },
  {
   "cell_type": "code",
   "execution_count": 27,
   "metadata": {
    "scrolled": true
   },
   "outputs": [
    {
     "name": "stdout",
     "output_type": "stream",
     "text": [
      "Start Time: 981.49051\n",
      "Stop Time: 1638.45459\n"
     ]
    }
   ],
   "source": [
    "gratoriall_stamps = d1sec[7200:7420]\n",
    "#np.diff(gratoriall_stamps)\n",
    "#gratoriall_stamps.shape\n",
    "\n",
    "print('Start Time:', gratoriall_stamps[0])\n",
    "print('Stop Time:', gratoriall_stamps[219])"
   ]
  },
  {
   "cell_type": "markdown",
   "metadata": {},
   "source": [
    "**Gratings Orientation Isoluminant - All** (gratiso_all)  \n",
    "D1: set low at start. flip high when each grating starts. remain high until grating is over, then set low. one for each grating, should be 220 total  \n",
    "D2: set low at start. flip high for one frame every time the frame changes within a grating.  \n",
    "**preexpsec** = 5 **postexpsec** = 2 **sweeplength** = 2 **postsweepsec** = 1"
   ]
  },
  {
   "cell_type": "code",
   "execution_count": 28,
   "metadata": {},
   "outputs": [
    {
     "name": "stdout",
     "output_type": "stream",
     "text": [
      "Start Time: 1652.87099\n",
      "Stop Time: 2309.83385\n"
     ]
    }
   ],
   "source": [
    "gratisoall_stamps = d1sec[7420:7640]\n",
    "#np.diff(gratisoall_stamps)\n",
    "#gratisoall_stamps.shape\n",
    "\n",
    "print('Start Time:', gratisoall_stamps[0])\n",
    "print('Stop Time:', gratisoall_stamps[219])"
   ]
  },
  {
   "cell_type": "markdown",
   "metadata": {},
   "source": [
    "**Gratings Color - All** (gratcol_all)  \n",
    "D1: set low at start. flip high when each grating starts. remain high until grating is over, then set low. one for each grating, should be 240 total  \n",
    "D2: set low at start. flip high for one frame every time the frame changes within a grating.  \n",
    "**preexpsec** = 5 **postexpsec** = 2 **sweeplength** = 2 **postsweepsec** = 1"
   ]
  },
  {
   "cell_type": "code",
   "execution_count": 29,
   "metadata": {},
   "outputs": [
    {
     "name": "stdout",
     "output_type": "stream",
     "text": [
      "Start Time: 2324.28396\n",
      "Stop Time: 3041.24431\n"
     ]
    }
   ],
   "source": [
    "gratcolall_stamps = d1sec[7640:7880]\n",
    "#np.diff(gratcolall_stamps)\n",
    "#gratcolall_stamps.shape\n",
    "\n",
    "print('Start Time:', gratcolall_stamps[0])\n",
    "print('Stop Time:', gratcolall_stamps[239])"
   ]
  },
  {
   "cell_type": "markdown",
   "metadata": {},
   "source": [
    "**Scene Flicker - All** (sceflic_all)  \n",
    "D1: set low at start. flip high when each set of images starts. remain high until set is over, then set low. one for each set, should be 50 total  \n",
    "D2: set low at start. flip high for one frame every time the image changes within a set. should be 118 per set  \n",
    "**preexpsec** = 10, **postexpsec** = 0, **sweeplength** = 0.1, **postsweepsec** = 0"
   ]
  },
  {
   "cell_type": "code",
   "execution_count": 30,
   "metadata": {
    "scrolled": true
   },
   "outputs": [
    {
     "name": "stdout",
     "output_type": "stream",
     "text": [
      "Start Time: 3066.97384\n",
      "Stop Time: 3656.84146\n"
     ]
    }
   ],
   "source": [
    "sceflicall_stamps = d1sec[7880:13780]\n",
    "#np.diff(sceflicall_stamps)\n",
    "#sceflicall_stamps.shape\n",
    "\n",
    "print('Start Time:', sceflicall_stamps[0])\n",
    "print('Stop Time:', sceflicall_stamps[5899])"
   ]
  },
  {
   "cell_type": "markdown",
   "metadata": {},
   "source": [
    "**Scene Flicker Shuffled - All** (flicshuf_all)  \n",
    "D1: set low at start. flip high when each set of images starts. remain high until set is over, then set low. one for each set, should be 25 total  \n",
    "D2: set low at start. flip high for one frame every time the image changes within a set. should be 118 per set   \n",
    "**preexpsec** = 10, **postexpsec** = 0, **sweeplength** = 0.1, **postsweepsec** = 0"
   ]
  },
  {
   "cell_type": "code",
   "execution_count": 31,
   "metadata": {},
   "outputs": [
    {
     "name": "stdout",
     "output_type": "stream",
     "text": [
      "Start Time: 3676.82381\n",
      "Stop Time: 3971.7079\n"
     ]
    }
   ],
   "source": [
    "flicshufall_stamps = d1sec[13780:16730]\n",
    "#np.diff(flicshufall_stamps)\n",
    "#flicshufall_stamps.shape\n",
    "print('Start Time:', flicshufall_stamps[0])\n",
    "print('Stop Time:', flicshufall_stamps[2949])"
   ]
  },
  {
   "cell_type": "markdown",
   "metadata": {},
   "source": [
    "**Scene Flicker - Green** (sceflic_gn)  \n",
    "D1: set low at start. flip high when each set of images starts. remain high until set is over, then set low. one for each set, should be 25 total  \n",
    "D2: set low at start. flip high for one frame every time the image changes within a set. should be 118 per set  \n",
    "**preexpsec** = 10, **postexpsec** = 0, **sweeplength** = 0.1, **postsweepsec** = 0"
   ]
  },
  {
   "cell_type": "code",
   "execution_count": 32,
   "metadata": {
    "scrolled": true
   },
   "outputs": [
    {
     "name": "stdout",
     "output_type": "stream",
     "text": [
      "Start Time: 5526.60292\n",
      "Stop Time: 5821.48654\n"
     ]
    }
   ],
   "source": [
    "sceflicgn_stamps = d1sec[16730:19680]\n",
    "#np.diff(sceflicgn_stamps)\n",
    "#sceflicgn_stamps.shape\n",
    "print('Start Time:', sceflicgn_stamps[0])\n",
    "print('Stop Time:', sceflicgn_stamps[2949])"
   ]
  },
  {
   "cell_type": "markdown",
   "metadata": {},
   "source": [
    "**Scene Flicker Shuffled - Green** (flicshuf_gn)  \n",
    "D1: set low at start. flip high when each set of images starts. remain high until set is over, then set low. one for each set, should be 25 total  \n",
    "D2: set low at start. flip high for one frame every time the image changes within a set. should be 118 per set  \n",
    "**preexpsec** = 10, **postexpsec** = 0, **sweeplength** = 0.1, **postsweepsec** = 0"
   ]
  },
  {
   "cell_type": "code",
   "execution_count": 33,
   "metadata": {},
   "outputs": [
    {
     "name": "stdout",
     "output_type": "stream",
     "text": [
      "Start Time: 5821.58652\n",
      "Stop Time: 6116.47014\n"
     ]
    }
   ],
   "source": [
    "flicshufgn_stamps = d1sec[19680:22630]\n",
    "#np.diff(flicshufgn_stamps)\n",
    "#flicshufgn_stamps.shape\n",
    "print('Start Time:', flicshufgn_stamps[0])\n",
    "print('Stop Time:', flicshufgn_stamps[2949])"
   ]
  },
  {
   "cell_type": "markdown",
   "metadata": {},
   "source": [
    "**Gratings Orientation - Green** (gratori_gn)   \n",
    "D1: set low at start. flip high when each grating starts. remain high until grating is over, then set low. one for each grating, should be 220 total  \n",
    "D2: set low at start. flip high for one frame every time the frame changes within a grating.  \n",
    "**preexpsec** = 5 **postexpsec** = 2 **sweeplength** = 2 **postsweepsec** = 1"
   ]
  },
  {
   "cell_type": "code",
   "execution_count": 34,
   "metadata": {},
   "outputs": [
    {
     "name": "stdout",
     "output_type": "stream",
     "text": [
      "Start Time: 6126.05498\n",
      "Stop Time: 6783.03533\n"
     ]
    }
   ],
   "source": [
    "gratorign_stamps = d1sec[22630:22850]\n",
    "#np.diff(gratorign_stamps)\n",
    "#gratorign_stamps.shape\n",
    "print('Start Time:', gratorign_stamps[0])\n",
    "print('Stop Time:', gratorign_stamps[219])"
   ]
  },
  {
   "cell_type": "markdown",
   "metadata": {},
   "source": [
    "## Packaging Stimulus Info"
   ]
  },
  {
   "cell_type": "markdown",
   "metadata": {},
   "source": [
    "**Highspeed Matrix - All** (highspeed_pkl)"
   ]
  },
  {
   "cell_type": "code",
   "execution_count": 35,
   "metadata": {},
   "outputs": [],
   "source": [
    "highspeed_ts = TimeSeries(name = 'Highspeed',\n",
    "                          data = highspeed_pkl, \n",
    "                          timestamps = highspeed_stamps,\n",
    "                         )"
   ]
  },
  {
   "cell_type": "markdown",
   "metadata": {},
   "source": [
    "**Color Matrix - All** (color_matrix)"
   ]
  },
  {
   "cell_type": "code",
   "execution_count": 36,
   "metadata": {},
   "outputs": [],
   "source": [
    "# Green Image Stack\n",
    "colorgn_ts = TimeSeries(name = 'Color Matrix Green',\n",
    "                        data = color_matrix['stackG'],\n",
    "                        timestamps = color_stamps,\n",
    "                           )"
   ]
  },
  {
   "cell_type": "code",
   "execution_count": 37,
   "metadata": {},
   "outputs": [],
   "source": [
    "#UV Image Stack\n",
    "coloruv_ts = TimeSeries(name = 'Color Matrix UV',\n",
    "                        data = color_matrix['stackB'], \n",
    "                        timestamps = color_stamps,\n",
    "                       )"
   ]
  },
  {
   "cell_type": "markdown",
   "metadata": {},
   "source": [
    "**Gratings Orientation - All** (gratori_all)"
   ]
  },
  {
   "cell_type": "code",
   "execution_count": 38,
   "metadata": {
    "scrolled": true
   },
   "outputs": [
    {
     "name": "stdout",
     "output_type": "stream",
     "text": [
      "     order  contrast  posY  TF    SF  phase  posX  ori\n",
      "0       21         1     0   2  0.16      0     0  330\n",
      "1        8         1     0   2  0.08      0     0  270\n",
      "2        7         1     0   2  0.08      0     0  240\n",
      "3        2         1     0   2  0.08      0     0   60\n",
      "4        8         1     0   2  0.08      0     0  270\n",
      "..     ...       ...   ...  ..   ...    ...   ...  ...\n",
      "215      7         1     0   2  0.08      0     0  240\n",
      "216      9         1     0   2  0.08      0     0  300\n",
      "217     19         1     0   2  0.16      0     0  270\n",
      "218     14         1     0   2  0.16      0     0   90\n",
      "219     16         1     0   2  0.16      0     0  180\n",
      "\n",
      "[220 rows x 8 columns]\n"
     ]
    }
   ],
   "source": [
    "gratori_all_df = pd.DataFrame(gratori_all['bgsweeptable'], columns = ['contrast', 'posY', 'TF', 'SF', 'phase', 'posX', 'ori'])\n",
    "gratori_all_df['order'] = gratori_all_df.index\n",
    "\n",
    "order_df = pd.DataFrame(gratori_all['bgsweeporder'], columns = ['order'])\n",
    "\n",
    "gratori_all_df1 = pd.merge(left = order_df, \n",
    "                      right = gratori_all_df, \n",
    "                      on = 'order', \n",
    "                      sort = False, \n",
    "                      how = 'left'\n",
    "                     )\n",
    "print(gratori_all_df1)\n",
    "\n",
    "gratori_all_list = np.asarray(gratori_all_df1.iloc[:,2:7].values)"
   ]
  },
  {
   "cell_type": "code",
   "execution_count": 39,
   "metadata": {
    "scrolled": true
   },
   "outputs": [],
   "source": [
    "gratoriall_ts = AbstractFeatureSeries(name = 'Gratings Orientation All', \n",
    "                                      feature_units = ['a', 'b', 'c', 'd', 'e', 'f'], #units\n",
    "                                      features = ['posY', 'TF', 'SF', 'phase', 'posX', 'ori'], # tex\n",
    "                                      data = gratori_all_list, # Must be 1D or 2D, 1st D must be time\n",
    "                                      resolution = -1.0, # texRes\n",
    "                                      conversion = 1.0, \n",
    "                                      timestamps = gratoriall_stamps, #fake timestamps from above\n",
    "                                      #starting_time = gratori_all['starttime'], \n",
    "                                      #rate = gratori_all['fps'], \n",
    "                                      comments = 'no comments', \n",
    "                                      description = 'no description', \n",
    "                                      control = None, \n",
    "                                      control_description = None\n",
    "                                     )"
   ]
  },
  {
   "cell_type": "markdown",
   "metadata": {},
   "source": [
    "**Gratings Orientation Isoluminant - All** (gratiso_all)"
   ]
  },
  {
   "cell_type": "code",
   "execution_count": 40,
   "metadata": {},
   "outputs": [
    {
     "name": "stdout",
     "output_type": "stream",
     "text": [
      "     order  contrast  posY  TF    SF  phase  posX  ori\n",
      "0        3         1     0   2  0.08      0     0   90\n",
      "1       11         1     0   2  0.16      0     0    0\n",
      "2       18         1     0   2  0.16      0     0  240\n",
      "3        2         1     0   2  0.08      0     0   60\n",
      "4        0         1     0   2  0.08      0     0    0\n",
      "..     ...       ...   ...  ..   ...    ...   ...  ...\n",
      "215      3         1     0   2  0.08      0     0   90\n",
      "216      3         1     0   2  0.08      0     0   90\n",
      "217      1         1     0   2  0.08      0     0   30\n",
      "218      3         1     0   2  0.08      0     0   90\n",
      "219     21         1     0   2  0.16      0     0  330\n",
      "\n",
      "[220 rows x 8 columns]\n"
     ]
    }
   ],
   "source": [
    "gratiso_all_df = pd.DataFrame(gratiso_all['bgsweeptable'], columns = ['contrast', 'posY', 'TF', 'SF', 'phase', 'posX', 'ori'])\n",
    "gratiso_all_df['order'] = gratiso_all_df.index\n",
    "\n",
    "order_df = pd.DataFrame(gratiso_all['bgsweeporder'], columns = ['order'])\n",
    "\n",
    "gratiso_all_df1 = pd.merge(left = order_df, \n",
    "                      right = gratiso_all_df, \n",
    "                      on = 'order', \n",
    "                      sort = False, \n",
    "                      how = 'left'\n",
    "                     )\n",
    "print(gratiso_all_df1)\n",
    "\n",
    "gratiso_all_list = np.asarray(gratiso_all_df1.iloc[:,2:7].values)"
   ]
  },
  {
   "cell_type": "code",
   "execution_count": 41,
   "metadata": {},
   "outputs": [],
   "source": [
    "gratisoall_ts = AbstractFeatureSeries(name = 'Gratings Isoluminant All', \n",
    "                                      feature_units = ['a', 'b', 'c', 'd', 'e', 'f'], #units\n",
    "                                      features = ['posY', 'TF', 'SF', 'phase', 'posX', 'ori'], # tex\n",
    "                                      data = gratiso_all_list, # Must be 1D or 2D, 1st D must be time\n",
    "                                      resolution = -1.0, # texRes\n",
    "                                      conversion = 1.0, \n",
    "                                      timestamps = gratisoall_stamps, #fake timestamps from above\n",
    "                                      #starting_time = gratiso_all['starttime'], \n",
    "                                      #rate = gratiso_all['fps'], \n",
    "                                      comments = 'no comments', \n",
    "                                      description = 'no description', \n",
    "                                      control = None, \n",
    "                                      control_description = None\n",
    "                                     )"
   ]
  },
  {
   "cell_type": "markdown",
   "metadata": {},
   "source": [
    "**Gratings Color - All** (gratcol_all)"
   ]
  },
  {
   "cell_type": "code",
   "execution_count": 42,
   "metadata": {},
   "outputs": [
    {
     "name": "stdout",
     "output_type": "stream",
     "text": [
      "     order  Contrast  PosY  TF    SF  Phase  PosX  Ori  R    G    B\n",
      "0       19         1     0   2  0.16      0     0    0  0  0.5 -0.7\n",
      "1       22         1     0   2  0.16      0     0    0  0  0.0 -0.2\n",
      "2       14         1     0   2  0.16      0     0    0  0  1.0  0.0\n",
      "3        6         1     0   2  0.08      0     0    0  0 -0.2 -1.0\n",
      "4       12         1     0   2  0.16      0     0    0  0 -1.0  1.0\n",
      "..     ...       ...   ...  ..   ...    ...   ...  ... ..  ...  ...\n",
      "235     14         1     0   2  0.16      0     0    0  0  1.0  0.0\n",
      "236      6         1     0   2  0.08      0     0    0  0 -0.2 -1.0\n",
      "237     11         1     0   2  0.08      0     0    0  0  1.0 -0.7\n",
      "238      8         1     0   2  0.08      0     0    0  0  0.1 -0.6\n",
      "239      9         1     0   2  0.08      0     0    0  0  0.7 -0.3\n",
      "\n",
      "[240 rows x 11 columns]\n"
     ]
    }
   ],
   "source": [
    "gratcol_all_df = pd.DataFrame(gratcol_all['bgsweeptable'], \n",
    "                              columns = ['Contrast', 'PosY', 'TF', 'SF', 'Phase', 'PosX', 'Ori', 'Color']\n",
    "                             )\n",
    "gratcol_all_df['order'] = gratcol_all_df.index\n",
    "\n",
    "order_df = pd.DataFrame(gratcol_all['bgsweeporder'], columns = ['order'])\n",
    "\n",
    "gratcol_all_df1 = pd.merge(left = order_df, \n",
    "                      right = gratcol_all_df, \n",
    "                      on = 'order', \n",
    "                      sort = False, \n",
    "                      how = 'left'\n",
    "                     )\n",
    "\n",
    "gratcol_all_df1[['R', 'G', 'B']] = pd.DataFrame(gratcol_all_df1['Color'].tolist(), index=gratcol_all_df1.index)   \n",
    "gratcol_all_dfx = gratcol_all_df1.drop(columns=['Color'])\n",
    "\n",
    "print(gratcol_all_dfx)\n",
    "\n",
    "gratcol_all_list = np.asarray(gratcol_all_dfx.iloc[:,2:8].values)\n",
    "\n",
    "#gratcol_all_list = gratcol_all_dfx.iloc[:,2:8].values.tolist()"
   ]
  },
  {
   "cell_type": "code",
   "execution_count": 43,
   "metadata": {},
   "outputs": [],
   "source": [
    "gratcolall_ts = AbstractFeatureSeries(name = 'Gratings Color All', \n",
    "                                      feature_units = ['a', 'b', 'c', 'd', 'e', 'f', 'g'], #units\n",
    "                                      features = ['PosY', 'TF', 'SF', 'Phase', 'PosX', 'Ori', 'Color'], # tex\n",
    "                                      data = gratcol_all_list, # Must be 1D or 2D, 1st D must be time\n",
    "                                      resolution = -1.0, # texRes\n",
    "                                      conversion = 1.0, \n",
    "                                      timestamps = gratcolall_stamps, #fake tiestamps from above\n",
    "                                      #starting_time = gratcol_all['starttime'], \n",
    "                                      #rate = gratcol_all['fps'], \n",
    "                                      comments = 'no comments', \n",
    "                                      description = 'no description', \n",
    "                                      control = None, \n",
    "                                      control_description = None\n",
    "                                     )"
   ]
  },
  {
   "cell_type": "markdown",
   "metadata": {},
   "source": [
    "**Scene Flicker - All** (sceflic_all)"
   ]
  },
  {
   "cell_type": "code",
   "execution_count": 44,
   "metadata": {},
   "outputs": [
    {
     "name": "stdout",
     "output_type": "stream",
     "text": [
      "      order             Image File\n",
      "0         0       BSDS_100075.tiff\n",
      "1         1       BSDS_100098.tiff\n",
      "2         2       BSDS_100099.tiff\n",
      "3         3       BSDS_103006.tiff\n",
      "4         4       BSDS_103029.tiff\n",
      "...     ...                    ...\n",
      "5895    113        pippin0229.tiff\n",
      "5896    114        pippin0233.tiff\n",
      "5897    115        pippin0269.tiff\n",
      "5898    116  pippin_Mex07_023.tiff\n",
      "5899    117  pippin_Mex07_030.tiff\n",
      "\n",
      "[5900 rows x 2 columns]\n"
     ]
    }
   ],
   "source": [
    "sceflic_all_files = []\n",
    "\n",
    "for i in range(118):\n",
    "    sceflic_all_files.append(os.path.basename(sceflic_all['imagefiles'][i])),\n",
    "    \n",
    "\n",
    "sceflic_all_df = pd.DataFrame(sceflic_all_files, columns = ['Image File'])\n",
    "sceflic_all_df['order'] = sceflic_all_df.index\n",
    "\n",
    "order_df = pd.DataFrame(sceflic_all['bgsweeporder'], columns = ['order'])\n",
    "\n",
    "sceflic_all_df1 = pd.merge(left = order_df, \n",
    "                      right = sceflic_all_df, \n",
    "                      on = 'order', \n",
    "                      sort = False, \n",
    "                      how = 'left'\n",
    "                     )\n",
    "sceflic_all_df1.astype(dtype='S10')\n",
    "print(sceflic_all_df1)\n",
    "\n",
    "\n",
    "#sceflic_all_list = np.string_(sceflic_all_df1.values, \n",
    "                              #dtype = 'S10')\n",
    "sceflic_all_list = sceflic_all_df.values.tolist()\n",
    "sceflic_all_files = '-'.join(map(str, sceflic_all_list))"
   ]
  },
  {
   "cell_type": "code",
   "execution_count": 45,
   "metadata": {},
   "outputs": [],
   "source": [
    "sceflicall_ts = TimeSeries('Scene Flicker All', \n",
    "                           data = sceflic_all['bgsweeporder'], \n",
    "                           resolution=-1.0, \n",
    "                           conversion=1.0, \n",
    "                           timestamps=sceflicall_stamps, #fake timestamps from above\n",
    "                           #starting_time=None, \n",
    "                           #rate=60.0, \n",
    "                           comments=sceflic_all_files, \n",
    "                           description='None', \n",
    "                           control=None, \n",
    "                           control_description=None\n",
    "                          )"
   ]
  },
  {
   "cell_type": "markdown",
   "metadata": {},
   "source": [
    "**Scene Flicker Shuffled - All** (flicshuf_all)"
   ]
  },
  {
   "cell_type": "code",
   "execution_count": 46,
   "metadata": {},
   "outputs": [
    {
     "name": "stdout",
     "output_type": "stream",
     "text": [
      "      order              Image File\n",
      "0        54         BSDS_69022.tiff\n",
      "1       107  McGill_trees_snow.tiff\n",
      "2        37         BSDS_28083.tiff\n",
      "3        18        BSDS_135037.tiff\n",
      "4        33        BSDS_247003.tiff\n",
      "...     ...                     ...\n",
      "2945    109   merry_mexico0152.tiff\n",
      "2946     16        BSDS_134049.tiff\n",
      "2947     51         BSDS_43033.tiff\n",
      "2948     82           imk01559.tiff\n",
      "2949     98           imk03836.tiff\n",
      "\n",
      "[2950 rows x 2 columns]\n"
     ]
    }
   ],
   "source": [
    "flicshuf_all_files = []\n",
    "\n",
    "for i in range(118):\n",
    "    flicshuf_all_files.append(os.path.basename(flicshuf_all['imagefiles'][i])),\n",
    "    \n",
    "\n",
    "flicshuf_all_df = pd.DataFrame(flicshuf_all_files, columns = ['Image File'])\n",
    "flicshuf_all_df['order'] = flicshuf_all_df.index\n",
    "\n",
    "order_df = pd.DataFrame(flicshuf_all['bgsweeporder'], columns = ['order'])\n",
    "\n",
    "flicshuf_all_df1 = pd.merge(left = order_df, \n",
    "                      right = flicshuf_all_df, \n",
    "                      on = 'order', \n",
    "                      sort = False, \n",
    "                      how = 'left'\n",
    "                     )\n",
    "print(flicshuf_all_df1)\n",
    "\n",
    "#flicshuf_all_list = np.string_(flicshuf_all_df1.values, \n",
    "#                               dtype = 'S10'\n",
    "#                              )\n",
    "#flicshuf_all_list = flicshuf_all_df1.values.tolist()\n",
    "flicshuf_all_f = flicshuf_all_df.values.tolist()\n",
    "flicshuf_all_files = '-'.join(map(str, flicshuf_all_f))"
   ]
  },
  {
   "cell_type": "code",
   "execution_count": 47,
   "metadata": {},
   "outputs": [],
   "source": [
    "flicshufall_ts = TimeSeries('Scene Flicker Shuffled All', \n",
    "                            data = flicshuf_all['bgsweeporder'], \n",
    "                            resolution=-1.0, \n",
    "                            conversion=1.0, \n",
    "                            timestamps=flicshufall_stamps, \n",
    "                            #starting_time=None, \n",
    "                            #rate=60.0, \n",
    "                            comments= flicshuf_all_files, \n",
    "                            description='no description', \n",
    "                            control=None, \n",
    "                            control_description=None\n",
    "                           )"
   ]
  },
  {
   "cell_type": "markdown",
   "metadata": {},
   "source": [
    "**Scene Flicker - Green** (sceflic_gn)"
   ]
  },
  {
   "cell_type": "code",
   "execution_count": 48,
   "metadata": {},
   "outputs": [
    {
     "name": "stdout",
     "output_type": "stream",
     "text": [
      "      order              Image File\n",
      "0        54         BSDS_69022.tiff\n",
      "1       107  McGill_trees_snow.tiff\n",
      "2        37         BSDS_28083.tiff\n",
      "3        18        BSDS_135037.tiff\n",
      "4        33        BSDS_247003.tiff\n",
      "...     ...                     ...\n",
      "2945    109   merry_mexico0152.tiff\n",
      "2946     16        BSDS_134049.tiff\n",
      "2947     51         BSDS_43033.tiff\n",
      "2948     82           imk01559.tiff\n",
      "2949     98           imk03836.tiff\n",
      "\n",
      "[2950 rows x 2 columns]\n"
     ]
    }
   ],
   "source": [
    "sceflic_gn_files = []\n",
    "\n",
    "for i in range(118):\n",
    "    sceflic_gn_files.append(os.path.basename(sceflic_gn['imagefiles'][i])),\n",
    "    \n",
    "\n",
    "sceflic_gn_df = pd.DataFrame(sceflic_gn_files, columns = ['Image File'])\n",
    "sceflic_gn_df['order'] = sceflic_gn_df.index\n",
    "\n",
    "order_df = pd.DataFrame(sceflic_gn['bgsweeporder'], columns = ['order'])\n",
    "\n",
    "sceflic_gn_df1 = pd.merge(left = order_df, \n",
    "                      right = sceflic_gn_df, \n",
    "                      on = 'order', \n",
    "                      sort = False, \n",
    "                      how = 'left'\n",
    "                     )\n",
    "print(sceflic_gn_df1)\n",
    "\n",
    "#sceflic_gn_list = np.string_(sceflic_gn_df1.values, \n",
    "#                             dtype = 'S10'\n",
    "#                            )\n",
    "#sceflic_gn_list = sceflic_gn_df1.values.tolist()\n",
    "sceflic_gn_list = sceflic_gn_df.values.tolist()\n",
    "sceflic_gn_files = '-'.join(map(str, sceflic_gn_list))"
   ]
  },
  {
   "cell_type": "code",
   "execution_count": 49,
   "metadata": {},
   "outputs": [],
   "source": [
    "sceflicgn_ts = TimeSeries('Scene Flicker Green', \n",
    "                          data = sceflic_gn['bgsweeporder'], \n",
    "                          #unit = 's', \n",
    "                          resolution=-1.0, \n",
    "                          conversion=1.0, \n",
    "                          timestamps=sceflicgn_stamps, \n",
    "                          #starting_time=None, \n",
    "                          #rate=60.0, \n",
    "                          comments= sceflic_gn_files, \n",
    "                          description='no description', \n",
    "                          control=None, \n",
    "                          control_description=None\n",
    "                         )"
   ]
  },
  {
   "cell_type": "markdown",
   "metadata": {},
   "source": [
    "**Scene Flicker Shuffled - Green** (flicshuf_gn)"
   ]
  },
  {
   "cell_type": "code",
   "execution_count": 50,
   "metadata": {},
   "outputs": [
    {
     "name": "stdout",
     "output_type": "stream",
     "text": [
      "      order        Image File\n",
      "0       115   pippin0269.tiff\n",
      "1        97     imk03833.tiff\n",
      "2        99     imk04103.tiff\n",
      "3        45   BSDS_41006.tiff\n",
      "4        50   BSDS_42078.tiff\n",
      "...     ...               ...\n",
      "2945     29  BSDS_196062.tiff\n",
      "2946     84     imk01601.tiff\n",
      "2947     86     imk01677.tiff\n",
      "2948     93     imk03348.tiff\n",
      "2949     59     imk00182.tiff\n",
      "\n",
      "[2950 rows x 2 columns]\n"
     ]
    }
   ],
   "source": [
    "flicshuf_gn_files = []\n",
    "\n",
    "for i in range(118):\n",
    "    flicshuf_gn_files.append(os.path.basename(flicshuf_gn['imagefiles'][i])),\n",
    "    \n",
    "\n",
    "flicshuf_gn_df = pd.DataFrame(flicshuf_gn_files, columns = ['Image File'])\n",
    "flicshuf_gn_df['order'] = flicshuf_gn_df.index\n",
    "\n",
    "order_df = pd.DataFrame(flicshuf_gn['bgsweeporder'], columns = ['order'])\n",
    "\n",
    "flicshuf_gn_df1 = pd.merge(left = order_df, \n",
    "                      right = flicshuf_gn_df, \n",
    "                      on = 'order', \n",
    "                      sort = False, \n",
    "                      how = 'left'\n",
    "                     )\n",
    "print(flicshuf_gn_df1)\n",
    "\n",
    "#flicshuf_gn_list = np.string_(flicshuf_gn_df1.values, \n",
    "#                              dtype = 'S10'\n",
    "#                             )\n",
    "flicshuf_gn_list = flicshuf_gn_df.values.tolist()\n",
    "flicshuf_gn_files = '-'.join(map(str, flicshuf_gn_list))"
   ]
  },
  {
   "cell_type": "code",
   "execution_count": 51,
   "metadata": {},
   "outputs": [],
   "source": [
    "flicshufgn_ts = TimeSeries('Scene Flicker Shuffled Green', \n",
    "                           data = flicshuf_gn['bgsweeporder'], \n",
    "                           resolution=-1.0, \n",
    "                           conversion=1.0, \n",
    "                           timestamps=flicshufgn_stamps, \n",
    "                           #starting_time=None, \n",
    "                           #rate=60.0, \n",
    "                           comments=flicshuf_gn_files, \n",
    "                           description='no description', \n",
    "                           control=None, \n",
    "                           control_description=None\n",
    "                          )"
   ]
  },
  {
   "cell_type": "markdown",
   "metadata": {},
   "source": [
    "**Gratings Orientation - Green** (gratori_gn)"
   ]
  },
  {
   "cell_type": "code",
   "execution_count": 52,
   "metadata": {},
   "outputs": [
    {
     "name": "stdout",
     "output_type": "stream",
     "text": [
      "     order  contrast  posY  TF    SF  phase  posX  ori\n",
      "0        7         1     0   2  0.08      0     0  240\n",
      "1        2         1     0   2  0.08      0     0   60\n",
      "2       20         1     0   2  0.16      0     0  300\n",
      "3       15         1     0   2  0.16      0     0  120\n",
      "4       19         1     0   2  0.16      0     0  270\n",
      "..     ...       ...   ...  ..   ...    ...   ...  ...\n",
      "215     21         1     0   2  0.16      0     0  330\n",
      "216     13         1     0   2  0.16      0     0   60\n",
      "217      9         1     0   2  0.08      0     0  300\n",
      "218      3         1     0   2  0.08      0     0   90\n",
      "219     10         1     0   2  0.08      0     0  330\n",
      "\n",
      "[220 rows x 8 columns]\n"
     ]
    }
   ],
   "source": [
    "gratori_gn_df = pd.DataFrame(gratori_gn['bgsweeptable'], columns = ['contrast', 'posY', 'TF', 'SF', 'phase', 'posX', 'ori'])\n",
    "gratori_gn_df['order'] = gratori_gn_df.index\n",
    "\n",
    "order_df = pd.DataFrame(gratori_gn['bgsweeporder'], columns = ['order'])\n",
    "\n",
    "gratori_gn_df1 = pd.merge(left = order_df, \n",
    "                      right = gratori_gn_df, \n",
    "                      on = 'order', \n",
    "                      sort = False, \n",
    "                      how = 'left'\n",
    "                     )\n",
    "print(gratori_gn_df1)\n",
    "\n",
    "gratori_gn_list = np.asarray(gratori_gn_df1.iloc[:,2:7].values)\n",
    "#gratori_gn_list = gratori_gn_df1.iloc[:,2:7].values.tolist()"
   ]
  },
  {
   "cell_type": "code",
   "execution_count": 53,
   "metadata": {},
   "outputs": [],
   "source": [
    "gratorign_ts = AbstractFeatureSeries(name = 'Gratings Orientation Green', \n",
    "                                     feature_units = ['a', 'b', 'c', 'd', 'e', 'f'], #units\n",
    "                                     features = ['posY', 'TF', 'SF', 'phase', 'posX', 'ori'], # tex\n",
    "                                     data = gratori_gn_list, # Must be 1D or 2D, 1st D must be time\n",
    "                                     resolution = -1.0, # texRes\n",
    "                                     conversion = 1.0, \n",
    "                                     timestamps = gratorign_stamps, \n",
    "                                     comments = 'no comments', \n",
    "                                     description = 'no description', \n",
    "                                     control = None, \n",
    "                                     control_description = None\n",
    "                                    )"
   ]
  },
  {
   "cell_type": "markdown",
   "metadata": {},
   "source": [
    "### Epochs and Time Series"
   ]
  },
  {
   "cell_type": "code",
   "execution_count": 54,
   "metadata": {},
   "outputs": [],
   "source": [
    "#Generate Epochs for each part of the stimulus\n",
    "nwbfile.add_epoch(highspeed_stamps[0], \n",
    "                  flicshufall_stamps[2949], \n",
    "                  ['All Opsins'], \n",
    "                  [highspeed_ts, colorgn_ts, coloruv_ts, gratoriall_ts, gratisoall_ts, \n",
    "                   gratcolall_ts, sceflicall_ts, flicshufall_ts]\n",
    "                 )\n",
    "nwbfile.add_epoch(sceflicgn_stamps[0], \n",
    "                  gratorign_stamps[219], \n",
    "                  ['Green Only'], \n",
    "                  [sceflicgn_ts, flicshufgn_ts, gratorign_ts]\n",
    "                 )\n",
    "#nwbfile.add_epoch(start_time, stop_time, ['UV Only'], [timeseries])"
   ]
  },
  {
   "cell_type": "code",
   "execution_count": 57,
   "metadata": {},
   "outputs": [],
   "source": [
    "nwbfile.add_trial_column(name = 'stim', description = 'visual stimuli presented during experiment')\n",
    "\n",
    "nwbfile.add_trial(start_time = highspeed_stamps[0], \n",
    "                  stop_time = highspeed_stamps[7199], \n",
    "                  stim = 'Highspeed Matrix'\n",
    "                 )\n",
    "nwbfile.add_trial(start_time = color_stamps[0], \n",
    "                  stop_time = color_stamps[7199], \n",
    "                  stim ='Color Matrix'\n",
    "                 )\n",
    "nwbfile.add_trial(start_time = gratoriall_stamps[0], \n",
    "                  stop_time = gratoriall_stamps[219], \n",
    "                  stim ='Gratings Orientation - All'\n",
    "                 )\n",
    "nwbfile.add_trial(start_time = gratisoall_stamps[0], \n",
    "                  stop_time = gratisoall_stamps[219], \n",
    "                  stim = 'Gratings Orientation Isoluminant - All'\n",
    "                 )\n",
    "nwbfile.add_trial(start_time = gratcolall_stamps[0], \n",
    "                  stop_time = gratcolall_stamps[239], \n",
    "                  stim = 'Gratings Color - All'\n",
    "                 )\n",
    "nwbfile.add_trial(start_time = sceflicall_stamps[0], \n",
    "                  stop_time = sceflicall_stamps[2949], \n",
    "                  stim = 'Scene Flicker - All'\n",
    "                 )\n",
    "nwbfile.add_trial(start_time = flicshufall_stamps[0], \n",
    "                  stop_time = flicshufall_stamps[2949], \n",
    "                  stim = 'Scene Flicker Shuffled - All'\n",
    "                 )\n",
    "nwbfile.add_trial(start_time = sceflicgn_stamps[0], \n",
    "                  stop_time = sceflicgn_stamps[2949], \n",
    "                  stim = 'Scene Flicker - Green'\n",
    "                 )\n",
    "nwbfile.add_trial(start_time = flicshufgn_stamps[0], \n",
    "                  stop_time = flicshufgn_stamps[2949], \n",
    "                  stim = 'Scene Flicker Shuffled - Green'\n",
    "                 )\n",
    "nwbfile.add_trial(start_time = gratorign_stamps[0], \n",
    "                  stop_time = gratorign_stamps[219], \n",
    "                  stim = 'Gratings Orientation - Green'\n",
    "                 )"
   ]
  },
  {
   "cell_type": "markdown",
   "metadata": {},
   "source": [
    "### Add Stimuli to NWB"
   ]
  },
  {
   "cell_type": "code",
   "execution_count": 58,
   "metadata": {},
   "outputs": [],
   "source": [
    "# Add Stimuli to NWB\n",
    "nwbfile.add_stimulus(highspeed_ts)\n",
    "nwbfile.add_stimulus(colorgn_ts)\n",
    "nwbfile.add_stimulus(coloruv_ts)\n",
    "nwbfile.add_stimulus(gratoriall_ts)\n",
    "nwbfile.add_stimulus(gratisoall_ts)\n",
    "nwbfile.add_stimulus(gratcolall_ts)\n",
    "nwbfile.add_stimulus(sceflicall_ts)\n",
    "nwbfile.add_stimulus(flicshufall_ts)\n",
    "nwbfile.add_stimulus(sceflicgn_ts)\n",
    "nwbfile.add_stimulus(flicshufgn_ts)\n",
    "nwbfile.add_stimulus(gratorign_ts)"
   ]
  },
  {
   "cell_type": "markdown",
   "metadata": {},
   "source": [
    "# Finish and Save"
   ]
  },
  {
   "cell_type": "code",
   "execution_count": 59,
   "metadata": {},
   "outputs": [
    {
     "name": "stderr",
     "output_type": "stream",
     "text": [
      "C:\\Users\\juans\\anaconda3\\lib\\site-packages\\hdmf\\build\\objectmapper.py:695: MissingRequiredWarning: attribute 'unit' for 'data' (TimeSeries)\n",
      "  warnings.warn(msg, MissingRequiredWarning)\n"
     ]
    }
   ],
   "source": [
    "# Set file destination\n",
    "\n",
    "# Save the file\n",
    "\n",
    "io = NWBHDF5IO('E:\\\\20200703_C9.nwb', 'w')\n",
    "io.write(nwbfile)\n",
    "io.close()"
   ]
  },
  {
   "cell_type": "code",
   "execution_count": 60,
   "metadata": {},
   "outputs": [],
   "source": [
    "# read it back in\n",
    "\n",
    "io = NWBHDF5IO('E:\\\\20200703_C9.nwb', 'r')\n",
    "nwbfile_in = io.read()"
   ]
  },
  {
   "cell_type": "code",
   "execution_count": 61,
   "metadata": {},
   "outputs": [
    {
     "data": {
      "text/plain": [
       "root pynwb.file.NWBFile at 0x1198426020232\n",
       "Fields:\n",
       "  devices: {\n",
       "    denman_ephys_rig1 <class 'pynwb.device.Device'>\n",
       "  }\n",
       "  electrode_groups: {\n",
       "    imec0 <class 'pynwb.ecephys.ElectrodeGroup'>,\n",
       "    imec1 <class 'pynwb.ecephys.ElectrodeGroup'>\n",
       "  }\n",
       "  electrodes: electrodes <class 'hdmf.common.table.DynamicTable'>\n",
       "  epochs: epochs <class 'pynwb.epoch.TimeIntervals'>\n",
       "  experimenter: ['Juan Santiago']\n",
       "  file_create_date: [datetime.datetime(2020, 9, 4, 14, 54, 47, 556756, tzinfo=tzoffset(None, -21600))]\n",
       "  identifier: 20200703_C9\n",
       "  institution: University of Colorado\n",
       "  intervals: {\n",
       "    epochs <class 'pynwb.epoch.TimeIntervals'>,\n",
       "    trials <class 'pynwb.epoch.TimeIntervals'>\n",
       "  }\n",
       "  lab: Denman Lab\n",
       "  session_description: Two neuropixels probes recording from V1 in headfixed mouse\n",
       "  session_id: recording 2\n",
       "  session_start_time: 2020-07-03 11:30:00-06:00\n",
       "  stimulus: {\n",
       "    Color Matrix Green <class 'pynwb.base.TimeSeries'>,\n",
       "    Color Matrix UV <class 'pynwb.base.TimeSeries'>,\n",
       "    Gratings Color All <class 'pynwb.misc.AbstractFeatureSeries'>,\n",
       "    Gratings Isoluminant All <class 'pynwb.misc.AbstractFeatureSeries'>,\n",
       "    Gratings Orientation All <class 'pynwb.misc.AbstractFeatureSeries'>,\n",
       "    Gratings Orientation Green <class 'pynwb.misc.AbstractFeatureSeries'>,\n",
       "    Highspeed <class 'pynwb.base.TimeSeries'>,\n",
       "    Scene Flicker All <class 'pynwb.base.TimeSeries'>,\n",
       "    Scene Flicker Green <class 'pynwb.base.TimeSeries'>,\n",
       "    Scene Flicker Shuffled All <class 'pynwb.base.TimeSeries'>,\n",
       "    Scene Flicker Shuffled Green <class 'pynwb.base.TimeSeries'>\n",
       "  }\n",
       "  timestamps_reference_time: 2020-07-03 11:30:00-06:00\n",
       "  trials: trials <class 'pynwb.epoch.TimeIntervals'>\n",
       "  units: units <class 'pynwb.misc.Units'>"
      ]
     },
     "execution_count": 61,
     "metadata": {},
     "output_type": "execute_result"
    }
   ],
   "source": [
    "nwbfile_in"
   ]
  },
  {
   "cell_type": "code",
   "execution_count": 66,
   "metadata": {},
   "outputs": [
    {
     "name": "stdout",
     "output_type": "stream",
     "text": [
      "                                           spike_times  \\\n",
      "id                                                       \n",
      "1    [0.04347869294291747, 0.23224402714655087, 0.2...   \n",
      "2    [3.5737274402214636, 3.853325466585595, 4.5884...   \n",
      "3    [0.15081126863348776, 0.4975754875493271, 0.66...   \n",
      "5    [42.062349756820716, 48.150170117456526, 53.42...   \n",
      "6    [43.849364475872626, 73.26667249171666, 75.746...   \n",
      "..                                                 ...   \n",
      "574  [0.005978631903097026, 0.025478518290313598, 0...   \n",
      "575  [519.0900252916528, 541.501518715607, 559.4701...   \n",
      "581  [51.05207888846317, 160.55229690723908, 201.70...   \n",
      "583  [0.5507754577367169, 0.6364749584230993, 0.676...   \n",
      "585  [21.45371933752005, 22.687957479843924, 22.883...   \n",
      "\n",
      "                                       electrode_group  \n",
      "id                                                      \n",
      "1    imec0 pynwb.ecephys.ElectrodeGroup at 0x119843...  \n",
      "2    imec0 pynwb.ecephys.ElectrodeGroup at 0x119843...  \n",
      "3    imec0 pynwb.ecephys.ElectrodeGroup at 0x119843...  \n",
      "5    imec0 pynwb.ecephys.ElectrodeGroup at 0x119843...  \n",
      "6    imec0 pynwb.ecephys.ElectrodeGroup at 0x119843...  \n",
      "..                                                 ...  \n",
      "574  imec1 pynwb.ecephys.ElectrodeGroup at 0x119843...  \n",
      "575  imec1 pynwb.ecephys.ElectrodeGroup at 0x119843...  \n",
      "581  imec1 pynwb.ecephys.ElectrodeGroup at 0x119843...  \n",
      "583  imec1 pynwb.ecephys.ElectrodeGroup at 0x119843...  \n",
      "585  imec1 pynwb.ecephys.ElectrodeGroup at 0x119843...  \n",
      "\n",
      "[301 rows x 2 columns]\n"
     ]
    }
   ],
   "source": [
    "print(nwbfile_in.units[:])"
   ]
  },
  {
   "cell_type": "code",
   "execution_count": null,
   "metadata": {},
   "outputs": [],
   "source": [
    "io.close()"
   ]
  }
 ],
 "metadata": {
  "kernelspec": {
   "display_name": "Python 3",
   "language": "python",
   "name": "python3"
  },
  "language_info": {
   "codemirror_mode": {
    "name": "ipython",
    "version": 3
   },
   "file_extension": ".py",
   "mimetype": "text/x-python",
   "name": "python",
   "nbconvert_exporter": "python",
   "pygments_lexer": "ipython3",
   "version": "3.7.6"
  }
 },
 "nbformat": 4,
 "nbformat_minor": 4
}

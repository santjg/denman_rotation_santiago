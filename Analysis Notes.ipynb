{
 "cells": [
  {
   "cell_type": "markdown",
   "metadata": {},
   "source": [
    "# Spike Clustering in Phy"
   ]
  },
  {
   "cell_type": "markdown",
   "metadata": {},
   "source": [
    "### Merging/Splitting Heuristics"
   ]
  },
  {
   "cell_type": "markdown",
   "metadata": {},
   "source": [
    "#### Drift – changes amplitude over the time of the recording.\n",
    "Often consistent across the neurons in anarea, but not perfectly so between areas. Are there suspicious bimodality in example waveforms? Can lead to splitting and merging, or both.\n",
    "#### Signs of mis-sorting in the ISI / CCG based on refractory period (0.8-2 msec) requirement\n",
    "When to split: is the ISI close to being clean and you want this data to certainly be single units and are willing to sacrifice cleanness? Is the unit amplitude large? Try cutting some smaller amplitude spikes to clean up possible MUA that has invaded.\n",
    "#### When to merge: two common cases:\n",
    "1. Do the ISIs of two units look similar? Does one look like a scaled version of the other, with some bias in early vs late in the recording (i.e., drift)? Is there a strong symmetrical dip in the CCG? Merge\n",
    "2. Does the CCG have a VERY strong asymmetry, such that the spikes of one unit always come 2-5 msec after another unit, and (almost) never before? Often with secondary bumps in the CCG after that 2-5 msec bump? Is the unit firing later a scaled down version of the other one? This indicated a burst that was artificially split, merge these.  \n",
    "\n",
    "#### Artifact removal\n",
    "Does a unit look pretty good, with a few example waveforms or points in PC space that are way, way off? Split the ones that are way off, and see if they look like coincident spikes of the main waveform with another nearby unit, or if they just look like artifact.  \n",
    "\n",
    "> Other than that, mostly don’t do it, just annotate\n",
    "\n",
    ">**Suggestion:** when sorting a fresh dataset, take some screenshots for each of these cases. If you don’t obvious ones for each, take a screen shot of a good unit (“representative example”) and point out how it *does not* match the case. send the screenshots to me of before and after your merge/splits, and we can compare our judgements."
   ]
  },
  {
   "cell_type": "markdown",
   "metadata": {},
   "source": [
    "## File: 20200703_C9_BC_g0_imec0"
   ]
  },
  {
   "cell_type": "markdown",
   "metadata": {},
   "source": [
    "* Used [Phy User Manual](https://github.com/kwikteam/phy-contrib/blob/master/docs/template-gui.md) to guide analysis\n",
    "* Evaluated all clusters with n > 1000 spikes as 'good', 'mua', or 'noise'\n",
    "* In similarity view, looked at all similar units within 60um from reference\n",
    "* **'Good' clusters with nice action potentials:**\n",
    "    * 34\n",
    "    * 93\n",
    "    * 74\n",
    "    * 70\n",
    "    * 349\n",
    "    * 45\n",
    "    * 353\n",
    "* **Merging and Splitting:**"
   ]
  },
  {
   "cell_type": "markdown",
   "metadata": {},
   "source": [
    "## File: 20200703_C9_BC_g0_imec1"
   ]
  },
  {
   "cell_type": "markdown",
   "metadata": {},
   "source": [
    "* Used [Phy User Manual](https://github.com/kwikteam/phy-contrib/blob/master/docs/template-gui.md) to guide analysis\n",
    "* Evaluated all clusters with n > 1000 spikes as 'good', 'mua', or 'noise'\n",
    "* Any clusters I was unsure about went unlabeled\n",
    "* More 'noise' channels than the other probe\n",
    "* **'Good' clusters with nice action potentials:**\n",
    "    * 94\n",
    "    * 136\n",
    "    * 123\n",
    "    * 50\n",
    "* **Merging and Splitting:**"
   ]
  },
  {
   "cell_type": "markdown",
   "metadata": {},
   "source": []
  }
 ],
 "metadata": {
  "kernelspec": {
   "display_name": "Python 3",
   "language": "python",
   "name": "python3"
  },
  "language_info": {
   "codemirror_mode": {
    "name": "ipython",
    "version": 3
   },
   "file_extension": ".py",
   "mimetype": "text/x-python",
   "name": "python",
   "nbconvert_exporter": "python",
   "pygments_lexer": "ipython3",
   "version": "3.7.6"
  }
 },
 "nbformat": 4,
 "nbformat_minor": 4
}

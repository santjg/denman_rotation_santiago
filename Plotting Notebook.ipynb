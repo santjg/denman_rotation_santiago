{
 "cells": [
  {
   "cell_type": "code",
   "execution_count": 3,
   "metadata": {},
   "outputs": [],
   "source": [
    "import matplotlib.pyplot as plt"
   ]
  },
  {
   "cell_type": "code",
   "execution_count": 4,
   "metadata": {},
   "outputs": [],
   "source": [
    "import numpy as np"
   ]
  },
  {
   "cell_type": "code",
   "execution_count": 5,
   "metadata": {},
   "outputs": [],
   "source": [
    "from prettytable import PrettyTable"
   ]
  },
  {
   "cell_type": "code",
   "execution_count": 6,
   "metadata": {},
   "outputs": [],
   "source": [
    "import matplotlib.pyplot as plt"
   ]
  },
  {
   "cell_type": "code",
   "execution_count": 66,
   "metadata": {},
   "outputs": [
    {
     "ename": "ModuleNotFoundError",
     "evalue": "No module named 'tabulate'",
     "output_type": "error",
     "traceback": [
      "\u001b[1;31m---------------------------------------------------------------------------\u001b[0m",
      "\u001b[1;31mModuleNotFoundError\u001b[0m                       Traceback (most recent call last)",
      "\u001b[1;32m<ipython-input-66-5df088049afd>\u001b[0m in \u001b[0;36m<module>\u001b[1;34m\u001b[0m\n\u001b[1;32m----> 1\u001b[1;33m \u001b[1;32mfrom\u001b[0m \u001b[0mtabulate\u001b[0m \u001b[1;32mimport\u001b[0m \u001b[0mtabulate\u001b[0m\u001b[1;33m\u001b[0m\u001b[1;33m\u001b[0m\u001b[0m\n\u001b[0m",
      "\u001b[1;31mModuleNotFoundError\u001b[0m: No module named 'tabulate'"
     ]
    }
   ],
   "source": []
  },
  {
   "cell_type": "code",
   "execution_count": 7,
   "metadata": {},
   "outputs": [
    {
     "name": "stdout",
     "output_type": "stream",
     "text": [
      "+----------+------+------+\n",
      "| Location |  ML  |  AP  |\n",
      "+----------+------+------+\n",
      "|    A     | 1.99 | 5.44 |\n",
      "|    B     | 1.99 | 5.44 |\n",
      "|    C     | 1.99 | 5.52 |\n",
      "|    D     | 2.01 | 5.43 |\n",
      "+----------+------+------+\n"
     ]
    },
    {
     "data": {
      "image/png": "[encoded data removed]",
      "text/plain": [
       "<Figure size 432x288 with 1 Axes>"
      ]
     },
     "metadata": {
      "needs_background": "light"
     },
     "output_type": "display_data"
    }
   ],
   "source": [
    "breg_y = 5.76 #bregma AP\n",
    "breg_x = 1.79 #bregma ML\n",
    "\n",
    "y_a = round((breg_y - 0.316),2)\n",
    "y_b = round((breg_y - 0.315),2)\n",
    "y_c = round((breg_y - 0.240),2)\n",
    "y_d = round((breg_y - 0.333),2)\n",
    "x_a = round((breg_x + 0.195),2)\n",
    "x_b = round((breg_x + 0.197),2)\n",
    "x_c = round((breg_x + 0.200),2)\n",
    "x_d = round((breg_x + 0.223),2)\n",
    "\n",
    "p = PrettyTable()\n",
    "p.field_names = ['Location', 'ML', 'AP']\n",
    "p.add_row(['A', x_a, y_a])\n",
    "p.add_row(['B', x_b, y_b])\n",
    "p.add_row(['C', x_c, y_c])\n",
    "p.add_row(['D', x_d, y_d])\n",
    "print(p)\n",
    "\n",
    "plt.scatter([breg_x, x_a, x_b, x_c, x_d],[breg_y, y_a, y_b, y_c, y_d])\n",
    "plt.axis('scaled')\n",
    "plt.gca().invert_xaxis()\n",
    "plt.text(breg_x, breg_y, 'Bregma')\n",
    "plt.grid(True)"
   ]
  },
  {
   "cell_type": "code",
   "execution_count": 22,
   "metadata": {},
   "outputs": [
    {
     "name": "stdout",
     "output_type": "stream",
     "text": [
      "[[2.22 5.59]\n",
      " [2.23 5.6 ]\n",
      " [2.23 5.67]\n",
      " [2.25 5.58]]\n",
      "+----------+------+------+\n",
      "| Location |  ML  |  AP  |\n",
      "+----------+------+------+\n",
      "|    A     | 2.22 | 5.59 |\n",
      "|    B     | 2.23 | 5.6  |\n",
      "|    C     | 2.23 | 5.67 |\n",
      "|    D     | 2.25 | 5.58 |\n",
      "|  Bregma  | 2.03 | 5.91 |\n",
      "+----------+------+------+\n"
     ]
    }
   ],
   "source": [
    "bregma_x = 2.03\n",
    "bregma_y = 5.91\n",
    "loc = np.array(['Bregma', 'A', 'B', 'C', 'D'])\n",
    "ap_adj = np.array([-0.316, -0.315, -0.240, -0.333])\n",
    "ml_adj = np.array([0.195, 0.197, 0.200, 0.223])\n",
    "\n",
    "y = np.round((bregma_y + ap_adj), 2)\n",
    "x = np.round((bregma_x + ml_adj), 2)\n",
    "xy = np.column_stack((x, y))\n",
    "print(xy)\n",
    "\n",
    "pt = PrettyTable()\n",
    "\n",
    "pt.add_column('Location', ['A', 'B', 'C', 'D'])\n",
    "pt.add_column('ML', xy[:,0])\n",
    "pt.add_column('AP', xy[:,1])\n",
    "pt.add_row(['Bregma', bregma_x, bregma_y])\n",
    "print(pt)"
   ]
  },
  {
   "cell_type": "code",
   "execution_count": null,
   "metadata": {},
   "outputs": [],
   "source": []
  },
  {
   "cell_type": "code",
   "execution_count": null,
   "metadata": {},
   "outputs": [],
   "source": []
  }
 ],
 "metadata": {
  "celltoolbar": "Raw Cell Format",
  "kernelspec": {
   "display_name": "Python 3",
   "language": "python",
   "name": "python3"
  },
  "language_info": {
   "codemirror_mode": {
    "name": "ipython",
    "version": 3
   },
   "file_extension": ".py",
   "mimetype": "text/x-python",
   "name": "python",
   "nbconvert_exporter": "python",
   "pygments_lexer": "ipython3",
   "version": "3.7.6"
  }
 },
 "nbformat": 4,
 "nbformat_minor": 4
}

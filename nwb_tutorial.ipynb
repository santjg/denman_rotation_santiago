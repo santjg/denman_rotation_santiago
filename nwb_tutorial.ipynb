{
 "cells": [
  {
   "cell_type": "code",
   "execution_count": 1,
   "metadata": {},
   "outputs": [],
   "source": [
    "%matplotlib inline"
   ]
  },
  {
   "cell_type": "markdown",
   "metadata": {},
   "source": [
    "\n",
    "\n",
    "NWB basics\n",
    "==========\n",
    "\n",
    "This example will focus on the basics of working with an :py:class:`~pynwb.file.NWBFile` object,\n",
    "including writing and reading of an NWB file.\n"
   ]
  },
  {
   "cell_type": "markdown",
   "metadata": {},
   "source": [
    "The NWB file\n",
    "------------\n",
    "\n",
    "\n",
    "\n"
   ]
  },
  {
   "cell_type": "code",
   "execution_count": 2,
   "metadata": {},
   "outputs": [],
   "source": [
    "from datetime import datetime\n",
    "from dateutil.tz import tzlocal\n",
    "from pynwb import NWBFile\n",
    "import numpy as np\n",
    "\n",
    "start_time = datetime(2017, 4, 3, 11, tzinfo=tzlocal())\n",
    "create_date = datetime(2017, 4, 15, 12, tzinfo=tzlocal())\n",
    "\n",
    "nwbfile = NWBFile(session_description='demonstrate NWBFile basics',  # required\n",
    "                  identifier='NWB123',  # required\n",
    "                  session_start_time=start_time,  # required\n",
    "                  file_create_date=create_date)  # optional"
   ]
  },
  {
   "cell_type": "markdown",
   "metadata": {},
   "source": [
    "\n",
    "Time series data\n",
    "----------------\n",
    "\n",
    "PyNWB stores time series data using the :py:class:`~pynwb.base.TimeSeries` class and its subclasses.\n",
    "The main components of a :py:class:`~pynwb.base.TimeSeries` are the *data* and the *timestamps*.\n",
    "You will also need to supply the name and unit of measurement for *data*.\n",
    "\n"
   ]
  },
  {
   "cell_type": "code",
   "execution_count": 3,
   "metadata": {},
   "outputs": [],
   "source": [
    "from pynwb import TimeSeries\n",
    "\n",
    "data = list(range(100, 200, 10))\n",
    "timestamps = list(range(10))\n",
    "test_ts = TimeSeries(name='test_timeseries', data=data, unit='m', timestamps=timestamps)"
   ]
  },
  {
   "cell_type": "markdown",
   "metadata": {},
   "source": [
    "Alternatively, if your recordings are sampled at a uniform rate, you can supply *starting_time*\n",
    "and *rate*.\n",
    "\n"
   ]
  },
  {
   "cell_type": "code",
   "execution_count": 4,
   "metadata": {},
   "outputs": [],
   "source": [
    "rate_ts = TimeSeries(name='test_timeseries', data=data, unit='m', starting_time=0.0, rate=1.0)"
   ]
  },
  {
   "cell_type": "markdown",
   "metadata": {},
   "source": [
    "Using this scheme says that this :py:class:`~pynwb.base.TimeSeries` started recording 0 seconds after\n",
    "*start_time* stored in the :py:class:`~pynwb.file.NWBFile` and sampled every second.\n",
    "\n",
    ":py:class:`~pynwb.base.TimeSeries` objects can be added directly to your :py:class:`~pynwb.file.NWBFile` using\n",
    "the methods :py:meth:`~pynwb.file.NWBFile.add_acquisition`, :py:meth:`~pynwb.file.NWBFile.add_stimulus`\n",
    "and :py:meth:`~pynwb.file.NWBFile.add_stimulus_template`. Which method you use depends on the source of the\n",
    "data: use :py:meth:`~pynwb.file.NWBFile.add_acquisition` to indicated *acquisition* data,\n",
    ":py:meth:`~pynwb.file.NWBFile.add_stimulus` to indicate *stimulus* data, and\n",
    ":py:meth:`~pynwb.file.NWBFile.add_stimulus_template` to store stimulus templates.\n",
    "\n"
   ]
  },
  {
   "cell_type": "code",
   "execution_count": 5,
   "metadata": {},
   "outputs": [],
   "source": [
    "nwbfile.add_acquisition(test_ts)"
   ]
  },
  {
   "cell_type": "markdown",
   "metadata": {},
   "source": [
    "Access the :py:class:`~pynwb.base.TimeSeries` object `'test_timeseries'` from *acquisition* using\n",
    "\n"
   ]
  },
  {
   "cell_type": "code",
   "execution_count": 6,
   "metadata": {},
   "outputs": [
    {
     "data": {
      "text/plain": [
       "test_timeseries pynwb.base.TimeSeries at 0x2787820861768\n",
       "Fields:\n",
       "  comments: no comments\n",
       "  conversion: 1.0\n",
       "  data: [100 110 120 130 140 150 160 170 180 190]\n",
       "  description: no description\n",
       "  interval: 1\n",
       "  resolution: -1.0\n",
       "  timestamps: [0 1 2 3 4 5 6 7 8 9]\n",
       "  timestamps_unit: seconds\n",
       "  unit: m"
      ]
     },
     "execution_count": 6,
     "metadata": {},
     "output_type": "execute_result"
    }
   ],
   "source": [
    "nwbfile.acquisition['test_timeseries']"
   ]
  },
  {
   "cell_type": "markdown",
   "metadata": {},
   "source": [
    "or\n",
    "\n"
   ]
  },
  {
   "cell_type": "code",
   "execution_count": 7,
   "metadata": {},
   "outputs": [
    {
     "data": {
      "text/plain": [
       "test_timeseries pynwb.base.TimeSeries at 0x2787820861768\n",
       "Fields:\n",
       "  comments: no comments\n",
       "  conversion: 1.0\n",
       "  data: [100 110 120 130 140 150 160 170 180 190]\n",
       "  description: no description\n",
       "  interval: 1\n",
       "  resolution: -1.0\n",
       "  timestamps: [0 1 2 3 4 5 6 7 8 9]\n",
       "  timestamps_unit: seconds\n",
       "  unit: m"
      ]
     },
     "execution_count": 7,
     "metadata": {},
     "output_type": "execute_result"
    }
   ],
   "source": [
    "nwbfile.get_acquisition('test_timeseries')"
   ]
  },
  {
   "cell_type": "markdown",
   "metadata": {},
   "source": [
    "\n",
    "Writing an NWB file\n",
    "-------------------\n",
    "\n",
    "NWB I/O is carried out using the :py:class:`~pynwb.NWBHDF5IO` class [#]_. This class is responsible\n",
    "for mapping an :py:class:`~pynwb.file.NWBFile` object into HDF5 according to the NWB schema.\n",
    "\n",
    "To write an :py:class:`~pynwb.file.NWBFile`, use the :py:meth:`~hdmf.backends.io.HDMFIO.write` method.\n",
    "\n"
   ]
  },
  {
   "cell_type": "code",
   "execution_count": 8,
   "metadata": {},
   "outputs": [],
   "source": [
    "from pynwb import NWBHDF5IO\n",
    "\n",
    "io = NWBHDF5IO('example_file_path.nwb', mode='w')\n",
    "io.write(nwbfile)\n",
    "io.close()"
   ]
  },
  {
   "cell_type": "markdown",
   "metadata": {},
   "source": [
    "You can also use :py:meth:`~pynwb.NWBHDF5IO` as a context manager:\n",
    "\n"
   ]
  },
  {
   "cell_type": "code",
   "execution_count": 9,
   "metadata": {},
   "outputs": [],
   "source": [
    "with NWBHDF5IO('example_file_path.nwb', 'w') as io:\n",
    "    io.write(nwbfile)"
   ]
  },
  {
   "cell_type": "markdown",
   "metadata": {},
   "source": [
    "\n",
    "Reading an NWB file\n",
    "-------------------\n",
    "\n",
    "As with writing, reading is also carried out using the :py:class:`~pynwb.NWBHDF5IO` class.\n",
    "To read the NWB file we just wrote, use another :py:class:`~pynwb.NWBHDF5IO` object,\n",
    "and use the :py:meth:`~hdmf.backends.io.HDMFIO.read` method to retrieve an\n",
    ":py:class:`~pynwb.file.NWBFile` object.\n",
    "\n"
   ]
  },
  {
   "cell_type": "code",
   "execution_count": 10,
   "metadata": {},
   "outputs": [],
   "source": [
    "io = NWBHDF5IO('example_file_path.nwb', 'r')\n",
    "nwbfile_in = io.read()"
   ]
  },
  {
   "cell_type": "markdown",
   "metadata": {},
   "source": [
    "\n",
    "Retrieving data from an NWB file\n",
    "--------------------------------\n",
    "\n"
   ]
  },
  {
   "cell_type": "code",
   "execution_count": 11,
   "metadata": {},
   "outputs": [
    {
     "name": "stdout",
     "output_type": "stream",
     "text": [
      "test_timeseries pynwb.base.TimeSeries at 0x2787821974664\n",
      "Fields:\n",
      "  comments: no comments\n",
      "  conversion: 1.0\n",
      "  data: <HDF5 dataset \"data\": shape (10,), type \"<i4\">\n",
      "  description: no description\n",
      "  interval: 1\n",
      "  resolution: -1.0\n",
      "  timestamps: <HDF5 dataset \"timestamps\": shape (10,), type \"<f8\">\n",
      "  timestamps_unit: seconds\n",
      "  unit: m\n",
      "\n"
     ]
    }
   ],
   "source": [
    "test_timeseries_in = nwbfile_in.acquisition['test_timeseries']\n",
    "print(test_timeseries_in)"
   ]
  },
  {
   "cell_type": "markdown",
   "metadata": {},
   "source": [
    "::\n",
    "\n",
    "   test_timeseries <class 'pynwb.base.TimeSeries'>\n",
    "   Fields:\n",
    "     comments: no comments\n",
    "     conversion: 1.0\n",
    "     data: <HDF5 dataset \"data\": shape (10,), type \"<i8\">\n",
    "     description: no description\n",
    "     interval: 1\n",
    "     resolution: 0.0\n",
    "     timestamps: <HDF5 dataset \"timestamps\": shape (10,), type \"<f8\">\n",
    "     timestamps_unit: Seconds\n",
    "     unit: SIunit\n",
    "\n"
   ]
  },
  {
   "cell_type": "markdown",
   "metadata": {},
   "source": [
    "Accessing the data field, you will notice that it does not return the data values, but instead an HDF5 dataset.\n",
    "\n"
   ]
  },
  {
   "cell_type": "code",
   "execution_count": null,
   "metadata": {},
   "outputs": [],
   "source": [
    "print(test_timeseries_in.data)"
   ]
  },
  {
   "cell_type": "markdown",
   "metadata": {},
   "source": [
    "::\n",
    "\n",
    "  <HDF5 dataset \"data\": shape (10,), type \"<i8\">\n",
    "\n",
    "This object lets you only read in a section of the dataset without reading the entire thing.\n",
    "\n"
   ]
  },
  {
   "cell_type": "code",
   "execution_count": null,
   "metadata": {},
   "outputs": [],
   "source": [
    "print(test_timeseries_in.data[:2])"
   ]
  },
  {
   "cell_type": "markdown",
   "metadata": {},
   "source": [
    "::\n",
    "\n",
    "  [100 110]\n",
    "\n",
    "To load the entire dataset, use `[:]`.\n",
    "\n"
   ]
  },
  {
   "cell_type": "code",
   "execution_count": null,
   "metadata": {},
   "outputs": [],
   "source": [
    "print(test_timeseries_in.data[:])\n",
    "io.close()"
   ]
  },
  {
   "cell_type": "markdown",
   "metadata": {},
   "source": [
    "::\n",
    "\n",
    "  [100 110 120 130 140 150 160 170 180 190]\n",
    "\n",
    "If you use :py:class:`~pynwb.NWBHDF5IO` as a context manager during read, be aware that the\n",
    ":py:class:`~pynwb.NWBHDF5IO` gets closed and when the context completes and the data will not be\n",
    "available outside of the context manager [#]_.\n",
    "\n"
   ]
  },
  {
   "cell_type": "markdown",
   "metadata": {},
   "source": [
    "Adding More Data\n",
    "----------------\n",
    "\n",
    "The following illustrates basic data organizational structures that are used throughout NWB:N.\n",
    "\n",
    "\n",
    "Reusing timestamps\n",
    "~~~~~~~~~~~~~~~~~~\n",
    "\n",
    "When working with multi-modal data, it can be convenient and efficient to store timestamps once and associate multiple\n",
    "data with the single timestamps instance. PyNWB enables this by letting you reuse timestamps across\n",
    ":class:`~pynwb.base.TimeSeries` objects. To reuse a :class:`~pynwb.base.TimeSeries` timestamps in a new\n",
    ":class:`~pynwb.base.TimeSeries`, pass the existing :class:`~pynwb.base.TimeSeries` as the new\n",
    ":class:`~pynwb.base.TimeSeries` timestamps:\n",
    "\n"
   ]
  },
  {
   "cell_type": "code",
   "execution_count": null,
   "metadata": {},
   "outputs": [],
   "source": [
    "data = list(range(101, 201, 10))\n",
    "reuse_ts = TimeSeries('reusing_timeseries', data, 'SIunit', timestamps=test_ts)"
   ]
  },
  {
   "cell_type": "markdown",
   "metadata": {},
   "source": [
    "\n",
    "Data interfaces\n",
    "---------------\n",
    "\n",
    "NWB provides the concept of a *data interface*--an object for a standard\n",
    "storage location of specific types of data--through the :py:class:`~pynwb.core.NWBDataInterface` class.\n",
    "For example, :py:class:`~pynwb.behavior.Position` provides a container that holds one or more\n",
    ":py:class:`~pynwb.behavior.SpatialSeries` objects. :py:class:`~pynwb.behavior.SpatialSeries` is a subtype of\n",
    ":py:class:`~pynwb.base.TimeSeries` that represents the spatial position of an animal over time. By putting\n",
    "your position data into a :py:class:`~pynwb.behavior.Position` container, downstream users and\n",
    "tools know where to look to retrieve position data. For a comprehensive list of available data interfaces, see the\n",
    "`overview page <modules_overview>`. Here is how to create a :py:class:`~pynwb.behavior.Position` object\n",
    "named '`Position'` [#]_.\n",
    "\n"
   ]
  },
  {
   "cell_type": "code",
   "execution_count": null,
   "metadata": {},
   "outputs": [],
   "source": [
    "from pynwb.behavior import Position\n",
    "\n",
    "position = Position()"
   ]
  },
  {
   "cell_type": "markdown",
   "metadata": {},
   "source": [
    "You can add objects to a data interface as a method of the data interface:\n",
    "\n"
   ]
  },
  {
   "cell_type": "code",
   "execution_count": null,
   "metadata": {},
   "outputs": [],
   "source": [
    "position.create_spatial_series(name='position1',\n",
    "                               data=np.linspace(0, 1, 20),\n",
    "                               rate=50.,\n",
    "                               reference_frame='starting gate')"
   ]
  },
  {
   "cell_type": "markdown",
   "metadata": {},
   "source": [
    "or you can add pre-existing objects:\n",
    "\n"
   ]
  },
  {
   "cell_type": "code",
   "execution_count": null,
   "metadata": {},
   "outputs": [],
   "source": [
    "from pynwb.behavior import SpatialSeries\n",
    "\n",
    "spatial_series = SpatialSeries(name='position2',\n",
    "                               data=np.linspace(0, 1, 20),\n",
    "                               rate=50.,\n",
    "                               reference_frame='starting gate')\n",
    "\n",
    "position.add_spatial_series(spatial_series)"
   ]
  },
  {
   "cell_type": "markdown",
   "metadata": {},
   "source": [
    "or include the object during construction:\n",
    "\n"
   ]
  },
  {
   "cell_type": "code",
   "execution_count": null,
   "metadata": {},
   "outputs": [],
   "source": [
    "spatial_series = SpatialSeries(name='position2',\n",
    "                               data=np.linspace(0, 1, 20),\n",
    "                               rate=50.,\n",
    "                               reference_frame='starting gate')\n",
    "\n",
    "position = Position(spatial_series=spatial_series)"
   ]
  },
  {
   "cell_type": "markdown",
   "metadata": {},
   "source": [
    "Each data interface stores its own type of data. We suggest you read the documentation for the\n",
    "data interface of interest in the `API documentation <api_docs>` to figure out what data the\n",
    "data interface allows and/or requires and what methods you will need to call to add this data.\n",
    "\n"
   ]
  },
  {
   "cell_type": "markdown",
   "metadata": {},
   "source": [
    "\n",
    "Processing modules\n",
    "------------------\n",
    "\n",
    "*Processing modules* are used for storing a set of data interfaces that are related to a particular\n",
    "processing workflow. For example, if you want to store the intermediate results of a spike sorting workflow,\n",
    "you could create a :py:class:`~pynwb.base.ProcessingModule` that contains data interfaces that represent\n",
    "the common first steps in spike sorting e.g. :py:class:`~pynwb.ecephys.EventDetection`,\n",
    ":py:class:`~pynwb.ecephys.EventWaveform`,  :py:class:`~pynwb.ecephys.FeatureExtraction`. The final results of\n",
    "the sorting could then be stored in the top-level :py:class:`~pynwb.misc.Units` table (see below).\n",
    "Derived preprocessed data should go in a processing module, which you can create using\n",
    ":py:meth:`~pynwb.file.NWBFile.create_processing_module`:\n",
    "\n"
   ]
  },
  {
   "cell_type": "code",
   "execution_count": null,
   "metadata": {},
   "outputs": [],
   "source": [
    "behavior_module = nwbfile.create_processing_module(name='behavior',\n",
    "                                                   description='preprocessed behavioral data')"
   ]
  },
  {
   "cell_type": "markdown",
   "metadata": {},
   "source": [
    "or by directly calling the constructor and adding to the :py:class:`~pynwb.file.NWBFile` using\n",
    ":py:meth:`~pynwb.file.NWBFile.add_processing_module`:\n",
    "\n"
   ]
  },
  {
   "cell_type": "code",
   "execution_count": null,
   "metadata": {},
   "outputs": [],
   "source": [
    "from pynwb import ProcessingModule\n",
    "\n",
    "ecephys_module = ProcessingModule(name='ecephys',\n",
    "                                  description='preprocessed extracellular electrophysiology')\n",
    "nwbfile.add_processing_module(ecephys_module)"
   ]
  },
  {
   "cell_type": "markdown",
   "metadata": {},
   "source": [
    "Best practice is to use the NWB schema module names as processing module names where appropriate.\n",
    "These are: 'behavior', 'ecephys', 'icephys', 'ophys', 'ogen', 'retinotopy', and 'misc'. You may also create\n",
    "a processing module with a custom name. Once these processing modules are added, access them with\n",
    "\n"
   ]
  },
  {
   "cell_type": "code",
   "execution_count": null,
   "metadata": {},
   "outputs": [],
   "source": [
    "nwbfile.processing"
   ]
  },
  {
   "cell_type": "markdown",
   "metadata": {},
   "source": [
    "which returns a `dict`:\n",
    "::\n",
    "\n",
    "   {'behavior':\n",
    "    behavior <class 'pynwb.base.ProcessingModule'>\n",
    "    Fields:\n",
    "      data_interfaces: { Position <class 'pynwb.behavior.Position'> }\n",
    "      description: preprocessed behavioral data, 'ecephys':\n",
    "    ecephys <class 'pynwb.base.ProcessingModule'>\n",
    "    Fields:\n",
    "      data_interfaces: { }\n",
    "      description: preprocessed extracellular electrophysiology}\n",
    "\n",
    ":py:class:`~pynwb.core.NWBDataInterface` objects can be added to the behavior `ProcessingModule <basic_procmod>`.\n",
    "\n"
   ]
  },
  {
   "cell_type": "code",
   "execution_count": null,
   "metadata": {},
   "outputs": [],
   "source": [
    "nwbfile.processing['behavior'].add(position)"
   ]
  },
  {
   "cell_type": "markdown",
   "metadata": {},
   "source": [
    "\n",
    "Epochs\n",
    "------\n",
    "\n",
    "Epochs can be added to an NWB file using the method :py:meth:`~pynwb.file.NWBFile.add_epoch`.\n",
    "The first and second arguments are the start time and stop times, respectively.\n",
    "The third argument is one or more tags for labelling the epoch, and the fifth argument is a\n",
    "list of all the :py:class:`~pynwb.base.TimeSeries` that the epoch applies\n",
    "to.\n",
    "\n"
   ]
  },
  {
   "cell_type": "code",
   "execution_count": null,
   "metadata": {},
   "outputs": [],
   "source": [
    "nwbfile.add_epoch(2.0, 4.0, ['first', 'example'], [test_ts, ])\n",
    "nwbfile.add_epoch(6.0, 8.0, ['second', 'example'], [test_ts, ])"
   ]
  },
  {
   "cell_type": "markdown",
   "metadata": {},
   "source": [
    "\n",
    "Trials\n",
    "------\n",
    "\n",
    "Trials can be added to an NWB file using the methods :py:meth:`~pynwb.file.NWBFile.add_trial`\n",
    "and :py:meth:`~pynwb.file.NWBFile.add_trial_column`. Together, these methods maintains a\n",
    "table-like structure that can define arbitrary columns without having to go through the\n",
    "extension process.\n",
    "\n",
    "By default, NWBFile only requires trial start time and trial end time. Additional columns\n",
    "can be added using :py:meth:`~pynwb.file.NWBFile.add_trial_column`. This method takes a name\n",
    "for the column and a description of what the column stores. You do not need to supply data\n",
    "type, as this will inferred.\n",
    "Once all columns have been added, trial data can be populated using :py:meth:`~pynwb.file.NWBFile.add_trial`.\n",
    "\n",
    "Lets add an additional column and some trial data.\n",
    "\n"
   ]
  },
  {
   "cell_type": "code",
   "execution_count": null,
   "metadata": {},
   "outputs": [],
   "source": [
    "nwbfile.add_trial_column(name='stim', description='the visual stimuli during the trial')\n",
    "\n",
    "nwbfile.add_trial(start_time=0.0, stop_time=2.0, stim='person')\n",
    "nwbfile.add_trial(start_time=3.0, stop_time=5.0, stim='ocean')\n",
    "nwbfile.add_trial(start_time=6.0, stop_time=8.0, stim='desert')"
   ]
  },
  {
   "cell_type": "markdown",
   "metadata": {},
   "source": [
    "Tabular data such as trials can be converted to a `pandas.DataFrame`.\n",
    "\n"
   ]
  },
  {
   "cell_type": "code",
   "execution_count": null,
   "metadata": {},
   "outputs": [],
   "source": [
    "print(nwbfile.trials.to_dataframe())"
   ]
  },
  {
   "cell_type": "markdown",
   "metadata": {},
   "source": [
    "::\n",
    "\n",
    "          start_time  stop_time    stim\n",
    "      id\n",
    "      0          0.0        2.0  person\n",
    "      1          3.0        5.0   ocean\n",
    "      2          6.0        8.0  desert\n",
    "\n",
    "\n"
   ]
  },
  {
   "cell_type": "markdown",
   "metadata": {},
   "source": [
    "\n",
    "Units\n",
    "------\n",
    "\n",
    "Units are putative cells in your analysis. Unit metadata can be added to an NWB file using the methods\n",
    ":py:meth:`~pynwb.file.NWBFile.add_unit` and :py:meth:`~pynwb.file.NWBFile.add_unit_column`. These methods\n",
    "work like the methods for adding trials described `above <basic_trials>`\n",
    "\n",
    "A unit is only required to contain a unique integer identifier in the 'id' column\n",
    "(this will be automatically assigned if not provided). Additional optional values for each unit\n",
    "include: `spike_times`, `electrodes`, `electrode_group`, `obs_intervals`, `waveform_mean`, and `waveform_sd`.\n",
    "Additional user-defined columns can be added using :py:meth:`~pynwb.file.NWBFile.add_unit_column`. Like\n",
    ":py:meth:`~pynwb.file.NWBFile.add_trial_column`, this method also takes a name\n",
    "for the column, a description of what the column stores and does not need a data type.\n",
    "Once all columns have been added, unit data can be populated using :py:meth:`~pynwb.file.NWBFile.add_unit`.\n",
    "\n",
    "When providing `spike_times`, you may also wish to specify the time intervals during which the unit was\n",
    "being observed, so that it is possible to distinguish times when the unit was silent from times when the\n",
    "unit was not being recorded (and thus correctly compute firing rates, for example). This information\n",
    "should be provided as a list of [start, end] time pairs in the `obs_intervals` field. If `obs_intervals` is\n",
    "provided, then all entries in `spike_times` should occur within one of the listed intervals. In the example\n",
    "below, all 3 units are observed during the time period from 1 to 10 s and fired spikes during that period.\n",
    "Units 2 and 3 were also observed during the time period from 20-30s; but only unit 2 fired spikes in that\n",
    "period.\n",
    "\n",
    "Lets specify some unit metadata and then add some units:\n",
    "\n"
   ]
  },
  {
   "cell_type": "code",
   "execution_count": null,
   "metadata": {},
   "outputs": [],
   "source": [
    "nwbfile.add_unit_column('location', 'the anatomical location of this unit')\n",
    "nwbfile.add_unit_column('quality', 'the quality for the inference of this unit')\n",
    "\n",
    "nwbfile.add_unit(id=1, spike_times=[2.2, 3.0, 4.5],\n",
    "                 obs_intervals=[[1, 10]], location='CA1', quality=0.95)\n",
    "nwbfile.add_unit(id=2, spike_times=[2.2, 3.0, 25.0, 26.0],\n",
    "                 obs_intervals=[[1, 10], [20, 30]], location='CA3', quality=0.85)\n",
    "nwbfile.add_unit(id=3, spike_times=[1.2, 2.3, 3.3, 4.5],\n",
    "                 obs_intervals=[[1, 10], [20, 30]], location='CA1', quality=0.90)"
   ]
  },
  {
   "cell_type": "markdown",
   "metadata": {},
   "source": [
    "Now we overwrite the file with all of the data\n",
    "\n"
   ]
  },
  {
   "cell_type": "code",
   "execution_count": null,
   "metadata": {},
   "outputs": [],
   "source": [
    "with NWBHDF5IO('example_file_path.nwb', 'w') as io:\n",
    "    io.write(nwbfile)"
   ]
  },
  {
   "cell_type": "markdown",
   "metadata": {},
   "source": [
    "\n",
    "<div class=\"alert alert-info\"><h4>Note</h4><p>The Units table has some predefined optional columns. Please review the documentation for\n",
    "   :py:meth:`~pynwb.file.NWBFile.add_unit` before adding custom columns.</p></div>\n",
    "\n"
   ]
  },
  {
   "cell_type": "markdown",
   "metadata": {},
   "source": [
    "\n",
    "Appending to an NWB file\n",
    "------------------------\n",
    "\n",
    "Using functionality discussed above, NWB allows appending to files. To append to a file, you must read the file, add\n",
    "new components, and then write the file. Reading and writing is carried out using :py:class:`~pynwb.NWBHDF5IO`.\n",
    "When reading the NWBFile, you must specify that you intend to modify it by setting the *mode* argument in the\n",
    ":py:class:`~pynwb.NWBHDF5IO` constructor to ``'a'``. After you have read the file, you can add [#]_ new data to it\n",
    "using the standard write/add functionality demonstrated above.\n",
    "\n",
    "Let's see how this works by adding another :py:class:`~pynwb.base.TimeSeries` to the BehavioralTimeSeries interface\n",
    "we created above.\n",
    "\n",
    "First, read the file and get the interface object.\n",
    "\n"
   ]
  },
  {
   "cell_type": "code",
   "execution_count": null,
   "metadata": {},
   "outputs": [],
   "source": [
    "io = NWBHDF5IO('example_file_path.nwb', mode='a')\n",
    "nwbfile = io.read()\n",
    "position = nwbfile.processing['behavior'].data_interfaces['Position']"
   ]
  },
  {
   "cell_type": "markdown",
   "metadata": {},
   "source": [
    "Next, add a new :py:class:`~pynwb.behavior.SpatialSeries`.\n",
    "\n"
   ]
  },
  {
   "cell_type": "code",
   "execution_count": null,
   "metadata": {},
   "outputs": [],
   "source": [
    "data = list(range(300, 400, 10))\n",
    "timestamps = list(range(10))\n",
    "test_spatial_series = SpatialSeries('test_spatialseries2', data,\n",
    "                                    reference_frame='starting_gate',\n",
    "                                    timestamps=timestamps)\n",
    "position.add_spatial_series(test_spatial_series)"
   ]
  },
  {
   "cell_type": "markdown",
   "metadata": {},
   "source": [
    "Finally, write the changes back to the file and close it.\n",
    "\n"
   ]
  },
  {
   "cell_type": "code",
   "execution_count": null,
   "metadata": {},
   "outputs": [],
   "source": [
    "io.write(nwbfile)\n",
    "io.close()"
   ]
  },
  {
   "cell_type": "markdown",
   "metadata": {},
   "source": [
    ".. [#] HDF5 is currently the only backend supported by NWB.\n",
    "\n",
    ".. [#] Neurodata sets can be *very* large, so individual components of the dataset are only loaded into memory when\n",
    "   you request them. This functionality is only possible if an open file handle is kept around until users want to\n",
    "   load data.\n",
    "\n",
    ".. [#] Some data interface objects have a default name. This default name is the type of the data interface. For\n",
    "   example, the default name for :py:class:`~pynwb.ophys.ImageSegmentation` is \"ImageSegmentation\" and the default\n",
    "   name for :py:class:`~pynwb.ecephys.EventWaveform` is \"EventWaveform\".\n",
    "\n",
    ".. [#] NWB only supports *adding* to files. Removal and modifying of existing data is not allowed.\n",
    "\n"
   ]
  },
  {
   "cell_type": "markdown",
   "metadata": {},
   "source": [
    "\n"
   ]
  }
 ],
 "metadata": {
  "kernelspec": {
   "display_name": "Python 3",
   "language": "python",
   "name": "python3"
  },
  "language_info": {
   "codemirror_mode": {
    "name": "ipython",
    "version": 3
   },
   "file_extension": ".py",
   "mimetype": "text/x-python",
   "name": "python",
   "nbconvert_exporter": "python",
   "pygments_lexer": "ipython3",
   "version": "3.7.6"
  }
 },
 "nbformat": 4,
 "nbformat_minor": 1
}

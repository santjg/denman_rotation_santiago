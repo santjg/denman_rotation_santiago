{
 "cells": [
  {
   "cell_type": "markdown",
   "metadata": {},
   "source": [
    "# Title: Wavelength-Specific Representation of Stimuli in the Mouse Visual Cortex"
   ]
  },
  {
   "cell_type": "markdown",
   "metadata": {},
   "source": [
    "## Introduction\n",
    "<p>Perception of color remains one of the more poorly understood questions in visual neuroscience. We understand how photoreceptor cells in the retina respond to light based on wavelength and amplitude and how that signal is coded and transduced through retinal ganglion cells to the brain. This understanding only represents visual input however. The real question is, \"How do these visual inputs generate the rich, colorful images that we call 'vision' in the brain?\". How are these signals being coded in centers of higher processing such as the visual cortex to generate meaningful percepts?<p/>\n",
    "<p>Humans unlike most other mammals are trichromats, meaning our perception of color is mediated by three independent, wavelength-sensitive channels. We have three different types of cone cells, responding to long, medium, or short wavelengths of light(Red, Green, Blue for simplicity). Signals from these three cone types in different ratios, code for the entire visual spectrum of color. This concept is referred to as cone opponency. Color theory and common technologies such as LCD screens are reflective of how our visual system processes color.<p/>\n",
    "<p>Mice, unlike humans are dichromats, meaning their visual system only contains two wavelength, specific opsins that comprise the entirety of their \"color\" vision. <p/>\n",
    "\n",
    "\n",
    "Cone opponency can coccur without any *color* association  \n",
    "Cones don't correspond to color percepts  \n",
    "Color is an *output* of the visual system, not an input. The visual system only responds to wavelength directly"
   ]
  },
  {
   "cell_type": "markdown",
   "metadata": {},
   "source": [
    "## Specific Aims:\n",
    "**Aim 1:** Analyze differences in V1 neural population activity directly correlated to wavelength  \n",
    "**Aim 2:** Analyze differences in V1 neural population activity indirectly correlated to wavelength via spatial distribution  "
   ]
  },
  {
   "cell_type": "markdown",
   "metadata": {},
   "source": [
    "### Hypotheses:\n",
    "1) Wavelengths that stimululates M and S opsins will generate distinct neural activities in the primary visual cortex  \n",
    "2) Stimulation by combination green + ultraviolet light will generate distinct neural activities in the primary visual cortex related to the area of the visual field stimulated"
   ]
  },
  {
   "cell_type": "markdown",
   "metadata": {},
   "source": [
    "## Approach"
   ]
  },
  {
   "cell_type": "markdown",
   "metadata": {},
   "source": [
    "### AIM 1: Analyze differences in V1 neural population activity directly correlated to wavelength  "
   ]
  },
  {
   "cell_type": "markdown",
   "metadata": {},
   "source": [
    "#### Rationale:  \n",
    "While it has been demonstrated that mice can distinguish between green and UV light, the cortical processing of that distinction is still not fully understood. \n"
   ]
  },
  {
   "cell_type": "markdown",
   "metadata": {},
   "source": [
    "#### Methods:\n",
    "* Head fixed on a freely roating disc within immersive stimulus apparatus \n",
    "    * Awake\n",
    "* Stimuli presented in right visual hemifield\n",
    "    * Stimulus large enough to fill most of hemifield\n",
    "    * Green only, UV only, Green + UV\n",
    "    * Varied luminance\n",
    "    * Animals trained to lick when they percieve stimulus change\n",
    "    * Infrared video tracking of pupils \n",
    "* 1-4 Neuropixels probes inseerted into V1 for recording"
   ]
  },
  {
   "cell_type": "markdown",
   "metadata": {},
   "source": [
    "#### Expected Results/Caveats:"
   ]
  },
  {
   "cell_type": "markdown",
   "metadata": {},
   "source": [
    "### AIM 2: Analyze differences in V1 neural population activity indirectly correlated to wavelength via spatial distribution"
   ]
  },
  {
   "cell_type": "markdown",
   "metadata": {},
   "source": [
    "#### Rationale:\n",
    "Denman et al., 2018 demonstrated that perception and discrimination of color in mice is not only limited by wavelength, but specific to the retinotopy of the mouse. As we investigate the cortical correlates of color stimuli, We need to also account for retinotopy to understand how stimulation to specific regions of the visual field are represented in V1."
   ]
  },
  {
   "cell_type": "markdown",
   "metadata": {},
   "source": [
    "#### Methods:\n",
    "* Similar stimulus to Aim 1, with addition of visual-field-specificity\n",
    "    * Smaller stimuli presented at -10&deg;, 10&deg;, 30&deg;, and 50&deg;\n",
    "    * Same variation in wavelength and luminance \n",
    "* 1-4 Neuropixels probes inserted into V1 for recording"
   ]
  },
  {
   "cell_type": "markdown",
   "metadata": {},
   "source": [
    "#### Expected Results/Caveats"
   ]
  },
  {
   "cell_type": "markdown",
   "metadata": {},
   "source": [
    "## Analysis\n",
    "Number of spikes in each condition  \n",
    "Variance of each neuron  \n",
    "Correlated neuron population structures    \n",
    "Cone opponent receptive fields    \n",
    "Cells associated with wavelength, orientation, and direction  \n",
    "luminance  \n",
    "Spatial organization of wavelengthm orientation, and direction response  \n",
    "Changes in LFP with color, direction, or orientation  \n",
    "Color discrimination moving further from fovea  \n",
    "Spike Latency  \n",
    "Redundancy in receptive fields  \n",
    "Signal and noise correlations\n",
    "Layer by Layer"
   ]
  },
  {
   "cell_type": "code",
   "execution_count": null,
   "metadata": {},
   "outputs": [],
   "source": []
  }
 ],
 "metadata": {
  "kernelspec": {
   "display_name": "Python 3",
   "language": "python",
   "name": "python3"
  },
  "language_info": {
   "codemirror_mode": {
    "name": "ipython",
    "version": 3
   },
   "file_extension": ".py",
   "mimetype": "text/x-python",
   "name": "python",
   "nbconvert_exporter": "python",
   "pygments_lexer": "ipython3",
   "version": "3.7.6"
  }
 },
 "nbformat": 4,
 "nbformat_minor": 4
}

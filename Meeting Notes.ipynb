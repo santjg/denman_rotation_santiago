{
 "cells": [
  {
   "cell_type": "markdown",
   "metadata": {},
   "source": [
    "# Lab Goals: \n",
    "Test if data from mouse visual cortex recordings becomes more consistent when using visual stimuli that is more targeted to the physiology of the mouse retina."
   ]
  },
  {
   "cell_type": "markdown",
   "metadata": {},
   "source": [
    "### 06/16/2020\n",
    "* **Weekly Summary:**\n",
    "This week was mainly devoted to familiarizing myself with the lab. I went through the learnpython.org tutorial to familiarize myself with the basics of python. I additionally completed (after plenty of trial and error) the Python for Neuroscience Intro and Receptive Fields notebooks. To give me a better background in the lab’s research and experimental design, I spent time reading some papers from the Lab Canon and watched the first two lectures from the Harvard CS50 course\n",
    "* **Weekly goals:**\n",
    "    * Create a preliminary experiment design for the summer\n",
    "    * Begin animal work (Training and/or surgery)\n",
    "    * Watch more of the CS50 lectures (2-3 realistically)\n",
    "    * Continue to familiarize myself with python\n",
    "    * Continue reading from the canon as well as references I find which may enhance my understanding\n",
    "* **What Dan can do to make the weekly goals happen:**\n",
    "I think an additional meeting later in the week to discuss experimental design and my ideas for moving forward would be great if possible. This is a very new field for me and I would love both feedback and guidance regarding how I’m approaching problems and what the realities of the science are. Any additional references you might suggest could also be helpful. Apart from that, I think you’ve been very available and patient responding to my questions, so just keep that up if you can!\n",
    "* **Notes:**"
   ]
  },
  {
   "cell_type": "markdown",
   "metadata": {},
   "source": [
    "### 06/23/2020\n",
    "* **Weekly Summary:**  \n",
    "This week, we got the project rolling first by discussing a project proposal and potential directions for the project. You also gave me several references to gain a better understanding of stimulus paradigms and how we might apply them for our goals. On Thursday, we went over my written  project proposal (up to that point) and discussed strengths/weaknesses. On Friday, we started habituation for our mice which is still ongoing.\n",
    "* **Weekly goals:**  \n",
    "    * Complete habituation\n",
    "    * Saline Recordings (Thursday or Friday)\n",
    "    * Begin Recordings (likely Monday)\n",
    "    * Watch 2-3 CS50 lectures \n",
    "* **What Dan can do to make the weekly goals happen:**\n",
    "    * Continue helping me with habituation as needed\n",
    "    * Provide guidance during saline recordings and V1 recordings\n",
    "    * Maybe another meeting later this week where we can really discuss what we've decided to do for our stimulus and why\n",
    "* **Notes:**\n",
    "    * Set up a Git repository for easy sharing and saving\n",
    "    * Practice receptive field mapping with practice data on extrernal drive\n",
    "    * Make sure to habituate mice with neuropixels turned on since they emit ultrasound\n",
    "    * Choose one mouse to continue habituating for multiple hours \n",
    "        * Going to use C5\n",
    "    * Send Dan research proposal once I've gone back and filled in what I lost\n",
    "    * Dan will get back to me once he's figured out the stimulus protocol"
   ]
  },
  {
   "cell_type": "markdown",
   "metadata": {},
   "source": [
    "### 06/30/2020\n",
    "* **Weekly Summary:**\n",
    "This week, we continued the (re-)habituation for mice C5, C6, C8, and C9. We progressed to 2h attempts for C5, but still have not succeeded consistently completing 2h without stress. C8 was found to have a loose, infected head cap on 06/29 and was sacrificed. Dan showed me how to use OpenEphys and set up the neuropixels for saline recordings. Apart from work with mice, I also created a skeleton Jupyter notebook for receptive field analysis, learned how to use Git, and continued to familiarize myself with literature.   \n",
    "* **Weekly Goals:**\n",
    "    * See if C8 can successfuly complete 2h on the rig without significant stress\n",
    "    * Decide on a stimulus that helps us answer our specific questions\n",
    "    * (Potentially) Complete first neuropixels recording \n",
    "    * Watch 2-3 Allen Visual Coding 101 lectures\n",
    "* **What Dan can do:**\n",
    "    * Discuss stimulus design (already planned)\n",
    "    * Provide \"midpoint\" feedback or just regular feedback on things I could do to be a better student/scientist\n",
    "* **Notes:**\n",
    "    * Concrete python coding goals\n",
    "        * Phi GUI data \n",
    "        * .nwb file practice analysis"
   ]
  },
  {
   "cell_type": "markdown",
   "metadata": {},
   "source": [
    "### Spike Sorting Meeting - 07/02/2020\n",
    "* Kilosort 2\n",
    "    * Learns templates of the shape of a spike and scans through to find matches\n",
    "    * Overlapping spike matching\n",
    "    * Cluster based\n",
    "    * Breaking gaussian assumptions\n",
    "* Can't just plug n' play - Lack of unit agreement across pike sorting programs\n",
    "* Not finding a ground truth. The data depends on the features used to generate clusters\n",
    "* Failure modes\n",
    "    * Sorter might not know which of two neurons to assign a spike if the spike shares features of both\n",
    "    * Spikes from one neuron where the burst is split into different clusters\n",
    "    * Sparse unit being called good although its probably a artifact from multiple other spikes\n",
    "    "
   ]
  },
  {
   "cell_type": "markdown",
   "metadata": {},
   "source": [
    "### 07/07/2020\n",
    "* **Weekly Summary:**\n",
    "This week, we finally did our first cranial wiondow surgery and two sessions of awake recordings. Unfortuantely the mouse lost the seal on their head cap and was euthanized before we could do more recording. We had a meeting on spike sorting where we discussed the basics of using Phy. I additionally watched 5 of the Coding and Vision 101 lectures from the Allen Institute. \n",
    "* **Weekly Goals:**\n",
    "    * Begin data analysis for recordings\n",
    "    * Head cap two more mice\n",
    "    * Cranial window surgery and recordings for Mouse C5\n",
    "    * Watch 2-3 Vision and Coding Lectures\n",
    "* **What Dan Can Do:**\n",
    "    * Discussion about my potentially transitioning into this lab for my thesis\n",
    "    * Provide guidance for planning these surgeries/experiments in his absence\n",
    "* **Notes:**\n",
    "    * In Phy:\n",
    "        * Cluster view, but also go through similarity \n",
    "        * Similarity score is based on template, not waveforms\n",
    "        * Look at all similar units within 60um from reference\n",
    "        * Look through Dans annotations made with old version \n",
    "        * Recordings from second day more portable\n",
    "    * After Phy:\n",
    "        * Pull all data in and create `.nwb`\n",
    "    * Try the recording and if I find myself uncomfortable, just pull it. \n",
    "    * Straight down probe more anterior than angled probe\n",
    "    * Fastest we want to put in probes is 100um/min and going in 3000um (~30min of implant alone)\n",
    "    * Sideline Mouse C6"
   ]
  },
  {
   "cell_type": "markdown",
   "metadata": {},
   "source": [
    "### 07/014/2020\n",
    "* **Weekly Summary:**\n",
    "    * Completed Habituation on mouse C5 (07/07/20)\n",
    "    * Cranial window surgery and attempted awake recording (07/08/20)\n",
    "    * Successful probe insertion and awake recording (not recorded?) (07/09/20)\n",
    "    * Figured out how to do cluster analysis via TeamViewer (07/10/20)\n",
    "    * Catastrophic rig failure following recording (07/13/20)\n",
    "* **Weekly Goals:**\n",
    "    * Find out if I can continue to do recordings on the rig \n",
    "        * if not, headcap 2 new mice\n",
    "        * if so, complete 1-2 more recordings with mouse C5\n",
    "    * Complete cluster sorting and get raw data `.nwb` file from recordings\n",
    "    * Start data analysis\n",
    "* **What Dan Can Do:**\n",
    "    * Go over criteria for merging and splitting clusters\n",
    "    * Discuss data analysis theory since we only have 2 more weeks in July and I want to know I'm comfortable with/excted about the analysis portion of work\n",
    "        * Vyas et al., 2020?\n",
    "* **Notes:**\n",
    "    * Questions about phy\n",
    "        * How to label what is obviously a good neuron with noise\n",
    "        * Is a 1ms refractory period sufficient\n",
    "        * good correlogram vs bad waveform?\n",
    "    * May want to merge/split before annotation\n",
    "    * Multiple waveforms may indicate drift\n",
    "        * smooth stransition in waveforms\n",
    "    * Push up on platform while using drill to raise\n",
    "    * Next recording on Thursday Morning (07/16) with Dan\n",
    "    * Head cap at least one mouse on Wednesday or Friday"
   ]
  },
  {
   "cell_type": "markdown",
   "metadata": {},
   "source": []
  },
  {
   "cell_type": "markdown",
   "metadata": {},
   "source": []
  },
  {
   "cell_type": "markdown",
   "metadata": {},
   "source": []
  },
  {
   "cell_type": "markdown",
   "metadata": {},
   "source": []
  },
  {
   "cell_type": "markdown",
   "metadata": {},
   "source": []
  },
  {
   "cell_type": "markdown",
   "metadata": {},
   "source": []
  },
  {
   "cell_type": "markdown",
   "metadata": {},
   "source": []
  },
  {
   "cell_type": "markdown",
   "metadata": {},
   "source": []
  },
  {
   "cell_type": "markdown",
   "metadata": {},
   "source": []
  },
  {
   "cell_type": "code",
   "execution_count": null,
   "metadata": {},
   "outputs": [],
   "source": []
  }
 ],
 "metadata": {
  "kernelspec": {
   "display_name": "Python 3",
   "language": "python",
   "name": "python3"
  },
  "language_info": {
   "codemirror_mode": {
    "name": "ipython",
    "version": 3
   },
   "file_extension": ".py",
   "mimetype": "text/x-python",
   "name": "python",
   "nbconvert_exporter": "python",
   "pygments_lexer": "ipython3",
   "version": "3.7.6"
  }
 },
 "nbformat": 4,
 "nbformat_minor": 4
}
